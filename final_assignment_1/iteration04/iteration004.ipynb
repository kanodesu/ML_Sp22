{
 "cells": [
  {
   "cell_type": "markdown",
   "metadata": {},
   "source": [
    "# Movie reviews\n",
    "\n",
    "This notebook takes you though a complete iteration of Machine Learning Assignment 1 - Movie reviews. The assignment details (including links to download the data) can be found [here](https://docs.google.com/document/d/1WGYw99e5q6j5V0Zrf2HveagU6URt_kVvdR8B9HYQ99E/edit?usp=sharing). "
   ]
  },
  {
   "cell_type": "code",
   "execution_count": 5,
   "metadata": {},
   "outputs": [],
   "source": [
    "# all imports and magic commands\n",
    "import numpy as np\n",
    "import pandas as pd\n",
    "import matplotlib.pyplot as plt\n",
    "from my_measures import BinaryClassificationPerformance\n",
    "from sklearn.feature_extraction.text import HashingVectorizer\n",
    "from sklearn.feature_extraction.text import CountVectorizer\n",
    "from sklearn.feature_extraction.text import TfidfTransformer\n",
    "from scipy.sparse import csr_matrix, hstack\n",
    "from sklearn.preprocessing import StandardScaler\n",
    "from sklearn.model_selection import train_test_split\n",
    "%matplotlib inline"
   ]
  },
  {
   "cell_type": "markdown",
   "metadata": {},
   "source": [
    "### IMPORTANT!!! Make sure you are using `BinaryClassificationPerformance` v1.02"
   ]
  },
  {
   "cell_type": "code",
   "execution_count": 6,
   "metadata": {},
   "outputs": [
    {
     "name": "stdout",
     "output_type": "stream",
     "text": [
      "Help on class BinaryClassificationPerformance in module my_measures:\n",
      "\n",
      "class BinaryClassificationPerformance(builtins.object)\n",
      " |  BinaryClassificationPerformance(predictions, labels, desc, probabilities=None)\n",
      " |  \n",
      " |  Performance measures to evaluate the fit of a binary classification model, v1.02\n",
      " |  \n",
      " |  Methods defined here:\n",
      " |  \n",
      " |  __init__(self, predictions, labels, desc, probabilities=None)\n",
      " |      Initialize attributes: predictions-vector of predicted values for Y, labels-vector of labels for Y\n",
      " |  \n",
      " |  compute_measures(self)\n",
      " |      Compute performance measures defined by Flach p. 57\n",
      " |  \n",
      " |  img_indices(self)\n",
      " |      Get the indices of true and false positives to be able to locate the corresponding images in a list of image names\n",
      " |  \n",
      " |  ----------------------------------------------------------------------\n",
      " |  Data descriptors defined here:\n",
      " |  \n",
      " |  __dict__\n",
      " |      dictionary for instance variables (if defined)\n",
      " |  \n",
      " |  __weakref__\n",
      " |      list of weak references to the object (if defined)\n",
      "\n"
     ]
    }
   ],
   "source": [
    "help(BinaryClassificationPerformance)"
   ]
  },
  {
   "cell_type": "markdown",
   "metadata": {},
   "source": [
    "# Function for feature building and extraction on natural language data"
   ]
  },
  {
   "cell_type": "code",
   "execution_count": 37,
   "metadata": {},
   "outputs": [],
   "source": [
    "# function that takes raw data and completes all preprocessing required before model fits\n",
    "def process_raw_data(fn, my_random_seed, test=False):\n",
    "    # read and summarize data\n",
    "    movie_data = pd.read_csv(fn, sep='\\t')\n",
    "    print(\"movie_data is:\", type(movie_data))\n",
    "    print(\"movie_data has\", movie_data.shape[0], \"rows and\", movie_data.shape[1], \"columns\", \"\\n\")\n",
    "    print(\"the data types for each of the columns in movie_data:\")\n",
    "    print(movie_data.dtypes, \"\\n\")\n",
    "    print(\"the first 10 rows in movie_data:\")\n",
    "    print(movie_data.head(5))\n",
    "    if (not test):\n",
    "        print(\"The rate of 'good' movie reviews in the dataset: \")\n",
    "        print(movie_data['sentiment'].mean())\n",
    "\n",
    "    # vectorize Bag of Words from review text; as sparse matrix\n",
    "    if (not test): # fit_transform()\n",
    "        hv = CountVectorizer(ngram_range=(1, 4),token_pattern=r'\\b\\w+\\b', min_df = 4)\n",
    "        X_hv = hv.fit_transform(movie_data.review)\n",
    "        fitted_transformations.append(hv)\n",
    "        print(\"Shape of CountVectorizer X:\")\n",
    "        print(X_hv.shape)\n",
    "    \n",
    "    else: # transform() \n",
    "        X_hv = fitted_transformations[0].transform(movie_data.review)\n",
    "        print(\"Shape of HashingVectorizer X:\")\n",
    "        print(X_hv.shape)\n",
    "    \n",
    "    # http://scikit-learn.org/stable/modules/generated/sklearn.feature_extraction.text.TfidfTransformer.html\n",
    "    if (not test):\n",
    "        transformer = TfidfTransformer()\n",
    "        X_tfidf = transformer.fit_transform(X_hv)\n",
    "        fitted_transformations.append(transformer)\n",
    "    else:\n",
    "        X_tfidf = fitted_transformations[1].transform(X_hv)\n",
    "    \n",
    "    # create additional quantitative features\n",
    "    # features from Amazon.csv to add to feature set\n",
    "    movie_data['word_count'] = movie_data['review'].str.split(' ').str.len()\n",
    "    movie_data['punc_count'] = movie_data['review'].str.count(\"\\.\")\n",
    "\n",
    "    X_quant_features = movie_data[[\"word_count\", \"punc_count\"]]\n",
    "    print(\"Look at a few rows of the new quantitative features: \")\n",
    "    print(X_quant_features.head(10))\n",
    "    \n",
    "    # Combine all quantitative features into a single sparse matrix\n",
    "    X_quant_features_csr = csr_matrix(X_quant_features)\n",
    "    X_combined = hstack([X_tfidf, X_quant_features_csr])\n",
    "    X_matrix = csr_matrix(X_combined) # convert to sparse matrix\n",
    "    print(\"Size of combined bag of words and new quantitative variables matrix:\")\n",
    "    print(X_matrix.shape)\n",
    "    \n",
    "    # Create `X`, scaled matrix of features\n",
    "    # feature scaling\n",
    "    if (not test):\n",
    "        sc = StandardScaler(with_mean=False)\n",
    "        X = sc.fit_transform(X_matrix)\n",
    "        fitted_transformations.append(sc)\n",
    "        print(X.shape)\n",
    "        y = movie_data['sentiment']\n",
    "    else:\n",
    "        X = fitted_transformations[2].transform(X_matrix)\n",
    "        print(X.shape)\n",
    "    \n",
    "    # Create Training and Test Sets\n",
    "    # enter an integer for the random_state parameter; any integer will work\n",
    "    if (test):\n",
    "        X_submission_test = X\n",
    "        print(\"Shape of X_test for submission:\")\n",
    "        print(X_submission_test.shape)\n",
    "        print('SUCCESS!')\n",
    "        return(movie_data, X_submission_test)\n",
    "    else: \n",
    "        X_train, X_test, y_train, y_test, X_raw_train, X_raw_test = train_test_split(X, y, movie_data, test_size=0.2, random_state=my_random_seed)\n",
    "        print(\"Shape of X_train and X_test:\")\n",
    "        print(X_train.shape)\n",
    "        print(X_test.shape)\n",
    "        print(\"Shape of y_train and y_test:\")\n",
    "        print(y_train.shape)\n",
    "        print(y_test.shape)\n",
    "        print(\"Shape of X_raw_train and X_raw_test:\")\n",
    "        print(X_raw_train.shape)\n",
    "        print(X_raw_test.shape)\n",
    "        print('SUCCESS!')\n",
    "        return(X_train, X_test, y_train, y_test, X_raw_train, X_raw_test)"
   ]
  },
  {
   "cell_type": "markdown",
   "metadata": {},
   "source": [
    "# Create training and test sets from function"
   ]
  },
  {
   "cell_type": "code",
   "execution_count": 38,
   "metadata": {},
   "outputs": [
    {
     "name": "stdout",
     "output_type": "stream",
     "text": [
      "movie_data is: <class 'pandas.core.frame.DataFrame'>\n",
      "movie_data has 25000 rows and 3 columns \n",
      "\n",
      "the data types for each of the columns in movie_data:\n",
      "id           object\n",
      "sentiment     int64\n",
      "review       object\n",
      "dtype: object \n",
      "\n",
      "the first 10 rows in movie_data:\n",
      "       id  sentiment                                             review\n",
      "0  5814_8          1  With all this stuff going down at the moment w...\n",
      "1  2381_9          1  \\The Classic War of the Worlds\\\" by Timothy Hi...\n",
      "2  7759_3          0  The film starts with a manager (Nicholas Bell)...\n",
      "3  3630_4          0  It must be assumed that those who praised this...\n",
      "4  9495_8          1  Superbly trashy and wondrously unpretentious 8...\n",
      "The rate of 'good' movie reviews in the dataset: \n",
      "0.5\n",
      "Shape of CountVectorizer X:\n",
      "(25000, 427396)\n",
      "Look at a few rows of the new quantitative features: \n",
      "   word_count  punc_count\n",
      "0         433          20\n",
      "1         158          16\n",
      "2         378          20\n",
      "3         379           8\n",
      "4         367           9\n",
      "5          89           5\n",
      "6         112           9\n",
      "7         132           9\n",
      "8         163           7\n",
      "9          43           5\n",
      "Size of combined bag of words and new quantitative variables matrix:\n",
      "(25000, 427398)\n",
      "(25000, 427398)\n",
      "Shape of X_train and X_test:\n",
      "(20000, 427398)\n",
      "(5000, 427398)\n",
      "Shape of y_train and y_test:\n",
      "(20000,)\n",
      "(5000,)\n",
      "Shape of X_raw_train and X_raw_test:\n",
      "(20000, 5)\n",
      "(5000, 5)\n",
      "SUCCESS!\n",
      "Number of fits stored in `fitted_transformations` list: \n",
      "3\n"
     ]
    }
   ],
   "source": [
    "# create an empty list to store any use of fit_transform() to transform() later\n",
    "# it is a global list to store model and feature extraction fits\n",
    "fitted_transformations = []\n",
    "\n",
    "# CHANGE FILE PATH and my_random_seed number (any integer other than 74 will do): \n",
    "X_train, X_test, y_train, y_test, X_raw_train, X_raw_test = process_raw_data(fn='moviereviews_train.tsv', my_random_seed=21)\n",
    "\n",
    "print(\"Number of fits stored in `fitted_transformations` list: \")\n",
    "print(len(fitted_transformations))"
   ]
  },
  {
   "cell_type": "markdown",
   "metadata": {},
   "source": [
    "# Fit (and tune) Various Models"
   ]
  },
  {
   "cell_type": "markdown",
   "metadata": {},
   "source": [
    "### MODEL: ordinary least squares"
   ]
  },
  {
   "cell_type": "code",
   "execution_count": 39,
   "metadata": {},
   "outputs": [
    {
     "name": "stdout",
     "output_type": "stream",
     "text": [
      "{'Pos': 9999, 'Neg': 10001, 'TP': 2568, 'TN': 7348, 'FP': 2653, 'FN': 7431, 'Accuracy': 0.4958, 'Precision': 0.4918597969737598, 'Recall': 0.25682568256825683, 'desc': 'ols_train'}\n"
     ]
    }
   ],
   "source": [
    "from sklearn import linear_model\n",
    "ols = linear_model.SGDClassifier(loss=\"squared_loss\")\n",
    "ols.fit(X_train, y_train)\n",
    "\n",
    "ols_performance_train = BinaryClassificationPerformance(ols.predict(X_train), y_train, 'ols_train')\n",
    "ols_performance_train.compute_measures()\n",
    "print(ols_performance_train.performance_measures)"
   ]
  },
  {
   "cell_type": "markdown",
   "metadata": {},
   "source": [
    "### MODEL: SVM, linear"
   ]
  },
  {
   "cell_type": "code",
   "execution_count": 40,
   "metadata": {},
   "outputs": [
    {
     "name": "stdout",
     "output_type": "stream",
     "text": [
      "{'Pos': 9999, 'Neg': 10001, 'TP': 9999, 'TN': 10001, 'FP': 0, 'FN': 0, 'Accuracy': 1.0, 'Precision': 1.0, 'Recall': 1.0, 'desc': 'svm_train'}\n"
     ]
    }
   ],
   "source": [
    "from sklearn import linear_model\n",
    "svm = linear_model.SGDClassifier()\n",
    "svm.fit(X_train, y_train)\n",
    "\n",
    "svm_performance_train = BinaryClassificationPerformance(svm.predict(X_train), y_train, 'svm_train')\n",
    "svm_performance_train.compute_measures()\n",
    "print(svm_performance_train.performance_measures)"
   ]
  },
  {
   "cell_type": "markdown",
   "metadata": {},
   "source": [
    "### MODEL: logistic regression"
   ]
  },
  {
   "cell_type": "code",
   "execution_count": 41,
   "metadata": {},
   "outputs": [
    {
     "name": "stdout",
     "output_type": "stream",
     "text": [
      "{'Pos': 9999, 'Neg': 10001, 'TP': 9999, 'TN': 10001, 'FP': 0, 'FN': 0, 'Accuracy': 1.0, 'Precision': 1.0, 'Recall': 1.0, 'desc': 'lgs_train'}\n"
     ]
    }
   ],
   "source": [
    "from sklearn import linear_model\n",
    "lgs = linear_model.SGDClassifier(loss='log')\n",
    "lgs.fit(X_train, y_train)\n",
    "\n",
    "lgs_performance_train = BinaryClassificationPerformance(lgs.predict(X_train), y_train, 'lgs_train')\n",
    "lgs_performance_train.compute_measures()\n",
    "print(lgs_performance_train.performance_measures)"
   ]
  },
  {
   "cell_type": "markdown",
   "metadata": {},
   "source": [
    "### MODEL: Naive Bayes"
   ]
  },
  {
   "cell_type": "code",
   "execution_count": 42,
   "metadata": {},
   "outputs": [
    {
     "name": "stdout",
     "output_type": "stream",
     "text": [
      "{'Pos': 9999, 'Neg': 10001, 'TP': 9988, 'TN': 9997, 'FP': 4, 'FN': 11, 'Accuracy': 0.99925, 'Precision': 0.999599679743795, 'Recall': 0.9988998899889989, 'desc': 'nbs_train'}\n"
     ]
    }
   ],
   "source": [
    "from sklearn.naive_bayes import MultinomialNB\n",
    "nbs = MultinomialNB()\n",
    "nbs.fit(X_train, y_train)\n",
    "\n",
    "nbs_performance_train = BinaryClassificationPerformance(nbs.predict(X_train), y_train, 'nbs_train')\n",
    "nbs_performance_train.compute_measures()\n",
    "print(nbs_performance_train.performance_measures)"
   ]
  },
  {
   "cell_type": "markdown",
   "metadata": {},
   "source": [
    "### MODEL: Perceptron"
   ]
  },
  {
   "cell_type": "code",
   "execution_count": 43,
   "metadata": {},
   "outputs": [
    {
     "name": "stdout",
     "output_type": "stream",
     "text": [
      "{'Pos': 9999, 'Neg': 10001, 'TP': 9999, 'TN': 10001, 'FP': 0, 'FN': 0, 'Accuracy': 1.0, 'Precision': 1.0, 'Recall': 1.0, 'desc': 'prc_train'}\n"
     ]
    }
   ],
   "source": [
    "from sklearn import linear_model\n",
    "prc = linear_model.SGDClassifier(loss='perceptron')\n",
    "prc.fit(X_train, y_train)\n",
    "\n",
    "prc_performance_train = BinaryClassificationPerformance(prc.predict(X_train), y_train, 'prc_train')\n",
    "prc_performance_train.compute_measures()\n",
    "print(prc_performance_train.performance_measures)"
   ]
  },
  {
   "cell_type": "markdown",
   "metadata": {},
   "source": [
    "### MODEL: Ridge Regression Classifier"
   ]
  },
  {
   "cell_type": "code",
   "execution_count": 44,
   "metadata": {},
   "outputs": [
    {
     "name": "stdout",
     "output_type": "stream",
     "text": [
      "{'Pos': 9999, 'Neg': 10001, 'TP': 9999, 'TN': 10001, 'FP': 0, 'FN': 0, 'Accuracy': 1.0, 'Precision': 1.0, 'Recall': 1.0, 'desc': 'rdg_train'}\n"
     ]
    }
   ],
   "source": [
    "from sklearn import linear_model\n",
    "rdg = linear_model.RidgeClassifier(alpha=70000)\n",
    "rdg.fit(X_train, y_train)\n",
    "\n",
    "rdg_performance_train = BinaryClassificationPerformance(rdg.predict(X_train), y_train, 'rdg_train')\n",
    "rdg_performance_train.compute_measures()\n",
    "print(rdg_performance_train.performance_measures)"
   ]
  },
  {
   "cell_type": "markdown",
   "metadata": {},
   "source": [
    "### MODEL: Random Forest Classifier"
   ]
  },
  {
   "cell_type": "code",
   "execution_count": 45,
   "metadata": {},
   "outputs": [
    {
     "name": "stdout",
     "output_type": "stream",
     "text": [
      "{'Pos': 9999, 'Neg': 10001, 'TP': 8092, 'TN': 7362, 'FP': 2639, 'FN': 1907, 'Accuracy': 0.7727, 'Precision': 0.7540769732550554, 'Recall': 0.8092809280928093, 'desc': 'rdf_train'}\n"
     ]
    }
   ],
   "source": [
    "from sklearn.ensemble import RandomForestClassifier\n",
    "rdf = RandomForestClassifier(max_depth=2, random_state=0)\n",
    "rdf.fit(X_train, y_train)\n",
    "\n",
    "rdf_performance_train = BinaryClassificationPerformance(rdf.predict(X_train), y_train, 'rdf_train')\n",
    "rdf_performance_train.compute_measures()\n",
    "print(rdf_performance_train.performance_measures)"
   ]
  },
  {
   "cell_type": "markdown",
   "metadata": {},
   "source": [
    "### ROC plot to compare performance of various models and fits"
   ]
  },
  {
   "cell_type": "code",
   "execution_count": 46,
   "metadata": {
    "scrolled": false
   },
   "outputs": [
    {
     "data": {
      "image/png": "[encoded data removed]",
      "text/plain": [
       "<Figure size 432x288 with 1 Axes>"
      ]
     },
     "metadata": {
      "needs_background": "light"
     },
     "output_type": "display_data"
    }
   ],
   "source": [
    "fits = [ols_performance_train, svm_performance_train, lgs_performance_train, nbs_performance_train, prc_performance_train, rdg_performance_train, rdf_performance_train]\n",
    "\n",
    "\n",
    "for fit in fits:\n",
    "    plt.plot(fit.performance_measures['FP'] / fit.performance_measures['Neg'], \n",
    "             fit.performance_measures['TP'] / fit.performance_measures['Pos'], 'bo')\n",
    "    plt.text(fit.performance_measures['FP'] / fit.performance_measures['Neg'], \n",
    "             fit.performance_measures['TP'] / fit.performance_measures['Pos'], fit.desc)\n",
    "plt.axis([0, 1, 0, 1])\n",
    "plt.title('ROC plot: test set')\n",
    "plt.xlabel('False positive rate')\n",
    "plt.ylabel('True positive rate')\n",
    "plt.show()"
   ]
  },
  {
   "cell_type": "markdown",
   "metadata": {},
   "source": [
    "### looking at reviews based on their classification\n",
    "\n",
    "Let's say we decide that Ordinary Least Squares (OLS) Regression is the best model for generalization. Let's take a look at some of the reviews and try to make a (subjective) determination of whether it's generalizing well. "
   ]
  },
  {
   "cell_type": "code",
   "execution_count": 47,
   "metadata": {},
   "outputs": [],
   "source": [
    "ols_predictions = ols.predict(X_train)"
   ]
  },
  {
   "cell_type": "markdown",
   "metadata": {},
   "source": [
    "### let's look at some false positives:"
   ]
  },
  {
   "cell_type": "code",
   "execution_count": 48,
   "metadata": {},
   "outputs": [
    {
     "name": "stdout",
     "output_type": "stream",
     "text": [
      "Examples of false positives:\n",
      "14\n",
      "I saw this trailer and thought to myself my god is this movie for real, who would want to see this movie and at the same time i thought that, my girl friend turned to me and said \\we have to go see this movie\\\"...enough said so i saw this about 5 minutes go and I tried to put on a brave face and enjoy the cheap scares but there weren't even any of those. It has to be one of the worst movies I have ever seen the director has no influence no perspective the same shots were used again and again he did not build up suspense the cast probably were simply told scream cry run fall. I would love to see the script as the first 40 mins was mostly annoying girly giggles and bad music, there was absolutely no character development.<br /><br />The plot is just...well there was no plot it was basically I know we will terrorize a high school group on their prom night with a stalker serial killer, That's brilliant! hmmm The acting was what you expect in a Australian soap opera hopeless, that main character the Blondie god dam she annoyed me. her longest line must have been half a sentence, and every time she was on camera she was just pulling another rude facial expression.<br /><br />Please listen to me if you have any taste in movies don't go see this, and if your like me and don't have a choice well then I wish you good luck, maybe smuggle in an ipod or magazine. Can't believe this film got made!\"\n",
      "* * * * * * * * * \n",
      "223\n",
      "This is shallow hedonism and/or social commentary wrapped in a tragic tale about a jealous young woman's scheme to drive apart her father and his fiancée. Is it incest or just a view through the eyes of a daughter with an Electra complex? Who cares? All of the characters, except for Anne (Deborah Kerr) are vacuous and vile. Seberg is poor (I agree with the \\boys with breasts\\\" comment of an earlier review). The plot plodded. This predictable material was sufficient for about 30 minutes of film that unfortunately was stretched over an hour and a half! If you want to see great gowns and jewels on the Riviera, I recommend \\\"To Catch a Thief\\\" - in which you will get the added bonuses of an entertaining story and likable characters. <br /><br />I like for films to entertain me. I personally don't really care where a film is set. Whatever the time or place, I want a good story - comedy or drama. I also want to see some enjoyable characters. It doesn't hurt if I can relate to them. Poor Deborah Kerr gives a typically good performance, and so does David Niven in a despicable role.<br /><br />The \\\"2\\\" rating is solely for Kerr and Niven, and for the cinematography - the rich color scenes and the murky, foreboding black and white scenes. Unfortunately, all the great cinematography in the world cannot salvage a poor story with un-enjoyable characters. A sow's ear is still a sow's ear. Consequently watching this mess was a serious waste of my time.\"\n",
      "* * * * * * * * * \n",
      "246\n",
      "with a title like this, you know not to expect a great horror movie. But this was really bad, even with low expectations. The plot is really insulting and stupid: an escaped criminal wears a Halloween mask, so everyone around him thinks he's someone else. this joke might actually work for 5 or 10 minutes, but not during the entire movie ! the actors are not that bad, but their characters are rather dumb and the story is boring and downright stupid. No suspense, no excitement and little gore (very cheap). Satan's Little Helper tries to combine horror (...) with comedy and fails dramatically at that. It became so boring towards the end, that I actually stopped watching 10 minutes before the end. I couldn't care whatever happened. Amanda Plummer was great in Pulp Fiction, but come on.. that was 13 years ago, and she hasn't done anything decent after that. So no wonder that she had to sink as low as this piece of crap.. Avoid or be warned..\n",
      "* * * * * * * * * \n",
      "268\n",
      "The first 30min of the flick was choppy and hard to know just what was going on (unless you read the book - which I had not).<br /><br />If you can stick with the first half, the second half is sweet - predictable, yes, but sweet none-the-less.<br /><br />The way it was shot one would think it was produced in the early 80's, not 2005.<br /><br />No stand-out moments, bland, but it moved along without boring me.<br /><br />I would like to know why Keaton selected this role, her part would have been better cast with a player more at the level of the other actors to keep the balance.\n",
      "* * * * * * * * * \n",
      "294\n",
      "wow...this has got to be the DUMBEST movie I've ever seen. We watched it in english class...and this movie made ABSOLUTELY no sense. I would never, EVER watch this movie again...and my sympathy to those who have ever PAID to see it.\n",
      "* * * * * * * * * \n",
      "574\n",
      "This movie looked good - good cast, evergreen topic and an explosive opening. It went downhill from there. Why was it filmed by hand held camera? It shakes, judders, part captures scenes and simply confuses the viewer. A poor choice indeed. As if this was not enough, the worst edit in memory assumes a drugged viewer - mandatory if you want to get any enjoyment from it at all. And then it commits the worst sin of all. After leading the viewer down all sorts of unlikely and implausible scenarios to the point of exhaustion, they roll credits without revealing the denouement - the ending - the payoff -like what the heck was the motive? How can you expect to succeed by making thrillers without an ending? Doh! This movie had great promise and ending up doing a face plant in the mud. What a waste of effort. Poor effort by writer and director.\n",
      "* * * * * * * * * \n",
      "586\n",
      "Now I'll be the first to admit it when I say something that may be blasphemous or unfair, so I would like to apologize in advance for my ranting about how much I disliked this movie.<br /><br />That about sums it up too. I disliked this movie. To be more specific, I disliked the concept of this movie. The cinematography was good. The mood was nice. And the acting was satisfactory.<br /><br /> However, the story is fatuous, unacurate and misleading. It is also offensive.<br /><br />I am a quarter Cree Indian, and for some reason I feel insulted, on a personal level, by the nature of Whitaker's character. First of all, he's a black guy. And this isn't a racist remark, I swear. The thought of a White, Hispanic or even Native American swinging a katana on a rooftop offends everything that the katana represents. The katana represents the soul of a Samurai, imbibed with the souls of his ancestors who guide and protect the Samurai. For Ghost Dog to use his guns instead of the Katana is also an insult to the blade and the souls inside, and where the heck did he get a Katana anyway? It must be one of those replicas, which insults the Samurai caste even more.<br /><br />Also, Ghost Dog showed no honor. Near the end of the movie, he shoots a bodyguard in the back through a window and then assassinates a man by shooting him in the face through a faucet drain. Not only is this a cowards way to kill an enemy, it's more like a ninjas way; silent assassins; a group that samurais deny exists, but hates none-the-less.<br /><br />Then he tries to kill his boss, when he finds out his boss is a baddie. You know what a true Samurai does when he learns his master is proven bad or dishonorable? He kills himself, to prove that he would rather die then lower himself to the level of his doggish master.<br /><br />Everything about the character was a giant contradiction to the real code that all Samurai adhere to: Bushido.<br /><br />So, we have great cinematography, good ambiance and so-so acting encompassing a satiricle plot and premise, (which unfortunately is the most important aspect of it) , making it an unsatisfactory overall film, and an insult to everything a honorable bushi(samurai) holds dear.<br /><br /> 2.5/10 Bleah\n",
      "* * * * * * * * * \n",
      "641\n",
      "Wow. I don't even really remember that much about this movie, except that it stunk.<br /><br />The plot's basically; a girl's parents neglect her, so this sicko PokeMon pretends to be her dad. Am I the only one disturbed by that? Then, this weirdo PokeMon kidnaps Ash's mom to pretend to be the girl's. I don't care if he was trying to make the girl happy, that's just gross.<br /><br />There was no real plot. The girl was just a whiny brat who wanted things her own way. She played with Unowns, was the \\daughter\\\" of Entei and apparently could grow and shrink in age on a whim with the help of her \\\"dad\\\".<br /><br />That's pretty much all I can remember, but I think you can take it as a hint, and not see it. (Or if you do see it, don't expect much.) 1 out of 10.<br /><br />Seriously. If you want a PokeMon movie, rent \\\"PokeMon; the First Movie\\\".\"\n",
      "* * * * * * * * * \n",
      "644\n",
      "This movie is god awful. Not one quality to this movie. You would think that the gore would be good but it sucks bad. The effects are worse and the acting if you can call it acting is the worst I've ever seen. This movie was obviously shot on a camcorder and runs on a budget around 500 dollars probably. If you want to watch a good Zombie movie than watch Dawn of the dead or Day of the dead. If you want to watch a good cheap shot on video Zombie movie like this but way better than watch Redneck Zombies. Please avoid this movie at all costs. It is unwatchable and pointless. You've been warned. I've got nothing else to say about this stupid movie.\n",
      "* * * * * * * * * \n",
      "1133\n",
      "This is one of those movies that should have been way better than it turned out to be. I dread to think what the Blockbuster-approved edit must have looked like, because the director's cut on DVD was a bore of the epic proportions. Naturally, you don't expect it to be \\The Godfather\\\", but an acting class or two might have come in handy.<br /><br />Also, there were so many cute guys in this movie, but they were woefully under-exploited. I like watching a bevy of hotties writhe around in their BVDs as much as the next guy, but even I have a right to expect a little more. It wasn't a total loss, though; at least we got a peek a Drew Fuller's (covered) junk and truly upsetting haircut. And there's Huntley Ritter looking even cuter than he did in \\\"Bring It On\\\" (and acting about as well). There's always a silver lining, kids. You just have to look really hard for it. And occasionally, you have to make use of your pause button.\"\n",
      "* * * * * * * * * \n",
      "1271\n",
      "This is possibly the most boring movie in history. I was really looking forward to seeing this movie given the actor/director Roman Polanski. I think I would rather see the Three Amigos than ever watch this movie again. It promptly went from the DVD player straight into the garbage. My apologies to those of you who apparently liked this movie however you probably liked New Coke as well. I am at a loss to see why anyone would have enjoyed this movie, it is slow, dull and has no real plot. You wait for 105 minutes for the movie to get started. I understand this was made in 1976 however this was an era of bad television all around. Thank god disco and Three's Company are gone along with stop sign glasses and the Bay City Rollers. Oh well just my thoughts.\n",
      "* * * * * * * * * \n",
      "1431\n",
      "The banner says it all, this is one really bad movie, which is sad because I normally like Sheffer, and I have been impressed with Andrea Roth in other roles. This, however, is terrible. I wont waste any more time...its just that bad.\n",
      "* * * * * * * * * \n",
      "1455\n",
      "9, the film I've been looking forward to for months.... was little more then a disappointment.<br /><br />I was deeply surprised by 9's lack of story and strange character development. All the awesome action sequences in the world don't make up for a single unsympathetic character. <br /><br />The strange, almost thrown in occult sequences were not only out of place, they were infuriating. The story is about robots and scientists... why does it suddenly turn into a necronomicon horror wannabe with mystical symbols and green magic ghost lines instead of giving answers to what could have been excellently scary story devices??<br /><br />How, what, when, why.... questions that bode asking only if you care and it becomes less and less likely that you will as you get away from the theater. <br /><br />A film like this is frustrating because of its lack of depth.... I would watch this film drawn in crayon if the story was good. But the filmmakers have relied on CGI wizardry and Tim Burtons name to draw in the crowd. Which... is what drew me in but failed to gain my respect.<br /><br />9 could have been awesome... with a few more rewrites and a little more respect from its own creators.\n",
      "* * * * * * * * * \n",
      "1461\n",
      "This cowardly and offensive film had me intrigued to begin with. The characters are the familiar dispossessed young males frequently to be seen hanging around bored in a sea side town. Robert is an outsider but he has his music which could have been his soul. Instead Clay makes Robert into a freak who embarks on a journey into cannabis and ecstasy and getting in with the wrong crowd. Clay seems to believe in \\reefer madness\\\" and Robert ends the film as a homicidal rapist. One wonders how much experience of real life this young director has. No one can save poor Robert. Clay leaves us with the message that young British men are out of control. A very unsubtle link is made to the Iraqi insurgents; during the needlessly graphic rape we are subjected to explosions and images of war. The film shows male peer group extremism pushed to it's limits. The young bombers in London draw a parallel with Clay's hateful depiction of modern male. Clay implies that men simply cannot help themselves from inflicting terrible acts of violence. It is a wonder the British film industry allows money to be invested in films which advocate such divisive propaganda, when in London we are still reeling from the recent attacks. This is Clay's first film, I would be delighted if it is his last.\"\n",
      "* * * * * * * * * \n",
      "1476\n",
      "My friends and I rented this for \\Bad Movie Night\\\" with high hopes, but The Brain was something of a letdown. The Brain itself is gloriously goofy-looking, but it mostly just sits on its little platform. Who thought that it would be cool that the Brain only gets to munch on three people throughout 94 drawn-out minutes? This movie has a number of things going for it at first, including an Estevez-knockoff lead playing a rebellious genius (we're told that his enormous intellect is misdirected into his elaborate pranks and school stunts, which include putting krazy glue on someone's chair). It also has some great lines, a hilariously out-of-shape and out-of-breath henchman who just barely manages to be everywhere, and, yeah, some chick gets naked. However, the director desperately needs some schooling in the art of pacing. During the last half things just start to drag on and on, with at least 3 or 4 pointless, boring chase scenes making up the middle third of the plot. The scenes inside the PRI complex are especially bad. At least 15 minutes of this movie are people running up and down the same stairwell. I could've fixed the screenplay to this thing in half an hour- more cheese, more gore, more nudity, more Brain action. If you're going to make a bad horror movie, at least give me something cool to look at while my superego shuts down. Maybe the director was trying to really bring the audience into his movie- I started feeling like one of the zombified townsfolk by the end of this crapfest.\"\n",
      "* * * * * * * * * \n",
      "1567\n",
      "There has been a lot of love that has been put into Wes Anderson's \\Fantastic Mr Fox\\\", unfortunately all the love is for himself. Granted, there has been a lot of time and effort been put into making this ever so self-consciously quirky universe but if only the same time and effort had been put into the script to try and make it funny. The worrying thing is that I think it was, and this is the best that Wes Anderson could come up with.<br /><br />The animation is good in the close-up shots of the animals, however when the camera is further away everything becomes really harsh on the eyes and to be perfectly honest looks like a bit of a mess. There wasn't really anything special about the acting either, with Wes opting to choose his buddies and big names over more specialised voice actors that could have probably made the film better. I'm pretty sure George Clooney's voice acting resume consists of two cameo appearances in South Park, one of them where he played a dog.<br /><br />The film is too smug and trying way too hard to be clever and different and is typically, despite the film being set in England, all the good animals are typical Americans playing baseball, whilst the bad guys are stereotypical English with the most insulting English accents. I cannot stress how much of a waste of time this film is. I didn't laugh once.\"\n",
      "* * * * * * * * * \n",
      "1685\n",
      "What a piece of stupid tripe.<br /><br />I won't even waste time evaluating any of the points of this show. It's not worth the time. The one comment I will make is - why get such a DUMB, inarticulate doofus to be the star?!?<br /><br />There aren't many more dismal testimonials to the deteriorating mental condition of the networks than the fact that FOX has stated it will NOT bring back John Doe (a decent series) but WILL bring back brain-dead drivel like Joe Millionaire for yet another round of killing the brain cells of the american public.<br /><br />FOX has lost it, IMHO.\n",
      "* * * * * * * * * \n",
      "1905\n",
      "I think the biggest failing something can have is to be boring. Bad is actually better than boring. This thing has no breath. It does have the interesting fact of taking place in Cambodia. How many American made films of the 30's take place in Cambodia. Nevertheless, the conflict there is a little hard to figure out. Even the troop movements are a little confusing. What drags it to a resounding halt is the love story. Why those two guys are so totally transfixed on the dippy blonde I don't know. I thought he should continue to use his Zombies (such as they are) and forget all about her. The movie just plods along. The perfect microcosm is where one of the principle characters follows a Cambodian priest through the water to get to the secret place where the hieroglyphics (or whatever) that explain how to turn people into zombies is kept. I thought they would never get there. One guy takes two steps. He stops. He looks around. The other guy hides behind some columns. He takes two steps. He stops. He looks around. The other guy hides behind some bushes. This is the movie in a nutshell. Then there is the bad acting and insipid dialogue. I actually have a lot of patience when it comes to B movies. This one is insufferable. By the way, a more apt title would be Revolt of the Hypnotized.\n",
      "* * * * * * * * * \n",
      "2068\n",
      "The film attempts to be a mockumentary--shot in the documentary form but with many obviously scripted parts--but fails in not providing the audience with any characters with which to create the illusion of the mockumentary. Also, the film purports to be about finding real love in Los Angeles, but is nothing more than an uninteresting look at an amateur filmmaker trying to make his first \\big movie.\\\"\"\n",
      "* * * * * * * * * \n",
      "2366\n",
      "I went to this movie expecting a concise movie relating the effect the Son of Sam had on the society. I didn't expect Spike Lee to force-feed me more garbage on racial tension, mob-justice, or the inability of the common citizen to make a choice under pressure by peers. Lee has presented an extreme opinion.<br /><br />The entire movie could have been more effective if in a 90-min format with more focus, less tangential sub-plots.<br /><br />Don't even bother renting the video unless you passionately enjoy Spike Lee; in such a case, the theatre is worth it. This is not an escapist movie.\n",
      "* * * * * * * * * \n",
      "2469\n",
      "The direction struck me as poor man's Ingemar Bergman. The inaudible dialogue was annoying. The somber stoicism that all characters except Banderas' showed made me think they were drugged. I think the director ruined it for me.\n",
      "* * * * * * * * * \n",
      "2495\n",
      "I'm not sure it was the language or the poor acting, but everything about this movie feels and looks cheap and fake.<br /><br />After seeing Der Untergang this is a huge disappointment. There's no connection between different scenes, and the acting is so incredibly poor I couldn't even believe people could make such a mess of something that had great potential.<br /><br />And above all, everyone in Germany speaks English. Big mistake. The German language has a certain sound to it, and especially Hitler himself only sounds like Hitler when he's speaking/yelling German.<br /><br />The way the story is told made me believe it was improvised on the spot, the characters were empty and the movie seems to be a collection of random events that could have happened.<br /><br />Whether it's the English or the fact that I've already seen Der Untergang, everything about this movie was fake and ridiculous.\n",
      "* * * * * * * * * \n",
      "2498\n",
      "I can see the guys doing the budget preparation for this flick. \\Well lets see now, we spend 50% getting Dirk Benidict, cause Battle Star Galactic and the A-Team were cool. The we spend 40% making a Demon Costume, never mind that the Demon is supposed to be incorporeal in the script. And we spend the rest making the movie.\\\" This was pretty bad and VERY cliche.... Have a loved one present when watching (or bring a good book)\"\n",
      "* * * * * * * * * \n",
      "2700\n",
      "Vic (Richard Dreyfuss) is a mob boss, leaving a mental institution, back to his world of gangsters. How can a director have a cast with Richard Dreyfuss, Ellen Barkin, Jeff Goldblum, Diane Lane (very gorgeous), Gabriel Byrne, Gregory Hines, Kyle MacLachlan, Burt Reynolds, Billy Idol and a make such a waste of time? This movie is a comedy that is not funny, having a constellation in the cast. My vote is four.<br /><br />Title (Brazil):' Prazer em Matar-te!' ('Pleasure in Killing You!')<br /><br />\n",
      "* * * * * * * * * \n",
      "2814\n",
      "Literally every aspect of this science-fiction low-budget flick falls under the categories that have been classified for its predecessors, contemporaries, and those to follow. Bad special effects, a weak storyline, ridiculous amounts of blood and gore, annoying and pointless characters, all that you can expect. \\Attack of the Sabretooth\\\" is about a new vacation resort where the proprietors are genetically engineering Smilodon cats for an attraction. The cats escape and begin to kill people, the guy running the show wants to save them and not warn the unsuspecting visitors about them, and there is a band of visitors and some employees who rebel and plan to kill the cats.<br /><br />Special effects-wise, the film is about an average achievement given its budget. The sabretooths are portrayed through poor CGI. Amazingly, though, the cats look more realistic in an up-close, detailed shot rather than the longer, more distant shots where the CGI is better concealed. Their attacks are recklessly bloody and distasteful. Just as you'd expect, they attack, rip off some arms and legs, and leave very little behind. This is part of the reason why the film descends into poor schlock.<br /><br />The plot and characters are just as horrendous. We have some college kids who come to the island and they plan a scavenger hunt. And take it very, VERY seriously. Even so much as to trespass on private property, tamper with security systems, and steal. Why are they taking a simple game so seriously? Did I miss something? Was there money involved? Or were they sent to do it? I don't know, I could barely follow the film. But it seemed to me like they were just doing it for the fun of doing it. Even so, they went too far for normal.<br /><br />\\\"Attack of the Sabretooth\\\" is a very poor film. Even for a low-budget sci-fi flick, it is a very poor and cheap example. It will bore most viewers to tears, might be attractive for some, and will make you chuckle and laugh all the way through. And keep in mind, this is not a comedy, this is a cheap horror flick, so it's not suppose to be comical.\"\n",
      "* * * * * * * * * \n",
      "2825\n",
      "About the worst movie in distribution right now! I love zombie movies and saw this in the used rack so I thought why not? Oh my god a shame to zombie movies and fans to the genre! Whoever made this movie needs to put away your camcorder and go to film school! There are so many gore hounds out there who have put time and effort into their films and they have something that this film doesn't dignity. I know it what it takes to make films and I'm sure there was a lot of money and time spent in making Meat Market but none of that money and time went in to making it good. You need actors, a script, a real camera, invest in some books on how to make independent films. I don't know how you got a DVD release but whoever did that is either a really good friend or banging their head on the wall. In gore films it is quality not quantity, the effects are weak! I was so angry that this is actually in stores and that I couldn't get my money back. Please if you have seen this film write here and put an end to shlock. I know I'm being very harsh, I only had 10 lines so I'm trying to get to the point.\n",
      "* * * * * * * * * \n",
      "2968\n",
      "i've discovered that this film gets rented based off of the packaging. the zombie on the front of the DVD looks cool and scary. then you get to the movie and it's women with raccoon masks on. zero special effects...and even the fight scenes you can see them miss punches by 2 feet. the funny thing is that Lommel acts in the movie briefly himself and is worse than the rest of the crap actors in the movie. the only thing i can think is that Lommel is just trying to make such a bad film that people dub it a \\cult classic\\\"...however, i can't possibly imagine anyone thinking this is anything but one of the worst movies ever made. the real horror in this film is how bad it is. i'm embarrassed i rented it and vow never to see another Lommel film again!\"\n",
      "* * * * * * * * * \n",
      "3182\n",
      "With the releasing of \\Farligt förflutet\\\" Swedish film industry has truly hit rock bottom. Stefan (Jens Hultén) has for the past years lived a calm life with his wife Marie (Regina Lund). One day an old friend of Stefan´s arrives with a favor to ask him. Stefan is to do a small courier job. He is supposed to bring a suitcase filled with heroine through the Sweden-Germany customs. Unfortunately things in Germany don´t work out as planned and Stefan is now in big trouble. It is always nice to see a Swedish film that breaks the traditional family-drama pattern. Unfortunately if the people involved in the production have no clue of how a movie is supposed to be written, filmed or cut the result can only be catastrophic. The content can be concluded with: bad acting, an incoherent plot and idiotic dialogs. The only highlight in the movie is the unprovoked sex-scene wit the incredibly beautiful Regina Lund. This lasts for only a few seconds leaving approxamitly 90 minutes of pure, let´s say what it truly is, crap.\"\n",
      "* * * * * * * * * \n",
      "3183\n",
      "I saw this DVD in my friends house and thought that this was a Turkish action movie with some Hollywood-not very big-names in it. Interested enough I decide to give it a shot later.. It was a tough to bear experience believe me. Then, after finally seeing the credits roll I tought 'We Turks really suck at Hollywood style film making.. This is an insult to the heist|hostage movie genre..' but then wait! I checked some names and no, they were not Turkish names and no, this was not a Turkish movie; on the contrary it was literally shot in America with an American director & crew! That made me thinking-again!- How on earth can you persuade names like Micheal Madsen, Edward Furlong or even Arnold Vosloo to take part in such a project? with money probably.. That kept me thinking further.. How can you raise such amount of money to offer them and a supposedly international cast? Then all my meditation paid off and I came to find the answer.By hiring the cheapest equipment and crew that you can find. And if you still have to difficulty in adjustin your budget then: by writing and directing the movie you are trying to produce-or vice versa I don't have any information on that-. So bottom line this is not a bad movie as everybody are so anxious to present as.. It makes you think -in my case even meditate- and there are a lot of movies outthere that doesn't give even that affect.. This one at least makes you think; It makes you wonder.. It leaves you with disbelief.. and then It makes you wonder again..\n",
      "* * * * * * * * * \n",
      "3574\n",
      "The thing about calling \\House of the Dead\\\" the worst movie of all time is that it's really not. There are worse movies out there. I watch alot of Hong Kong ninja movies that are basically the result of an unfinished Japanese police drama having footage of ninjas inserted at the end to create something that could technically be called \\\"a movie.\\\"<br /><br />House of the Dead is however one of the worst films I've ever seen at the theatres. Walking out half way through, I actually felt I was somewhat dumber for having set through 45 minutes of this piece of garbage.\"\n",
      "* * * * * * * * * \n",
      "3706\n",
      "I'm hearing rumors of an upcoming \\Leonard Nimoy Demonstrates the Blu-ray Disc\\\". With advances over the past 25 years ranging from Steady-cam to CGI, it'll be interesting to see if the franchise can be reinvigorated. I just hope it helps to remove the bad taste left in my mouth by that whole Magnavision demonstration fiasco.<br /><br />And yes... \\\"Leonard Nimoy Demonstrates the Betamax VCR\\\" was a brilliant milestone in entertainment history. After the tentative \\\"Leonard Nimoy Demonstrates the Compact Cassette\\\" and the downright tacky \\\"Leonard Nimoy Demonstrates the 8-Track Tape\\\", who would have expected such a glorious piece of cinema? I'm weeping right now just thinking about it.\"\n",
      "* * * * * * * * * \n",
      "3939\n",
      "A cheesy, compellingly awful (and NOT in a fun way) C Grade movie. Everything shouts 'amateur', from the crumby script (bizarre premises, limited coherence and predictable endings; the turgid lighting, sound and hand-held wobbly camera angles; the coy and passe sexual inneundo and references; the patchy and unbelievable dialgoue to the Z rate acting. I saw it on DVD and kept hoping Edward Wood would pop out. All is forgiven - your Worst Films are works of art, and more coherent than this twaddle.<br /><br />But still, preferable to the warbling 'Every night in my dreams I hear you' - are you sure the Titanic crew weren't involved in this on the side?\n",
      "* * * * * * * * * \n",
      "4191\n",
      "Another wonderful Patterson book made into an incredibly awful movie. If the big budget movies don't work then why make a low budget made for t.v. movie that's 10 times worse! I am desperate for a good movie that will do ONE of his books justice!\n",
      "* * * * * * * * * \n",
      "4350\n",
      "This show is possibly the biggest, ugliest, most generic steam pile I've seen in children's programming that's actually become successful. The lead character, Johnny, while I understand he's supposed to represent an ordinary kid, isn't likable or even tolerable. The jokes are lame, overdone (i.e. the \\Whoa! Didn't see that coming\\\" gag. Come on, that wasn't even funny the first time. It's not even cute) and lack any form of primitive wit or inspiration. And lastly... it's just plain ugly to look at. While kids aren't especially critical of artistic talent, they still prefer eye candy. I can't stand watching the show, because in a way, the art style is just...gross. Hideous, in fact. Just plain crummy. <br /><br />I just can't stand that this is getting so much airtime. While I understand that nostalgia can be a little irrational and I shouldn't be getting my hopes up on it coming back... I really miss the old cartoons. Bring back Dexter's Laboratory, The Powerpuff Girls... anything but this crap. I guess it's just wishful thinking though.<br /><br />Simply put, I advise you don't waste your time on this show. I believe that truly good cartoons are able to be enjoyed by the big kids, too. And this doesn't cut it.\"\n",
      "* * * * * * * * * \n",
      "4371\n",
      "Someone must have been seriously joking when they made this film.<br /><br />Firstly, it is an absolute impossibility that this movie was made in 1993. The fashions and music dictate that this is seriously 80's. My guess is that this has sat on the shelf for a long while before some crazed distributer picked it up and released it to a disbelieving world.<br /><br />There is a plot. Kind of. A strange loner meets a random man with a beard who tells him that if he meditates while singing his favourite song he will be able to turn into whomever he chooses. At this point I feel obliged to point out that the loner's favourite song is London Bridge Is Falling Down. Why is this his favourite song? Because he's an idiot. We are only a minute into the film and already the film has reached a monumental level of stupidity. It gets even stupider.<br /><br />The loner is the nostril picker. I can only assume this as there are two scenes in the film where he is seen picking his nose. That clears up the title. He decides to change into a girl so that he can get close to other girls. And kill them. That's more or less it.<br /><br />The acting is universally appalling. Every single performance in this movie sucks. In fact, I would go so far as to say that the acting is of the standard of a pornographic movie. It really is that terrible. The nostril picker appears to the audience as the nostril picker. The characters in the movie see him as the girl he has become through singing London Bridge Is Falling Down. Man, I feel like an idiot even typing this. Anyway, it is kind of strange seeing a middle aged weirdo hanging out with school girls. And not in a good way. There is even an extended montage of scenes where the nostril picker is at school with the girls and a song plays over the top. It is very possibly the worst song ever recorded. I'm not even going to describe it. You'll know it when you hear it. And you'll agree with me.<br /><br />There are some scenes of violence, sure. And there is a Benny Hill style chase sequence involving a transsexual. There is even an immortal bit of dialogue, that may or may not have been taken from Shakespeare or John Milton, where the nostril picker says to a prostitute, 'I've got the cash if you've got the gash'. Lovely, I'm sure you'll agree.<br /><br />Utter nonsense.\n",
      "* * * * * * * * * \n",
      "4556\n",
      "Let me start out by saying that I used to really like Betty Grable, particularly from \\Down Argentine Way\\\", but by the time she got around to this disaster, she had also got \\\"round\\\" and frankly the whole film was an embarrassment. Costarred with Douglas Fairbanks JNr (who must have been fairly desperate) the story was bad, the colours good, and the film far too long. It had some of the old standbys in it like Harry Davenport and Reginald Gardiner to try and stimulate interest but with no success. The music score was woeful, and I have to say not one tune was memorable in any way....as I was such a fan of Miss Grable, I always wish I had never seen this one!\"\n",
      "* * * * * * * * * \n",
      "4889\n",
      "I rented this movie because I hoped it would be one the whole family would enjoy. Although the movie is family friendly, my family did not enjoy it because it gives a false view of God. If you obey God and follow Him, you are not guaranteed success. Your football team won't always win. You won't magically get better grades. Infertility isn't always cured. You won't always get a raise. Sometimes, you'll be stuck with the old car.<br /><br />God does not exist to meet our every whim. Rather, we were created to glorify Him. Sometimes we glorify Him most when things seem to be going bad for us. To live is Christ; to die is gain.\n",
      "* * * * * * * * * \n",
      "4974\n",
      "The movie was \\OK\\\". Not bad, not good, just OK. If there was anything else in the theater this would be skipped by far. Sadly, Fast and Furious 2 also stunk, but I'd rather see this than FF2. :) If you have a fetish for harrison ford or that other young punk, this will be a \\\"cute\\\" movie for you. Personally, I'd wait for HBO or Blockbuster.\"\n",
      "* * * * * * * * * \n",
      "5026\n",
      "Actually had to stop it. Don't get me wrong, love bad monster movies. But this one was way too boring, regardless of the suspenseful music that never leads you anywhere. The actress had too many teeth and that moment when she makes contact with one of the beasts, was way too obvious a cliché. This film totally betrays the cover on the DVD which looks pretty interesting. From the cover one expects a giant monster, but you get these cute not as gigantic as expected electric eels. Moved on to watch another film called The Killer Rats but that's another review. Deep Shock was really crap, a big shame considering the fact that it looks pretty high budget.\n",
      "* * * * * * * * * \n",
      "5057\n",
      "This is one of the weakest soft porn film around. I can't believe somebody wrote this stupid story before making some changes. The guy Mike is a major wimp and moron I can't believe he didn't want to take a shower with his bride-to-be Toni and be in a threesome with the french photographer Jan. He does do a threesome with Toni and Kristi but that was short I hate that every time in Soft Core Porn Films threesomes between a woman, a man, and a woman is short but a girl-girl thing is about an hour. To the makers of these films have the threesomes alot longer this film should've have two threesome scenes not one but two.\n",
      "* * * * * * * * * \n",
      "5390\n",
      "This horror movie is really weak...that is if this is the correct movie I am commenting on. Nothing really terrible goes on as a family adopts a cute little German Shepard pup. I had a German Shepard and it is a really good dog. I did not get the idea to get one from this movie though, but rather from the comedy \\K-9\\\". That is another story all together though. This movie really doesn't have much horror at all as the most horrific scene is at the end and it looks really cheesy. Also, we see a guy almost put his hand into a lawn mower. That is about it. The father suspects something though, as his family seems to be getting rather strange, somewhere he finds out if you hold a mirror to them while they are sleeping you can see if they are possessed. All in all a really weak horror movie even by television standards...television movies that do work are out there as \\\"This House Possessed\\\" is pretty good and there is another haunted house movie about a woman and these strange creatures that is also rather good. This one is really rather dull.\"\n",
      "* * * * * * * * * \n",
      "5420\n",
      "This movie is similar to the play entitled 'Blithe Spirit' written by Noel Coward. The plot of a ghost wife and a medium are strongly linked to Coward's writing. I'm surprised that movies of this nature don't acknowledge the original writer's concept. I realize that the public may not be aware that this is a knockoff but it is.<br /><br />Sad. These movies are so expensive to produce. I do perk up when a screenplay is original. I even perk up when it's an innovative way to produce a work that was previously released. There were some samples mentioned (such as Topper, etc.). <br /><br />I realize that movies are still a comparatively affordable form of entertainment. However, I'm not please when the public's taste is taken for granted. In this situation, the public's taste is overlooked.<br /><br />I look forward to better produced movie entertainment.<br /><br />In this case. I rather see the play.\n",
      "* * * * * * * * * \n"
     ]
    },
    {
     "name": "stdout",
     "output_type": "stream",
     "text": [
      "6124\n",
      "Horrible film with bits of the Ramones strewn about. Your worse than average 1970's/80's comedy format of the cool kids taking over the school with some whimsical plan. This movie is terrible. The plot consists of a girl who enjoys the Ramones and a school bent on fighting against their oppressive administration. Forget this movie and watch something like Wild Zero starring Guitar Wolf if you want an entertaining B movie. Terrible acting, terrible writing, terrible plot with the stamp of approval of the Ramones who probably needed some money quick so they said yes to this movie. That is the only logical thing I can think of because this movie blows.\n",
      "* * * * * * * * * \n",
      "6200\n",
      "I was excited when I heard they were finally making this horrific event into a movie. The whole era (1980's Southern California) and subject matter (drug and porn industry) is intriguing to me. I thought this would be a sure fire hit. I was not thrilled with the choice of Kilmer as Holmes, they do not resemble each other in physical appearance or mannerisms. I guess he sells tickets? However, I was willing to overlook this and give it a fair shot. I was a bit shocked that there were only like four other people in the entire theater with me on that first day of showing. Now the whole crime and story in the film is hard to do, I will admit that. There were no witnesses to this very violent and brutal act. John Holmes was there, but he was also a pathological liar and worried about what would happen to his family (and self) if he talked to police about it. In fact, Holmes never really testified about what happened and the crime did go unsolved. So this was still really one big mystery, a mystery that this movie does nothing to cast light on. The person writing the screenplay had a whole lot of discretion and most of the principal characters are dead. However, there is no real storyline, it is fragmented claptrap. The script is light and the actors try to hard to beef up paper thin lines by overacting. The film gives no insight into Holmes or the other people involved. Kilmer's character disappears for long stretches, his girlfriend is dull, the police are jokes. Even Kudrow tries hard to make a flimsy role look substantial. It is a very shallow piece and dare I say, boring. The director even tries to turn it into a love story. Which is nice, unless you know anything about what a piece of trash John Holmes really was. Perhaps a couple of viewings of Anderson's \\Boogie Nights\\\" might have helped here. \\\"Boogie Nights\\\" was innovative and exciting in all regards. This film on the other hand was flat and without any real charm or style. Even the music is out of place, with Duran Duran being played in a scene that was supposed to have taken place in 1980. Then we have Gordon Lightfoot? Gordon Lightfoot? There could have been a great film based on this gruesome event, but I have not seen it yet. I have not seen even a decent one yet (unless you consider the Rahad Jackson scene from Boogie Nights).\"\n",
      "* * * * * * * * * \n",
      "6327\n",
      "From the nepotism capitol of the world comes another junk flick in a fancy wrapper. \\CQ\\\" tells a lame, disjointed mess of a story which is little more than a bunch of silly caricatures, a babe, and straight man Davies running around trying to make a stupid sci-fi flick. I can't think of any reason anyone would want to spend time with this ridiculous attempt at film making. (D)\"\n",
      "* * * * * * * * * \n",
      "6345\n",
      "SPOILERS All too often, Hollywood's Shakespeare adaptations entertaining pieces of cinema. Beautifully shot they are well performed and faithful to the text. Films including Branagh's \\Henry V\\\" and 1993's \\\"Much Ado About Nothing\\\" are powerful pieces of work. Watching \\\"Love's Labour's Lost\\\" therefore, it's such a huge disappointment for expectation to be so hideously thrown to waste. Sadly \\\"Love's Labour's Lost\\\" is awful! The King of Navarre (Alessandro Nivola) and his friends have forsaken drink and women for three years to focus on their studies. Plans begin to fall apart however when the enigmatic Princess of France (Alicia Silverstone) and her entourage arrive. Soon love is in the air and philosophy is off the Prince's mind.<br /><br />From the start, you realise that this film is not quite Shakespeare. Cleverly relocated into a 1930s musical by Ken Branagh, the plot is still there and the script remains, but now it has been sacrificed in favour of dire musical taste. Classics like \\\"The Way You Look Tonight\\\", \\\"Let's Face The Music and Dance\\\", \\\"I'm in Heaven\\\" are all destroyed by weak singing and a strong feel that they just don't belong here.<br /><br />Aside from weak singing, we are also treated to an increasingly large number of awkward performances by regular stars. Ken Branagh and friends might enjoy making this film, but they provide us with a stomach turning collection of roles.<br /><br />The main eight actors (four men & four women) are all equally dire, and the only positive on their behalf is a vast improvement on the truly dreadful Timothy Spall.<br /><br />In fact, only one individual leaves the film worthy of any praise and that's the consistently magnificent Nathan Lane. Lane has proved over the years that he is a comedy genius and in this feature he once again adds an air of humour to the jester Costard.<br /><br />There's little else to be said really. \\\"Love's Labour's Lost\\\" deserves mild praise for Branagh's original take on an old tale. Unfortunately though, that's where the positives end. Weakly acted, performed, sang and constructed, \\\"Love's Labour's Lost\\\" is perhaps the weakest Shakespeare adaptation of the last forty years. It should be avoided like the plague and should never have been made. A poor, disappointing choice by Branagh and here's hoping his next effort is better.\"\n",
      "* * * * * * * * * \n",
      "6477\n",
      "I had a video of the thing. And I think it was my fourth attempt that I managed to watch the whole film without drifting off to sleep. It's slow-moving, and the idea of a mid-Atlantic platform, which may have been revolutionary at the time, is now just a great big yawnaroony. Apart from Conrad Veidt, the rest of the cast are pretty forgettable, and it is only in the action towards the end that things get really interesting. When the water started to spill big-time it even, on one occasion, woke me up.<br /><br />But give the man his due. No one could hold a cigarette like Conrad Veidt. He doesn't wedge it between his index and middle fingers like the lesser mortals. He holds it in his fingers, while showing us the old pearly-browns. There are a few scenes in this film where the smoke drifts up to heaven against a dark background,and looks very artistically done. But it does not say much about this film if all that impresses you is the tobacco smoke.\n",
      "* * * * * * * * * \n",
      "7410\n",
      "As someone who has both read the novel and seen the film, I have a different take on why the film was such a flop. First, any comparisons between novel and film are purely superficial. They are two different animals.<br /><br />The novel is probably intended as a satire, but it arrives as a cross between tragedy and polemic instead. Any comedic elements such as those which later formed the stylistic basis of the film version are merely incidental to the author's uniformly cynical thrust. And lest the omnipresent white suit of the author fool you into thinking this is another Mark Twain, think again. A more apt literary precedent would be the spectre of Ambrose Bierce in a top hat and tails. Tom Wolfe is equal parts clown and hack, more celebrity than author, always looking for new grist for his self-absorbed mill. <br /><br />It is therefore no wonder that the excellent production skills and direction lavished on the making of the film were doomed from the start. Unlike true satire, which translates very well into film, polemics are grounded not in universally accessible observations on some form or other of human behavior, but in a single-minded attack on specific people -- whether real or fictional straw men -- who have somehow earned the wrath of the writer. Any effort to create a successful filmed story or narrative from such a beginning must have a clean start, free of the writer's influence or interference.<br /><br />Having said that, I too find fault with the casting. It is not merely that incompetents like Bruce Willis and Melanie Griffith fail to measure up, but that real talents like Tom Hanks, F. Murray Abraham, and Morgan Freeman are either totally wasted or given roles that are mere caricatures.<br /><br />There is enough topical material here for a truly great film satire, but it fails to come even close.\n",
      "* * * * * * * * * \n",
      "7479\n",
      "I have seen already fantastic stories, but the premises of this one are so unbelievable that it comes very close to being ridiculous. A rich and young guy undergoes a heart transplant the day after his marriage, and he is somehow witnessing his own surgery and the plot of his surgeons to kill him. Even if there is a medical explanation to such a phenomenon what next happens is a mixture of dialog among ... say ... souls? ... maybe and real life where the dedicated mother will do everything to save the life of her son. There is no shade of suspense or thrill, just a combination of a bad and simplistic plot with a series of coincidences that can never happen in life.<br /><br />This is not to say that the film is completely lacking quality - actually first time director Joby Harold does a decent job in directing a good team of actors that includes Hayden Christensen at his first major role after having taken off the Anakin Skywalker costume, fabulous Jessica Alba and super-gifted Lena Olin. All would have deserved a better story.\n",
      "* * * * * * * * * \n",
      "7758\n",
      "This is a film that makes you say 2 things... 1) I can do much better than this( acting,writing and directing) 2) this is so bad I must leave a review and warn others...<br /><br />Looks as if it was shot with my flip video. I have too believe my friend who told me to watch this has a vendetta against me. I have noticed that there are some positive posts for this home video; Must have been left by crew members or people with something to do with this film. One of the worst 3 movies I have ever seen. hopefully the writers and director leave the business. not even talented enough to do commercials!!!!!\n",
      "* * * * * * * * * \n",
      "7805\n",
      "What a terrible, TERRIBLE, film! One of the worst movies I have seen in my life. I usually love movies like this, the whole \\A guy meets an eccentric woman who he likes, but he happens to already be involved with someone, who not right for him....\\\". I expected something predictable and I didn't mind. The movies are always entertaining mixing the right amount of romance with comedy, but not this one! Every single joke falls flat and the \\\"romance\\\" makes me want to vomit. The title character is one of the most \\\"please kill me\\\" characters that I have ever witnessed on my television, the \\\"eccentric woman\\\" isn't very eccentric, more like quirky and annoying. The \\\"other someone\\\" is the most reasonable, mature person in this film but also happens to be just as annoying. This films flat out sucks, there's no way around it, don't waste your time.\"\n",
      "* * * * * * * * * \n",
      "7907\n",
      "A movie that makes you want to throw yourself on a sword. I've seen schlock in my time but after viewing the wretched mess I don't think I can ever watch a another movie again. May God pity the souls who made this.<br /><br />Premise- Ex-Army quiet stud, underwear model type character (well acted actually) goes looking for the girl who sent him a Xmas card while serving in the military. Lands in with her cabin living-granola type family who are right-wing loggers. Family takes to him and it takes 2 hours of our time for the chick to see he's a better catch than her liberal looking ,french wine drinking, porsche driving, loud cell phone talking, lazy, city slicking, Jewish looking fiancé.<br /><br />The Bad- 1d characters, 1d themes. Being beat over the head with the Pro-Military theme. Ed Asner.<br /><br />The Good- commercial breaks were long. Peter Jason. It ended.\n",
      "* * * * * * * * * \n",
      "8025\n",
      "The small California town of Diablo is plagued with mysterious deaths after sheriff Robert Lopez unearths an ancient box.Legend has it that the box holds the sixteenth-century Mexican demon named Azar.FBI agent Gil Vega is sent to investigate the murders and joins forces with the sheriff's daughters,Dominique and Mary to fight with evil and bloodthirsty demon.\\The Legend of Diablo\\\" is an absolute garbage.The film lacks scares and gore,the acting is amateurish and the direction is bad.The animation is the only one aspect of the film I enjoyed.I'm a big fan of indie horror flicks,for example I loved \\\"Torched\\\",\\\"Live Feed\\\",\\\"Bone Sickness\\\" or \\\"Neighborhood Watch\\\",unfortunately \\\"The Legend of Diablo\\\" is a huge misfire.Definitely one to avoid.\"\n",
      "* * * * * * * * * \n",
      "8077\n",
      "I was so disgusted by this film, I felt obligated to warn off others. This film has no story, plot or hint of purpose. The film starts after the standard \\lets be scary\\\" movie intro, which by now every film watcher has become accustomed. So we can ignore the beginning completely. We are soon introduced to the main actress and from this point it becomes clear to all that you have just wasted your hard earned and would be better off watching static. (Unless you have seen white noise - EEK) Acting is a DISGRACE and all of them should return to the travelling pantomime from where they came. Having said that, even the best actors in the world would struggle to make this film remotely watch able. Their poor performances merely contribute to the disaster. Senseless violence and what I can only assume is the written word of yet another junked up \\\"eccentric\\\" writer, who probably considers himself to be an artist, has resulted in a film which will test your patience. It was not until my fellow watcher turned to me and said, \\\"We have been watching this for 45 mins\\\" did I realise that this film is as thin and tasteless as a cup of tea without a tea bag. Clearly something was missing and unfortunately it wasn't the audience. Rather than suggest what the film is missing, let me tell you what it has: Dumb Blonde (surprise surprise), Victims, bad-monster-guy-thing, about 2 mins of storyline which is stretched over hours, days, weeks, months... and credits.<br /><br />Want a silver lining? Well, the blonde girl is a bit saucy looking in some of the scenes, but expect to want to see her face ripped off for the rest of the film!\"\n",
      "* * * * * * * * * \n",
      "8081\n",
      "This is the most disturbing film I have ever seen. It makes \\Requiem for a Dream\\\" look like a Disney film. Although, technically, it is reasonably well made, acting, cinematography, music, directing, etc., are good. However, the concluding gang rape scene is the most appalling and violent thing I have ever seen and I really wish I had not seen it. I am afraid that it will haunt me for the rest of my life. Although I think anyone would find the film extremely disturbing, my wife and some of her friends were victimized in a very similar manner and I really didn't need an explicit reminder of the horror that they experienced. I saw the film at the SXSW film festival in Austin, TX and none of the cast or crew were in attendance. I would have liked for them to have had the opportunity to defend the violence in their film, which I felt was excessive, gratuitous and unnecessary. An earlier scene successfully conveyed the mood they were apparently striving for, but without rubbing your face in the extreme and explicit sexual violence. This film should have a big WARNING label on it. For these reasons I would not recommend anyone seeing it. You've been warned.\"\n",
      "* * * * * * * * * \n",
      "8132\n",
      "Spoilers<br /><br />Wow, END OF THE WORLD is a singularly underwhelming cinematic experience.<br /><br />Here is the full story: a scientist is getting messages from space (a la INDEPENDENCE DAY). The messages say stuff like a massive disaster is about to happen and then the scientist hears later on the radio that a huge earthquake just happened in China. He starts thinking that the messages have something to do with the disasters around the world so he's trying to figure out who's receiving the messages (and who's also sending out messages in space). He and his wife eventually figure out that the messages come from a convent. They visit it. Everything looks normal, including the priest played by a bored Christopher Lee. But the scientist is adamant and really believes that the messages are coming from and going to that convent. So he and his wife secretly go back to the convent where they are caught snooping around by the aliens, disguised as priests and nuns. They are held against their will and the alien played by Lee forces the scientist to get something they need in order for them to return to their planet. Once the alien get the special element, the aliens all depart one by one to their home planet in some sort of tacky looking transporter platform. Lee, being the last alien left, tells the couple that the earth will be destroyed because of some sort of hokey decision by the aliens. Lee walks in the transporter and he's gone. The couple, looking at the monitors that show stock footage of natural disasters occurring all over the world, decide to follow the aliens. Because earth is doomed, the couple doesn't see any point of staying behind so they walk in the transporter and disappear. The last shot of the movie is a papier mache planet earth exploding. The end.<br /><br />That's it. <br /><br />I've never seen such a dull movie in my life. It's the most underwhelming movie I've ever experienced. The scientist and his wife are two of worst heroes or protagonists ever put on screen. They don't care about anything. They see the earth disasters on the monitors and decide \\what the heck, who needs earth anyway?\\\" They don't even try to stop them or do something to make things better. This kind of story might have worked if the film had an overwhelming sense of doom to everything but the action and atmosphere are nonexistent. The actors and the folks behind this dull flick are going through their paces, so much so that you can almost feel when they punched their cards when they got off and returned to work. I wasn't expecting much with this movie because it IS a Charles Band production, but I didn't expect it to be this bad.<br /><br />Christopher Lee was once asked what was his worst film he ever made and he mentioned STARSHIP INVASIONS. Well, I'm sorry Chris but STARSHIP INVASIONS was actually goofy fun. STARSHIP INVASIONS is terrible but terribly entertaining. END OF THE WORLD is MUCH, MUCH, MUCH worst: it's beyond dull and inert, with NO entertainment value whatsoever.\"\n",
      "* * * * * * * * * \n",
      "8216\n",
      "There's nothing wrong with a popcorn movie to keep you off the streets. It's just that some are better than others. This is very poor. The acting is awful, the script dire; and the special effects overrated.<br /><br />Why does Hollywood treat it's audience with such contempt? And why have they made a sequel?\n",
      "* * * * * * * * * \n",
      "8277\n",
      "This movie made me very angry. I wanted desperately to throttle the \\scientists\\\" and unseen film-makers during the course of it. Very, very painful to sit through. Sophomoric and pretentious in the worst way. The little good information on brain function/chemistry and quantum theory is lost in a sea of new agey horse sh*t. The worst offenders were the crack-pot charlatans Ramtha and Joseph Dispenza. Mr. Dispenza informs us that most people lead lives of mediocrity and clearly implies that he, on the other hand, is living on a higher plane. Even the ideas and attitudes that I basically agree with are presented in such a heavy handed, clumsy, superior, pretentious, preachy manner that I felt the desire to disavow them. I think that's what made me so angry, the fact that they've taken what are indeed profound aspects of established scientific thought and marred them with their new age hokum. Much of it is based around the fallacy of applying concepts of quantum theory to the macro world. Fittingly, the dramatized portions with Marlee Matlin are amateurish and cliché ridden.<br /><br />I would refer people instead to Bill Bryson's excellent survey of science: \\\"A Brief History of Nearly Everything.\\\" There's plenty of profound wonder about life and the universe in the actual, established science.\"\n",
      "* * * * * * * * * \n",
      "8306\n",
      "I wanted so much to enjoy this movie. It moved very slowly and was just boring. If it had been on TV, it would have lasted 15 to 20 minutes, maybe. What happened to the story? A great cast and photographer were working on a faulty foundation. If this is loosely based on the life of the director, why didn't he get someone to see that the writing itself was \\loose\\\". Then he directed it at a snail's pace which may have been the source of a few people nodding off during the movie. The music soars, but for a different film, not this one....for soap opera saga possibly. There were times when the dialogue was not understandable when Armin Meuller Stahl was speaking. I was not alone, because I heard a few rumblings about who said what to whom. Why can't Hollywood make better movies? This one had the nugget of a great story, but was just poorly executed.\"\n",
      "* * * * * * * * * \n",
      "8326\n",
      "An updated version of a theme which has been done before. While that in and of itself is not bad, this movie doesn't reach the ring like the other \\inherent and pure\\\" evil ones do. <br /><br />Predictable, ambitious attempt that falls short of the mark. Not worth sitting through for the tired contrived ending.\"\n",
      "* * * * * * * * * \n",
      "9032\n",
      "The Hazing is confused mumbo-jumbo that wants so hard to be The Evil Dead that it even references Bruce Campbell several times. The problem is, it is simply not in the same league as that terrific movie. This movie is nowhere near as original. The plot has been used before, by Kevin Tenney in Night of the Demons, and that was a lot more fun. This flick wastes too much time with complicated exposition before getting the kids into the spooky mansion and starting the demonic happenings.<br /><br />Brad Dourif is, as usual, not given much to do here, but when he is on screen he puts in another over-the-top performance that would make Christopher Walken jealous. As for the acting of the kids, it's passable but by no means good. The shaky camera work is more annoying than clever or atmospheric. There are a few good moments when the first guy gets possessed and throws around some deadly one liners while dispatching his victims, but it was never scary for a second. The gore level is mid-range to low, but the director tries to make up for it by showing the actresses topless a few times. All in all, just okay if you have 87 minutes to waste.\n",
      "* * * * * * * * * \n",
      "9187\n",
      "Read on and take note - you could save 88 minutes of your life (was that all!).<br /><br />Unremittingly bleak, this film sets out to produce (I'm guessing) a modern small town American Christmas fable in the Capra style. If fails....completely and absolutely fails. I've been trying to think of one good thing about it and can't. Let me mention some of the highlights ...<br /><br />People don't die, they get to spend eternity as immigrant workers in Santa's factory. Angels are actually ex-cowboys who sit in trees. Santa can bring people back from the dead (if you send him a nice letter). <br /><br />And the plot.. I won't spoil it for you but there has to be some light in films if only to contrast with the darkness but there isn't any. Even the photography is bleak - snow shown at the end of a freeze, everywhere looking cold, damp and miserable. <br /><br />As you might guess, the film has a happy (schmaltzy) ending. What a relief !\n",
      "* * * * * * * * * \n",
      "9297\n",
      "Visually disjointed and full of itself, the director apparently chose to seek faux-depth to expand a 5 minute plot into an 81 minute snore-fest. <br /><br />The moments that work in this film are VERY limited, and the characters don't even feel real. How could you feel invested in a main protagonist who was made so surreal? <br /><br />Substantively AND stylistically, it all feels like a quirky dream sequence. Jarring irregular camera work, awkward silences and gaps in action, and what's with the little spider image crawling across the screen? Whoever thought of that needs to go back to film school. It added no meaning, just cheese, and didn't even stylistically work with the rest of the film (assuming the film even had a style, which is a close call). What a flop.\n",
      "* * * * * * * * * \n",
      "10064\n",
      "First, it takes a full half hour to get Hackman out of jail and to start doing the job. What a waste of time, we all know Hackman is getting out to do some job for his masters, why waste almost a third of the movie on these sequences. Then Hackman stays in a hotel and the story arc again goes nowhere, simply proving to us that Hackman is under close watch and anything he says or does is know by the masters. Again, another 20 minutes. Then more wasted time showing the reunion with his wife. All of this should have taken 10-15 minutes at most simply as a set-up for the real action, intrigue and plot twists. By the time the real action gets going, I was so bored that I just wanted the movie to end. Hackman is great as usual, and the other actors as well, but this is a dud of the first magnitude.\n",
      "* * * * * * * * * \n",
      "10231\n",
      "This Lifetime style movie takes the middle aged divorcee victim who then finally fights back genre to new depths of cartoon-like absurdity.<br /><br />Here the 40 something stay-at-home ex-wife of a successful lawyer protagonist (daughter away at college) is starting a new life after her divorce, helped by a female college friend in opening a new dress shop as a sort of franchise expansion deal. She has even started up a friendship with her attractive, slightly younger perhaps, landscape architect / gardener (who's black). But then horror of middle-aged women's horrors, ANOTHER 20 something female she took on as a tenant to let a room to, starts 'taking over\\ her life.<br /><br />What this new younger woman threat really does is mildly flirt with the gardener, and offer him a glass of wine that * gasp * really belonged to the divorcee!! She runs up the utility bills by not turning down the thermostat!! And backed up the toilet! And leaves old food gone bad in the refrigerator! And hangs her pieces of (African) artwork in the living room!! And so on. Well she may have killed the cat as well. Yeah, ok, the extent to which this one does these things is bad enough, but its more than a little ridiculous, especially as it turns into a campaign. The character reality is that any tiny part of this would drive this particular prissy woman insane. (So why did she rent the room -- and to horror of horrors, a much younger woman?)<br /><br />Supposedly this increasingly arrogant (natch) younger woman has a mania for seizing control. And our brave 40 something must learn to fight back against this evil (and erotically hot looking, of course) 20 something. But there's this problem. Anytime the 20 something starts to maybe get into trouble she uses her POWER -- and just flirts or has sex with some guy, and escapes the consequences. (Well, there actually is something to that capability of good looking 20 somethings. It just isn't * generally * used in quite this sort of way.)<br /><br />The premise is moved along by the device of the 20 something conning the divorcee into formalizing their room rental deal with a written lease produced by her. Of course the 40 something doesn't know about these things, and the 20 something has had help. The lease actually gives the younger woman equal right to the whole house during the rental period, with utilities thrown in at the fixed price. Even though an eviction proceeding is soon pending, the 20 something soon gets a temporary restraining order against the older woman, supposedly because she has been threatening the 20 something. You know, the judge is sympathetic to all the woe-is-me of the sexy sweet young thing. Finally the 40 something's \\\"heroic\\\" battle back for THE HOUSE then begins. Woopie!!<br /><br />The only realistic or perceptive thing in this movie is how horrificly easy TRO's (or orders of protection) are for women to get on nothing more than her unsubstantiated say so -- although they are generally only this easy against men. They are sometimes just as unjustified and just as motivated to seize control of a home as it is here. Indeed, girlfriends who have moved in with their boyfriends can often get them evicted from their own homes or condos on the basis of no proof whatsoever, but only an unsubstantiated claim of threats, and sometimes without even hearing his side. Even when there is a hearing, it is routinely impossible to rebut claims of threats (to prove a negative), when the burden of proof is effectively on the accused, rather than the accuser. (This is one of the only areas of American law where that is true -- and it's a signal outrage of feminist overreaching, and the failure of any organized group to resist the steamroller.) Of course that's not likely to be the subject of any Lifetime movie in this lifetime.<br /><br />The absurd basic premise of this movie relies upon the explanation that the 20 something is psychotic, and isn't taking her medicine. Even so it makes no sense. She isn't after the successful lawyer ex-husband, though she does con his help (to the ex wife's fury) in her quest. She's after THE HOUSE (technically, to drive the divorcee out of it during the period of the lease). This second younger woman is after ALL THAT'S LEFT after the divorce, after affairs with other 20 somethings STOLE her husband!! (The ex-husband seems unattached and basically solicitous after his fling -- doesn't matter, he still strayed!!!)<br /><br />The protagonist is good enough looking for her age. But her outlook, attitude and focus is so small minded, frumpy and utterly without imagination or life force that it's impossible to care about her. Well, a core group of Lifetime fans care, I guess, judging by the average score the small number of raters gave it. (I kept watching it only because it was so extremely bad and cartoonish that it had a camp appeal. I couldn't resist seeing just how far they'd take it.)<br /><br />** Spoiler ** (if such a thing is possible with this flick).<br /><br />Well, here's a clue. The movie ends with the 20 something getting bailed out of jail by promising to \\\"listen to\\\" her 20 something male co-worker and sometimes lover, and \\\"do whatever he says\\\" and \\\"let him take care of her\\\" (he means get her to keep taking her medicine) -- and then tricking him and returning to THE HOUSE. There she climbs the stairs with a knife, demonicly stalking her nemesis 40 something, who is taking a bath by candlelight, secure in the thought that the younger woman is out of her life. There's a struggle -- and the 40 something mom wins -- by sticking the 20 something with a hypodermic needle full of anti-psychotic medicine she had found. She then begins stroking her, mom like, and the two women have a bonding, female solidarity moment!!! How sweet.\"\n",
      "* * * * * * * * * \n",
      "10426\n",
      "Probable reasons why so many people on this site have enjoyed this:<br /><br />1. They might not have read the book. 2. They might enjoy gore and violence in a film. 3. They might be very young and therefore not understand the violence. 4. People might not understand how somehow more scary and more violent it is compared to the original book. 5. There are sure to be many other reasons not covered here.<br /><br />The only thing I liked about this film is the song \\'Bright Eyes\\\".<br /><br />If perchance, you happen to be one of those people who has read the book, enjoys calm and peaceful films without violence and are quite old and understand scariness and violence, you are sure not to like this. Otherwise you will almost definitely enjoy this.<br /><br />Like in the book, a rabbit called Fiver in an unsuspecting warren warns of terrible danger to come. Only a few rabbits - including his brother Hazel - believe him and they set out on a dangerous journey to find a new place to live...\"\n",
      "* * * * * * * * * \n",
      "10430\n",
      "***One Out of Ten Stars*** <br /><br />Because if it was, it gets an F. Holy Mother Mary of God was this bad. I mean, I gave it every reasonable accommodation considering it was a straight to video film, but it let me down at every turn. Like so many other B movies, the basic storyline was decent and the filmmakers seemed to have a reasonable level of resources, but the execution was ridiculous. It's a shame they attached the good name of Halloween to this fiasco.<br /><br />The basic premise surrounds some frat douche bags hosting their annual Halloween haunted house fund raiser, when a satanic spell book shows up out of nowhere and hurls the frat boys into a living hell. Well that's the idea anyway, but instead most of the film is devoted to displaying these frat boy's relationship escapades, abound with an outrageous lesbian subplot. Very little of the actual story is devoted to Halloween or the mysterious spell book. It actually makes me mad that the film makers thought they could get away with making such dribble. <br /><br />The film is essentially about frat boy relationships. This IS NOT what the movie is billed as. I'm tempted to track down the producers and at the very least threaten them with bodily harm. The acting is about as bad as it gets, it's atrocious! The script is unintentionally funny. The cinematography is just plain lazy. The whole film is amateur night. This movie actually makes the SyFy channel movie productions look like masterpieces.<br /><br />The last half hour of the film felt like the film makers realized they weren't producing a soap opera and had to throw in some sort of horror sequences. The evil spell book finally comes into play and turns everyone in the haunted house into the character their dressed up as. I almost feel like crying as I write this review. Wow! I mean wow! This thing was an undecipherable chopped up disaster.\n",
      "* * * * * * * * * \n",
      "10605\n",
      "Boy oh boy oh golly gee,<br /><br />The most interesting thing in the movie was the hilarity of the bluescreen effects used to create Mom's \\invisibility.\\\" They looked like they were shot on cheap video, and it looks totally unreal, and not even in a good way where its so funny that you end up loving the movie...<br /><br />I did NOT end up loving this movie. The attempted \\\"steadicam\\\" shots were really pathetic as well. I mean, hey, if they had a low budget flick, that's fine. You can still make a great movie with a low budget. But, a BAD movie and a low budget AND effects. That makes for a bad combination. In this case, such a doomed combo created the craptastic film, \\\"Invisible Mom.\\\" If you have kids, and your kids have no taste, perhaps they will stay awake through all of this one.\"\n",
      "* * * * * * * * * \n",
      "10606\n",
      "I saw this movie for a number of reasons the main being Mira Sorvino. With her on the cast it couldn't be so bad. And it even seemed like it had some mystery and Olivier Martinez was her boyfriend at the time and he was pretty good in `Unfaithful'. The story is set in Spain so it could be an exotic entertaining movie with one of my favorite actresses.<br /><br />If you're thinking about the same thing let me warn you: this is a truly awful, uninteresting, boring movie. The only adjective that comes to mind is pathetic.<br /><br />The story is contrived with sub-plots that add nothing to the narrative. They try to build a slasher/thriller with a look at fascism in Spain but fail horribly. The twists have no credibility and the so-called investigation leads nowhere.<br /><br />The characters are paper-thin! I didn't care about anyone. More than that they're irritating and pretty hateful people.<br /><br />The acting is atrocious. Mira what is wrong with you? Why Mira? You're an oscar winner! Keep some dignity! Her character was weak but that is no excuse for such an awful performance. She seems to be sleepwalking all movie long. Come to think of it, I actually think I saw her eyes slowly closing in some scenes. I used to think this woman was sexy. Well she isn't here. If you want to look at some skin try Romi and Michelle because there's nothing to see here. And that accent? My god...<br /><br />Olivier Martinez is even worst. It's too painful to remember his performance to describe it here. Im sorry but I can´t. Ive suffered enough with this garbage.<br /><br />This whole movie is depressing! It's so bad in every way it's a wonder how it was even made. A lousy team to produce a lousy script and make some money over the actor's name. Don't fall for it.<br /><br />Avoid it!<br /><br />\n",
      "* * * * * * * * * \n",
      "10608\n",
      "Up until this new season I have been a big 'Little Mosque' fan. However, the new season had absolutely RUINED it.<br /><br />The new Christian vicar has destroyed the entire intent of the show. It has always been about living together to overcome prejudice. The new vicar ruins that premise and shows Christians in a very bad light.<br /><br />I am neither Christian or Muslim, but loved watching the show and seeing the camaraderie between Amar and the Reverend. Not any more.<br /><br />Just cancel it and be done with it. It's not worth watching any more.<br /><br />It might still be saved, but a lot of change would need to be made.<br /><br />Bring back the old format.\n",
      "* * * * * * * * * \n",
      "10862\n",
      "When my own child is begging me to leave the opening show of this film, I know it is bad. I wanted to claw my eyes out. I wanted to reach through the screen and slap Mike Myers for sacrificing the last shred of dignity he had. This is one of the few films in my life I have watched and immediately wished to \\unwatch\\\", if only it were possible. The other films being 'Troll 2' and 'Fast and Furious', both which are better than this crap in the hat.<br /><br />I may drink myself to sleep tonight in a vain attempt to forget I ever witnessed this blasphemy on the good Seuss name.<br /><br />To Mike Myers, I say stick with Austin or even resurrect Waynes World. Just because it worked for Jim Carrey, doesn't mean Seuss is a success for all Canadians.<br /><br />\"\n",
      "* * * * * * * * * \n",
      "10894\n",
      "I watched this film because I'm a big fan of River Phoenix and Joaquin Phoenix. I thought I would give their sister a try, Rain Phoenix. I regret checking it out. She was embarrasing and the film just has this weird plot if thats what you want to call it. Sissy was just weird and Jellybean just sits on a toilet who both sleep with this old man in the mountains, whats going on? I have never been so unsatisfied in my life. It was just total rubbish. I can't believe that the actors agreed to do such a waste of film, money, time and space. Have Sissy being 'beautiful' didnt get to me. I thought she was everything but that. Those thumbs were just stupid, and why do we care if she can hitchhike? WHATS THE POINT??? 0 out of 10, shame the poll doesnt have a 0, doesnt even deserve a 1. Hopefully, Rain is better in other films, I forgive her for this one performance, I mean I wouldnt do much better with that film.\n",
      "* * * * * * * * * \n",
      "11015\n",
      "... and how they bore you right out of your mind! The Crater Lake Monster is one of the classic BAD films from the 70's made with no actors of any note, an embarrassing script, woeful direction, and a tireless desire to fuse \\horror\\\" with light comedy. This movie introduces a paleontologist who finds drawings of an aquatic dinosaur underneath Crater Lake...a meteor falls from the sky, and an aquatic dinosaur of the claymation variety begins to terrorize and eat the inhabitants surrounding Crater Lake. The whole matter is taken care of by Steve our local sheriff. Much of the film - when not showing pools of blood left behind from what we imagine must have been the beast dining - is spent following the bumbling antic of two guys named Arnie and Mitch who run a boat rental place. They try so bad to be funny, that we get lines like, looking at a business sign, Mitch saying to Arnie \\\"You spelled bait wrong, it's spelled B-A-T-E.\\\" The laughs were rather scarce here. We then see them get drunk together and imagine a tree trunk to be the dinosaur. Laurel and Hardy watch out! The dinosaur looks fake, but the movie is fun in a bad way. And at the very least, the lake is beautiful.\"\n",
      "* * * * * * * * * \n",
      "11621\n",
      "Criminally Insane 2 is included on the new DVD of Satan's Black Wedding/Criminally Insane, and it's a good thing too, because when I've seen a movie and know there's a sequel (especially something that's as obscure as this) I'm always curious. I've now had my curiosity satisfied and will never watch this again. Most of CI2 is nothing but \\flashbacks\\\" to CI, and footage of Ethel asleep, recalling fond memories, I guess. Thanks to Proposition 13 she's released from Napa State (wonder if she got to see The Cramps play while she was there?) and sent to a halfway house run by a nice old lady that Ethel promptly takes to calling \\\"granny\\\". This is all filmed with a video camera so the picture and sound are rather pathetic, and it's even complete with a couple of \\\"rolls\\\". Of course Ethel does her thing, which is to dispatch anyone between her and food, especially the guy that witnesses one of her acts of mayhem and extorts her dessert. Also, you have to wonder about any halfway house for murderers having a big drawer full of sharp knives in the kitchen and rat poison under the kitchen sink. Guess that's all a matter of misguided \\\"trust\\\". If you liked or disliked Criminally Insane, either way there's no good reason to watch this except out of curiosity. One wonders why the makers of this even bothered. 2 out of 10.\"\n",
      "* * * * * * * * * \n",
      "11712\n",
      "A huge disappointment from writer Hamm and director Dante. Their previous collaboration on the first season's \\Homecoming\\\" was twisted and darkly hilarious in all the right ways. This poor handling of an intriguing premise left me bewildered. The supposed \\\"payoff\\\" showing generic aliens extracting something from the brains of the infected psychopaths was completely unsatisfying and explained nothing. If the point of the story was an extraterrestrial \\\"cleaning\\\" of the planet of it's human infestation, why did they go about it in such a gratuitously sadistic and misogynistic fashion? Why not just unleash a completely lethal virus a la Stephen King's \\\"The Stand\\\" instead of having the male population butcher the females? I kept hoping the episode would improve as I kept watching but it just got more pretentious and preposterous. The religious subtext simply seemed forced but it was clear Sam Hamm must have thought it was profound by the weight he gave it. I like a lot of both Dante and Hamm's work but this was just unwatchable.\"\n",
      "* * * * * * * * * \n",
      "11864\n",
      "This was not a well done western. You've got this nut riding around in the blazing sun in a buggy with a parasol over it, killing people for his own reasons. You've got this same person sitting in a snow cave during a blizzard, cutting off pieces of his anatomy which have been frostbitten. Then you've got some woman in a house out in the middle of somewhere shooting wolves that are not there. What is the point of this film? Couldn't Bruce Dern find something better to do? This was a waste of film.\n",
      "* * * * * * * * * \n",
      "11969\n",
      "I love all his work but this looks like nothing.. sorry.. This looks more like a \\David Lynch copycat\\\". I think people like it only because \\\"it's from David Lynch\\\".\"\n",
      "* * * * * * * * * \n",
      "12075\n",
      "If you hit your head with a shovel, write the script with your feet, you may come close to the intelligence level of this movie. There is nothing in this movie that hasn't been done a thousand times in other gangster flicks and done much better. Those who think \\Scarface\\\" was some kind of hero to be looked up to or saw \\\"Goodfellas\\\", \\\"Menace II Society\\\" or \\\"Dead Presidents\\\" and thought MMM \\\"That's the life for me!\\\" will like this movie. I thought I'd give the movie a chance, since the premise was perfect for a prequel. I should have known better after seeing Mario Van Peebles and Sean Combs were involved. Anyone above a 4th grade education, see the original with Pacino, a real actor, and be satisfied.\"\n",
      "* * * * * * * * * \n",
      "12170\n",
      "WOW! Pretty terrible stuff. The Richard Burton/Elizabeth Taylor roadshow lands in Sardinia and hooks up with arty director Joseph Losey for this remarkably ill-conceived Tennessee Williams fiasco. Taylor plays a rich, dying widow holding fort over her minions on an island where she dictates, very loudly, her memoirs to an incredibly patient secretary. When scoundrel Burton shows up claiming to be a poet and old friend, Taylor realizes her time is up. Ludicrious in the extreme --- it's difficult to determine if Taylor and Burton are acting badly OR if it was Williams' intention to make their characters so unappealing. If that's the case, then the acting is brilliant! Burton mumbles his lines, including the word BOOM several times, while Taylor screeches her's. She's really awful. So is Noel Coward as Taylor's catty confidante, the \\Witch of Capri.\\\" <br /><br />Presumably BOOM is about how fleeting time is and how fast life moves along --- two standard Williams themes, but it's so misdirected by Losey, that had Taylor and Burton not spelled it out for the audience during their mostly inane monologues, any substance the film has would have been completely diluted. <br /><br />BOOM does have stunning photography---the camera would have to have been out of focus to screw up the beauty of Sardinia! The supporting cast features Joanna Shimkus, the great Romolo Valli as Taylor's resourceful doctor and Michael Dunn as her nasty dwarf security guard...both he and his dogs do a number on Burton!\"\n",
      "* * * * * * * * * \n",
      "12201\n",
      "Something somewhere must have terribly gone wrong right at the time when the director was perceiving this plot. The movie, that was supposed to be the remake of one of the most loved movies in cinema, fails to deliver in every aspect of movie making. The best of the artists could also not pick up the tuning, that simply goes on to show that the movie in itself was a grave mistake.<br /><br />The editing is poor. Direction is crap. Acting is out of this world(omg)! The characters who are supposed to look scary force people to laugh on the stupidity of their dialogues and costumes.<br /><br />I wouldn't watch the movie even if someone paid me the cost of the tickets or even gave me a free burger with it.\n",
      "* * * * * * * * * \n",
      "12228\n",
      "A worn-out plot of a man who takes the rap for a woman in a murder case + the equally worn-out plot of an outsider on the inside who eventually is shut out.<br /><br />With such an outstanding case, one would think the film would rise above its hackneyed origins. But scene after scene drones by with no change in intensity, no character arcs, and inexplicable behavior.<br /><br />The homosexuality theme was completely unnecessary -- or on the other hand, completely unexplored. It seemed to be included only to titillate the viewers. When will Hollywood learn that having gay characters does not automatically make a more compelling picture?<br /><br />A regrettably dreadful movie. When will Lauren Bacall pick a good one? I expected better of her and Kristin Scott Thomas. This one is definitely one to miss.\n",
      "* * * * * * * * * \n",
      "12342\n",
      "This was not enjoyable to watch. Frank puts all his dreams on the back burner and gets a normal (boring!) job just so his stepson can go to film school, but his stepson decides that he'll make a humiliating documentary about the man instead. A documentary filmmaker should point the camera and simply shoot, not manipulate and comment with snide captions. The bitterness and resentment of the filmmaker towards his stepfather is obvious. And sad. The goal seems to be to make Frank appear dumb and pathetic, instead he comes across as the most human of the 3 people featured.<br /><br />Essentially a smear campaign all dressed up as something much smarter and edgier than it really is. It left me with an intense dislike for the filmmaker.\n",
      "* * * * * * * * * \n"
     ]
    },
    {
     "name": "stdout",
     "output_type": "stream",
     "text": [
      "13170\n",
      "I wonder how much this movie actually has got to do with the 1984 movie \\Bachelor Party\\\", starring Tom Hanks. Is this movie even an official sequel? This movie is lacking in every department and you're obviously better off not watching it.<br /><br />For a comedy this movie simply isn't good or funny enough. It relies mostly on the character's their stereotypical assessments, rather then the movie actually features some good, original and funny moments.<br /><br />Of course there also is very little story present and the movie nude breast than script pages. You just keep waiting for things to finally start off. There is a main plot line in it somewhere but that one is so terribly unoriginal and gets executed so poorly in the movie that it feels more as if it's something non-existent. I guess there even is a message and moral story in it somewhere but this again is so terribly unoriginal and poorly done in the movie that it simply does not work out.<br /><br />It's basically a typical teenage comedy, with lots of sex jokes and nudity, only without the teenage main characters, which makes the story all the more sad and tasteless. The movie makes some really wrong jokes, that are misplaced for any type of movie.<br /><br />I regret ever watching this.<br /><br />3/10\"\n",
      "* * * * * * * * * \n",
      "13201\n",
      "In 1993, \\the visitors\\\" was an enormous hit in France. So, the sequence was inevitable and unfortunately, this sequence ranks among the worst ones ever made. <br /><br />This is a movie that doesn't keep its promises. Indeed, it's supposed to tell a sole story. Jean Reno must go in the twentieth century and take Christian Clavier back in the Middle Ages so that time can normally follow its course. The problem is that Clavier feels completely at ease in the world of the twentieth century, and so make him get back in the Middles Ages is rather hard... Instead of this, the movie goes on several other stories without succeeding in following the main plot. As a consequence, the movie becomes sometimes muddle-headed, sometimes a bit of a mess.<br /><br />But the movie also suffers from the performance of nearly all the actors. Reno and Clavier fall into the trap that however they could avoid in the first movie: they're going over the top and become annoying. Then, why did Jean-Marie Poiré the film-maker engage Muriel Robin in the female main role? He made a mistake because she seems ill-at-ease and is absolutely pitiful. The other actors aren't better: Marie-Anne Chazel is nonexistent and Christian Bujeau, unbearable.<br /><br /> Of course, the movie contains a few good moments with efficient gags but it often falls into vulgarity and easiness. Certain sequences and dialogs are affected. It also appears hollow because Poiré takes back elements that secured the success of the first movie. Thus, a young girl takes Reno for a close relative of her family and asks him to take part in her wedding.<br /><br />A labored and disappointing follow-up. Anyway, what's the interest of this movie otherwise commercial?<br /><br />\"\n",
      "* * * * * * * * * \n",
      "13766\n",
      "After perusing the large amount of comments on this movie it is clear that there are two kinds of science fiction movie-goers. There are the ones who are well read, extremely literate, and intelligent. They know the history of the genre and more importantly they know to what heights it can reach in the hands of a gifted author. For many years science fiction languished in the basement of literature. Considered my most critic to be little more than stories of ray guns and aliens meant for pre-pubescent teenagers. Today's well read fan knows well this history, and knows the great authors Asimov, Heinlein, Bradbury, and Ellison, who helped bring science fiction out of that basement. In doing so they created thought provoking, intelligent stories that stretched the boundaries and redefined the human condition. This well informed fans are critical of anything Hollywood throws at them. They are not critical for it's own sake, but look upon each offering with a skeptical eye. (As they should as Hollywood's record has been less than stellar.) To these fans the story must take supreme importance. They cannot be fooled by flashy computer graphics, and non stop action sequences. When the emperor has no clothes they scream it the loudest.<br /><br />The second type of science fiction movie goer has little knowledge about the written aspect of the genre. (Look at many of the above comments that state \\Well I haven't read the book or anything by this author...) Their total exposure to science fiction is from movies or the Scifi channel. They are extremely uncritical, willing to overlook huge plot holes, weak premises, and thin story lines if they are given a healthy dose of wiz bang action and awesome special effects. They are, in effect, willing to turn off their critical thinking skills (or maybe they never had them!) for the duration of the movie. Case in point, I Robot. While supposedly based on Asimov's short stories and named after one of his novels, it contains little of what Asimov wrote and even less of what he tried to tell us about humanity and our robotic creations. (Those of you that will run out and buy I, Robot will be very much surprised-this movie isn't even based on that story at all!) <br /><br />The film has enormous plot holes, that at some points are stretched to the limits of credulity. I won't point them out. I won't spoon feed you. You need to practice you thinking skills and discover them for yourself. The characters, which are named after many of Asimov's characters, do not possess the critical intelligence that was a hallmark of his stories. The plot itself with all it's action sequences goes against everything that the author stood for. His belief that humanity possesses the capacity to solve problems using their minds, not their fists, is vital to understanding his vision of the future. In short, other than the name, their is very little of Isaac in anything about this movie. There will always be those uncritical (i.e. unthinking) who will state: \\\"The movie doesn't have to be like the book. Due to the medium, movies sometimes require that changes be made.\\\" But what about a case where the movie never even tried to stay close to the book (or books) from the start? What if all they took from the written work was the title? This begs the question: Why tarnish a great body of work by slapping it's title on your vacuous piece of crap? Save money and don't buy the rights to the works. Title it something else. Don't use the character's names. Believe me no one will accuse you of plagiarism. In fact it won't matter what you title it to the unread moviegoer who accepts everything you throw at him. But it will upset those who read, who think, who are unwilling to simply let you give them a pretty light show. <br /><br />I, Robot, like much of Hollywood's take on the genre, pushes Science fiction back down into that basement it lived in years ago. Hollywood could not do this alone. It takes an uncritical mindless audience that will accept puerile dredge like this.\"\n",
      "* * * * * * * * * \n",
      "13879\n",
      "Wow! Only a movie this ludicrously awful could inspire the similar \\Showgirls.\\\" I mean where to begin? The indescibably horrid theme song? Pia Zadora's non-expressions throughout the movie? The fact that despite being set in Los Angeles, aka \\\"land of the casting couch\\\" EVERY single man (and woman!) is fawning all over themselves to sleep with Pia Zadora, by any contrived means necessary? Or what about the fact that every person in the movie is totally unsympathetic because they're either mind-numbingly stupid (Pia) or obvious despicable sleazeball (everyone else)? And given that this flick was written by actual \\\"screenwriters (sorta), it shows a shocking lack of understanding of the movie-making industry (who the Hell would admire and kiss up to a SCREENWRITER?)<br /><br />But it's (unintentionally) funny as hell though. The \\\"breakdown\\\" scene alone will have you giggling, and after seeing the climatic \\\"I'm not the only one who had to **** her way to the top\\\" scene at the \\\"Awards\\\" (all done in the usual bargain-basement acting level we expect from such quality thespians as Pia), I sincerely hope that our dear Pia actually reused that speech when she \\\"won\\\" her Golden Globe. It's fitting and that would totally make my day.<br /><br />Anyway, if you're a fan of bad, tashy camp, give this otherwise tacky movie a try.\"\n",
      "* * * * * * * * * \n",
      "13906\n",
      "The second half of Steven Soderbergh's revolutionary bio on Che Guevara deals with his last campaign to export revolution to Bolivia. In order to maintain his saintly visage of Che Soderbergh conveniently leap frogs the mass executions he presided over after the revolution in Cuba and the folly of his Congo adventure (\\This is the history of a failure\\\" he writes in the preface of his Congo Journal) to concentrate fully on Che's attempt to rally support to rise up against the government in Bolivia. It would turn out to be a disaster and Guevara's final act.<br /><br />What plagued the first chapter follows suit here as Soderbergh slows his film to a crawl to study the beatific countenance of the contemplative Guevara once again being played like James Dean in East of Eden by Bernicio Del Toro. The problem is Guevara has little success in gaining converts and he soon finds himself and his starving comrades being swallowed up in the heart of darkness Bolivian Jungle. Unlike Werner Herzog in the magnificent, Aguirre, the Wrath of God Soderbergh fails to utilize the jungle's metaphorical possibilities to heighten the desperation of the guerrillas. He seems more concerned with keeping Che's nimbus above his head than exploring the panic setting in on the dead enders. There is one Herzogian moment where Che sits astride an obstinate horse kicking and screaming to get it moving but overall Soderbergh's mise en scene remains flat, sloppy and uninteresting. <br /><br />In both of his films Soderbergh shows he is clearly a Che groupie and because of it his focus remains myopic and narrow. He spends too much time building his monument to Che and too little in developing his relationships with key players in his saga, especially Fidel Castro. Making matters worse he does it with a slow and dispassionate approach that never catches fire. One would think he was steeped in enough Eisenstein and Vertov to realize that sweeping change is showcased a lot better with sweeping style.\"\n",
      "* * * * * * * * * \n",
      "13937\n",
      "Oh my. How can they make movies of such beauty, but that are so terribly bad. I mean, even Uwe Boll doesn't make crap like this. There is not even a hint of a decent story, multi-layered characters, or attraction. It's just a random sequence of pointless chatter joined together to make a 'movie'. I suppose only children up to 3 years of age could enjoy it, given the world is so utterly dimensionless and the story so incoherent, that anyone older would be annoyed by it. But then again, it's far too scary for anyone under 6 years of age, that there's probably no one that should watch this movie at all.<br /><br />Take my advice and stay far, far away from this movie. Your little daughter can make a better storyline, and though she probably isn't able to draw pictures this pretty, her tales are much more worth listening to. And please, in the name of whoever you believe in, do not expose your children to this piece of ****. I'll give it 2 out of 10, and that's exclusively for the graphics, because the story and character development are so awful they'd deserve a negative rating.<br /><br />And if you decide to watch it anyways... remember that I warned you.\n",
      "* * * * * * * * * \n",
      "14224\n",
      "We are not in the fairy tale of the naked emperor. We may confess the truth of what we see, without being stupid, confess, that this show is in many aspects just incomprehensible and that it is clear, that much of it was created out of pure intuition without real concept.<br /><br />Well, obviously many people like such stuff. I don't. I prefer well thought and planed shows. And I also confess, that the show is much to serious for my taste and boring...those love and drug stories...There are so many exciting soaps with lot of suspense (Dallas e.g.), but Twin Peaks can't catch my attention. I don't care about those people, except Cooper and Gordon Cole.\n",
      "* * * * * * * * * \n",
      "14277\n",
      "Having watched this after receiving the DVD for Christmas 2005, I came here to pan it -- but after reading the other comments, I haven't the heart. Clearly this is a film that has worked very well for children of a certain age. Well, let me not be a complete Grinch; it might still work for some children -- if they are not too media-saturated and have not become visually over-sophisticated, e.g. from watching all of LOTR and Harry Potter. But if you are an adult, stay miles away; you will not enjoy it.<br /><br />The good bits: Barbara Kellerman as the Witch, especially in her early scenes with Edmund, creates just the right blend of charismatic evil and restrained madness. (At the Stone Table she goes a bit over the top.) Michael Aldridge in the minor role of the Professor and Jeffrey S. Perry as Mr. Tumnus also have the kind of polished, skillful acting we'd expect from the very best BBC dramas. And the Aslan costume works very well, amazingly well considering. They got the eyes just right.<br /><br />The bad bits: almost everything else, but two areas in particular. One, the casting. England is crammed with good actors and contains tens of thousands of attractive British school kids. How could they possibly have ended up with these four stiffs? They move like wooden soldiers and speak about as well. Peter has no gravitas or charisma (and is visibly shorter than his supposedly younger siblings); Edmund is just whiny; and Lucy... Sophie Wilcox as Lucy is so dramatically, visibly, drastically wrong for this part that I can't imagine how she got the job.<br /><br />Two, the animal costumes. Again, it appears that they worked for some kids. If the kids are still at a level where Big Bird and Elmo are exciting, believable characters, they might be entranced by this film. But to a viewer with the sophistication of, say, a 12-year-old who's seen Prisoner Of Azkaban? When Mister Beaver comes out from behind that tree, there will be hoots of cruel, derisive laughter. The costumes just do not work -- I could not, and I think any adult or modern teen could not, suspend disbelief when looking at Mister Beaver. The drawn animation later (gryphons, etc.) works better, is easier to take.<br /><br />So: ten stars for the very young and tender of soul; everyone else read, or re-read the book and watch the far better film that unrolls in your imagination.\n",
      "* * * * * * * * * \n",
      "14325\n",
      "I've probably been spoilt by having firstly seen the 1973 version with Michael Jayston and Sorcha Cusack so the 1983 adaptation is such a disappointment. I just didn't get any chemistry between the 2 main stars. A lot of staring and theatrical acting just doesn't do it for me, and what was all that about putting Tim in the role of Rochester. Had the casting director actually ever read the book. Very strange! He's a fine actor but Mr. Rochester he definitely isn't! And Zelah was just, well, strange, bit of a mix matched couple. In it's favour the supporting cast were pretty good and the Lowood scenes for me were the best of the adaptation, but overall didn't capture any of the magic of the novel. Certainly wouldn't ask anyone to watch it as a true adaptation of the novel. A real let down!\n",
      "* * * * * * * * * \n",
      "14472\n",
      "Other than some neat special effects, this movie has nothing to offer. They threw in some gore and some nudity to try and make it interesting, but with no success. Kevin Bacon's acting was pretty good, but he couldn't salvage the movies lack of plot.\n",
      "* * * * * * * * * \n",
      "14542\n",
      "This is high grade cheese fare of B movie kung fu flicks. Bruce \\wannabe\\\" Lee is played by Bruce Li...I think. Of course, let's show quick clips of Bruce and do closeups of his eyes and if you quint at the right angle during a certain time of the day during the winter solstice, it kind of looks like Bruce. You'll laugh in awe at how the film splicing isn't very good, but some cool deleted scenes from Enter the Dragon are thrown in the mix. According to the movie, Bruce Lee was killed by a dart while hanging from a helicopter. Of course, they think this can excuse Bruce Li for trying to be Bruce even though his character is supposed to be Bruce's brother (who for some reason still mimes Bruce's gestures and fighting style - very POORLY). See Bruce go one-on-one with the cowardly lion. The props department stopped by Kay-Bee, you see. Bruce also finds nothing wrong with savagely beating up a crippled man. Towards the end, the director decided \\\"let's throw a flashback\\\" for a scene just shown 3 minutes ago!! They must've thought that only one-celled organisms with attention deficit disorder could fully understand this film.<br /><br />\"\n",
      "* * * * * * * * * \n",
      "14613\n",
      "I have nothing against religious movies. Religious people need something to watch on a Saturday night, I guess. But what really ticks me off is when the write-up on the DVD box does not indicate this fact to the potential viewer. Passing off religious propaganda as entertainment is NOT cool, bro.<br /><br />And even if I was a religious person, I would have to agree with most of the other posters here, this movie was a mess. Poorly directed, poorly acted, poorly edited, and the attempt at a soundtrack was hilarious. The fake accents were terrible, the characters were mainly stereotypes, and continuity was out the window. The only reason we sat through this lame waste of time was that it was too late to watch another movie instead. Should have just gone to bed.<br /><br />Absolutely no redeeming qualities to this movie, unless you are the religious type who will immediately endorse anything that will preach your beliefs to the unbelievers, even if it's a pile of garbage. If you aren't, avoid this at all costs. Do not be deceived by the box write-up.\n",
      "* * * * * * * * * \n",
      "14633\n",
      "Corridors of time. The movie you can watch if you're looking for a sophisticated way of suicide. Some use guns, ropes, or gas, but you want to ruin your brains ? Do not wait any longer ! Corridors of time is probably one of the biggest possible mistakes : thinking Christian Clavier is able to act and to bring you fun. I do not miss the 45 francs this poor thing cost me : sometimes, one has to reset its evaluation system looking at the absolute zero. This film deserves a 2/10, but that's only because I like Jean Reno. Too bad for him, he also stars in Ronin. I think I'm gonna dislike him...\n",
      "* * * * * * * * * \n",
      "14886\n",
      "This guy has no idea of cinema. Okay, it seems he made a few interestig theater shows in his youth, and about two acceptable movies that had success more of political reasons cause they tricked the communist censorship. This all is very good, but look carefully: HE DOES NOT KNOW HIS JOB! The scenes are unbalanced, without proper start and and, with a disordered content and full of emptiness. He has nothing to say about the subject, so he over-licitates with violence, nakedness and gutter language. How is it possible to keep alive such a rotten corpse who never understood anything of cinematographic profession and art? Why don't they let him succumb in piece?\n",
      "* * * * * * * * * \n",
      "15339\n",
      "I was so excited when I discovered this was available! I couldn't wait to see it. What a waste of energy! It's kind of like that rarities CD by your favorite band you found in the back of the rack at your local music store. Being a hard core fan you were certain that it was a valuable discovery. But once you heard it it became obvious why these dogs never made it onto a real album. This DVD is only recommended for 'completionists' who must have everything Lynch has done. \\Six Men Getting Sick\\\" is somewhat visually interesting but short and repetitive. It lacks the power of Lynch's later work \\\"The Grandmother\\\" is quite simply an immature work. It's tedious and looks like a student film. But it was the 70's...It's interesting only if you hope to psychoanalyze the director. But you can see, briefly, the seeds of some of his trademark images and sounds. \\\"The Alpahabet\\\" is forgettable (No really! I can't remember this one at all!) \\\"The Amputee\\\" is pointless. \\\"The Cowboy and the Frenchman\\\" is just plain silly. \\\"Lumiere\\\" is the only worthwhile one in the bunch. Without dialog Lynch tells a disturbing tale comparable with his best work. I had to watch this one several times. But it runs less than 2 minutes. Hardly worth the trouble of renting or buying the DVD.\"\n",
      "* * * * * * * * * \n",
      "15508\n",
      "Oh my god, what a horrible film. The film has all the right people involved, unfortunately it is not worth watching. I saw it for free at my local library. If I had paid to watch this I would be even more upset. This film is unwatchable. How could Tarintino be involved with such a slow paced, unexciting film. No wonder it didn't get much distribution, every one involved must have been ashamed. I can make a better film with a Dated Camcorder and my Big toe. Its beyond boring, I really hated it. Tarintino just lost some standing in my eyes. This must be some kind of sick joke. Don't Bother with this film. If some one even hints you should watch it, kill them.\n",
      "* * * * * * * * * \n",
      "15593\n",
      "Years ago a movie going friend and I went to see a horror film that we thought would be good because it starred John Cassavetes. For the uninitiated, John Cassavettes was an actor, screen writer and director (married to actress Gena Rowlands), nominated for Oscars three times, who wrote and directed a variety of good low-budget films using his income as an actor to keep himself afloat. Up until seeing The Incubus, we did not understand that John Cassavetes income was made from any movie that was offered to him. Had we known what the film was about before seeing it we may have avoided altogether. But we did not walk out. At the time, my friend and I jokingly indicated it was the worst movie ever made. Now frankly, this is not true. I have seen many poorly made films on Friday nights on Cinemax (did I just say that out loud?) that are far worse than The Incubus. Almost any movie starring Brian Bosworth is by definition a worse movie than The Incubus. Certainly Santa Claus Conquers the Martians is a worse movie than The Incubus. However, I have since consistently used The Incubus as a threshold below which I do not want to fall. When talking to this friend about a movie I may have seen I will always remark that it was better (or worse) than The Incubus.<br /><br />http://thevillagevideot.blogspot.com/\n",
      "* * * * * * * * * \n",
      "15651\n",
      "Not one of the better pokemon movies.<br /><br />Two legendary pokemon come into the story. You do get to see how strong Celebi can be, though he turns evil first.<br /><br />Suicune also makes an appearance, he didn't seem that powerful.<br /><br />The Marauder didn't have many strong pokemon at all, except for that taranitar? Some fight scenes with his pokemon may have made it better.<br /><br />Ash and Pikachu meet the much younger Professor Oak, though they don't realise it. Misty I was thinking had it at the end but she didn't get close. I saw this in the credits.<br /><br />Don't expect much here, the worst of the series so far.\n",
      "* * * * * * * * * \n",
      "15686\n",
      "Some of the filmmakers who are participating in this series have made some really great films but they sure as heck are not showing much skill with this series. Particularly the writing. OK, the first season was somewhat better but these new episodes they are creating just stink. I'm a huge fan of horror and in my opinion the vast majority of these episodes are total garbage. Nothing new or genuinely interesting. Few of them are visually creative. It's just typical fabricated Hollywood crap, uninteresting, childish, poorly conceived and in some cases, flat out laughable. Much like Tales from the Crypt the only good thing this series has been offering is great nudity! Other then that this series blows hard. I get the impression sometimes that they hired a bunch of eighth-graders to write the episodes. Maybe they did.\n",
      "* * * * * * * * * \n",
      "15704\n",
      "The Good Earth is not a great film by any means, it is way to ordinary. Maybe it was different in the 1930's but who would want to see the life of a farmer. It is not very interesting to me. Yes, Luis Rainer and Paul Muni do an excellent job acting but the film dragged on way too long. I could have told you the ending of this movie by the first act. In short Wang Lung (Muni) a small time farmer who does not want to be like his own father turns out exactly like him. Both falling in love with their wives just as they are on their death beds. The film does a complete 360 going from one generation to the next. Also this film did not have any good character actors or funny moments, it just was depressing stuff about lasting as a farmer during a time of crisis.\n",
      "* * * * * * * * * \n",
      "15751\n",
      "If this is someone's \\favorite\\\" movie, they need some serious help. There is nothing funny or clever about this crapfest. I haven't seen the original movie this is the remake of (some 1950s film), but it simply has to be better than this newer bastardization.<br /><br />A major gets kicked out of the military for being a fringe element, and winds up teaching children at an ROTC school. Unfortunately, the major is Daman Wayans... so the children are in for a world of annoying, humorless asininity. Can Wayans whip these losers into shape? Can they get him to become a little more human? The film bombs as most Wayans films do, with only a few sparkling moments. William Hickey gets about one minute of screen time, fair too little. This charming old man (known best to me as a \\\"Tales from the Crypt\\\" actor, known best to you as Uncle Louis from \\\"Christmas Vacation\\\") shines every moment he's on screen, which isn't much here.<br /><br />Bam Bam Bigelow also makes an appearance as a biker, which fits him perfectly. I wouldn't mind slightly more Bam Bam, but I think he carried the role of \\\"biker\\\" about as far as it could be carried for a military film.<br /><br />And then there's the attractive teacher, who someone falls for Major Payne even though he treats the kids poorly, has no social skills and is simply impossible to convert into someone you would want to spend time with. She must either be incredibly stupid or incredibly desperate. I'm not sure which (though it would seem \\\"stupid\\\" since the movie makes it clear she gets out of the house often enough).<br /><br />Wayans had one shining moment: a dance sequence where he performs a series of moves (including a very nice \\\"robot\\\"), and with the help of music from 2 Live Crew. This scene was enjoyable but hardly made up for anything else that made this film dog spittle.<br /><br />Seriously, avoid this film. If you want to see a film a bout a loser who helps loser kids become heroes, rent or buy \\\"Ernest Goes to Camp\\\". At least he's a lovable loser, and actually funny. Maybe if Major Payne had fought a badger I'd feel better, but he didn't. Forget Payne, forget Wayans... you can do so much better.\"\n",
      "* * * * * * * * * \n",
      "15891\n",
      "Green Street, as it was called in the UK, or Hooligans is a bad film. The story is full of fantastical ideas and premises that anyone who lives in England, has been to a football match or knows the first thing about football will spot immediately.<br /><br />My first main gripe with Hooligans is the poor casting of the two main characters. Don't get me wrong, I like Elijah Wood and have a great respect for his work, but despite his best efforts he struggled to pull off this role. The main motivation for his character is anger at the system and anger at betrayal, however he spends much of the film placid and cheery, only displaying his pent up aggression in one brief scene towards the end of the film. This linked with his looks and physique make him a thoroughly unconvincing addition to a gang of football hooligans. At no point during the film was I convinced that a) he could handle himself in a fight against such thugs and b) the 'firm' of thugs would accept such a person into their fold.<br /><br />The other main character is played by Charlie Hunnam. Charlie looks the part, and is fairly convincing as a thug. Unfortunately, being a native of Newcastle Upon Tyne in the North of England, he demonstrates the worst East London accent since Dick Van Dyke tried to go cock-en-y in Marry Poppins. Details such as this probably will not bother an American audience who will be less attuned to regional dialect in the UK, but being from the UK it was a problem I couldn't ignore and it contributed to ruining the movie for me. The supporting cast all gave convincing performances and were well cast, especially the role of Bover. The lad playing this character would have been much more suited to the main role that Charlie played. With a film like this, you have to convince the audience that your characters are plausible, unfortunately, the casting failed. Imagine if you made a film like The Godfather and had Sean Hayes (Jack) from Will and Grace playing Michael Corleone's part. You would not be convinced. The story in Hooligan is also full in implausibilities. I am no football Hooligan, but I am a fantatical football fan. I know how cliquey a group of 'regular' football supporters can be, as such it deem it impossible for a non-football fan, who is not a fan of the club in question, is not from the area in question and not even of English nationality to be embraced by a 'firm' who equate to a secret organisation in some severe cases. My final, and biggest, problem with this film, is the way it portrays football hooligans. I take objection to the film's idea that despite being very violent individuals, hooligans are excused as they live by some sort of code of ethics in their own world and should be admired for being brave and loyal to each other. This is complete rubbish. Football hooligans are complete scum. They take football, the national sport of England and use it as an excuse to terrorise, frighten and intimidate people. They only represent a tiny percentage of football fans but give the whole game and people of this country a bad reputation. They are not brave or loyal, they are cowardly and evil. If the 'GSE' in this film truly loved their club, West Ham, why would the devote their lives to being a stain on its name. Hooligans are an embarrassment to football and to English society. Football hooligans do for the reputation of football what Hitler did to the reputation of Germans. Although this film tries/intends to show the 'gritty' side of football violence. It does nothing more than promote it as some kind of excusable activity for extreme fans of the sport. It does not show the poor innocent by-standers at football matches who have their day ruined by some idiot throwing coins/lighters/glass into the crowd. It does not show the innocent home and property owners who have to put up with graffiti and broken windows. It does not show the REAL fans of football clubs who suffer indignity and embarrassment when their teams supporters are banned from travelling to away matches or abroad to European games because the thugs among them ruin it for everyone. If you want to see a good film about football violence, watch the BBC drama 'The Firm'.\n",
      "* * * * * * * * * \n",
      "15967\n",
      "Strange how less than 2 hours can seem like a lifetime when sitting through such flat, uninspiring drivel. If a story is as personal as this supposedly was to Sally Potter, wouldn't you expect a little passion to show through in her performance? Her acting was completely detached and I felt no chemistry between Sally and Pablo and the tango scenes, which should have been fiery given the nature of the dance, were instead awkward and painful to watch. Obviously, revealing such a personal story on film can be daunting, and as such Sally Potter would have been wise to let a better actor take on the task rather than let her passion fall victim to her own sheepishness.\n",
      "* * * * * * * * * \n",
      "16594\n",
      "Well, I just ordered this on my pay-per-view at home because I was bored and needed a laugh. I have to admit, I did chuckle a few times, but I don't even remember what parts they were at. I don't understand why this movie was made. It claims to be a comedy but seriousuly, I don't find a singing penis, or a naked 70 year old woman very funny. This movie was trying to fit itself into the 'gross-out' comedies of recent years such as American Pie and Road Trip, but it just failed miserably. It was way to much gross-out then it was comedy. Also, why on earth did Cameron Diaz attach her name to this movie?!?! The only thing I liked about this movie was when Dave and Angela were in the pool. I thought it was sexy and enjoyable and well-done. Besides that, avoid this movie. 3/10\n",
      "* * * * * * * * * \n",
      "16937\n",
      "\\Dracula II:Ascension\\\" is the story of a group of medical students who come across the body of Dracula.When a mysterious stranger appears and offers the students $30 million to harvest the body and steal its blood for auction,it's an offer they can hardly refuse.Soon the students also find themselves relentlessly pursued by a vampire killer from the Vatican!\\\"Dracula II:Ascension\\\" is a slightly entertaining horror film that has many flaws.The characters are one-dimensional and the acting is pretty average.There are some good gore effects like really cool double decapitation scene,but there is not enough violence for my liking.The film becomes quickly boring and forgettable and there is absolutely no suspense.So if you like modern vampire flicks give it a look.I prefer atmospheric vampire chillers from 60's and early 70's like \\\"Lips of Blood\\\",\\\"The Brides of Dracula\\\" or \\\"Lemora:A Child's Tale of Supernatural\\\" to name only a few.4 out of 10.\"\n",
      "* * * * * * * * * \n",
      "17081\n",
      "Quote: theurgist: Anyone with an I.Q. over 50 would have seen this film what it is, an intelligent well acted prequel to a modern day classic, yes it doesn't have a blockbuster cast or a huge budget BUT it is still very well done and had me hooked for the full duration.<br /><br />An I.Q. over 50 you say.. that most mean you have an I.Q. lower than 50.. its name is CARLITOS WAY: Rise to power !!! meaning it should have something whit the first one to do.. <br /><br />all and all its a OK movie if.. YOU CHANGE THE TITLE AND NO CHARACTERS NAMED CARLITO BRIGANTE!!!<br /><br />P.s don't comment on a movie if you don't know anything about movies. but i guess an I.Q. under 50,, you wont know what the hell i am yelling about...<br /><br />Peace out!!\n",
      "* * * * * * * * * \n",
      "17158\n",
      "Just Cause is one of those films that at first makes you wonder quite why it was so heavily slated when it came out - nothing special but competent enough and with an excellent supporting performance from Ed Harris. Then you hit the last third and everything starts to get increasingly silly until you've got a killer with a flashlight strapped to his forehead threatening to fillet Sean Connery's wife (a typically mannered and unconvincing Kate Capshaw) and kid (a very young Scarlet Johannsen) in an alligator skinner's shack. <br /><br />The kind of movie that's probably best seen on a plane, and even then only once.\n",
      "* * * * * * * * * \n",
      "17484\n",
      "One of those el cheapo action adventures of the early 1980s that used to fill video rental stores solely to be taken out by adolescent boys in the hope of a cheap thrill.<br /><br />Woeful down market attempt to cash in on the Death Wish phenomenon by substituting a moderately attractive woman for the visually challenging Bronson. Acting is terrible, sets are cheap, the baddies are, well, bad. Identification with any of the characters is unlikely.<br /><br />Only redeeming feature is modest amount of gratuitous female nudity, a smattering of which is full frontal. Other than that, you can leave it...\n",
      "* * * * * * * * * \n",
      "17547\n",
      "Doc Savage: The Man of Bronze is a horrible movie. Poorly scripted, over-acted, and just plain silly. That being said... it is actually an enjoyable movie on some level. This movie begs to be watched in a group with an ample supply of cheap beer. It's one of those movies like \\Santa Claus conquers the Martians\\\" or \\\"Yor, the Hunter from the Future\\\"... so bad it is almost good. If you have the right group of people this movie is a blast to watch. It's campy. It's fun. It has a theme by Sousa. If you're looking for a good movie though, look elsewhere. 3/10.<br /><br />BTW, I've heard rumors some studio is exploring the possibility of a remake...\"\n",
      "* * * * * * * * * \n",
      "17559\n",
      "Necessarily ridiculous film version the literary classic \\Moby Dick\\\". John Barrymore is Captain Ahab, who falls in love with the pastor's daughter, Joan Bennett. His brother Derek is a rival for Ms. Bennett's affections. When Mr. Barrymore loses his leg in a whaling accident, Bennett rejects him. He must slay the whale and win Bennett back...<br /><br />There are several scenes which may have thrilled 1930 theater audiences; particularly the scenes involving Barrymore losing his leg. The film hasn't aged well, however; there are much better films from the time, both 1920s silents and 1930s talkies. The two name attractions, John Barrymore and Joan Bennett aren't at their best. <br /><br />**** Moby Dick (8/14/30) Lloyd Bacon ~ John Barrymore, Joan Bennett, Lloyd Hughes\"\n",
      "* * * * * * * * * \n",
      "17625\n",
      "This film was horrible. The script is COMPLETELY unrealistic yet it is written to take place in the real-world, the editing and lighting effects are worse than most first projects in film school.<br /><br />I do not recommend this film to anyone who: A) knows any detail about the world of police or covert operations. B) knows any detail about film making or appreciation.<br /><br />I do recommend this film to the average or below-average mind, I think it would be enjoyable if I was a dumber. If you must watch this film on a full mind, I highly recommend some kind of inebriation<br /><br />It is a total waste of what little production value it has.\n",
      "* * * * * * * * * \n",
      "17823\n",
      "It was pointed out in a now deleted post from another IMDb user that anyone who might see \\The Medusa Touch\\\" should be warned about a scene that's eerily reminiscent of the Sept. 11, 2001 terrorist attacks in NYC. But I hope anyone reading this will consider this warning. Despite an interesting pedigree (producer Elliott Kastner produced \\\"Harper\\\" and \\\"The Long Goodbye\\\"; co-producer Arnon Milchan co-produced the Oscar-nominated \\\"L.A. Confidential\\\" and screenwriter John Briley won an Oscar for \\\"Gandhi\\\") and an international cast, I found \\\"The Medusa Touch\\\" to be a heavy-handed, unintentional laugh riot. It was a poorly directed, horribly written and acted mess. It tried to capitalize on the 70s telekinetic thrillers genre. The movie fails on many counts. Please consider \\\"Carrie\\\" and the underrated \\\"The Fury\\\" (both directed by Brian DePalma). They were two entertaining and exciting thrillers that dealt with the same subject matter.\"\n",
      "* * * * * * * * * \n",
      "18070\n",
      "That this poor excuse for an amateur hour showcase was heralded at Sundance is a great example of what is wrong with most indie filmmakers these days.<br /><br />First of all, there is such a thing as the art of cinematography. Just picking up a 16mm camera and pointing it at whomever has a line does not make for a real movie.<br /><br />I guess we have to consider ourselves lucky the director didn't pick up someone's camcorder...<br /><br />Second, indie films are supposed to be about real people. There's nothing real in this film. None of the characters come across as being even remotely human.<br /><br />What they come across as being is figments of the imagination of a writer trying to impress his buddies by showing them how \\cool and edgy\\\" he is.<br /><br />Sorry, but this is not good writing, or good directing.<br /><br />What is left is a husk of a bad movie that somehow made its way to Sundance. Hard to believe this was one of the best films submitted...<br /><br />In any case, it made me loose what was left of my respect for the Sundance brand.\"\n",
      "* * * * * * * * * \n",
      "18096\n",
      "This was a weird movie. It started out pretty good. A solid sound track behind flash images of gore and mayhem as our psychopath did his thing.<br /><br />Next comes his \\down fall\\\" Here i could tell I was in for a real cheesy \\\"B\\\" movie. Poor acting , I mean how hard is it to hold a gun and act like a cop? These guys could not. After the death scene of our psychopath we get the opening credit and the movie starts...<br /><br />From this point on it is bad acting big boobs, the occasional bucket of blood and poorly done death scenes.<br /><br />That said I gave the movie a four because in spite of its flaws it did maintain a sort of creepiness that I just could not quite shake off.<br /><br />I do not recommend this movie but I have to admit I have seem worse.\"\n",
      "* * * * * * * * * \n",
      "18195\n",
      "I am the guy who usually keeps opinions to himself, but I just got back from this movie, and felt I had to express my opinions. Let me start by saying that I am a HUGE horror fan. But what makes a horror movie? I sure like to see even a tiny bit of a good script and character development. I know they often lack in horror movies, but Prom Night looked like it didn't even put forth ANY effort in that department. Next, we all love suspense. That on the edge of your seat suspense with unpredictable surprises. Yeah, Prom Night had none of that! Of course, we like a terrifying killer. Prom Night have that? Nope, it has a pretty boy with a cute lil' knife. And when all else fails...at least horror has its guilty pleasure to make it enjoyable like gore gore gore, and the occasional nude scene! Yeah, well when you have a horror movie rated PG-13 like Prom Night, they leave that stuff out too. So with all of these elements missing, I ask....does this still count as a horror movie? Nope. I'd call it more of a comedy. People in my theater were laughing more at this then they were when I saw \\Semi-Pro\\\" that was supposed to actually be a comedy (which also sucked, but thats another story!). I think I am just going to have to give up on new horror. All the good horror movies of the good ol' days have been remade into garbage so movie studios can make money. The people I went to see it with didn't even know this was a remake! Which made me mad! I wonder what will happen when there's no more movies to remake??? Where will horror go next???\"\n",
      "* * * * * * * * * \n",
      "18264\n",
      "In 1972, after his wife left to go her own way, Elvis Presley began dating Linda Thompson. Miss Thompson, a good-humored, long haired, lovely, statuesque beauty queen, is charted to fill a void in Elvis' life. When Elvis' divorce became final, Linda was already in place as the legendary performer's live-in girlfriend and travel companion until 1976.<br /><br />This is a gaudy look at their love affair and companionship. Linda whole-heartedly tending to her lover's needs and desires. And even putting up with his swallowing medications by the handful and introducing her to her own love affair with valium. At times this movie is harsh and dark of heart; a very unattractive look at the 'King' and his queen.<br /><br />Don Johnson is absolutely awful as Elvis. Over acting to the hilt is not attractive. Stephanie Zimbalist lacks the classiness of Linda, but does the job pretty well. Supporting cast includes: John Crawford, Ruta Lee, and Rick Lenz. Watching this twice is more than enough for me, but don't let this review stop you from checking it out. For most Elvis fans that I have conferred with, this is not a favored presentation.\n",
      "* * * * * * * * * \n",
      "18922\n",
      "A question for you : A family go to a new house and get stalked by demonic forces . Which film am I talking about ? Every horror film you`ve seen ? Yes that`s true but that`s not the answer I`m looking for . I`ll narrow it down by saying there`s a lot of teen angst scenes . Doesn`t help ? Well there`s lots of bits where the characters are stalked by a creature and you see the characters through the creature`s POV . No futher forward ? Okay there`s a dream sequence involving lots of blood ? Could still be any horror film you say . Oh gawd this could take weeks so I`ll say the film I`m talking about features loads of Aussies many of whom have appeared in NEIGHBOURS and HOME AND AWAY . Yes that`s right the film is THE THIRD CIRCLE ( aka CUBBYHOUSE ) and do you understand what the above exercise is about ? It`s about me pointing out how THE THIRD CIRCLE is absolutely no different from any horror film that`s been made\n",
      "* * * * * * * * * \n",
      "19015\n",
      "George Brent is a reporter sent to interview an heiress. She is supposedly the heir to a face cream fortune. He interviews her on her yacht. They fall for each other in bathing costumes.<br /><br />It turns out (quite early) that she is not an heiress. She part of an advertising campaign for the cold cream.<br /><br />The movie follows the ups and downs of their romance.<br /><br />The supporting cast does little to buoy it up. Davis and Brent carry the picture. Though it's fairly predictable, it is also fairly entertaining. It's far from her best. But, especially considering its obscurity in her oeuvre, it's not one of her worst, either.\n",
      "* * * * * * * * * \n",
      "19187\n",
      "From the pen of Richard Condon (The Manchurian Candidate 1962) comes this muddled tale of political intrigue and assassination. The story, told in almost comic book fashion is difficult to swallow. All-star cast considered, this poor effort is not entirely the fault of the cast and crew: the novel was replete with the same short-comings. It seems as though at times the story is actually mocking the more sincere effort put forth in \\Manchurian Candidate.\\\" A disappointment on all counts.\"\n",
      "* * * * * * * * * \n",
      "19280\n",
      "First of all, I was expecting \\Caged Heat\\\" to be along the same lines as \\\"Ilsa, The Wicked Warden\\\". Boy, was I wrong! In no way is this film 70s exploitation, \\\"chix in chains\\\", or \\\"women in prison\\\". Sure, the plot consists of a bunch of women in prison, who wear street clothes btw (quite comical), but NOTHING happens.<br /><br />There aren't strong rivalries, no one tries to seduce the warden or doctor in order to try and escape, and no inmates make out. There are 2 shower scenes, that I suspect is just recycled footage, but no fights breaks out / no one is seduced here - or anywhere for that matter! Aside from the lack of plot, unconvincing, unsympathetic, and flat characters, a couple of inmates that do manage to escape actually return to the prison in order to \\\"free\\\" their fellow inmates??!!<br /><br />PUH-LEASE, the movie should have just ended off with the escapees riding off into the sunset...as opposed to letting this mess continue!<br /><br />I feel scammed.\"\n",
      "* * * * * * * * * \n",
      "19355\n",
      "Stephen J. Cannell apparently decided a few years ago that he would broaden his horizons and dabble in horror. The result, \\Dead Above Ground\\\", is an abysmal piece of junk. Now, had I noticed his name in association with THIS particular film I'd have put it back but no, I didn't have my glasses on and therefore I missed it, damn, I really do need to bring those with me while video shopping. First question would be, who the heck is the target audience for this? It's almost like a \\\"scary\\\" kids movie, but then again there's topless babes and some gore and some bad words spouted here and there. The main characters are so cute that you want to see someone, anyone, go after them with farm implements of SOME kind. Seems that a guy opens a bed and breakfast that has a checkered past, a child-murdering witch that collected children's teeth lived there. Probably something the real estate agent failed to mention. Of course now in the modern day there's a little girls ghost around to warn the real-live little girl that now lives there that something bad is going to happen. It does, and there's also two Bubbas that were squatting on that property when the new owner took over so they're out for revenge too. This whole thing has the feel of some made-for-cable junk that's for the kids at Halloween except for, of course, the things that aren't suitable for little kids, so not only is this mediocre, it's confused, too. A big boo and hiss to Anchor Bay for putting this out too, considering their usual track record with fine releases this is a new low. The UK gets a Phantasm Box Set, we get \\\"The Tooth Fairy\\\". Hardly seems fair. 1 out of 10, absolute garbage.\"\n",
      "* * * * * * * * * \n",
      "19637\n",
      "This was the first Ewan McGregor movie I ever saw outside of Star Wars. Since then I have become a very big Ewan McGregor fan but I still can't bring myself to forgive this movie's existence.<br /><br />My sister has always been a huge Jane Austen fan and because of that, I have been subjected to various of the classics, Emma being one of them. I've always considered them irritating, stupid and boring. However, after watching this terrible rendition, I was forced to admit that the original Emma was delightful and charming. Ewan McGregor scarcely serves a purpose in this film after they hacked and mutilated the part of Frank Churchill. Gweneth Paltrow is ridiculous in an already ridiculous character and the rest of the film is unremarkable and stupid.<br /><br />My recommendation to anybody who is remotely interested in English period drama... go see the originals. If you're a Ewan McGregor fan... believe me, by skipping this film, you haven't missed anything but five minutes collective of him in a silly hat and a bad haircut.\n",
      "* * * * * * * * * \n",
      "19642\n",
      "After spotting the high rating on IMDb, I decided to go see this movie. Beyond that high rating, I intentionally avoided reading any of the reviews. I wanted to go into the theater with a clean slate, without knowing the plot or having predetermined expectations.<br /><br />Given my rating, you can see that I was disappointed. I enjoyed the development of the main character Mike Enslin. I also enjoyed how the hotel manager attempted to talk him out of entering the hotel room. By the time Enslin entered the room, I was ready for some scary stuff.<br /><br />First chocolates appear on the pillow and the toilet paper is folded. Enslin reacts in a believable manner. He's freaked out. I'm encouraged and think to myself, this is going to be good. The people who made this movie understand that less is more.<br /><br />But it's what happens next that was a big let down. The subtleness is quickly replaced by the predictable shotgun approach... Just blast the audience with every Hollywood scary trick in the book and hope that something works. Let's see, a clock radio that turns on by itself? Good, that's always scary. Objects that move around in the room? Good, you can't complain about that. Blood dripping from the walls and sink? Great. Ghosts that commit suicide? Good. Anything else? How about loud noises, shaking, fire, more shaking, messing up the room, more blood, etc etc. It's all good. And it's all been done before. Overstimulate our Attention Deficit Disordered audience with all kinds of stuff in quick succession, and they won't be able to look away.<br /><br />Well, it didn't work for me. And you know what else? When I go see a horror movie in a theater, it's typical to hear several groups of girls in the audience yelling in fear at scary moments. But this movie had no scary moments. The audience was silent and disinterested. I felt no chill down my spine. Nothing. The Shining was 100x what this movie tries to be.<br /><br />So who are all these people who are saying that it is one of the best horror movies ever? Friends of the director? Sorry, I just don't get it.\n",
      "* * * * * * * * * \n"
     ]
    }
   ],
   "source": [
    "# false positives\n",
    "\n",
    "print(\"Examples of false positives:\")\n",
    "\n",
    "import random, time\n",
    "\n",
    "for i in range(0, len(ols_predictions)):\n",
    "    if (ols_predictions[i] == 1):\n",
    "        if (X_raw_train.iloc[i]['sentiment'] == 0):\n",
    "            if (random.uniform(0, 1) < 0.05): # to print only 5% of the false positives\n",
    "                print(i)\n",
    "                print(X_raw_train.iloc[i]['review'])\n",
    "                print('* * * * * * * * * ')\n"
   ]
  },
  {
   "cell_type": "markdown",
   "metadata": {},
   "source": [
    "---\n",
    "\n",
    "# <span style=\"color:red\">WARNING: Don't look at test set performance too much!</span>\n",
    "\n",
    "---\n",
    "\n",
    "The following cells show performance on your test set. Do not look at this too often! "
   ]
  },
  {
   "cell_type": "markdown",
   "metadata": {},
   "source": [
    "# Look at performance on the test set"
   ]
  },
  {
   "cell_type": "markdown",
   "metadata": {},
   "source": [
    "### MODEL: ordinary least squares"
   ]
  },
  {
   "cell_type": "code",
   "execution_count": 49,
   "metadata": {},
   "outputs": [
    {
     "name": "stdout",
     "output_type": "stream",
     "text": [
      "{'Pos': 2501, 'Neg': 2499, 'TP': 477, 'TN': 1970, 'FP': 529, 'FN': 2024, 'Accuracy': 0.4894, 'Precision': 0.474155069582505, 'Recall': 0.19072371051579368, 'desc': 'ols_test'}\n"
     ]
    }
   ],
   "source": [
    "ols_performance_test = BinaryClassificationPerformance(ols.predict(X_test), y_test, 'ols_test')\n",
    "ols_performance_test.compute_measures()\n",
    "print(ols_performance_test.performance_measures)"
   ]
  },
  {
   "cell_type": "markdown",
   "metadata": {},
   "source": [
    "### MODEL: SVM, linear"
   ]
  },
  {
   "cell_type": "code",
   "execution_count": 50,
   "metadata": {},
   "outputs": [
    {
     "name": "stdout",
     "output_type": "stream",
     "text": [
      "{'Pos': 2501, 'Neg': 2499, 'TP': 2122, 'TN': 2159, 'FP': 340, 'FN': 379, 'Accuracy': 0.8562, 'Precision': 0.8619008935824533, 'Recall': 0.8484606157536985, 'desc': 'svm_test'}\n"
     ]
    }
   ],
   "source": [
    "svm_performance_test = BinaryClassificationPerformance(svm.predict(X_test), y_test, 'svm_test')\n",
    "svm_performance_test.compute_measures()\n",
    "print(svm_performance_test.performance_measures)"
   ]
  },
  {
   "cell_type": "markdown",
   "metadata": {},
   "source": [
    "### MODEL: logistic regression"
   ]
  },
  {
   "cell_type": "code",
   "execution_count": 51,
   "metadata": {},
   "outputs": [
    {
     "name": "stdout",
     "output_type": "stream",
     "text": [
      "{'Pos': 2501, 'Neg': 2499, 'TP': 2093, 'TN': 2130, 'FP': 369, 'FN': 408, 'Accuracy': 0.8446, 'Precision': 0.8501218521527214, 'Recall': 0.8368652538984406, 'desc': 'lgs_test'}\n"
     ]
    }
   ],
   "source": [
    "lgs_performance_test = BinaryClassificationPerformance(lgs.predict(X_test), y_test, 'lgs_test')\n",
    "lgs_performance_test.compute_measures()\n",
    "print(lgs_performance_test.performance_measures)"
   ]
  },
  {
   "cell_type": "markdown",
   "metadata": {},
   "source": [
    "### MODEL: Naive Bayes"
   ]
  },
  {
   "cell_type": "code",
   "execution_count": 52,
   "metadata": {},
   "outputs": [
    {
     "name": "stdout",
     "output_type": "stream",
     "text": [
      "{'Pos': 2501, 'Neg': 2499, 'TP': 2179, 'TN': 2184, 'FP': 315, 'FN': 322, 'Accuracy': 0.8726, 'Precision': 0.8736968724939855, 'Recall': 0.8712514994002399, 'desc': 'nbs_test'}\n"
     ]
    }
   ],
   "source": [
    "nbs_performance_test = BinaryClassificationPerformance(nbs.predict(X_test), y_test, 'nbs_test')\n",
    "nbs_performance_test.compute_measures()\n",
    "print(nbs_performance_test.performance_measures)"
   ]
  },
  {
   "cell_type": "markdown",
   "metadata": {},
   "source": [
    "### MODEL: Perceptron"
   ]
  },
  {
   "cell_type": "code",
   "execution_count": 53,
   "metadata": {},
   "outputs": [
    {
     "name": "stdout",
     "output_type": "stream",
     "text": [
      "{'Pos': 2501, 'Neg': 2499, 'TP': 2148, 'TN': 2128, 'FP': 371, 'FN': 353, 'Accuracy': 0.8552, 'Precision': 0.8527193330686781, 'Recall': 0.8588564574170332, 'desc': 'prc_test'}\n"
     ]
    }
   ],
   "source": [
    "prc_performance_test = BinaryClassificationPerformance(prc.predict(X_test), y_test, 'prc_test')\n",
    "prc_performance_test.compute_measures()\n",
    "print(prc_performance_test.performance_measures)"
   ]
  },
  {
   "cell_type": "markdown",
   "metadata": {},
   "source": [
    "### MODEL: Ridge Regression Classifier"
   ]
  },
  {
   "cell_type": "code",
   "execution_count": 54,
   "metadata": {},
   "outputs": [
    {
     "name": "stdout",
     "output_type": "stream",
     "text": [
      "{'Pos': 2501, 'Neg': 2499, 'TP': 2308, 'TN': 2227, 'FP': 272, 'FN': 193, 'Accuracy': 0.907, 'Precision': 0.8945736434108527, 'Recall': 0.9228308676529389, 'desc': 'rdg_test'}\n"
     ]
    }
   ],
   "source": [
    "rdg_performance_test = BinaryClassificationPerformance(rdg.predict(X_test), y_test, 'rdg_test')\n",
    "rdg_performance_test.compute_measures()\n",
    "print(rdg_performance_test.performance_measures)"
   ]
  },
  {
   "cell_type": "markdown",
   "metadata": {},
   "source": [
    "### MODEL: Random Forest Classifier"
   ]
  },
  {
   "cell_type": "code",
   "execution_count": 55,
   "metadata": {},
   "outputs": [
    {
     "name": "stdout",
     "output_type": "stream",
     "text": [
      "{'Pos': 2501, 'Neg': 2499, 'TP': 1993, 'TN': 1791, 'FP': 708, 'FN': 508, 'Accuracy': 0.7568, 'Precision': 0.7378748611625324, 'Recall': 0.7968812475009996, 'desc': 'rdf_test'}\n"
     ]
    }
   ],
   "source": [
    "rdf_performance_test = BinaryClassificationPerformance(rdf.predict(X_test), y_test, 'rdf_test')\n",
    "rdf_performance_test.compute_measures()\n",
    "print(rdf_performance_test.performance_measures)"
   ]
  },
  {
   "cell_type": "markdown",
   "metadata": {},
   "source": [
    "### ROC plot to compare performance of various models and fits"
   ]
  },
  {
   "cell_type": "code",
   "execution_count": 56,
   "metadata": {},
   "outputs": [
    {
     "data": {
      "image/png": "[encoded data removed]",
      "text/plain": [
       "<Figure size 432x288 with 1 Axes>"
      ]
     },
     "metadata": {
      "needs_background": "light"
     },
     "output_type": "display_data"
    }
   ],
   "source": [
    "fits = [ols_performance_test, svm_performance_test, lgs_performance_test, nbs_performance_test, prc_performance_test, rdg_performance_test, rdf_performance_test]\n",
    "\n",
    "for fit in fits:\n",
    "    plt.plot(fit.performance_measures['FP'] / fit.performance_measures['Neg'], \n",
    "             fit.performance_measures['TP'] / fit.performance_measures['Pos'], 'bo')\n",
    "    plt.text(fit.performance_measures['FP'] / fit.performance_measures['Neg'], \n",
    "             fit.performance_measures['TP'] / fit.performance_measures['Pos'], fit.desc)\n",
    "plt.axis([0, 1, 0, 1])\n",
    "plt.title('ROC plot: test set')\n",
    "plt.xlabel('False positive rate')\n",
    "plt.ylabel('True positive rate')\n",
    "plt.show()"
   ]
  },
  {
   "cell_type": "markdown",
   "metadata": {},
   "source": [
    "---\n",
    "\n",
    "# <span style=\"color:red\">SUBMISSION</span>\n",
    "\n",
    "---"
   ]
  },
  {
   "cell_type": "code",
   "execution_count": 60,
   "metadata": {},
   "outputs": [
    {
     "name": "stdout",
     "output_type": "stream",
     "text": [
      "movie_data is: <class 'pandas.core.frame.DataFrame'>\n",
      "movie_data has 25000 rows and 2 columns \n",
      "\n",
      "the data types for each of the columns in movie_data:\n",
      "id        object\n",
      "review    object\n",
      "dtype: object \n",
      "\n",
      "the first 10 rows in movie_data:\n",
      "         id                                             review\n",
      "0  12311_10  Naturally in a film who's main themes are of m...\n",
      "1    8348_2  This movie is a disaster within a disaster fil...\n",
      "2    5828_4  All in all, this is a movie for kids. We saw i...\n",
      "3    7186_2  Afraid of the Dark left me with the impression...\n",
      "4   12128_7  A very accurate depiction of small time mob li...\n",
      "Shape of HashingVectorizer X:\n",
      "(25000, 427396)\n",
      "Look at a few rows of the new quantitative features: \n",
      "   word_count  punc_count\n",
      "0         131           5\n",
      "1         169          15\n",
      "2         176          18\n",
      "3         112           5\n",
      "4         133           8\n",
      "5         331          20\n",
      "6         121          18\n",
      "7         230          22\n",
      "8          59           3\n",
      "9         224          14\n",
      "Size of combined bag of words and new quantitative variables matrix:\n",
      "(25000, 427398)\n",
      "(25000, 427398)\n",
      "Shape of X_test for submission:\n",
      "(25000, 427398)\n",
      "SUCCESS!\n",
      "Number of rows in the submission test set (should be 25,000): \n"
     ]
    }
   ],
   "source": [
    "# read in test data for submission\n",
    "# CHANGE FILE PATH and my_random_seed number (any integer other than 74 will do): \n",
    "raw_data, X_test_submission = process_raw_data(fn='moviereviews_test.tsv', my_random_seed=21, test=True)\n",
    "print(\"Number of rows in the submission test set (should be 25,000): \")"
   ]
  },
  {
   "cell_type": "markdown",
   "metadata": {},
   "source": [
    "---\n",
    "\n",
    "Choose a <span style=\"color:red\">*single*</span> model for your submission. In this code, I am choosing the Ordinary Least Squares model fit, which is in the `ols` object. But you should choose the model that is performing the best for you! "
   ]
  },
  {
   "cell_type": "code",
   "execution_count": 61,
   "metadata": {},
   "outputs": [
    {
     "name": "stdout",
     "output_type": "stream",
     "text": [
      "0.49692\n"
     ]
    }
   ],
   "source": [
    "# store the id from the raw data\n",
    "my_submission = pd.DataFrame(raw_data[\"id\"])\n",
    "# concatenate predictions to the id\n",
    "my_submission[\"prediction\"] = rdg.predict(X_test_submission)\n",
    "# look at the proportion of positive predictions\n",
    "print(my_submission['prediction'].mean())"
   ]
  },
  {
   "cell_type": "code",
   "execution_count": 62,
   "metadata": {},
   "outputs": [
    {
     "data": {
      "text/html": [
       "<div>\n",
       "<style scoped>\n",
       "    .dataframe tbody tr th:only-of-type {\n",
       "        vertical-align: middle;\n",
       "    }\n",
       "\n",
       "    .dataframe tbody tr th {\n",
       "        vertical-align: top;\n",
       "    }\n",
       "\n",
       "    .dataframe thead th {\n",
       "        text-align: right;\n",
       "    }\n",
       "</style>\n",
       "<table border=\"1\" class=\"dataframe\">\n",
       "  <thead>\n",
       "    <tr style=\"text-align: right;\">\n",
       "      <th></th>\n",
       "      <th>id</th>\n",
       "      <th>review</th>\n",
       "      <th>word_count</th>\n",
       "      <th>punc_count</th>\n",
       "    </tr>\n",
       "  </thead>\n",
       "  <tbody>\n",
       "    <tr>\n",
       "      <th>0</th>\n",
       "      <td>12311_10</td>\n",
       "      <td>Naturally in a film who's main themes are of m...</td>\n",
       "      <td>131</td>\n",
       "      <td>5</td>\n",
       "    </tr>\n",
       "    <tr>\n",
       "      <th>1</th>\n",
       "      <td>8348_2</td>\n",
       "      <td>This movie is a disaster within a disaster fil...</td>\n",
       "      <td>169</td>\n",
       "      <td>15</td>\n",
       "    </tr>\n",
       "    <tr>\n",
       "      <th>2</th>\n",
       "      <td>5828_4</td>\n",
       "      <td>All in all, this is a movie for kids. We saw i...</td>\n",
       "      <td>176</td>\n",
       "      <td>18</td>\n",
       "    </tr>\n",
       "    <tr>\n",
       "      <th>3</th>\n",
       "      <td>7186_2</td>\n",
       "      <td>Afraid of the Dark left me with the impression...</td>\n",
       "      <td>112</td>\n",
       "      <td>5</td>\n",
       "    </tr>\n",
       "    <tr>\n",
       "      <th>4</th>\n",
       "      <td>12128_7</td>\n",
       "      <td>A very accurate depiction of small time mob li...</td>\n",
       "      <td>133</td>\n",
       "      <td>8</td>\n",
       "    </tr>\n",
       "  </tbody>\n",
       "</table>\n",
       "</div>"
      ],
      "text/plain": [
       "         id                                             review  word_count  \\\n",
       "0  12311_10  Naturally in a film who's main themes are of m...         131   \n",
       "1    8348_2  This movie is a disaster within a disaster fil...         169   \n",
       "2    5828_4  All in all, this is a movie for kids. We saw i...         176   \n",
       "3    7186_2  Afraid of the Dark left me with the impression...         112   \n",
       "4   12128_7  A very accurate depiction of small time mob li...         133   \n",
       "\n",
       "   punc_count  \n",
       "0           5  \n",
       "1          15  \n",
       "2          18  \n",
       "3           5  \n",
       "4           8  "
      ]
     },
     "execution_count": 62,
     "metadata": {},
     "output_type": "execute_result"
    }
   ],
   "source": [
    "raw_data.head()"
   ]
  },
  {
   "cell_type": "code",
   "execution_count": 63,
   "metadata": {},
   "outputs": [
    {
     "data": {
      "text/html": [
       "<div>\n",
       "<style scoped>\n",
       "    .dataframe tbody tr th:only-of-type {\n",
       "        vertical-align: middle;\n",
       "    }\n",
       "\n",
       "    .dataframe tbody tr th {\n",
       "        vertical-align: top;\n",
       "    }\n",
       "\n",
       "    .dataframe thead th {\n",
       "        text-align: right;\n",
       "    }\n",
       "</style>\n",
       "<table border=\"1\" class=\"dataframe\">\n",
       "  <thead>\n",
       "    <tr style=\"text-align: right;\">\n",
       "      <th></th>\n",
       "      <th>id</th>\n",
       "      <th>prediction</th>\n",
       "    </tr>\n",
       "  </thead>\n",
       "  <tbody>\n",
       "    <tr>\n",
       "      <th>0</th>\n",
       "      <td>12311_10</td>\n",
       "      <td>1</td>\n",
       "    </tr>\n",
       "    <tr>\n",
       "      <th>1</th>\n",
       "      <td>8348_2</td>\n",
       "      <td>0</td>\n",
       "    </tr>\n",
       "    <tr>\n",
       "      <th>2</th>\n",
       "      <td>5828_4</td>\n",
       "      <td>1</td>\n",
       "    </tr>\n",
       "    <tr>\n",
       "      <th>3</th>\n",
       "      <td>7186_2</td>\n",
       "      <td>1</td>\n",
       "    </tr>\n",
       "    <tr>\n",
       "      <th>4</th>\n",
       "      <td>12128_7</td>\n",
       "      <td>1</td>\n",
       "    </tr>\n",
       "  </tbody>\n",
       "</table>\n",
       "</div>"
      ],
      "text/plain": [
       "         id  prediction\n",
       "0  12311_10           1\n",
       "1    8348_2           0\n",
       "2    5828_4           1\n",
       "3    7186_2           1\n",
       "4   12128_7           1"
      ]
     },
     "execution_count": 63,
     "metadata": {},
     "output_type": "execute_result"
    }
   ],
   "source": [
    "my_submission.head()"
   ]
  },
  {
   "cell_type": "code",
   "execution_count": 64,
   "metadata": {},
   "outputs": [
    {
     "data": {
      "text/plain": [
       "(25000, 2)"
      ]
     },
     "execution_count": 64,
     "metadata": {},
     "output_type": "execute_result"
    }
   ],
   "source": [
    "my_submission.shape"
   ]
  },
  {
   "cell_type": "code",
   "execution_count": 65,
   "metadata": {},
   "outputs": [],
   "source": [
    "# export submission file as pdf\n",
    "# CHANGE FILE PATH: \n",
    "my_submission.to_csv('moviereviews_submission4.csv', index=False)"
   ]
  },
  {
   "cell_type": "markdown",
   "metadata": {},
   "source": [
    "# Submit to Canvas: 1) the CSV file that was written in the previous cell and 2) the url to the repository (GitHub or other) that contains your code and documentation"
   ]
  }
 ],
 "metadata": {
  "kernelspec": {
   "display_name": "Python 3 (ipykernel)",
   "language": "python",
   "name": "python3"
  },
  "language_info": {
   "codemirror_mode": {
    "name": "ipython",
    "version": 3
   },
   "file_extension": ".py",
   "mimetype": "text/x-python",
   "name": "python",
   "nbconvert_exporter": "python",
   "pygments_lexer": "ipython3",
   "version": "3.9.7"
  }
 },
 "nbformat": 4,
 "nbformat_minor": 2
}

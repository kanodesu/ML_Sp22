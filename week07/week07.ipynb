{
 "cells": [
  {
   "cell_type": "markdown",
   "metadata": {},
   "source": [
    "# Movie reviews\n",
    "\n",
    "This notebook takes you though a complete iteration of Machine Learning Assignment 1 - Movie reviews. The assignment details (including links to download the data) can be found [here](https://docs.google.com/document/d/1WGYw99e5q6j5V0Zrf2HveagU6URt_kVvdR8B9HYQ99E/edit?usp=sharing). "
   ]
  },
  {
   "cell_type": "code",
   "execution_count": 1,
   "metadata": {},
   "outputs": [],
   "source": [
    "# all imports and magic commands\n",
    "import numpy as np\n",
    "import pandas as pd\n",
    "import matplotlib.pyplot as plt\n",
    "from my_measures import BinaryClassificationPerformance\n",
    "from sklearn.feature_extraction.text import HashingVectorizer\n",
    "from sklearn.feature_extraction.text import TfidfTransformer\n",
    "from scipy.sparse import csr_matrix, hstack\n",
    "from sklearn.preprocessing import StandardScaler\n",
    "from sklearn.model_selection import train_test_split\n",
    "%matplotlib inline"
   ]
  },
  {
   "cell_type": "markdown",
   "metadata": {},
   "source": [
    "### IMPORTANT!!! Make sure you are using `BinaryClassificationPerformance` v1.02"
   ]
  },
  {
   "cell_type": "code",
   "execution_count": 2,
   "metadata": {},
   "outputs": [
    {
     "name": "stdout",
     "output_type": "stream",
     "text": [
      "Help on class BinaryClassificationPerformance in module my_measures:\n",
      "\n",
      "class BinaryClassificationPerformance(builtins.object)\n",
      " |  BinaryClassificationPerformance(predictions, labels, desc, probabilities=None)\n",
      " |  \n",
      " |  Performance measures to evaluate the fit of a binary classification model, v1.02\n",
      " |  \n",
      " |  Methods defined here:\n",
      " |  \n",
      " |  __init__(self, predictions, labels, desc, probabilities=None)\n",
      " |      Initialize attributes: predictions-vector of predicted values for Y, labels-vector of labels for Y\n",
      " |  \n",
      " |  compute_measures(self)\n",
      " |      Compute performance measures defined by Flach p. 57\n",
      " |  \n",
      " |  img_indices(self)\n",
      " |      Get the indices of true and false positives to be able to locate the corresponding images in a list of image names\n",
      " |  \n",
      " |  ----------------------------------------------------------------------\n",
      " |  Data descriptors defined here:\n",
      " |  \n",
      " |  __dict__\n",
      " |      dictionary for instance variables (if defined)\n",
      " |  \n",
      " |  __weakref__\n",
      " |      list of weak references to the object (if defined)\n",
      "\n"
     ]
    }
   ],
   "source": [
    "help(BinaryClassificationPerformance)"
   ]
  },
  {
   "cell_type": "markdown",
   "metadata": {},
   "source": [
    "# Function for feature building and extraction on natural language data"
   ]
  },
  {
   "cell_type": "code",
   "execution_count": 5,
   "metadata": {},
   "outputs": [],
   "source": [
    "# function that takes raw data and completes all preprocessing required before model fits\n",
    "def process_raw_data(fn, my_random_seed, test=False):\n",
    "    # read and summarize data\n",
    "    movie_data = pd.read_csv(fn, sep='\\t')\n",
    "    print(\"movie_data is:\", type(movie_data))\n",
    "    print(\"movie_data has\", movie_data.shape[0], \"rows and\", movie_data.shape[1], \"columns\", \"\\n\")\n",
    "    print(\"the data types for each of the columns in movie_data:\")\n",
    "    print(movie_data.dtypes, \"\\n\")\n",
    "    print(\"the first 10 rows in movie_data:\")\n",
    "    print(movie_data.head(5))\n",
    "    if (not test):\n",
    "        print(\"The rate of 'good' movie reviews in the dataset: \")\n",
    "        print(movie_data['sentiment'].mean())\n",
    "\n",
    "    # vectorize Bag of Words from review text; as sparse matrix\n",
    "    if (not test): # fit_transform()\n",
    "        hv = HashingVectorizer(n_features=2 ** 17, alternate_sign=False)\n",
    "        X_hv = hv.fit_transform(movie_data.review)\n",
    "        fitted_transformations.append(hv)\n",
    "        print(\"Shape of HashingVectorizer X:\")\n",
    "        print(X_hv.shape)\n",
    "    else: # transform() \n",
    "        X_hv = fitted_transformations[0].transform(movie_data.review)\n",
    "        print(\"Shape of HashingVectorizer X:\")\n",
    "        print(X_hv.shape)\n",
    "    \n",
    "    # http://scikit-learn.org/stable/modules/generated/sklearn.feature_extraction.text.TfidfTransformer.html\n",
    "    if (not test):\n",
    "        transformer = TfidfTransformer()\n",
    "        X_tfidf = transformer.fit_transform(X_hv)\n",
    "        fitted_transformations.append(transformer)\n",
    "    else:\n",
    "        X_tfidf = fitted_transformations[1].transform(X_hv)\n",
    "    \n",
    "    # create additional quantitative features\n",
    "    # features from Amazon.csv to add to feature set\n",
    "    movie_data['word_count'] = movie_data['review'].str.split(' ').str.len()\n",
    "    movie_data['punc_count'] = movie_data['review'].str.count(\"\\.\")\n",
    "\n",
    "    X_quant_features = movie_data[[\"word_count\", \"punc_count\"]]\n",
    "    print(\"Look at a few rows of the new quantitative features: \")\n",
    "    print(X_quant_features.head(10))\n",
    "    \n",
    "    # Combine all quantitative features into a single sparse matrix\n",
    "    X_quant_features_csr = csr_matrix(X_quant_features)\n",
    "    X_combined = hstack([X_tfidf, X_quant_features_csr])\n",
    "    X_matrix = csr_matrix(X_combined) # convert to sparse matrix\n",
    "    print(\"Size of combined bag of words and new quantitative variables matrix:\")\n",
    "    print(X_matrix.shape)\n",
    "    \n",
    "    # Create `X`, scaled matrix of features\n",
    "    # feature scaling\n",
    "    if (not test):\n",
    "        sc = StandardScaler(with_mean=False)\n",
    "        X = sc.fit_transform(X_matrix)\n",
    "        fitted_transformations.append(sc)\n",
    "        print(X.shape)\n",
    "        y = movie_data['sentiment']\n",
    "    else:\n",
    "        X = fitted_transformations[2].transform(X_matrix)\n",
    "        print(X.shape)\n",
    "    \n",
    "    # Create Training and Test Sets\n",
    "    # enter an integer for the random_state parameter; any integer will work\n",
    "    if (test):\n",
    "        X_submission_test = X\n",
    "        print(\"Shape of X_test for submission:\")\n",
    "        print(X_submission_test.shape)\n",
    "        print('SUCCESS!')\n",
    "        return(movie_data, X_submission_test)\n",
    "    else: \n",
    "        X_train, X_test, y_train, y_test, X_raw_train, X_raw_test = train_test_split(X, y, movie_data, test_size=0.2, random_state=my_random_seed)\n",
    "        print(\"Shape of X_train and X_test:\")\n",
    "        print(X_train.shape)\n",
    "        print(X_test.shape)\n",
    "        print(\"Shape of y_train and y_test:\")\n",
    "        print(y_train.shape)\n",
    "        print(y_test.shape)\n",
    "        print(\"Shape of X_raw_train and X_raw_test:\")\n",
    "        print(X_raw_train.shape)\n",
    "        print(X_raw_test.shape)\n",
    "        print('SUCCESS!')\n",
    "        return(X_train, X_test, y_train, y_test, X_raw_train, X_raw_test)"
   ]
  },
  {
   "cell_type": "markdown",
   "metadata": {},
   "source": [
    "# Create training and test sets from function"
   ]
  },
  {
   "cell_type": "code",
   "execution_count": 6,
   "metadata": {},
   "outputs": [
    {
     "name": "stdout",
     "output_type": "stream",
     "text": [
      "movie_data is: <class 'pandas.core.frame.DataFrame'>\n",
      "movie_data has 25000 rows and 3 columns \n",
      "\n",
      "the data types for each of the columns in movie_data:\n",
      "id           object\n",
      "sentiment     int64\n",
      "review       object\n",
      "dtype: object \n",
      "\n",
      "the first 10 rows in movie_data:\n",
      "       id  sentiment                                             review\n",
      "0  5814_8          1  With all this stuff going down at the moment w...\n",
      "1  2381_9          1  \\The Classic War of the Worlds\\\" by Timothy Hi...\n",
      "2  7759_3          0  The film starts with a manager (Nicholas Bell)...\n",
      "3  3630_4          0  It must be assumed that those who praised this...\n",
      "4  9495_8          1  Superbly trashy and wondrously unpretentious 8...\n",
      "The rate of 'good' movie reviews in the dataset: \n",
      "0.5\n",
      "Shape of HashingVectorizer X:\n",
      "(25000, 131072)\n",
      "Look at a few rows of the new quantitative features: \n",
      "   word_count  punc_count\n",
      "0         433          20\n",
      "1         158          16\n",
      "2         378          20\n",
      "3         379           8\n",
      "4         367           9\n",
      "5          89           5\n",
      "6         112           9\n",
      "7         132           9\n",
      "8         163           7\n",
      "9          43           5\n",
      "Size of combined bag of words and new quantitative variables matrix:\n",
      "(25000, 131074)\n",
      "(25000, 131074)\n",
      "Shape of X_train and X_test:\n",
      "(20000, 131074)\n",
      "(5000, 131074)\n",
      "Shape of y_train and y_test:\n",
      "(20000,)\n",
      "(5000,)\n",
      "Shape of X_raw_train and X_raw_test:\n",
      "(20000, 5)\n",
      "(5000, 5)\n",
      "SUCCESS!\n",
      "Number of fits stored in `fitted_transformations` list: \n",
      "3\n"
     ]
    }
   ],
   "source": [
    "# create an empty list to store any use of fit_transform() to transform() later\n",
    "# it is a global list to store model and feature extraction fits\n",
    "fitted_transformations = []\n",
    "\n",
    "# CHANGE FILE PATH and my_random_seed number (any integer other than 74 will do): \n",
    "X_train, X_test, y_train, y_test, X_raw_train, X_raw_test = process_raw_data(fn='moviereviews_train.tsv', my_random_seed=64)\n",
    "\n",
    "print(\"Number of fits stored in `fitted_transformations` list: \")\n",
    "print(len(fitted_transformations))"
   ]
  },
  {
   "cell_type": "markdown",
   "metadata": {},
   "source": [
    "# Fit (and tune) Various Models"
   ]
  },
  {
   "cell_type": "markdown",
   "metadata": {},
   "source": [
    "### MODEL: ordinary least squares"
   ]
  },
  {
   "cell_type": "code",
   "execution_count": 7,
   "metadata": {},
   "outputs": [
    {
     "name": "stdout",
     "output_type": "stream",
     "text": [
      "{'Pos': 10010, 'Neg': 9990, 'TP': 5324, 'TN': 4646, 'FP': 5344, 'FN': 4686, 'Accuracy': 0.4985, 'Precision': 0.4990626171728534, 'Recall': 0.5318681318681319, 'desc': 'ols_train'}\n"
     ]
    }
   ],
   "source": [
    "from sklearn import linear_model\n",
    "ols = linear_model.SGDClassifier(loss=\"squared_loss\")\n",
    "ols.fit(X_train, y_train)\n",
    "\n",
    "ols_performance_train = BinaryClassificationPerformance(ols.predict(X_train), y_train, 'ols_train')\n",
    "ols_performance_train.compute_measures()\n",
    "print(ols_performance_train.performance_measures)"
   ]
  },
  {
   "cell_type": "markdown",
   "metadata": {},
   "source": [
    "### MODEL: SVM, linear"
   ]
  },
  {
   "cell_type": "code",
   "execution_count": 10,
   "metadata": {},
   "outputs": [
    {
     "name": "stdout",
     "output_type": "stream",
     "text": [
      "{'Pos': 10010, 'Neg': 9990, 'TP': 10010, 'TN': 9990, 'FP': 0, 'FN': 0, 'Accuracy': 1.0, 'Precision': 1.0, 'Recall': 1.0, 'desc': 'svm_train'}\n"
     ]
    }
   ],
   "source": [
    "from sklearn import linear_model\n",
    "svm = linear_model.SGDClassifier()\n",
    "svm.fit(X_train, y_train)\n",
    "\n",
    "svm_performance_train = BinaryClassificationPerformance(svm.predict(X_train), y_train, 'svm_train')\n",
    "svm_performance_train.compute_measures()\n",
    "print(svm_performance_train.performance_measures)"
   ]
  },
  {
   "cell_type": "code",
   "execution_count": 49,
   "metadata": {},
   "outputs": [
    {
     "name": "stdout",
     "output_type": "stream",
     "text": [
      "{'Pos': 10010, 'Neg': 9990, 'TP': 10010, 'TN': 9990, 'FP': 0, 'FN': 0, 'Accuracy': 1.0, 'Precision': 1.0, 'Recall': 1.0, 'desc': 'svc_train_C'}\n",
      "{'Pos': 10010, 'Neg': 9990, 'TP': 10010, 'TN': 9990, 'FP': 0, 'FN': 0, 'Accuracy': 1.0, 'Precision': 1.0, 'Recall': 1.0, 'desc': 'svc_train_C1'}\n",
      "{'Pos': 10010, 'Neg': 9990, 'TP': 10010, 'TN': 9990, 'FP': 0, 'FN': 0, 'Accuracy': 1.0, 'Precision': 1.0, 'Recall': 1.0, 'desc': 'svc_train_C2'}\n",
      "{'Pos': 10010, 'Neg': 9990, 'TP': 10010, 'TN': 9990, 'FP': 0, 'FN': 0, 'Accuracy': 1.0, 'Precision': 1.0, 'Recall': 1.0, 'desc': 'svc_train_C3'}\n",
      "{'Pos': 10010, 'Neg': 9990, 'TP': 10010, 'TN': 9990, 'FP': 0, 'FN': 0, 'Accuracy': 1.0, 'Precision': 1.0, 'Recall': 1.0, 'desc': 'svc_train_C4'}\n",
      "{'Pos': 10010, 'Neg': 9990, 'TP': 10010, 'TN': 9990, 'FP': 0, 'FN': 0, 'Accuracy': 1.0, 'Precision': 1.0, 'Recall': 1.0, 'desc': 'svc_train_C5'}\n"
     ]
    }
   ],
   "source": [
    "from sklearn.svm import LinearSVC\n",
    "svc = LinearSVC(C = 1)\n",
    "svc.fit(X_train, y_train)\n",
    "\n",
    "svc_1 = LinearSVC(C = 100)\n",
    "svc.fit(X_train, y_train)\n",
    "\n",
    "svc_2 = LinearSVC(C = 10000)\n",
    "svc.fit(X_train, y_train)\n",
    "\n",
    "svc_3 = LinearSVC(C = 0.01)\n",
    "svc.fit(X_train, y_train)\n",
    "\n",
    "svc_4 = LinearSVC(C = 0.001)\n",
    "svc.fit(X_train, y_train)\n",
    "\n",
    "svc_5 = LinearSVC(C = 0.000000000001)\n",
    "svc.fit(X_train, y_train)\n",
    "\n",
    "svc_performance_train = BinaryClassificationPerformance(svc.predict(X_train), y_train, 'svc_train_C')\n",
    "svc_performance_train.compute_measures()\n",
    "print(svc_performance_train.performance_measures)\n",
    "\n",
    "svc_performance_train_1 = BinaryClassificationPerformance(svc.predict(X_train), y_train, 'svc_train_C1')\n",
    "svc_performance_train_1.compute_measures()\n",
    "print(svc_performance_train_1.performance_measures)\n",
    "\n",
    "svc_performance_train_2 = BinaryClassificationPerformance(svc.predict(X_train), y_train, 'svc_train_C2')\n",
    "svc_performance_train_2.compute_measures()\n",
    "print(svc_performance_train_2.performance_measures)\n",
    "\n",
    "svc_performance_train_3 = BinaryClassificationPerformance(svc.predict(X_train), y_train, 'svc_train_C3')\n",
    "svc_performance_train_3.compute_measures()\n",
    "print(svc_performance_train_3.performance_measures)\n",
    "\n",
    "svc_performance_train_4 = BinaryClassificationPerformance(svc.predict(X_train), y_train, 'svc_train_C4')\n",
    "svc_performance_train_4.compute_measures()\n",
    "print(svc_performance_train_4.performance_measures)\n",
    "\n",
    "svc_performance_train_5 = BinaryClassificationPerformance(svc.predict(X_train), y_train, 'svc_train_C5')\n",
    "svc_performance_train_5.compute_measures()\n",
    "print(svc_performance_train_5.performance_measures)\n",
    "\n"
   ]
  },
  {
   "cell_type": "markdown",
   "metadata": {},
   "source": [
    "### MODEL: logistic regression"
   ]
  },
  {
   "cell_type": "code",
   "execution_count": 7,
   "metadata": {},
   "outputs": [
    {
     "name": "stdout",
     "output_type": "stream",
     "text": [
      "{'Pos': 10033, 'Neg': 9967, 'TP': 10033, 'TN': 9967, 'FP': 0, 'FN': 0, 'Accuracy': 1.0, 'Precision': 1.0, 'Recall': 1.0, 'desc': 'lgs_train'}\n"
     ]
    }
   ],
   "source": [
    "from sklearn import linear_model\n",
    "lgs = linear_model.SGDClassifier(loss='log')\n",
    "lgs.fit(X_train, y_train)\n",
    "\n",
    "lgs_performance_train = BinaryClassificationPerformance(lgs.predict(X_train), y_train, 'lgs_train')\n",
    "lgs_performance_train.compute_measures()\n",
    "print(lgs_performance_train.performance_measures)"
   ]
  },
  {
   "cell_type": "markdown",
   "metadata": {},
   "source": [
    "### MODEL: Naive Bayes"
   ]
  },
  {
   "cell_type": "code",
   "execution_count": 8,
   "metadata": {},
   "outputs": [
    {
     "name": "stdout",
     "output_type": "stream",
     "text": [
      "{'Pos': 10033, 'Neg': 9967, 'TP': 9633, 'TN': 9811, 'FP': 156, 'FN': 400, 'Accuracy': 0.9722, 'Precision': 0.9840637450199203, 'Recall': 0.9601315658327519, 'desc': 'nbs_train'}\n"
     ]
    }
   ],
   "source": [
    "from sklearn.naive_bayes import MultinomialNB\n",
    "nbs = MultinomialNB()\n",
    "nbs.fit(X_train, y_train)\n",
    "\n",
    "nbs_performance_train = BinaryClassificationPerformance(nbs.predict(X_train), y_train, 'nbs_train')\n",
    "nbs_performance_train.compute_measures()\n",
    "print(nbs_performance_train.performance_measures)"
   ]
  },
  {
   "cell_type": "markdown",
   "metadata": {},
   "source": [
    "### MODEL: Perceptron"
   ]
  },
  {
   "cell_type": "code",
   "execution_count": 9,
   "metadata": {},
   "outputs": [
    {
     "name": "stdout",
     "output_type": "stream",
     "text": [
      "{'Pos': 10033, 'Neg': 9967, 'TP': 10033, 'TN': 9967, 'FP': 0, 'FN': 0, 'Accuracy': 1.0, 'Precision': 1.0, 'Recall': 1.0, 'desc': 'prc_train'}\n"
     ]
    }
   ],
   "source": [
    "from sklearn import linear_model\n",
    "prc = linear_model.SGDClassifier(loss='perceptron')\n",
    "prc.fit(X_train, y_train)\n",
    "\n",
    "prc_performance_train = BinaryClassificationPerformance(prc.predict(X_train), y_train, 'prc_train')\n",
    "prc_performance_train.compute_measures()\n",
    "print(prc_performance_train.performance_measures)"
   ]
  },
  {
   "cell_type": "markdown",
   "metadata": {},
   "source": [
    "### MODEL: Ridge Regression Classifier"
   ]
  },
  {
   "cell_type": "code",
   "execution_count": 10,
   "metadata": {},
   "outputs": [
    {
     "name": "stdout",
     "output_type": "stream",
     "text": [
      "{'Pos': 10033, 'Neg': 9967, 'TP': 10033, 'TN': 9967, 'FP': 0, 'FN': 0, 'Accuracy': 1.0, 'Precision': 1.0, 'Recall': 1.0, 'desc': 'rdg_train'}\n"
     ]
    }
   ],
   "source": [
    "from sklearn import linear_model\n",
    "rdg = linear_model.RidgeClassifier()\n",
    "rdg.fit(X_train, y_train)\n",
    "\n",
    "rdg_performance_train = BinaryClassificationPerformance(rdg.predict(X_train), y_train, 'rdg_train')\n",
    "rdg_performance_train.compute_measures()\n",
    "print(rdg_performance_train.performance_measures)"
   ]
  },
  {
   "cell_type": "markdown",
   "metadata": {},
   "source": [
    "### MODEL: Random Forest Classifier"
   ]
  },
  {
   "cell_type": "code",
   "execution_count": 11,
   "metadata": {},
   "outputs": [
    {
     "name": "stderr",
     "output_type": "stream",
     "text": [
      "/home/ec2-user/anaconda3/lib/python3.7/site-packages/sklearn/ensemble/forest.py:245: FutureWarning: The default value of n_estimators will change from 10 in version 0.20 to 100 in 0.22.\n",
      "  \"10 in version 0.20 to 100 in 0.22.\", FutureWarning)\n"
     ]
    },
    {
     "name": "stdout",
     "output_type": "stream",
     "text": [
      "{'Pos': 10033, 'Neg': 9967, 'TP': 5223, 'TN': 6699, 'FP': 3268, 'FN': 4810, 'Accuracy': 0.5961, 'Precision': 0.615121893769874, 'Recall': 0.5205820791388418, 'desc': 'rdf_train'}\n"
     ]
    }
   ],
   "source": [
    "from sklearn.ensemble import RandomForestClassifier\n",
    "rdf = RandomForestClassifier(max_depth=2, random_state=0)\n",
    "rdf.fit(X_train, y_train)\n",
    "\n",
    "rdf_performance_train = BinaryClassificationPerformance(rdf.predict(X_train), y_train, 'rdf_train')\n",
    "rdf_performance_train.compute_measures()\n",
    "print(rdf_performance_train.performance_measures)"
   ]
  },
  {
   "cell_type": "markdown",
   "metadata": {},
   "source": [
    "### ROC plot to compare performance of various models and fits"
   ]
  },
  {
   "cell_type": "code",
   "execution_count": 47,
   "metadata": {
    "scrolled": false
   },
   "outputs": [
    {
     "data": {
      "image/png": "[encoded data removed]",
      "text/plain": [
       "<Figure size 432x288 with 1 Axes>"
      ]
     },
     "metadata": {
      "needs_background": "light"
     },
     "output_type": "display_data"
    }
   ],
   "source": [
    "fits = [svc_performance_train_1, svc_performance_train_2, svc_performance_train_3, svc_performance_train_4, svc_performance_train_5]\n",
    "\n",
    "for fit in fits:\n",
    "    plt.plot(fit.performance_measures['FP'] / fit.performance_measures['Neg'], \n",
    "             fit.performance_measures['TP'] / fit.performance_measures['Pos'], 'bo')\n",
    "    plt.text(fit.performance_measures['FP'] / fit.performance_measures['Neg'], \n",
    "             fit.performance_measures['TP'] / fit.performance_measures['Pos'], fit.desc)\n",
    "plt.axis([0, 1, 0, 1])\n",
    "plt.title('ROC plot: test set')\n",
    "plt.xlabel('False positive rate')\n",
    "plt.ylabel('True positive rate')\n",
    "plt.show()"
   ]
  },
  {
   "cell_type": "markdown",
   "metadata": {},
   "source": [
    "### looking at reviews based on their classification\n",
    "\n",
    "Let's say we decide that Ordinary Least Squares (OLS) Regression is the best model for generalization. Let's take a look at some of the reviews and try to make a (subjective) determination of whether it's generalizing well. "
   ]
  },
  {
   "cell_type": "code",
   "execution_count": 38,
   "metadata": {},
   "outputs": [],
   "source": [
    "ols_predictions = ols.predict(X_train)"
   ]
  },
  {
   "cell_type": "markdown",
   "metadata": {},
   "source": [
    "### let's look at some false positives:"
   ]
  },
  {
   "cell_type": "code",
   "execution_count": 24,
   "metadata": {},
   "outputs": [
    {
     "name": "stdout",
     "output_type": "stream",
     "text": [
      "Examples of false positives:\n",
      "322\n",
      "Every now and again you hear radio djs inviting listeners to nominate movies that the listener can't stand or never watched all the way through. This is the movie that I think of...days later.<br /><br />It's got something to do with a play by Shakespeare. Not sure, but I think I bailed on this movie some 20 odd minutes into it...think I realised that my toenails wouldn't clip themselves, and they were looking at me imploringly to get cut.<br /><br />This movie just seemed boring and pretentious to me.<br /><br />Even though this is the first movie I've given such a low score to (which I've actually attempted to watch), I wouldn't want to put you off other movies by it's English director, Peter Greenaway. I remember thinking that his \\The cook, the thief, his wife and her lover\\\" was a truly great British film even though its content was at times stomach churning-a brilliant movie, but I can understand why people would balk at seeing it.<br /><br />Another good film by Greenaway was \\\"A zed and two noughts\\\". Again, it had some content that pushed the boundaries of good taste, but was intriguing nonetheless.<br /><br />The other film that I usually think of too late for such radio show topics is \\\"Brazil\\\". Never managed to watch that all the way through either-kept falling asleep!<br /><br />Unless you have a taste for self-important movies which are off-puttingly highly stylised, laboriously paced and difficult to follow, then steer clear of Prosero's Books.\"\n",
      "* * * * * * * * * \n",
      "513\n",
      "I will say that at least the movie makes sense, but it's bad. The acting for the most part is not good (I think only Sky showed any promise) and you feel awkward watching it. All of the scenes that should be meaningful are really shallow, like when Ng comes out to her parents. There are a lot of corny details, like the kanji tattoo on the Sky's shoulder, the magnets on the girls' refrigerator and the god awful decor at the sets...and the music...and clothes..and everything. Real life has never been like this movie. The boy says at one point \\I'm gay, not corny.\\\" And not aware. Even the commentary is awful, I turned it off after Ng talks about how she was weirded out playing a lesbian.\"\n",
      "* * * * * * * * * \n",
      "716\n",
      "I can say nothing more about this movie than: Man, this SUCKS!!!!! If you really hate yourself and want to do some severe damage to your brain, watch this movie. It's the best cure in the world for taking away happiness. When I started watching this film, I was completely happy. Afterwords I could feel my brain melting, like it was struck by molten lava. God, I HATE that stupid Dinosaur. So if you want severe brain damage: Watch this movie, it will do the trick.\n",
      "* * * * * * * * * \n",
      "731\n",
      "I think its time for Seagal to go quietly into the night. What I have just seen makes all his direct to video releases in the last few years look like his early 90's smash hits in comparison.<br /><br />A secret bio lab is making a new kind of drug that jacks up a human's adrenaline system to the point where they become psychopathic killers or something. Somehow Seagal is supposed to stop the infection or its the end of the world...or something. Seagal also went through hit squads like jellybeans, every time I look up he was commanding a new face so it kinda got hard to follow character development as well I know Steven's athsma prevent him from yelling at the top of his lungs but even so why is he constantly being dubbed by people who sound nothing like him? Usually the films plot and action sequences can save it from being a total waste of time but this was not even close. Like I said, it was more of a horror movie with a lot of blood and shank stabbing rather than straight up fighting. The problem was it wasn't really scary and Seagal looked completely out of place because the infected people were supposed to have speed of light movement yet the 40 year old 280 lb Seagal killed them all singlehandedly? I guess the lone highlight of the movie was the first 20 minutes where the new recruits ask Seagal to come to the strip club with them.<br /><br />2 out of 10\n",
      "* * * * * * * * * \n",
      "758\n",
      "Tony Scott destroys anything that may have been interesting in Richard Kelly's clichéd, patchy, overwrought screenplay. Domino Harvey (Kiera Knightley) was a model who dropped out and became a bounty hunter. This is her story... \\sort of\\\".<br /><br />The problem with this rubbish is that there isn't much of a story at all and Scott's extreme graphic stylization of every shot acts as a distancing mechanism that makes us indifferent to everything in Harvey's chaotic life.<br /><br />You just don't care about Harvey. Knightley plays her as an obnoxious, cynical brat who has done nothing to warrant our respect. She punches people she doesn't like and sheds her clothes and inhibitions when the situation calls for it, but she isn't the least bit real and Knightly isn't the least bit convincing, either.<br /><br />The film is boring. It's loud, too, and shackled with one of the most annoying source music scores I've heard in a long time. The final twenty minutes are a poor re-run of Scott's \\\"True Romance\\\" climax with Domino's gang going to meet two sets of feuding bad guys who are -- surprise! surprise! -- destined to shoot it out with each other at the top of a Las Vegas casino.<br /><br />Unfortunately, this potentially exciting conflagration is totally botched by Scott and becomes a confusing, pretentious, pointless exercise in celluloid masturbation. This is not an artistically brave or experimental piece; it is a failure on every level because it gives us no entry point to the lives and dilemmas of its characters.<br /><br />Mickey Roarke looks good as a grizzled bounty hunter, but he disappears into the background as the \\\"narrative\\\" progresses. Chris Walken turns in another embarrassing cameo and Dabney Coleman, always solid, is underutilized.<br /><br />Don't be fooled by this film's multi-layered, gimmick-ridden surface. It is still a turd no matter how hard you polish it.\"\n",
      "* * * * * * * * * \n",
      "816\n",
      "After Life is a Miracle, I did not expect much. It's hard to believe that these films were made by the same man as Do You Remember Dolly Bell, for instance. Zavet is two hours of silly antics with no story. The wild and unbridled humor of Underground seems to have degenerated into pathetic buffoonery here. It appears that Kusturica has been going steadily downhill since he started making life-affirming comedies, beginning with Black Cat, White Cat, which I think was great, but already had some disturbing signs of dementia. I liked his early films so much, and this is why it's especially disappointing to see something like this. Let's hope his next one will be great.\n",
      "* * * * * * * * * \n",
      "888\n",
      "A lot of promise and nothing more. An all-star cast certainly by HK standards, but man oh man is this one a stinker. No story? That's okay, the action will make up for it like most HK action flicks. What? The action is terrible, corny, and sparse? Dragon Dynasty's releases up to this point are by and large superb and generally regarded as classics in Asian cinema. This is a blight. They managed to wrangle a couple of actors from Infernal Affairs, but they can't bring life to a disjointed script. There are scenes of dialogue where two or three lines are spoken with a cut in between each and no continuity in what the characters are saying. You almost feel like they're each giving a running monologue and just ignoring the other characters. Michael Biehn is made of wood, really? Sammo Hung uses a stunt double? No way. Yes way. Stay away.\n",
      "* * * * * * * * * \n",
      "900\n",
      "Posh Spice Victoria Beckham and her alleged new adventures after just moving to LA for work purposes (footballer hubby David is now a Galaxy LA player after his transfer from Real Madrid) was originally going to be a full series,but was thankfully abridged to just one hour or so.But even in this form,it is still numbingly interminable.<br /><br />Like virtually all 'reality' TV shows,most of the incident comes across as blatantly faked,with the programme itself even admitting that Posh's newly appointed personal assistant is an actress.An Ugly-Betty lookalike,we hear some lamely written and performed banter early on(with an obvious joke about Becks' apparent dalliance with a previous,and rather more glamorous PA Rebecca Loos,though her name is not mentioned) with further sequences involving a fake blow-up doll to trick the paparazzi and hopeless attempts to pitch a baseball.<br /><br />This could have been more entertaining if all had acknowledged it was a piece of fluff,and had an actress or impersonator in the lead role.Talented impressionist Ronni Ancona would've been perfect and is better at being Posh than Posh herself is,and if this more sensible decision had been taken,much more fun and amusement would've ensued.Sadly,we are left with the real thing here (Ms Ancona may have rejected the script as too weak anyway),and although there are odd scattered attempts at self-deprecation and irony,it never remotely works because of prior info of La Beckham's considerable wealth beforehand,and her non-ability at delivering would-be jokes;despite the intentions to send up her image,Mrs Beckham comes across as a shallow egotist,and her weak one-liners don't persuade us she has any humorous self-awareness.I suspect that if a more realistic fly-on-the-wall documentary approach had been taken,namely Posh walking down any street in LA and being totally ignored (instead of the frantic,staged scenes of mild hysteria on show here), and associates making unscripted jibes about the previously mentioned Ms Loos,this would've made marginally better TV,but being sycophantic PR material,the bony one herself would never allow such events to happen.<br /><br />Having said that,the later scenes where she made a special appearance at the baseball stadium where she was indifferently presented in front of an uninterested crowd show it will be tough times ahead if she wants to make it big in Hollywood.Her colleague Scary Spice (aka Mel Brown) also found it impossible to make it big residing in the movie capital despite her affair (which was not consummated) with big name Eddie Murphy.<br /><br />The Spice Girls were of course a massively successful bubblegum pop group in the mid 1990's,more so in their native Britain but still popular briefly in other countries,including the US.They were certainly good fun at their peak of glory (1997) when there seemed to be a glorious period of optimism in the UK with Cool Britannia and a New Labour government which The Spice Girls seemed to sum up better then anyone else at the time,even if it was somewhat manufactured.But they were never outstanding musical or singing talents,and UK optimism seemed to fade rapidly later that year (the starting point was arguably the tragic death of Princess Diana),as did The Spices' themselves.Their presence on the music and entertainment scene soon became repetitive and obvious,and if they had all quietly moved out of the public eye permanently with dignity to enjoy their fortunes, then we would have all had pleasant memories encrypted on our mind without any guilt.Unfortunately,the emergence of the hideous 'celebrity' culture in the UK towards the start of the millennium has put paid to those imaginings,and we have all suffered thousands,if not millions of stories about the Spices since,Posh being the worst offender,with the rest of her colleagues not too far behind.It was recently announced that there will be a reunion tour soon,which is baffling as they have never gone away and they certainly don't require any additions to their swelling bank accounts.Maybe it's because two of them are struggling single mothers,perhaps?<br /><br />Good,it's soon time for Becks' adventures on a revelatory documentary next,I can hardly wait.............<br /><br />Rating:2 out of 10.\n",
      "* * * * * * * * * \n",
      "905\n",
      "James Bishop (Matt Stasi) goes to a `mental illness facility' for a medical residence assignment with Dr. McCort (Bruce Paynes). There, he realizes that many interns are being killed by `The Ripper', who takes their souls to the devil, in a cult promoted by Dr. McCort. This story is so absurd and imbecile that it is impossible to write a summary. The dialogs are so ridiculous, specially when the character of Helen, the blonde fiancé of James Bishop arrives in the asylum, that it is almost unbelievable that a writer has had the courage to include them in a screenplay. And what about the return of James to the hospital to bring the files of the dead patients? And the cast, composed of ham actors and actresses? Honestly, I do not know what or who is the worst in this film: the screenplay, the director or the cast. The correct answer certainly is all of them. I saw this flick on cable television, and I am astonished how can a producer spend money in such a garbage. This horror movie becomes very funny considering the absurd of the plot. My vote is three.<br /><br />Title (Brazil): `Demônio' (`Devil')\n",
      "* * * * * * * * * \n",
      "983\n",
      "While I count myself as a fan of the Babylon 5 television series, the original movie that introduced the series was a weak start. Although many of the elements that would later mature and become much more compelling in the series are there, the pace of The Gathering is slow, the makeup somewhat inadequate, and the plot confusing. Worse, the characterization in the premiere episode is poor. Although the ratings chart shows that many fans are willing to overlook these problems, I remember The Gathering almost turned me off off what soon grew into a spectacular series.\n",
      "* * * * * * * * * \n",
      "1036\n",
      "Of the many problems with this film, the worst is continuity; and re-editing it on VHS for a college cable channel many years ago, I tried to figure out what exactly went wrong. What seems to have happened is that they actually constructed a much longer film and then chopped it down for standard theatrical viewing. How much longer? to fill in all the holes in the plot as we have it would require about three more hours of narrative and character development - especially given the fact that the film we do have is just so slow and takes itself just so seriously.<br /><br />That's staggering; what could the Halperins have possibly been trying to accomplish here? Their previous film, \\White Zombie\\\", was a successful low budget attempt to duplicate the early Universal Studios monster films (The Mummy, Dracula, etc.), and as such stuck pretty close to the zombie mythology that those in North America would know from popular magazines.<br /><br />Revolt of the Zombies, to the contrary, appears to have been intended as some allegory for the politics of modern war. This would not only explain the opening, and the change of Dean Jagger's character into a megalomaniac, but it also explains why the zombies don't actually do much in the film, besides stand around, look frightening, and wait for orders - they're just allegorical soldiers, not the undead cannibals we've all come to love and loathe in zombie films.<br /><br />I am the equal to any in my dislike for modern war and its politics - but I think a film ought to be entertaining first, and only later, maybe, educational. And definitely - a film about zombies ought to be about zombies.<br /><br />Truly one of the most bizarre films in Hollywood history, but not one I can recommend, even for historic value.\"\n",
      "* * * * * * * * * \n",
      "1100\n",
      "Nothing new in this hackneyed romance with characters put into unbelievable situations, speaking dialogue that borders on the ridiculous. This is an example of another movie put into production before serious script problems were solved. Don't waste your time.\n",
      "* * * * * * * * * \n",
      "1135\n",
      "CREEPSHOW 2 is the ill-fated sequel to the George Romero's (overrated) original, CREEPSHOW. Any sequel following a Romero film that's not directed by Romero himself has got some large shoes to fill, mostly because of the Romero fans out there who think he's God. I didn't care much for the first film and funny enough, I didn't care much for the sequel. The film series had so much potential but it was short-lived because both films were less than stellar. <br /><br />The biggest problem with CREEPSHOW 2 was that it only had three stories (excluding the in-between story), and because the first story sucked beyond belief, it only left the chance for almost half of the movie to be *really* good. I saw CS 2 at the movies and the first segment was a real groaner. Anything dramatic with George 'I can't act' Kennedy is automatically doomed and the Indian Statue story was too hokey and simply didn't belong in this sequel. So after a really trite and dull start, there were only two other stories left to reverse the fiasco of the aborted beginning and unfortunately the two other stories weren't great enough for me to forget the first story. THE RAFT and THE HITCHHIKER are moderately successful, moderately because though the two other segments have their moments, they still sorta fall flat. The two last stories are basically stretched out for too long. It's not that I wanted the stories to happen at a dizzying pace and end fast, but both good ideas found within those stories were sorta nullified by the fact that they were slow and padded and eventually fell flat when the segments needed to be more energized, more erratic and with punchier endings. Also, if the two last stories hadn't been stretched out to pad the movie or had all three segments been more brief with better editing and direction, they could have added a much needed fourth story to the bunch. Having only three padded segments made for a boring feast.<br /><br />The acting and writing in both THE RAFT and THE HITCHHIKER segments are from awful to good. I like Lois Chiles in the last segment. It's probably her best moment on screen aside from her role as Bond Girl Holly Goodhead in MOONRAKER and in DEATH ON THE NILE. But even her role is difficult to understand at times because of the serviceable direction and the unfocused story. Are we supposed to hate her or sympathize with her? Are we supposed to sympathize with the annoying hitchhiker? If the hitchhiker's body was found by other people on the road, what was he when he attacked Chiles? Was he a ghost or a zombie or what? How did the body eventually left the presence of the other people who found him dead in order to attack Chiles? The whole thing is not very clear, even for a supernatural story. And the ending is rather dull and uneventful.<br /><br />As for the infamous THE RAFT story, well, the acting is mostly on the awful side and none of the characters are sympathetic or interesting. The characters would have been more interesting had the actors played themselves. None of the actors are convincing in their specific roles. Paul Satterfield looks smarter than the dumb jock he's playing and the actress who plays his girlfriend is not very convincing as the typical bitchy slut. She seems too timid. The same could be said with the two others who play the \\plain\\\" teens. The idea of the killer oil slick is interesting and creepy but not well executed. There should have been a fifth character to the story, maybe a homeless man or a ranger who lurks around the lake and knows about the oil slick and could have been the watery monster's alter ego of sorts. As creepy as the oil slick is, it doesn't make for a compelling \\\"character\\\". And the way the story ends, everything seems pointless. No punch to it whatsoever.<br /><br />Except for the few titillating aspects which always seems to make boring things worthwhile, seeing CREEPSHOW 2 at a theater was basically a waste of money and time. CS 2 is more rental material than something you pay to see on the big screen.\"\n",
      "* * * * * * * * * \n",
      "1149\n",
      "I was mad anyone made this movie. I was even more angry I lost valuable minutes of my life sitting still to watch this. I could have had a wax job and been more entertained. At least Cherri makes me laugh before it hurts. I was a bit confused at first but then I caught on and realized what was going on. By this time the film was half way through, and Yes I am a procrastinator but I always want to see things through until the end. So I stuck it out I watched it all. Not only are the actors not as attractive as in Cruel Intentions, they just aren't convincing. I've seen my nephew cry for attention more convincingly than the supposed lust portrayed on screen in this movie. If you like bad movies with bad acting watch this.\n",
      "* * * * * * * * * \n",
      "1354\n",
      "1st watched 11/07/2004 - 1 out of 10(Dir-Jon Keeyes): Over-the-top rehash of 70's supposed horror flicks like Friday the 13th(versions 1 thru whatever",
      "). I can't think of much redeeming here except(or can I think of anything?)",
      "The story revolves around a bunch of stupid people listening to a radio program one year after some kids were slayed in the woods as an 'homage' to this, supposedly. But, lo and behold, one of the stupid people, have connections to the actual event because her sister was one of the ones murdered(again, how stupid is this that she would even be a part of this). Guess what? The murderer is at it again and we're tipped off from the very beginning who it is(so there goes any mystery whatsoever). And besides all this, where are the 'cops' and why doesn't someone call them. I can't believe this movie was financed by someone and made. You would think that by now the American people would be judged a little higher, at least in their movie-going experience, but not so by this filmmaker.\n",
      "* * * * * * * * * \n"
     ]
    },
    {
     "name": "stdout",
     "output_type": "stream",
     "text": [
      "1509\n",
      "In the first 20 minutes, every cliche possible was trotted out by the hack writer and director. There was the NTSB primary investigator with the tortured family life; the politically-tortured NTSB board member played by [I can kill ANY TV] Ted McGinley; the tortured father of a crash victim; and the torturing sleazy ambulance-chasing lawyer.<br /><br />Hollywood still has no concept of the fragility of aircraft. The crashed plane was a 737 and it was mostly sitting on the ground like a hippo who decided to take a nap. The first third of the fuselage was intact, the rear half of the plane was intact and the debris field showed no wings or engines. Most of the people should have walked away in light of how many people survived that plane that got shredded in Iowa after it lost its hydraulics. Most of this TV plane wasn't even burned.<br /><br />It reminded me of the scene in \\Air Force One\\\" where the 747 hits the water and then skips along like it's made of inch-thick steel.<br /><br />The show was so bad it was impossible to watch. Even my wife, who is more accepting than I, was commenting on technical flaws. What had me stunned was how this POS could ever get made. Are the producers of these things so used to clichés that they can't even recognize them? Somebody read this script and said: Yes, I want to spend a million bucks making this real. I wish I was the guy's next appointment. I have title to a wonderful bridge in New York that I'd sell cheap.\"\n",
      "* * * * * * * * * \n",
      "1744\n",
      "Reed Diamond plays a man suffering from amnesia who's been in a mental asylum for over a decade after he was found wondering the back roads with blood on his hands. The doctors want to test out an experimental new drug that'll return his lost memories if it works. But when the drugs give him hallucinations of a demon, he chooses to escape instead. While outside he befriends a young boy whose stepfather (Greg Grunberg) mistreats his mother, won't let her near the darkroom in his basement & acts suspicious in general.<br /><br />While the general 'mystery' of the film is a tad easy to identify way before it's revealed, I found Mr. Diamond's acting to be enthralling enough to keep my attention throughout. (In the interest of full disclosure, I've been a huge fan of his since Homicide and his brief, but extremely pivotal, role in The Shield up through Journeyman & Dollhouse) Not a great film nor a good one, but serviceable enough. Although I did like it better than the previous films that I've seen from Director/writer Michael Hurst (Room 6, Pumkinhead 4, Mansquito)<br /><br />Eye Candy: one fleeting pair of boobs in a hallucination<br /><br />My Grade: C-\n",
      "* * * * * * * * * \n",
      "1789\n",
      "After some internet surfing, I found the \\Homefront\\\" series on DVD at ioffer.com. Before anyone gets excited, the DVD set I received was burned by an amateur from home video tapes recorded off of their TV 15 years ago. The resolution and quality are poor. The images look like you would expect old re-recorded video to look. Although the commercials were edited out, the ending credits of each episode still have voice-over announcements for the segway into the ABC news program \\\"Nightline\\\", complete with the top news headlines from the early 1990's. Even with the poor image quality, the shows were watch-able and the sound quality was fine.<br /><br />To this show's credit, the casting was nearly perfect. Everyone was believable and really looked the part. Their acting was also above average. The role of Jeff Metcalf is played particularly well by Kyle Chandler (most recently seen in the 2005 remake of King Kong). The period costumes were very authentic as were the sets, especially the 1940s kitchens with vintage appliances and décor. The direction was also creative and different for a TV show at that time. For example, conversations between characters were sometimes inter-cut with conversations about the same subject between other characters in different scenes. The dialog of the different conversations was kept fluid despite cutting back and fourth between the different characters and locations. That takes good direction and editing and they made it work in this case.<br /><br />As I started watching this series again I suddenly remembered why I lost interest in it 15 years ago. Despite all the ingredients for a fine show, the plots and story lines are disappointing and confusing right from the start. For one thing, the name of the show itself is totally misleading. When WWII ended in 1945, there was no more fighting so obviously there was no longer a \\\"homefront\\\" either. Curiously, the first episode of the show \\\"Homefront\\\" begins in 1945 after the war had ended. That's like shooting the first episode of \\\"Gilligan's Island\\\" showing the castaways being rescued. The whole premise of the show's namesake is completely lost. I still held on to hope with the possibility of the rest of the series being a flashback but no, the entire show takes place from 1946 through 1948. Additionally, this series fails miserably in any attempt to accurately portray any historical events of the late 1940's. By the third episode, it becomes obvious that this series was nothing more than a thinly veiled vehicle for an ultra left-wing political agenda. The show is set in River Run Ohio, near Toledo. However, the show's ongoing racism theme makes it look more like Jackson Mississippi than Ohio. Part of the ensemble cast are Dick Williams, Hattie Winston and Sterling Macer Jr. who portray the Davis family. Much of the series shows the Davis family being discriminated against by the evil \\\"whites\\\" to the point of being ridiculous and totally absurd if not laughable. The racism card has been played and over played by Hollywood now for over 40 years. We get it. We're also tired of having our noses rubbed in it on a daily basis. The subject of racism is also unpopular with viewers and it is the kiss of death for any show, as it was for \\\"Homefront\\\". The acting talents of Williams, Winston and Macer were wasted in their roles as the stereotypical \\\"frightened / angry black family\\\". The wildly exaggerated racism in this series makes it look like everyone in Ohio was a KKK member or something. The racism issue could have been addressed in this show in a single episode with a simple punch in the nose or fist-fight in which a bigot gets a well deserved thrashing, and leave it at that. Devoting a major portion of the series to the racism thing gets really old really quick and its just plain stupid.<br /><br />In yet another ridiculous plot line, the big boss of a local factory (Ken Jenkins) is portrayed as an Ebenezer Scrooge like character who is against pensions and raises and is unconcerned about acid dripping on his employees. The workers revolt and take over the factory in a blatant pro-communist propaganda message to the viewer.<br /><br />Personally, I think this series had great potential. The writers could have easily placed the timeline in 1941  1945 as the title suggests and shown the hardships of food and gas rationing and working 14 hour days at war factories. Of course the loss of brothers, sons and husbands fighting overseas would have also added drama. The situation was also perfect for writing in special guest stars as military or USO personnel passing through their town during training or en-route to Europe or the Pacific. The possibilities for good story lines and plots are endless. But no, the writers of Homefront (David Assael and James Grissom) completely ignored any relevant or interesting plots. Instead, they totally missed the point and strayed into a bizarre and irrelevant obsession with racism and left-wing politics. It would be unfair to the actors to condemn the entire series but the plots and situations in which they were placed are total garbage.\"\n",
      "* * * * * * * * * \n",
      "1979\n",
      "Let me start out by saying that I used to really like Betty Grable, particularly from \\Down Argentine Way\\\", but by the time she got around to this disaster, she had also got \\\"round\\\" and frankly the whole film was an embarrassment. Costarred with Douglas Fairbanks JNr (who must have been fairly desperate) the story was bad, the colours good, and the film far too long. It had some of the old standbys in it like Harry Davenport and Reginald Gardiner to try and stimulate interest but with no success. The music score was woeful, and I have to say not one tune was memorable in any way....as I was such a fan of Miss Grable, I always wish I had never seen this one!\"\n",
      "* * * * * * * * * \n",
      "2096\n",
      "In the ravaged wasteland of the future, mankind is terrorized by Cyborgsrobots with human featuresthat have discovered a new source of fuel: human blood. Commanded by their vicious leader Jōb (Lance Henriksen), the Cyborgs prepare to overtake Taos, a densely populated human outpost.<br /><br />Only one force can stop Jōb's death marchthe Cyborg Gabriel (Kris Kristofferson), who is programmed to destroy Jōb and his army.<br /><br />In the ruins of a ransacked village, Gabriel finds Nea (Kathy Long), a beautiful young woman whose parents were killed by Cyborgs ten years earlier. Now she wants revenge. They strike a pact: Gabriel will train Nea how to fight the Cyborgs and Nea will lead Gabriel to Taos.<br /><br />Five-time kick-boxing champion Kathy Long has all the right moves in this high-speed adventure that delivers plenty of action. Also stars Gary Daniels (as David) and Scott Paulin (as Simon).\n",
      "* * * * * * * * * \n",
      "2295\n",
      "I was interested in the title and description of Big Rig while attending the SXSW Film Festival in Austin, TX. However, I was eager to get the heck out of the seats as soon as Big Rig ended. Big Rig is comprised of several \\big rig\\\" drivers who set out to deliver goods driven across the United States. The characters are all wonderful people, however the filmmakers never dug deep into the complexity of them as people. Instead, the story meanders as much as the maps in the film are meant to guide, but never do. At most, we get lost. We - the audience - end up going nowhere and, like the direction of the storytelling, end up somewhere but without direction, location, or plot. Why are we here? Where are we? How did we get here? The storytelling is sloppy and the directors' intent on \\\"humanizing\\\" a group of people who they regard as \\\"overlooked\\\" and \\\"invisible\\\" comes across as unconsciously and irritatingly condescending. The problem here here lies in the perspective of the directors instead of the truck drivers. The directors bring their own naive assumptions about truckers forward and then simply edit the film to confirm those assumptions. Overall, the story lacks any tension, the film is entirely too long (should have been a 15 min sketch), the big question of \\\"So what\\\" is never answered, and the entire film is one piece of see-through propaganda that does nothing to further \\\"enlighten\\\" (as the directors claim) the outside world about big riggers.\"\n",
      "* * * * * * * * * \n",
      "2325\n",
      "If you're the kind of movie-goer who enjoys original content and intelligent suspense...then look elsewhere, kids, cause Sleepwalkers really sucks. Usually I'm more eloquent than that, but...wow...this was bad. I especially love it when Charles offers Tanya a ride home, she declines, and then he is seen WALKING HOME. Where's his car?? Anyway, just don't see it, folks. I really want to be more specific, but words escape me. Cats jumping on people. A guy getting stabbed by corn. Cheesey lines up the proverbial \\wazoo\\\". Just don't see it. Wait, I take that back! See it for writer Stephen King's cameo as the guy who owns the graveyard. He's actually pretty good. Even with guest appearances by Mark Hamill and Ron Perlman, King gives the best performance of the film. But, other than that...wow...BAD.\"\n",
      "* * * * * * * * * \n",
      "2413\n",
      "Another made for TV piece of junk! This is an insult of a war movie (I use the word movie in it's loosest possible form!) I thought Telly Savalas's career had hit rock bottom when he did the voice over on that visit Birmingham video that's shown on Tarrant on TV on a semi regular basis, but then I'd forgot he was involved in this! I'd tried to push it into my subconscious memory, but cable TV brought the memory kicking and screaming out of me!! <br /><br />I like the bit (laughs sarcastically!) in the film which claims to be a scene from Liverpool in the forties, but it's blatantly a shot of Zagreb Cathedral in the late eighties. Also the steam train the Commando's are training on shows the JZ (Jugoslavia Zeleznice, or Yugoslav state railways) logo's on the side of the locomotive quite clearly, even though the makers have tried to black them out. Why not just film in the UK, if that's where most of the film is set? <br /><br />Cheap rubbish, and a waste of celluloid!\n",
      "* * * * * * * * * \n",
      "2419\n",
      "Im proud to say I've seen all three Fast and Furious films.Sure,the plots are kinda silly,and they might be a little cheesy,but I love them car chases,and all the beautiful cars,and the clandestine midnight races.And Ill gladly see a fourth one.<br /><br />Wanna know what the difference is between those three and Redline?Decent acting,somewhat thought out plot,even if they are potboilers,and last but not least,directors who have a clue.All three were made by very competent directors,all of them took the films in a different direction,equally exciting.Redline looks like the producer picked out a dozen women he slept with on the casting couch,and made them the extras,then picked up his leads from Hollywood's unemployment line.And the script.Yikes.Its Mystery Science Theatre 3000 bad.This is 70's made for TV movie bad.<br /><br />Yeah,the movie had a few cool cars,but you don't really get to see that many in action,and the action is directed so poorly you cant get excited by the chases,and if the cars aren't thrilling you,why go to a movie like this?<br /><br />Im in the audience with a bunch of teenagers,and I cant stop laughing out loud.Im getting dirty looks,but this was just a debacle.<br /><br />Rent the F&F movies.Go to Nascar Race.Go to a karting track and race yourself.Whatever you do,avoid Redline like bad cheese.\n",
      "* * * * * * * * * \n",
      "2523\n",
      "Kenneth Branagh attempts to turn William Shakspeare's obscure, rarely-produced comedy into a 1930s-era musical, with the result being both bad Shakespeare and bad musical comedy as the actors are rarely adept at one or the other of the two styles and in some cases flounder badly in both. Particularly painful is Nathan Lane, who seems to be under the impression that he is absolutely hysterical as Costard but is badly mistaken, and Alicia Silverstone who handles the Shakespearean language with all the authority of a teenaged Valley Girl who is reading the script aloud in her middle school English class.<br /><br />The musical numbers are staged with the expertise of a high school production of \\Dames at Sea,\\\" leaving the cast looking awkward and amateurish while singing and dancing, with the lone exception being Adrian Lester who proves himself a splendid song and dance man. The only other saving grace of the film are Natascha McElhone and Emily Mortimer's contribution as eye candy, but they have given far better performances than in this film and you'd be wise to check out some of the other titles in their filmographies and gives this witless mess a pass.\"\n",
      "* * * * * * * * * \n",
      "2532\n",
      "Must every good story be \\improved\\\" with added corny Broadway music? Apparently those who can't come up with their own plots think that classic literature is just there for the plundering. I confess that Oliver Twist and similar stories are not my favorites, as it is certainly true that Dickens often wrote things that leave you considerably bummed out, and this was a great example of just that... So of course, take this serious tale and add nauseating music and camp it up with every character from prancing orphan boys to mincing bobbies and suddenly it's uplifting? Argh. Fetch me a basin.<br /><br />The four stars in my rating come from casting, which I could liken to that of My Fair Lady. Each of these films had a cast that a play version could be proud of, but then they must go and have them sing (see complaint above). Unlike My Fair Lady, those singing here could actually do so and they mercifully spared us the singing voice of Oliver Reed (pardon if I'm mistaken, it's been a while).<br /><br />My biggest complaint I've stated. Why embarrass everyone except the truly shameless by putting silly songs into a perfectly good story? Seldom has this been done to good effect. Generally it ruins the story. It did with this one. Jury's still out on whether this story is worth saving, but with all that gadding about, it's impossible to tell.\"\n",
      "* * * * * * * * * \n",
      "2654\n",
      "Patrick Channing (Jeff Kober) is a disciple of Satan / serial killer who possesses the \\First Power\\\": even after being captured by detective Russell Logan (Lou Diamond Phillips) and executed in the gas chamber, he is able to move his spirit from body to body and continue to murder at will. With the help of attractive psychic Tess Seaton (Tracy Griffith, Melanie G.'s half-sister) he attempts to stop Channing.<br /><br />This concept probably had some possibilities, I think, but ultimately \\\"The First Power\\\" suffers from routine scripting and film-making. This is nothing we haven't seen before, sometimes done better. There is nothing about this movie to distinguish it from other supernatural horror thrillers. More to the point, it's not very thrilling and it certainly isn't scary. Phillips is a hard sell as a tough-as-nails, cynical cop stereotype, and Griffith doesn't seem to be trying very hard; best cast member is probably the distinctively featured Kober, doing his best to be supremely creepy.<br /><br />The climax is rather silly and the ending very weak.<br /><br />Not really even acceptable enough to rate as an average film of its kind, therefore:<br /><br />4/10\"\n",
      "* * * * * * * * * \n",
      "2744\n",
      "This is only the second time I stopped a video/DVD part way through.<br /><br />I was willing to give this film the benefit of the doubt at first, even though it managed to be both shallow, clichéd and stupid.. AND joyless, plodding and pretentious.<br /><br />It was like an After School Special directed by that weird grade nine kid who thinks nobody understands him... creepy and sad, with voice-over narration that only the most deluded adolescent would consider poetry... and some singing, and... no, really, the poor child's suffering...<br /><br />Enough, already, especially when it morphed into a brazen, clumsy, and insulting Clockwork Orange ripoff. And did I mention the singing?<br /><br />This isn't the worst film I've ever seen, but certainly the one I've felt least compelled to sit through. I don't recommend it to anyone.\n",
      "* * * * * * * * * \n",
      "2880\n",
      "This movie is one of the most unintentionally bad action films ever put to film. Dolph Friggin' Lundren with a Japanese accent is funny enough, but add really corny buddy-buddy action to the mix, an eccentric and over-the-top villain, a clichéd love interest subplot and one of the worst endings of all time, and you've got yourself quite the little suicide-inducing cure for people who enjoy their life and, up till watching \\Showdown,\\\" had never contemplated killing themselves with a blowtorch.<br /><br />I don't know if it's just me but the whole homosexual subtext is none too subtle. There are constant references to male genitalia, and not by females, either. Brandon Lee and Dolphin talk about each other's manly parts, and in fact before going on a suicide spree, Brandon says to Dolphy, \\\"In case we don't make it, I want to tell you, you have the biggest d--- I've ever seen.\\\"<br /><br />Now, is this what a normal man would say to another man? In an ACTION film no less? And would you want those to be your _dying words_??<br /><br />Later, there's this gem:<br /><br />Dolph (regarding the villain): \\\"I would like to cut off certain parts of his anatomy.\\\" Brandon: \\\"Man, you've got a fixation.\\\" <br /><br />As the guy at RuthlessReviews.com pointed out, \\\"Unfortunately, Dolph doesn't respond with, 'I've got a fixation? I've got a fixation?! You're the one who decided that his last words should be about my privates! I was just gonna chop of his ears and his nose, man.\\\"<br /><br />This is relentlessly silly stuff and great fun if you're someone who enjoys receiving root canals from unlicensed dentists, without novocain. It's about on par. Great fun for the whole family!\"\n",
      "* * * * * * * * * \n",
      "2902\n",
      "This movie has the made for TV stink all over it. Though, it started out with great intentions, featuring great looking sets and authentic props and costumes. The film quickly degenerated into horrible on the nose cheesy dialogue, and rushed TV sappy melodramatic acting. The characters were so sappy that at times I thought that they are about to degenerate into a bilious puddle of goo, and the action was so convoluted and poorly cut that it looked as it the soldiers were merely standing around and taking turns shooting at one another. The Germans were so unrealistically depicted that it was painful to watch. The only thing that the German officers talked about was how wonderful the Americans are. Please take my word for this. I am a huge fan of the war genre, and this movie is crap. Nevertheless, this DVD does have an excellent extra feature, covering letters from the WWI front lines, thus making this rental not a total waste of my time.\n",
      "* * * * * * * * * \n",
      "3102\n",
      "The film looks super on paper. A romantic comedy in which a frantic lover gets dragged into a smuggling thriller should be generic cross-breeding gold, especially with this excellent romcomic cast.<br /><br />I'm afraid Lawrence Kasdan simply gives his two stars too much rope though and they duly go and hang themselves. Adam Brooks' script may well be to blame but you'd expect better from the Kevin Kline of A Fish Called Wanda. Instead the two ping-pong off one another and the unlikely burgeoning romance is never reconciled satisfactorily with the reason either of them are in and dashing around France.<br /><br />Jean Reno co-stars amiably as the cop-with-a-heart and I guess wishes he was a star-with-a-part. Mind you he went on to do those Pink Panther remake(s!) so perhaps he was OK with this... 3/10\n",
      "* * * * * * * * * \n",
      "3117\n",
      "First of all, I'd like to say that I love the \\Ladies' Man\\\" sketch on SNL. I always laugh out loud at Tim Meadows' portrayal of Leon Phelps. However, there is a difference between an 8-minute sketch and a feature-length movie. Watching Leon doing his show and making obscene comments to his listeners and coming up with all sorts of segments for his show, like \\\"The Ladies Man Presents...\\\" which is reminiscent of \\\"Alfred Hitchcock Presents...\\\" is absolutely hilarious. There's a great episode where Cameron Diaz role-plays Monica Lewinski, and Leon plays Bill and they call it \\\"The Oral Office.\\\" See, that's funny!!! <br /><br />In the movie, we don't see Leon on the show too often. In fact, he gets kicked out of almost every radio station in the country. And the plot revolves around his quest for true love, involving a mystery letter that got dropped off at his houseboat, signed by \\\"Sweet Thing.\\\" Karyn Parsons, who is famous for playing Hillary on \\\"Fresh Prince of Bel Air,\\\" works with him on the show and has a secret crush on Leon. The movie just piles on one boring subplot after another. And the gags are boring as well. The first time we see Leon mention the word \\\"wang\\\" it's pretty funny. When he uses it over and over again, supposedly trying to get a laugh, the joke has run dry. Most of the jokes he uses in the film are jokes we heard before, and done better, on the SNL sketch and played out tediously for a whole hour and twenty-five minutes. They even try to insert a musical number by Will Ferrell and his gang of Ladies' Man haters, who all want to destroy him because their wives had an affair with him, to bring some life into this witless comedy. Ferrell has some funny moments, and tries to make the best out of an otherwise unfunny role. Ferrell just has that unique comic talent, and he's funny at almost anything he does. Even Julianne Moore gets a cameo. Watching her, you can't but wonder \\\"What the hell is an Oscar-winning actress doing in this movie??!!!!\\\" Her name wasn't mentioned in the opening credits--probably by her consent. And of course a movie of this theme has to include the Master of Love himself, Billy Dee Williams. Billy Dee is charismatic as always, but even he can't breathe enough life into this film. I also have to add that the soundtrack is full of soft R & B hits, which impairs the film even more, giving it a horribly downbeat tone--as if the script isn't boring enough. I mean, this is \\\"supposed\\\" to be a comedy. The soundtrack would've been appropriate for something like \\\"Love Jones.\\\" <br /><br />\\\"The Ladies Man\\\" only has sporadic laughs. There are exceptions in which SNL can produce a great movie out of a short sketch. Watch both of the \\\"Wayne's World\\\" movies, and you'll see how it's done. But this movie, just like adapting Mary Catherine Gallagher's character to screen in \\\"Superstar,\\\" shows the flip side. Some sketches are meant to be remembered on SNL, and not on the silver screen.<br /><br />My score: 3 (out of 10)\"\n",
      "* * * * * * * * * \n",
      "3192\n",
      "Okay, so the previews to this film only tells you that a rebellious young girl goes to live with her grandmother for the summer in order to straighten out. That is actually not the case! It's about a young rebellious 17 year old girl who reveals a secret and it's up to her mother to believe if she's telling the truth or not.<br /><br />To be honest, I really enjoyed the concept of this movie. They had a really good plot and a really good theme of a love/hate relationship between mother and daughter. I did not however, enjoyed watching Lindsay Lohan's acting. In reality, this movie would have been GREAT if they had someone else, perhaps a better actress. The character of Rachel (Lohan) is a very sexually aggressive person and it sort of reminds us of the real Lindsay so it takes away a lot from the film.<br /><br />I do however, think that if you put Lindsay aside, you will enjoy this film. The ending is pretty great (and sad).\n",
      "* * * * * * * * * \n",
      "3383\n",
      "<br /><br />The main question I pose concerning this film is, how do you film a cole porter musical and only use 3 of his 15 songs! merman and lahr played the lead roles on broadway, here they are replaced by the weaker red skelton and lucille ball. plot changes abound and the fun is lost.<br /><br />SKIP IT.\n",
      "* * * * * * * * * \n",
      "3433\n",
      "Pet Sematary , though a nice 80's Horror movie, with a nice Director and atmosphere, IS a copy of the Italian movie ZEDER by Pupi Avati. It's clear that Stephen King has copied almost all the ideas from this director (the movie Zeder was made before King wrote the book)<br /><br />The cat, the ground, everything was copied, this is a case of plagiary , but, being Stephen Kind a famous American writer , it's totally normal that he can get away with this , it's obviously due to the huge difference between this kind of Italians movies with no -budget (and in part, it's crap itself ... ) but the original idea, I repeat it, it's Italian director Avati<br /><br />Let the world know\n",
      "* * * * * * * * * \n",
      "3458\n",
      "This film is awful. Not offensive but extremely predictable. The movie follows the life of a small town family in the mid-60's. The father, the principal at the school, is going through a mid-life crisis. Enter a pretty teacher from the big city who starts challenging her students' minds with some thought-provoking stuff, like think for yourself. The principal doesn't agree with her teaching but she is pretty. You can connect the dots. His teenage daughter (Winona Ryder wannabe Tara Frederick) is fed up with the small town lifestyle and wants to live. She gets some bad advice, hangs out with some bad boys and apparently family planning wasn't being taught at her school. Shocking! Seeing that director Paul Shapiro has mainly worked in TV, this movie plays like a more adult version of an after-school special or a very special episode of one of the more mundane sitcoms.\n",
      "* * * * * * * * * \n",
      "3614\n",
      "and not in a fun-to-watch way. it's just bad. it's shocking that people have posted positive things about it here. the story sucks, the acting is bad, it's not scary, the special effects aren't special--oh no! the blackboard has hands coming out of it! oh gee--the mirror turned into water! the hair, clothes and makeup in the '50s scenes aren't accurate, and they got a middle-aged man with a receding hairline to play the high-school version of himself. this is like later-on nightmare on elm street stuff. i enjoy sitting down to watch a cheesy horror movie as much as anyone else, but there are better bad ones out there to choose from.\n",
      "* * * * * * * * * \n",
      "3703\n",
      "Munchies starts in deepest darkest Peru (looks more like a dirt road to me) where archaeologist Simon Watterman (Harvey Korman) & his son Paul (Charles Stratton) are on an expedition. Simon thinks that ancient Aztec buildings were in fact spacecraft control centres & he is on a mission to gain proof that alien lifeforms have visited Earth, while in once such structure he discovers a strange small creature which he sticks in his backpack & takes back home with him to the small American town of Sweetwater in California. Simon feels that the creature is the proof he has been looking for & for some inexplicable reason decides to leave the thing at home while he goes to share his discovery. Simon ask's Paul & his wife Cindy (Nadine Van der Velde) to take care of it. Meanwhile Simon's brother & fast-food businessman Cecil Watterman (Harvey Korman again) steals the creature so his brother won't make any money out of it, but his idiotic stepson Dude (Jon Stafford) has a fight with it & chops it up with a knife but the individual parts grow back into separate little creatures that proceed to cause much havoc amongst the townspeople...<br /><br />Directed by Bettina Hirsch this has to be one of the worst horror comedy's ever, if not the worst. The script by Lance Smith is so unfunny it's painful. Every joke in Munchies misses the target by the proverbial mile, I doubt the humour in this piece of crap would even appeal to pre-teens. There just isn't anything even remotely funny or even amusing in Munchies as far as I'm concerned. The basic story is crap too, they just happen to find this creature running around with no explanation of what it is, why no-ones ever seen it before, how it manages to learn English so quickly & how it learns to drive etc. The whole thing is a big Gremlins (1984) rip-off with none of the elements that made that film so good. The character's are moronic, the stupid Deputy (Charlie Phillips) & his dad (Hardy Rawls), Cecil wearing an embarrassing wig & fake moustache & his air head wife Melvis (Alix Elias) & more besides. They just plain embarrass & are ridiculous, I defy anyone to find any of this rancid rubbish funny. Basically Munchies fails spectacularly at being either a comedy or horror & ends up being, yes you've guessed it, crap.<br /><br />Director Hirsch was obviously working with a low budget here & it shows, the entire thing takes place in two houses, the desert, some caves & a miniature golf course. This is really cheap & incompetent film-making. The special effects on the Munchies themselves are really awful, their just dolls that have no movement unless someone off camera pulls a string attached to it's arm. I cannot stress how bad the effects are, these things wouldn't convince my 4 year old nephew (as proved by me & him yesterday!). Total incompetence all the way, this film sucks.<br /><br />Technically the film is terrible, bad special effects, lame production design, rubbish sets & well, just everything's crap. The acting is rotten through & through, from the cops to Korman who has two roles both of which prove he can't act & isn't funny.<br /><br />Munchies is a really bad film that fails in everything that it tries to achieve, sure watch it if you want I won't stop you but just don't say you weren't warned! My advice would be to watch Gremlins again instead, but the decision is yours!\n",
      "* * * * * * * * * \n",
      "3706\n",
      "Having listened to and enjoyed Harvey Bernhard's Omen II commentary I was shocked to discover he was also behind this absolute piece of rubbish. It's like a really bad TV movie you might glimpse in the middle of the day when you have the flu and are too ill to reach the remote. I think at the bit where Michael Lerner is confronted by what I can only describe as a high school cast of Les Miserables my mouth hung open in disbelief. And then my mouth was going up and down because I was laughing so much. Dire. I don't know why I have to write a minimum of ten lines, I have made my point succinctly, there's nothing clever about all this modern verbiage.\n",
      "* * * * * * * * * \n",
      "3720\n",
      "This movie is one of the worst ones of the year. The main characters have no chemistry and the acting is horrible. Paul Rudd is the only one that has any talent, and the only one that is not annoying. I have never watched Desparte Housewives, so I don't know how Eva Longoria is on that show, but in this movie she was horrible. It's like she knows nothing about acting. All her character does is whine throughout the film, and she can't pull off being a b**** and still be entertaining. And the other girl, Lake Bell, displays little emotion and it's like you are looking at the cue cards as she reads them.<br /><br />As for the story, it is so cookie cutter. It goes from point A to B with little surprise. So much more could have been used with Kate as a ghost. The plot should have revolved more around her and the things she does as a spirit.<br /><br />FINAL VERDICT: It's not worth watching.\n",
      "* * * * * * * * * \n",
      "3828\n",
      "In this short an urban man and his wife have their weird lives set akimbo when the man takes to wearing an old red pants suit of his mother in law's.<br /><br />I kept watching this hoping that I could see why it had been made, or why the other reviewers found it funny. For me it was a total waste of time.<br /><br />Not everyone's tastes are the same but this was clearly not to mine.\n",
      "* * * * * * * * * \n"
     ]
    },
    {
     "name": "stdout",
     "output_type": "stream",
     "text": [
      "4039\n",
      "The director, outfitted in chains and leather, warned the audience at the SF Frameline Film Festival Friday night that we were about to see an \\experiental\\\" film. Experimental? Leave the video camera on the back seat of the car, let the tape roll and edit in all the pointless dreck within eyesight. A meandering pastiche road show manqué that starts nowhere and takes the audience no place. The gratuitous violence that opens the movie drove more than one patron from the Castro theater. I would have left, too, but my cine-buddy needed a ride home and has this thing about seeing even the worse merde through to the end. By the time the lights came up the audience had thinned considerably. Tepid applause. Pro forma questions of the director who seemed pleased with the product. Avoid this film!\"\n",
      "* * * * * * * * * \n",
      "4078\n",
      "This film is \\riveting\\\" but in much the same way a car crash is riveting. It's hard to look away. Overall, this film is nothing more than an incredibly irresponsible social experiment--and a futile, biased experiment at that. The filmmakers are manipulative and seem to have no problems going for the lowest possible denominator. The manner in which the money is presented to Ted is pure exploitation. The intervening steps that the filmmakers force Ted to participate in (meeting with so-called experts) were empty and devoid of any substantive attempt to connect with Ted. Instead, it's painfully obvious that they serve to cover the filmmaker's posteriors and to further exploit Ted's situation. The worst part is that the filmmakers stop following Ted after 6 months; and seemingly are cut off entirely from the subject they had followed so closely months before. If they had cared, they would have found better \\\"experts\\\" to help Ted. If they truly wanted to see what Ted would do, then they should have let him spend the money without any intervention. This film is at best a high-brow Jackass stunt and not a documentary. It's sad to think how much $100,000 could have actually changed a homeless person's life had it been put in the right hands.\"\n",
      "* * * * * * * * * \n",
      "4122\n",
      "Power Rangers, the completely awful kid's show from the 1990s still continues to disturb young children with it's complete cheesiness, and awful settings.<br /><br />This show was not entertainment, it was an excuse to teach children violence in showing kids how to fight one another in order to solve their differences.<br /><br />The toys were further demonstration in how to promote a violent television show and such.<br /><br />I have never been able to figure out what the purpose of this completely ridiculous show ever was.<br /><br />As such, it remains one of the worst kids shows ever made.\n",
      "* * * * * * * * * \n",
      "4144\n",
      "I thought this film would be a lot better then it was. It sounded like a spoof off of the spy gener, and the start of it reminded me of Pleasantvil, but this film came up short.<br /><br />The plot is just to ridiculous. The KGB and Soviet Union in Russia have started up a spy school to teach their spies' how to act like Americans, but the town they set up in it for training is a bit dated, so they grab two yanks from the US to spice things up. I don't know, but this seems just to out there. It gets really odd when next to no one in this all Russian town speaks in a Russian accent. Someone screwed up in the casting job.<br /><br />Also, for a comedy this is painfully dry. There is one, two funny spots tops, and they are nothing to sing and dance about. The film in the end will likely put you to sleep.<br /><br />And, as a twisted punch in the face, this film is so pro the US it makes me sick. The movie keeps on saying again and again, the US is God and Russia is the devil. This is the kind of smear campaign that was done against the Japanese in World War 2. It's films like these that makes everyone think that the US is full of itself.<br /><br />This gets a 4 out of 10, and I'm being kind. It should really get a one, but the dance scene was funny, but then again it dragged far to long to be really funny.\n",
      "* * * * * * * * * \n",
      "4147\n",
      "my friend bought the movie for 5 (its is not even 1 cent worth), because they wrote it was like American pie. but we would soon find out that there is a long way from American pie to that piece of crap. it is not even a comedy, its more like a really really really bad documentary. not only the story is bad, the picture and sound also sucks to. they put in some alcohol, chicks, dwarfs and drunken teens. and the result is a disaster. if you see this movie don't buy it, rather spend your money on something else, and better. if you are gonna torture yourself, then don't invite your friend/s, unless you hate really much and you want to get rid of them.\n",
      "* * * * * * * * * \n",
      "4335\n",
      "Janeane Garofalo has been very public in her displeasure about this film, calling it, among other things, anti-feminist. She has also said on her radio show she hates making \\romantic comedies\\\" because she doesn't believe in them. I wholeheartedly agree with Janeane here. This film is a trifle at best. She does her best, but overall, it was just another boring, unbelievable \\\"romantic comedy\\\" that has no basis in the real world. Whereas there will be some who will say \\\"suspend your disbelief\\\", one grows tired of having to suspend it nearly every time you get a romantic film from Hollywood. Janeane's character, for some reason, is usually filmed in shadows and darkness, which makes her look unattractive, while Uma's character is filmed in lighter tones (which probably displeased Janeane and is probably one of the reasons she detests this film). That really hurts the film if we are to buy the premise that Janeane is supposed to be the better looking of the two. As many have said here and on other comment threads, Janeane is not ugly, but in fact, quite beautiful. I haven't read one review where someone said Uma was better looking. Having said that though, I believe that Ben Chaplin's character would more than likely stay with Uma, not Janeane. Many men don't like really intelligent women (and many women don't like really intelligent men), and sadly, Ben probably would have stayed with Uma. And despite the director's attempt to make Janeane unattractive, it doesn't work. Her natural beauty comes through anyway.<br /><br />I think a lot of Janeane's male fans who are obsessed with her like this film because they like to think of themselves in the Ben Chaplin character, and actually scoring with Janeane. Janeane is a lot more complicated than the character she plays here (real life is always much more complex than Hollywood can imagine), so take a cold shower gentlemen. This is the role that Janeane is best known for, and that's a shame, as this really isn't that good of a film.\"\n",
      "* * * * * * * * * \n",
      "4358\n",
      "This is the official sequel to the '92 sci-fi action thriller. In the original, Van Damme was among several dead Vietnam War vets revived to be the perfect soldiers (Unisols). In this one, it's, I guess, about a dozen years later, since Van Damme has a daughter about that age. Now he's working with the government in a classified installation to train the latest Unisols - codenamed Unisol 2500, for some reason. As usual, something goes wrong: the on-site super-computer (named Seth - like the snake in \\King Cobra\\\" the same year) goes power-crazy, takes command of the Unisols, and even downloads its computer brain into a new super-Unisol body (Jai White). We're lookin' at the next step in evolution, folks! Most of Van Damme's fights are with one particularly mean Unisol (pro wrestler Goldberg) who just keeps on comin': drop him off a building - no good; run him down with a truck - no go! Shoot him, burn him - forgetaboutit! Much of the humor is traced to how Van Damme is now outmoded and out-classed(he's even going grey around the edges). But, though he takes a lickin', he keeps on kickin'! Most sequels of this sort are pretty lame - pale imitations of the originals, and while this one is certainly no stroke of genius, it manages to be consistently entertaining, especially if you're a pro-wrestling fan.\"\n",
      "* * * * * * * * * \n",
      "4402\n",
      "I have to say this is an awful movie, for the mere fact that when you see this movie on the guide, it is listed as a documentary. As I watched it, I started laughing, thinking to myself, does this guy actually expect me to believe this is real? So I had to look it up, and now see that it is a movie, but now since it isn't a documentary, it is now a movie with bad acting. SO, either way, it is pretty bad. I actually didn't make it to the end. I had to shut it off. I am a NYC Police Officer, and felt that someone was trying to mislead people into thinking this is a documentary, with the intentions of making money off of a terrible day for me and my coworkers. So, I took it a little personal. Maybe I was blinded by that, and it isn't as bad as I personally think it is. Everyone has their own opinion.\n",
      "* * * * * * * * * \n",
      "4521\n",
      "I read the reviews before i watched this movie, and i didn't believe them. I love crap movies and i expected this one to be average. It wasn't. This film makes Camp Blood 1 and 2 look like greats. The film contains bad acting, poor sound, poor confusing storyline, bad makeup- and it bored me so much i turned it off. even the nudity was rubbish! Did they even have a budget for this film? I don't think they did. You can tell if your gonna like this film or not in the first 5 minutes. if u want a good cheesy gory film go watch toxic avenger 4 or even camp blood. Avoid this trash - I watched it on TV and felt riped off, so don't spend anything on it. The best part is probably the end.\n",
      "* * * * * * * * * \n",
      "4629\n",
      "\\Giant\\\" is one of the most boring, overly-long Hollywood contraptions ever. Many scenes seem utterly fake and without energy. Rock Hudson, Elizabeth Taylor, and James Dean are wasted in this big Hollywood production. A central notion to this movie, that a rancher would ever resist drilling for oil on his land, is absurd, and I know this because I'm from Houston. A couple of scenes, especially Dean serving Taylor coffee, redeem this otherwise boring film. For a much more accurate and interesting depiction about how modernism changed the ranches in Texas, see \\\"Hud\\\" (one of Paul Newman's great performances) or \\\"The Last Picture Show.\\\"\"\n",
      "* * * * * * * * * \n",
      "4673\n",
      "Every movie from the thirties is dated, but if you were to watch only John Ford movies it would seem more dated than if you watched others. i.e. Grand Hotel is comparatively modern melodrama. With Ford, there's always the hard-sell of someone's nobility (Abe, The Joads). Always the over-emphasis of some heavy's badness. Always the poorly crafted, awkward and obvious scripts. This is no exception. It's just a rather belabored device to deliver sentiment. And sentiment is all this has going for it.<br /><br />What Ford does here doesn't make me appreciative of Lincoln, it just makes me wonder how the States were ever settled by the population of complete morons depicted here. Ford went on to make decent movies. This is too dated to be anything but bad. It feels entirely false. <br /><br />Henry Fonda with a fake nose is bizarre. And no one from Illinois would pronounce the trailing 'S,' or say \\Shonuff!\\\"\"\n",
      "* * * * * * * * * \n",
      "4760\n",
      "While not as bad as his game-to-movie adaptations, this hunk of crud doesn't fare much better.<br /><br />Boll seems to have a pathological inability to accept that he doesn't make good movies. One of these days he'll run out of money and stop inflicting the world with his bombs.<br /><br />The acting was sub-par, the dialog sounded like they were reading TelePrompTers and Boll's special little 'touches' were seen throughout the whole thing.<br /><br />Like all Uwe Boll movies, this one just shouldn't exist.<br /><br />Plain and simple.<br /><br />Just like Uwe Boll himself shouldn't exist. >_>\n",
      "* * * * * * * * * \n",
      "4978\n",
      "Disney has now made straight-to-video sequels to a good bunch of their many animated features. Two of these were made for their 1991 classic, \\Beauty and the Beast\\\". Well, these ones aren't really sequels, as they are both set in between the events of the first film. The first of these two straight-to-video films was \\\"Beauty and the Beast: The Enchanted Christmas\\\", which seems to be disliked by quite a few fans of its theatrical predecessor, but I think that can usually be expected with sequels. However, this second one, \\\"Belle's Magical World\\\", is definitely inferior.<br /><br />The film features three short stories, all of which take place while Belle is in the castle, and the place is under the spell of the enchantress. The first is \\\"The Perfect Word\\\", where a misunderstanding at the table between Belle and the Beast leads to trouble, and neither wants to be the first to apologize. The next story is \\\"Fifi's Folly\\\", where Fifi and Lumiere's fifth anniversary is coming up, and Lumiere is unprepared, so Belle helps him. However, Fifi sees Lumiere practicing romance with Belle, and thinks they're actually in love. The film ends with \\\"The Broken Wing\\\". In this story, Belle takes care of a bird with a broken wing, but a bird in the castle will probably mean trouble if the Beast finds out, as he hates birds! <br /><br />The plot description I gave is for the original VHS version of Disney's third \\\"Beauty and the Beast\\\" movie. Apparently, in the DVD version, there is another story added called \\\"Mrs. Potts's Party\\\", but I've only seen the original version. However, since I highly doubt that one story would stand out as a classic over the rest, I see no point in watching the special edition. Anyway, the first thing I will say about \\\"Belle's Magical World\\\" is that the animation is very 2-dimensional compared to what we're used to from Disney, which would obviously disappoint many people. I didn't like \\\"Beauty and the Beast: The Enchanted Christmas\\\" that much, but you certainly can't say the same about its animation. I'm sure the stories in \\\"Belle's Magical World\\\" could entertain many kids (mostly younger ones, I think), and each story has a moral, so they could also teach them some valuable lessons. However, for adults, the film really doesn't have a lot. I personally didn't find any good humour in it, found that the constant conflict between Belle and the Beast got tiring, and the stories did not impress me too much at all in any way (they're not very well written). In \\\"The Perfect Word\\\", the way Belle says to the Beast, \\\"You're acting rude... and foolish!\\\" is a bit cheesy, and I think there are quite a few other cheesy moments in these stories.<br /><br />By the time this straight-to-video movie first came out, I was around eleven or twelve years old. I don't know what I would have thought of it at the time, as I had lost interest in Disney by then, and it would be years before I would gain any of that interest back. Even when this movie was first released, I think I was a bit past the age group it was aimed at. I never saw \\\"Beauty and the Beast: The Enchanted Christmas\\\" until a couple months ago, but unlike that film, I never even heard of this one until recently, I think just after seeing the first sequel to Disney's 1991 hit. Well, as much as I like the theatrical original, I wouldn't have been missing much if I never became aware of this film's existence. For little kids, I'm sure \\\"Belle's Magical World\\\" can be highly entertaining, and probably somewhat educational with its morals, but I do not recommend it for adult Disney fans.\"\n",
      "* * * * * * * * * \n",
      "5001\n",
      "What a fantastic premise: A movie about the Berlin Airlift. It should have it all. Tragedy. Suspense. Comradeship. Rivals. Berliner Frauleins and tough US pilots. love and Tears. What we've got, is a film with none of the above. Heino Ferch tries to impersonate John Wayne or so, but he fails miserably. He acts so wooden, that at any given moment he should crack. He tries to play the tough guy, instead of being a tough guy! Why would Bettina Zimmermann's character fall in love with him? Cause they were throwing stones in a lake? Cause he brings her coal bricks? The SFX are very, very well done. Too much though. The hundreds or so planes over Berlin, look like an attack-fighter-formation-squadron rather than an organised airlift  as it actually was. Interestingly enough, the White House, the Kremlin, and General Lucius D. Clays office seem all to be one and the same dark and dusty set. Notice the same drapes, hanging deep down the windows, as if a protective shield against nuclear fallout. Why is almost every scene INSIDE dark and dusty? By the way, GENERAL LUCIUS D. CLAY, comes across as a small time, insecure, looser General, who doest trust in his own noble idea the airlift. He was very much the opposite. So you combine all those individual blunders and the result is a film with that builds toward no passion, no suspense and no historic accuracy. Sad, it started out so promising",
      "\n",
      "* * * * * * * * * \n",
      "5012\n",
      "I created my own reality by walking out of the theater I was roped in by my girlfriend into going to this dreck with her mom. We (my g-friend and I) walked out about an hour into it. What a load of pseudo scientific new age jargon.<br /><br />Sub atomic particles are thoughts? By taping labels to bottles of water and blessing it by a Buddhist monk it grew little pretty crystals? A drop of 25% in the murder rate in DC happened when a bunch of folks meditated. Wow, what a rigorous scientific study. I'm sure that someone ate cheerios for four days straight during the same time. Should we conclude that eating cheerios caused a drop in the murder rate? <br /><br />Hogwash, hooey, bull pucky! <br /><br />BTW- It was funded by the Ramtha cult, the leader of which was one of the \\experts\\\" which were interview by the filmmakers. No ulterior motives here, right?\"\n",
      "* * * * * * * * * \n",
      "5214\n",
      "This film is quite boring. There are snippets of naked flesh tossed around in a lame attempt to keep the viewer awake but they don't succeed.<br /><br />The best thing about the movie is Lena Olin--she does a masterful job handling her character, but Day-Lewis garbles most of his lines.<br /><br />Kaufman clearly had no idea how to film this. The incongruities in bouncing between domestic household/marriage issues and political crises are badly matched. Character attitudes change without explanation throughout. Badly disjointed.\n",
      "* * * * * * * * * \n",
      "5325\n",
      "This programme bugs me! There is no humour to it and is far too serious to be called \\fun\\\"! It's just far too educational for my liking! The characters are very stereotyped and unappealing. The plots are redundant and the morals are just repeated over and over again. Where's the fun in it? Also I feel this has been on the BBC for far too long and is broadcast way too much. Does it really need to have a slot on T.V every 2 or 3 months when a brand new show runs out of episodes? I think it's time that the BBC starting bringing back some of their older shows like: Inspector Gadget, Bananaman, The Smurfs, Snorks, Moomins, the Raccoons and Count Duckula other than continually giving contracts to these newer shows! I thought the BBC where bring back Danger Mouse, so what's going on with that?! 3/10\"\n",
      "* * * * * * * * * \n",
      "5378\n",
      "Honestly I am not even joking when I say that this is one of the worst movies I have ever seen! This film dosen't have a single ounce of originality in its flimsy dialog or its blatantly plagiarized story line. I can not even begin to count the number of things in this film that are obviously ripped off from \\The Omen\\\" and other movies like it. For example the nanny \\\"Lucy\\\" in this film is actually one of the devil's minions sent to guide and protect the spawn of Satan.....does this sound a lot like Mrs. Baylock to anyone else. Another thing is that the orphanage were they first got the child burned to the ground just a few months after he was adopted, just like in \\\"The Omen\\\". However luckily one priest survived the blaze and escaped with sever burns all over his body....yet another coincidence?????? And to top it all off the burned priest is staying in a hospital room with pictures of Jesus all over the walls, much like the priest in \\\"The Omen\\\" having pages of the Bible plastered on the walls like wall-paper. Please don't even get me started drawing comparisons between the ending of this movie and \\\"The Omen\\\" for you because as I've stated above there are far too many to mention here.\"\n",
      "* * * * * * * * * \n",
      "5379\n",
      "I can see little girls enjoying this show, but calling this a family show is ridiculous. I'm amazed how well remembered it is after all these years. It's an extremely unfunny and stupid show about widowed father of three living with his dead wife's brother and his stupid friend from school, and others as the seasons go on. All of the plot lines generally have a really dumb lesson. In the middle of each episode somebody is mad at somebody else and each episode they make up and it ends on a light unfunny joke. As for the actors, I didn't like them either. Bob Saget was painfully unfunny as the dad with the mom responsibilities. Dave Coulier is a one note joke 30 something year old that does cartoon voices and acts like a kid, and he's horrid. John Stamos was the most tolerable character but he was so clichéd it was hard to watch him. The oldest girl, DJ, on the show was a genuinely bad actress and showed no emotion ever. The middle girl Stephanie was too clichéd as the annoying little sister. The youngest girl Michelle showed what bad actresses the Olsen twins were. You can always tell when they are switching them off. The plot lines to too many story lines were so unrealistically stupid it's cringe worthy. This is a \\family\\\" show that tried to replace any good substance with cuteness and love, and though those are needed for a show about a family they overdid it way too much. This will be remembered as my least favorite sit-com from the 80's and 90's.<br /><br />My rating: Terrible show. TVG 30 mins.\"\n",
      "* * * * * * * * * \n",
      "5520\n",
      "This movie will be a hit with those that enjoy sophomoronic, mindless, explicit bragging about sexual exploits and F... in almost every sentence. Like a good plot? Like comedy? Like romance or other human values? Stay away from Whipped. It was so bad I left after about half an hour. I saw two kids slip in that looked to be about 10 -- very harmful -- this deserves an X.\n",
      "* * * * * * * * * \n",
      "5723\n",
      "Cabin Fever is the first feature film directed by Eli Roth.Roth and Randy Pearlstein co wrote the script from a story by Roth.this a zombie film,which owes a lot to George Romero and his earlier \\living dead movies\\\",and to the original Texas Chainsaw Massacrenot to mention Sam Ramie's \\\"Evil Dead\\\".there is nothing original here,and the story is not compelling.the acting is about par with this genre,it's just that the story fails.we have pretty much seen this movie before and better made.having said that,after having achieved commercial, if not artistic success from this movie,Roth decided he was a director and came out with the abysmally atrocious,mean spirited,pointless(though much more ambitious)crap fest Hostel.Roth should have quit while he was behind.Cabin Fever is not a good film,however compared to Hostel it is a work of art.I hope somebody (preferably a psychiatrist)convinces this guy that film-making is the wrong career choice.as for Cabin fever,a weak 3/10 for not being as abysmal as Hostel.\"\n",
      "* * * * * * * * * \n",
      "5797\n",
      "Take \\Rambo,\\\" mix in some \\\"Miami Vice,\\\" slice the budget about 80%, and you've got something that a few ten-year-old boys could come up with if they have a big enough backyard & too much access to \\\"Penthouse.\\\" Cop and ex-commando McBain (Busey, and with a name like McBain, you know he's as gritty as they come) is recruited to retrieve an American supertank that has been stolen & hidden in Mexico. Captured with the tank were hardbitten Sgt. Major O'Rourke (Jones) & McBain's former love Devon (Fluegel), the officer in command & now meat for the depraved terrorists/spies/drug peddlers, who have no sense of decency, blah, blah, blah. For an action movie with depraved sex, there's a dearth of action and not much sex. The running joke is that McBain gets shot all the time & survives, keeping the bullets as souvenirs. Apparently the writers didn't see \\\"The Magnificent Seven\\\" (\\\"The man for us is the one who GAVE him that face\\\"), nor thought to give McBain even a pretense of intelligence. Even for a budget actioner, the production values are poor, with distant shots during dialog and very little movement. The main prop, the tank, is silly enough for an Ed Wood production. Fluegel, who might have been a blonde Julia Roberts (she had a far bigger role in \\\"Crime Story\\\" than Julia!) has to go from simpering to frightened to butt-kicking & back again on an instant's notice. Jones, who's been in an amazing array of films, pretty much hits bottom right here. Both he & Busey were probably just out for some easy money & a couple of laughs. Look for talented, future character actor Danny Trejo (\\\"Heat,\\\" \\\"Once Upon a Time in Mexico\\\") in a stereotyped, menacing bit part. Much too dull even for a guilty pleasure, \\\"Bulletproof\\\" is still noisy enough to play when you leave your house but want people to think there's someone home.\"\n",
      "* * * * * * * * * \n",
      "5828\n",
      "This show comes up with interesting locations as fast as the travel channel. It is billed as reality but in actuality it is pure prime time soap opera. It's tries to use exotic locales as a facade to bring people into a phony contest & then proceeds to hook viewers on the contestants soap opera style.<br /><br />It also borrows from an early CBS game show pioneer- Beat The Clock- by inventing situations for its contestants to try & overcome. Then it rewards the winner money. If they can spice it up with a little interaction between the characters, even better. While the game format is in slow motion versus Beat The Clock- the real accomplishment of this series is to escape reality. <br /><br />This show has elements of several types of successful past programs. Reality television, hardly, but if your hooked on the contestants, locale or contest, this is your cup of tea. If your not, this entire series is as I say, drivel dripping with gravy. It is another show hiding behind the reality label which is the trend it started in 2000.<br /><br />It is slick & well produced, so it might last a while yet. After all, so do re-runs of Gilligan's Island, Green Acres, The Beverly Hillbillies & The Brady Bunch. This just doesn't employ professional actors. The intelligence level is about the same.\n",
      "* * * * * * * * * \n"
     ]
    },
    {
     "name": "stdout",
     "output_type": "stream",
     "text": [
      "5959\n",
      "John Huston's Wise Blood was a more horrifying misrepresentation of Flannery O'Connor's book than I could have imagined. From the utterly terrible acting performances (and don't you, \\Oh that was done on purpose, you just don't get it\\\" me!) to the musical score that was more suited to an episode of Rockford Files, this film was revolting. I viewed it with no ill-will at the outset, and, in fact, expected a pleasant experience. But the misrepresentation of the southern characters, from the ridiculously fraudulent southern drawl to the lilting, comedic way their faith was portrayed, was inexcusable. Right down to it's end, which was completely devoid of any character sentiment, it failed in every place that O'Connor's book shined and resonated. The actors portraying the \\\"southern\\\" policemen may as well have been eating smothered hot-dogs from NYC street stands and quoting Godfather. The one redeeming acting performance was Ned Beatty's lively and dead-on representation of Hoover Shoates, a religious con-artist who hears Moates preaching the Church of Christ Without Christ and sees dollar signs and business opportunities. O'Connor's powerful book is most well-known for it's creepy, religious undercurrent that jibes the seemingly lifeless cadaver of \\\"Faith\\\". Mr. Huston's film is a shameful mockery of the author's intentions, as they are understood by me and most of her fans, if I may be so bold as to say so. While I acknowledge that I can't know exactly what the author wished to convey, I have enough affection for her and her works to desire to remain a fan. If I viewed Wise Blood the way Mr. Huston apparently did, I would have thrown it in the trash. For Flannery's sake, and mine, I forgive you, John Huston. The forgetting....that will take some time.\"\n",
      "* * * * * * * * * \n",
      "6133\n",
      "I'm afraid that I didn't like this movie very much. Apart from a few saving graces, it's nothing to write home about. <br /><br />J-horror has boomed for the last five-six years but the films themselves have on more than one account been repetitive and carbon copies of a previous success. This is one of them.<br /><br />Basically this is a supernatural slasher movie. The beginning is promising with chilling scenes from a morgue where a dead girl has her eyes graphically sewn together, but soon after opens them. However, after that, it's quickly downhill for this flick.<br /><br />To be kind I will start with the things I like about \\Gawi\\\". On the plus side, the visuals are gaudy and the movie looks great for it's type. For those who like their horror movies gory there are a few nicely executed (no pun intended) murder scenes. We also get a few good suspense sequences/set-pieces.<br /><br />However, there are quite a few drawbacks also...<br /><br />First of all, and my major complaint about this movie, is that the plot skips and jumps forwards and backwards in time with an alarming intensity. Usually that's not a problem for me, but here, where the students look exactly the same no matter what age they are, I was confused on more than one occasion.<br /><br />The performances are okay I guess (a little hard to tell when you don't know the language), but seem a little stiff. And for a horror movie, I don't think it was scary enough. For a while I was quite bored actually.<br /><br />Being a fan of giallo movies, I was expecting quite a lot from \\\"Nightmare\\\", but unfortunately I was quite disappointed.\"\n",
      "* * * * * * * * * \n",
      "6145\n",
      "I regret every single second of the time I lost while watching this movie, really. Unhappily, I always find it hard to switch off a movie once I started watching it. Especially, when it's such a classic or what people use to call a classic. I think that this is one of those movies every movie-lover should have watched at least one time, so that was why I watched it. Don't get me wrong, I like Humphrey Bogart and his wife Lauren Bacall both as a couple and as actors, but this movie was a big fraud in my opinion. No really good plot, neither an espionage flick nor a romantic love story. Well, not even a convincing mixture of both of these genres. Only thing which caused tension was that it was uncertain whether 'Bogey' and Bacall would stay together in the end or part from one another. I think \\To Have and Have Not\\\" is very overrated and Bogart was in many better films during the 1940s.\"\n",
      "* * * * * * * * * \n",
      "6240\n",
      "Last year's remake of 'The Hills Have Eyes' was one of the better attempts to update the vaguely exploitational horror flicks of the 1970s for a new audience. Alexandre Aja allowed for an admirable degree of character development and when the violence started it was mean and savage and all carried out in a landscape of impeccable photography and production design. I was one of the few people who actually thought that it was better than the original and looked forward to a second visit to the particularly dark and cruel world of the savage desert mutants.<br /><br />'The Hills have Eyes 2', released just a year after the original, seems a rushed and ill-conceived attempt to cash in on the franchise with little thought to quality. Jonathan Craven's screenplay could have been written in a weekend, and given the speed with which this movie made it into cinemas, probably was. It falls back on every hackneyed genre cliché in the book while offering absolutely nothing new to the desert mutant mythology. I always let out a groan of disappointment when a sequel replaces civilian characters with the military. Soldiers are always so lazily written and never fail to thoroughly bore with crude caricatures of strutting macho bullshit. In my mind, 'Aliens' was the only movie to successfully make such a transition, due to James Cameron's talent, not simply for directing the best action sequences around, but never forgetting that an audience has to care about the people being butchered. He was also ably assisted by some genuinely talented actors. With 'The Hills have Eyes 2', it's clear that video director Martin Weisz is no James Cameron, and the cast of television bit-parters haven't the talent or even the inclination to turn their cardboard cutout characters into anything approaching living, breathing human beings.<br /><br />Needless to say, every character is a broad and generic cliché. They act in dumb and illogical ways, making dumb and illogical decisions that lead them to predictably dumb and illogical deaths. The latter half of the movie becomes just another tedious chased-through-dark-corridors scenario. 'The Descent' (on which Sam McCurdy, coincidentally, also worked as cinematography) proved that even this most derivative of sequences can still be carried out with genuine originality and suspense, but we see no such innovation here.<br /><br />'The Hills Have Eyes 2' is just a very lazy movie, devoid of any suspense, tension, or surprise, with not a single individual involved remotely interested in producing anything of quality. It's a tame and tired excuse for a sequel and deserves to spend the rest of its life in a Blockbuster's bargain bin.\n",
      "* * * * * * * * * \n",
      "6294\n",
      "When I first picked this film up I was intrigued at the basic idea and eager to see what would happen. I'm a fan of animation and love it when it's successfully merged with live action footage. However, the animation in this film was about all I enjoyed. Although it must be said that the actors' performances were excellent. The visual look - including the animation - gave a wonderfully unnerving air to the piece. However this was quality of unease was lost amongst the overblown imagery, both visual and in the script, that you were practically hammered over the head with. Most annoying about this was the relative lack of importance to the plot. It seemed that the plot was shoe horned in at irregular intervals giving a stuttering effect that detracted massively from the flow of the piece. The voice overs from Felisberto - especially the one at the end - very much felt like a desperate attempt to fill in gaping holes in the plot which had been ignored in favour of side issues such as the whole ant thing (and even that wasn't properly addressed). I'm afraid the whole piece came across as, at best, a 'reasonable first attempt', by a teenager who has spent far too much time reading DH Lawrence. Not what you expect from seasoned film makers at all.\n",
      "* * * * * * * * * \n",
      "6378\n",
      "Corky Romano has to be one of the most jaw dropping and horrific \\comedy's\\\" ever made.<br /><br />While the sometimes amusing Chris Kattan who pulled off a very funny performance in the hilarious 'Undercover Brother' his character in Corky is so stupid and so unfunny-which is a shame since the premise is a wonderful idea. To bad they ran out of them when they got to page 3 on the script.\"\n",
      "* * * * * * * * * \n",
      "6690\n",
      "The progression of the plot is enough to \\rope one in\\\" and create curiosity about the outcome. However, ultimately, the feeling that remains is that the producers of the movie forgot to end it. If the intention was to create a perpetual circle (occasionally done in the Twilight Zone), it was too sloppy to view as a positive effort.\"\n",
      "* * * * * * * * * \n",
      "6755\n",
      "Jack Frost, no kids it's not the warm hearted family movie about a dad who comes back from the dead in the form of a snow man. It's about a sadistic killer named Jack Frost who is sprayed with some acid fluid and is morphed into a killer snow man. I happened to catch a copy of this movie so I could have a nice sit back and laugh at it. A killer snow man? Ha, sounds like the perfect comedy/horror movie! Well I was wrong, very wrong.<br /><br />Jack Frost is about a killer who is being transported via truck to jail so he could fry in the chair at midnight. But it's a snowy night and it collides with a government tanker carrying a new DNA fluid. Jack escapes only to be burnt to death by the acid and morphs into a killer snowman. He returns to the small town of Snowmonton where he was caught by a small time sheriff. Here he is ready to kill again, now as a snow man with cooler powers. He can condense into water, shoot out ice cycles as spears, and grow killer fangs. The only question is, who can stop Frost? This movie is below the typical B-Movie line. The movies begins cheesy but as soon as Jack is burned by the acid, it quickly drops below the cheese line and goes flat. The acting for one is appalling! Here we have a whole cast of unheard of actors who either can't act, can act but has a pointless character, or is just here for a few extra bucks. The only good actor is Scott MacDonald who plays Jack. He looks like a young Richard Kiel combined with Frankenstein. Sadly his appearance is only reduced to three minutes and all we ever see of him is his new snow man form and his wise cracking voice. Plus his wisecracks are anything but funny. Groaning, stupid, and bad.<br /><br />The plot is horrible! Throughout history there have been numerous murderers. A killer in a hockey mask, a killer with a razer glove, a chainsaw wielding moron, a rapid St. Bernard, but now we stoop to a tacky killer snow man? Oh come on! And the way the characters are introduced are terrible. For one I really wanted Jack to kill the sheriffs son, I mean giving his dad oats with Antifreeze in them so they won't freeze? All the characters are dumb and pointless and the deaths are to cartoony. One woman in strangled with Christmas lights and has her head smashed into a decoration box and a girl is humped to death in the shower (where is the carrot in that scene eh?).<br /><br />And to top of this horrible movie is the special effects. The first big special effect we have is Jack's DNA mixing in with snow and boy is it terrible. I mean it looks like a 60's fashion of art design, PU! Jack looks fake as well. He looks like a person covered with rubber snow man skin. All the blood and gore is cheesy and the film never takes off with greatness but instead stoops to low levels.<br /><br />Jack Frost is one of the worst slasher movies ever made. I thought it would be a riot but no! It doesn't try to be funny and it actually tries to be scary. Jack Frost gets 4 out of 10, it at least made me laugh from it's awfulness. Don't even bother with this piece of trash. Jack Frost= D+\n",
      "* * * * * * * * * \n",
      "6797\n",
      "This is a bad movie. Not one of the funny bad ones either. This is a lousy bad one. It was actually painful to watch. The direction was awful,with lots of jumping around and the green and yellow hues used throughout the movie makes the characters look sickly. Keira Knightly was not convincing as a tough chick at all,and I cannot believe Lucy Liu and Mickey Rourke signed on for this criminal waste of celluloid. The script was terrible and the acting was like fingernails across a chalkboard. If you haven't seen it,don't. You are not missing anything and will only waste two hours of your life watching this drivel .I have seen bad movies before and even enjoyed them due to their faults. This one is just a waste of time.\n",
      "* * * * * * * * * \n",
      "7000\n",
      "Basically, take the concept of every Asian horror ghost movie and smash it into one and you get this movie. The story goes like this: a bunch of college kids get voice mails from their own phones that are foretelling their deaths. There's some s*** going on with ghosts, which if you've seen any Asian ghost movie, isn't scary by now. This movie was quite upsetting because it's very clichéd. It's the same bullcrap, different movie.<br /><br />The acting was pretty good. Unfortunately the actors are put into a very Ring-esquire situation, so it's nothing we haven't seen in the past. The two lead acts did a solid job though.<br /><br />As far as gore, there's not much going on. We get a cool sequence that includes an arm twisting a head off (I don't know how else to explain that), but it was cut away so you don't see anything except the final result. You see some blood at times, including decapitated arms and a zombie (that looked really cool I might add), but this movie isn't too bloody.<br /><br />The scares in the movie are few and spread out, and it's really not that scary. You'll get some creepy images at times, but it's not enough for me to consider scary. It's nothing different from Ringu, Ju-On, or Dark Water, and none of those scared me either. That's really the downfall of this (and most Asian horror movies) is that if it doesn't deliver the scares then it's just not that good.<br /><br />As far as directing, Takashi Miike still did a pretty good job. He seemed a little tamed in this movie compared to his past movies, but he still portrays a lot of his messed up style he's become famous for. A lot of images were a lot like Miike (including a scene with a bunch of jars of dead fetuses), and the last 15 - 20 minutes seemed far more Miike then the rest of the movie. Still, the movie is flawed by its unoriginality.<br /><br />I would recommend this only to people who are huge on Asian horror movies (even if you are, I can recommend much better) or big Miike fans. Warning to those who want to get into Miike, this is NOT his best work.<br /><br />I'm giving it a 4 because it's just mediocre. Perhaps if this was released 4 or 5 years ago it might be worth a higher rating.<br /><br />Also, I'd like to b**** about Asian horror movies real quick. How come if it's an Asian horror movie it's automatically suppose to be good over here (US)? A LOT of these movies are the equivalent in Japan to what Scream, Urban Legends, and I Know What You Did Last Summer were over here in the 90's. If you've seen one you've seen them all. And a lot of these movies rely way too much on scares and imagery that if it doesn't deliver the scares they set out to do then they're just not that good, and nothing would change that. More Asian horror films need to be more like Audition and A Tale of Two Sisters, two movies that if they don't frighten or scare you, at least they have great stories, acting, direction, cinematography, and much more to back them up. Two movies that aren't just great horror movies, but great movies in general. More Asian horror movies need to be like these instead of the cliché, \\A ghost just wanted to be found so it went around killing people through their phone/video tape/house/electric appliance/water pipes/google search engine/vibrator/groceries/etc.\\\"\"\n",
      "* * * * * * * * * \n",
      "7003\n",
      "A remake of the superb 1972 movie of the stage play, nicely casting Caine as the nemesis of his character from the first movie. But doing nothing else nicely at all.<br /><br />A under-parr performance from the actors, Law and Caine, diluted further by weak self-indulgent direction.<br /><br />The warmth of the setting in the original is forsaken for a super-modern homesetting. The subtle interplay between Oliver and Caine which made the first movie so watchable, is replaced with a horrid, brash arrogance that instantly breeds disdain in the viewer. But this is not the clever, to-ing and froing of liking one then the other character the original fostered so well, this is an obvious OTT character assassination of both character from the word go.<br /><br />This version of Sleuth is not really worth seeing, watch the original film and be dazzled from the opening act.\n",
      "* * * * * * * * * \n",
      "7056\n",
      "Spoiler!! I love Branagh, love Helena Bonham-Carter, loved them together in \\Mary Shelley's Frankenstein\\\" - but THIS -<br /><br />I can understand an actor's desire to stretch, to avoid the romantic stereotype. Well, they did, but really - the script droned on, Bonham-Carter's clothes were tres chic, and the occasional speeded-up \\\"madcap\\\" sequence could have been an outtake from a Beatles' movie, or the old Rowan and Martin Laugh-In.<br /><br />I never got the point - other commenters say the Branagh character was a dreamer. I never felt that. He was a loser, and not very bright, and certainly not endearing. The business with the bank robber disguise was merely painful to watch. Certainly not amusing.<br /><br />Bonham-Carter's realistic (one supposes) attempts as realistic speech were harder to understand than the first 15 minutes of Lancashire accent in \\\"Full Monty.\\\"<br /><br />The poetic ending, with him high on a hill with her buried under the monstrosity of his airplane was too orchestrated. Was there a choir of angels, or merely a soundtrack?<br /><br />Go back to the classics or something with a spine and an arc to it. Donate this to PBS.<br /><br />\"\n",
      "* * * * * * * * * \n",
      "7207\n",
      "this movie was so gay like its a mom and son cat that have sex, they also get scared of little kitty cats. they get set on fire by them. the mom cat alien thing kills a guy by stabbing him in the back with an ear of corn? they are bullet proof. invisible. and what not. the star of the movie, Clovis, is the cops cat, Clovis leads the cops to find the mom alien, and after the mom kills the cops, Clovis kills the mom by eating her head then she catches on fire. this movie sucks. it was way way more funny than it was scary, it wasn't even scaryt at all. the girl hits the alien on the head with a camera, it knoks him out. she then goes and hugs her. the then grabs her and begins to rape her. once again, Clovis comes to the rescue\n",
      "* * * * * * * * * \n",
      "7230\n",
      "I really must watch a good movie soon, because it seems every other entry or so is something that I despise. However my history speaks, I must not tell a lie. Bobby Deerfield and everything about it sucks big green banana peels. I never thought that I would see a film thud as thunderously as this one did. Al Pacino isn't acting in this film: he's posing. There are many, many scenes of his character, who is a race car driver, just staring at the camera. He's perfectly awful. Marthe Keller is just as bad. These two are supposed to be in a love affair, and there is simply no chemistry whatsoever. Sydney Pollack directed this film? There's no trace of the genius behind Tootsie here. Is this the same man I cheered for in Eyes Wide Shut? I can hardly believe it. Save yourself a horrible movie experience. Run, don't walk, away from Bobby Deerfield.\n",
      "* * * * * * * * * \n",
      "7309\n",
      "Note: I couldn't force myself to actually write up a constructive review of Prom Night. It just can't be done. Instead, I went through what I thought about while watching the movie.<br /><br />Things that I thought about while watching Prom Night: <br /><br />-I'm so tired of those dreams where these elaborate deaths will take place, only for the main character to wake up right before she bites it. Of course, when I say \\elaborate deaths\\\", I mean off screen throat slashes or stabs in the stomach. Didn't the whole \\\"it's just a dream\\\" thing get ruined by Dallas? Speaking of which, I wonder if a couple stabs in the gut will cause immediate death.<br /><br />-The film is only ten minutes into and I can already count the horror clichés on two hands. Not a good sign.<br /><br />-Even after just meeting the protagonist's boyfriend, I'm convinced he will die. Anybody want to place bets? <br /><br />-The killer in this movie is a teacher that is obsessed with the main character, Donna. (By the way, does anybody think that \\\"Donna\\\" is a horrible name for a main character in a horror film?) He spends three years in a maximum security prison before breaking out and finds Donna celebrating her high school prom. While there is no accounting for taste, I seriously wonder who would take all that time to stalk somebody as dull as Donna.<br /><br />-High schools allow proms to take place at hotels and doesn't keep track of the students. Apparently students are perfectly able to buy a hotel room and go in and out as they please. I suppose if this plot point wasn't in place, the movie would be 90 minutes of people being bored out of their mind and randomly biting the dust whenever they go to the bathroom. I suppose the trade-off for their excitement is my utter boredom with everything. I've already played \\\"count the pieces of chewed bubble gum under the seat\\\" and \\\"guess how much money I have in my wallet\\\" and I'm only in the 20 minute mark. How else will I entertain myself? <br /><br />-Note to self: Don't forget milk and bread on the way home.<br /><br />-Dear screenwriter: You've used up enough false scares to get through this movie and every other horror remake this year.<br /><br />-The 1980 version of this film wasn't that good but compared to this remake it was like Citizen Kane, or at least The Godfather. It had Jamie Lee Curtis in one of her many post-Halloween horror flicks and it did have a little \\\"twist\\\" at the end. I miss Jamie Lee. I wish she'd act more.<br /><br />-Apparently at prom there isn't much dancing going on. Instead the girls get in fights with their boyfriends over where they plan to attend college. I hear all these colleges being brought up by name, and I can't help but wonder who these girls have to cheat off of on the entrance exam to get in.<br /><br />-The killer must carry a bag of really effective cleaning supplies and wipes up his mess between scenes. That's the only logical explanation for why he could stab somebody to death on the carpet or in the bathroom and by the time somebody goes up to the hotel room, there is no trace of a struggle. (On another side note: This is a very lazy killer. Michael Myers went hunting after his victims. Just saying.)<br /><br />-It's official: the entire audience in the theater is rooting on the killer. What triggered it? Was it whenever Donna went back up to her hotel room while sirens were going off ordering everybody to exit the building? Was it her constant dreams, and how even after going through something dramatic in said dream she insisted on reenacting her steps to a tee? Or was it Brittany Snow's unconvincing performance? I'll have to say it was all of the above.<br /><br />-Okay, who had \\\"he dies off screen in the third act\\\"? You win the pot.<br /><br />-Finally, the movie is over. My friend turns to me and says \\\"Donna wasn't too smart.\\\" That's the understatement of the week. Kind of like saying that a tornado is a small gust of wind, or a week long power outage is a slight inconvenience.<br /><br />-I can't wait to get on Rotten Tomatoes and see if anybody gave this move a favoring review.<br /><br />-I can't recommend this. I refuse to recommend this. This is as lazy of a horror film as any, and the only way to enjoy its cheese smelling plot is if you are under the influence of at least ten beers. And unfortunately for theater patrons, alcohol isn't served.<br /><br />Rating: * out of ****\"\n",
      "* * * * * * * * * \n",
      "7364\n",
      "The stranger Jack (Matthew Lillard) arrives in the studio of the crook collector of antiques Max (Vincent D'Onofrio) and tells his ambitious companion and specialist in poisons Jamie (Valeria Golino) that he is Jack's brother. Jamie does not buy his story, dominates Jack and ties him up to a chair. When Max arrives, Jack proposes US$ 100,000.00 for each one to protect him in a negotiation of the antiques \\Spanish Judges\\\" with a wealthy and dangerous collector. Max invites his stupid acquaintance Piece (Mark Boone Junior), who comes with his retarded girlfriend that believes she is from Mars, to compose the backup team. However, Jack double-crosses the collector and then he intrigues Jack, Jamie and Piece.<br /><br />The low budget \\\"Spanish Judges\\\" is a movie with a reasonable screenplay with an awful conclusion that wastes a good cast. Valeria Golino is astonishingly beautiful but together with the good actor Vincent D'Onofrio, they are not able to save the stupid story. Further, the scenes that are supposed to be funny unfortunately do not work, and actually they are silly and not funny. My vote is three.<br /><br />Title (Brazil): \\\"Tudo Por Dinheiro\\\" (\\\"All For Money\\\")\"\n",
      "* * * * * * * * * \n",
      "7400\n",
      "Typical thriller, has been done many times before. Simple plot outline; cop Liotta becomes obsessed with Russell's wife, and he tries to bump off good ol' Kurt so he can have her. This is beyond predictable, it doesn't even try to make you guess, the plot is the plot and there's no thinking outside the box here. I guess then the only reason to watch it is to see how it develops, but nothing is done originally or interestingly. There's not really anything to say about this film, it's not particularly bad, but there's no good points either. Russell plays Russell and you know what you're gonna get when you see him in a film. Ditto Liotta. Stowe has an annoying Cher-esque voice. I read the plot outline and I could see the film in my head, it was so obvious and basic. I watched it and it rolled out in front of my eyes exactly as I had imagined. I felt not a drop of emotion throughout. I have no feeling towards this film, it's as if I never even watched it. Considering this, it's a pretty pointless film isn't it? Still, I'll give it 3/10 for some reason.\n",
      "* * * * * * * * * \n",
      "7429\n",
      "This show comes up with interesting locations as fast as the travel channel. It is billed as reality but in actuality it is pure prime time soap opera. It's tries to use exotic locales as a facade to bring people into a phony contest & then proceeds to hook viewers on the contestants soap opera style.<br /><br />It also borrows from an early CBS game show pioneer- Beat The Clock- by inventing situations for its contestants to try & overcome. Then it rewards the winner money. If they can spice it up with a little interaction between the characters, even better. While the game format is in slow motion versus Beat The Clock- the real accomplishment of this series is to escape reality. <br /><br />This show has elements of several types of successful past programs. Reality television, hardly, but if your hooked on the contestants, locale or contest, this is your cup of tea. If your not, this entire series is as I say, drivel dripping with gravy. It is another show hiding behind the reality label which is the trend it started in 2000.<br /><br />It is slick & well produced, so it might last a while yet. After all, so do re-runs of Gilligan's Island, Green Acres, The Beverly Hillbillies & The Brady Bunch. This just doesn't employ professional actors. The intelligence level is about the same.\n",
      "* * * * * * * * * \n",
      "7462\n",
      "I watched DVD 1 only. The program proper may have 10 minutes of good information; otherwise it's snotty putdowns of religious people. It's as if director Brian Flemming only recently discovered both atheism and sarcasm, and feels with these tools he can easily bludgeon his opposition.<br /><br />Also, Flemming wanders extensively into his own personal issues, and they take over the movie. It never gets back on topic.<br /><br />Religious people are prone to discount skeptics when their objections to religion are obviously rooted in abusive upbringings. Arguments from such victimized people seem irrational, and therefore unconvincing.<br /><br />Anti-religious people will want more data. We don't need to be told that religious people are nutty, any more than American Jews need to be told how annoying Christmas music gets by mid-December.<br /><br />In the best scene, the Superintendent of Fleming's childhood Christian school rather insightfully confronts the director on his motivations. That seems like the most honest part of the movie, and it was too short.<br /><br />If Fleming were a bit more self-aware, he might have a good story in him about his own (past & current) relationship to Christianity, and the abusive institutions that indoctrinated him in his youth.<br /><br />And perhaps he could lend his \\Christ never walked the earth\\\" material to a more serious documentarian. I'm not studying the writings of Saul/Paul to find out how air-tight this all is, but a quick browse of Wikipedia suggests most of these arguments are discredited.<br /><br />The bonus interviews are pretty good, tho they don't bolster Fleming's thesis much. Sam Harris is a good spokesperson for the anti-religious POV, and he doesn't go light on those other, non-Christian religions. Harris also has some good (and easily Google'd) interviews on Salon.com , Amazon.com , and Samharris.org .\"\n",
      "* * * * * * * * * \n",
      "7624\n",
      "The main problem with the documentary \\Czech Dream\\\" is that isn't really saying what it thinks it's saying.<br /><br />In an audacious - I hesitate to use the word \\\"inspired\\\" - act of street theater, Vit Klusak and Filip Remunda, two student filmmakers from the Czech Republic, pulled off a major corporate hoax to serve as the basis for their movie: they deliberately fabricated a phony \\\"hypermarket\\\" (the Eastern European equivalent of Costco or Wal Mart Super Store), built an entire ad campaign around it - replete with billboards, radio and TV spots, an official logo, a catchy theme song and photos of fake merchandise - and then waited around to see just how many \\\"dopes\\\" would show up to their creation on opening day. They even built a makeshift façade to convince people that the store itself actually existed.<br /><br />One might well ask, \\\"Why do such a thing?\\\" Well, that's a very good question, but the answer the filmmakers provide isn't all that satisfying a one. Essentially, we're told that the purpose of the stunt was to show how easily people can be manipulated into believing something - even something that's not true - simply through the power of advertising. And the movie makers run for moral cover by claiming that the \\\"real\\\" (i.e. higher) purpose for the charade is to convince the Czech people not to fall for all the advertisements encouraging them to join the European Union. Fair enough - especially when one considers that the actual advertisers who agree to go along with the stunt declaim against the unethical nature of lying to customers, all the while justifying their collaboration in the deception by claiming it to be a form of \\\"research\\\" into what does and does not work in advertising. In a way, by allowing themselves to be caught on camera making these comments, these ad men and women are as much dupes of the filmmakers as the poor unsuspecting people who are the primary target of the ruse.<br /><br />But, in many ways, the satirical arrow not only does not hit its intended target, it ironically zeroes right back around on the very filmmakers who launched it. For it is THEY THEMSELVES and NOT the good-hearted and naturally trusting people who ultimately come off as the unethical and classless ones here, as they proceed to make fools out of perfectly decent people, some of them old and handicapped and forced to travel long distances on foot to get to the spot. And what is all this supposed to prove anyway? That people are \\\"greedy\\\" because they go to the opening of a new supermarket looking for bargains? Or that they're stupid and gullible because they don't suspect that there might not be an actual market even though one has been advertised? Such vigilance would require a level of cynicism that would make it virtually impossible to function in the real world.<br /><br />No, I'm afraid this smart-alecky, nasty little \\\"stunt\\\" only proves what complete and utter jerks the filmmakers are for making some really nice people feel like idiots. And, indeed many of them, when they finally discover the trick that's been played on them, react with a graciousness and good humor I'm not sure I would be able to muster were I to find myself in their position.<br /><br />I'm not saying that the movie isn't gripping - something akin to witnessing a massive traffic accident in action - but, when the dust has finally settled and all the disappointed customers return red-faced and empty-handed to their homes, we can safely declare that they are not the ones who should be feeling ashamed.\"\n",
      "* * * * * * * * * \n",
      "7670\n",
      "This seems like one of those movies that we think we should like, but I didn't. It seemed to be trying way too hard to be 'artsy'. All flash, with no content. It has some beautiful scenes, and any one of them are nice to watch, but tack them all together and it becomes an arduous task just to sit through it. I rented this because of the glowing reviews on the video carton, and the fact that I'm a big Shakespeare fan, but I was very disappointed. I just found it a bit pretentious and, at times, boring.\n",
      "* * * * * * * * * \n",
      "7703\n",
      "I enjoyed the first reviewer's comment far more than I did the film when I saw it at a second-run theatre in the early '80's. I was impressed then by the care taken to create costumes modelled so closely after the Tenniel drawings. But to me, the cast was largely squandered, their personalities muffled by the masks, while the direction I think of as being unusually static, and the photography murky. The rating jotted down at the time was a nought, which means \\not worth sitting through even once\\\".<br /><br />Still, I too would jump at a chance to have a second look.\"\n",
      "* * * * * * * * * \n",
      "7737\n",
      "Once in a while you get amazed over how BAD a film can be, and how in the world anybody could raise money to make this kind of crap. There is absolutely No talent included in this film - from a crappy script, to a crappy story to crappy acting. Amazing...\n",
      "* * * * * * * * * \n",
      "7898\n",
      "Worst movie on earth. I don't even know where to begin but I hope I can save another person from punishing themselves with this movie. When it comes to acting and lighting, this movie is similar to a bad porno without the sex. The actors are some of the worst I've ever seen, and couldn't have been worse even if they were trying to make a complete mockery of this movie. The movie must have had a record breaking low budget which I'm sure was wasted almost solely on the movie's cover. This movie has now become a running joke with friends of mine and has become the standard for comparing other garbage movies. I would like to point of that no other movie even begins to compare. I feel personally responsible for suggesting a friend and me watch this movie and am surprised she still considers me a friend after the torment I put us through. Don't see this movie!\n",
      "* * * * * * * * * \n",
      "7927\n",
      "one of the worst films i have seen to date. Pathetic action scene and really bad acting also do not help. The only good point is Gary busey's parts but this does not lift the film very much. it lives up to its B film ranking and passes the test with flying colours. A waste of my money although i found entertaining to begin with its gets annoying after a few watches. i do not recommend this film unless you watch it for free or its a gift. ( a gift you can ask for the receipt and send back for a complete refund).<br /><br />Really BAd.<br /><br />1/10.\n",
      "* * * * * * * * * \n",
      "7973\n",
      "I had the greatest enthusiasm going in to the advance screening for this movie. After all, this is one of the oldest and most complex tales known to mankind, and it was one of the first epic tales I read as a kid (even before Tolkien). I must say that IT WAS A HUGE DISAPPOINTMENT. They completely made the plot into a joke and turned the thing into one long soap opera. The elements that WERE faithful to the plot were sprinkled throughout in such a haphazard manner that the audience was laughing at many times at the silly script that just paid lip service to this battle of all battles. It was a huge disappointment to see a complex character like Achilles (who has a strange combination of nearly Matrix-like powers, utter ruthlessness and male lovers in the original poem) turn to \\Fabio on the beach\\\" in the guise of Pitt (who with a good script and more effort could have turned this into the most complex and original warrior figure Hollywood has ever produced). The actors were actually decent, trying to make the best of a ridiculous script. It was actually a waste of so much talent (Peter O'Toole stole the show, and Orlando Bloom and Sean Bean were pathetic). Compare it to LOTR or Gladiator and it doesn't even hold a candle to them. Plenty of hunks for the ladies to goggle over but not enough battle scenes for a movie that is about one long battle and siege. I wouldn't recommend that anyone pay to see this story dragged through the dirt like one of the characters was (at least they got that part right).\"\n",
      "* * * * * * * * * \n",
      "8219\n",
      "This movie is the perfect illustration of how NOT to make a sci fi movie. The worst tendency in sci-fi is to make your theme an awful, sophomoric, pseudo-Orwellian/Huxleyan/whateverian \\vision\\\" of \\\"the human future.\\\"<br /><br />Science fiction filmmakers (and authors), as geeks, take themselves very seriously given the high crap-to-good-stuff ratio of their genre. I think other genres with a high CTGSR (yes, I just made it up, relax), like horror or action or even romantic comedy, seem to have a little better grasp of the fact that they are not changing the world with some profound \\\"message.\\\"<br /><br />Sci fi can certainly be successful on a serious level, as numerous great filmmakers have proven. But there is an immense downside to the whole concept, which is represented by \\\"Robot Jox,\\\" with its low-rent construction of \\\"the future\\\" (lone good design element: the bizarre, slick-looking billboard ads all over the place that encourage women to have more babies) and its painfully heavy-handed \\\"Iliad\\\" parallels (He's NAMED ACHILLES FOR GOD'S SAKE! I actually didn't pick up on this until I saw the film for like the tenth time, but I went to public school, so the filmmakers are not exonerated.)<br /><br />Of course, if you're a crazy movie freak like me, this downside has a great upside. I absolutely LOVE movies like this, because bad movies are quite often more fun and sometimes even more interesting than good ones. It's kind of a Lester Bangs approach to movie viewing, I guess.<br /><br />Note: The lead in this movie (Gary Graham? Is that his name? I refuse to go check.) is really not that bad. He makes a go of it. He's kind of cool, especially when he's drunk/hung over.\"\n",
      "* * * * * * * * * \n",
      "8435\n",
      "This movie is horrible. THe acting is a waste basket. No crying, no action, hopeless songs. Though the scenery is great. I have always wanted to go to Greece.<br /><br />Anyway, as for Saif, you'd expect a great performance, but even he let down the people.<br /><br />Akshay Kumar, recognized as the pimp of Bollywood and the voice of Singhs. He was sensational in this movie. For only this performance, Filmfare should introduce another award. The toiletries award for the worst performance. By the way the trophy should be a toilet seat.<br /><br />Kareena Kapoor. She first of all is not comparable to her sister Karisma. In acting, in looks, or in body. She now wants to prove to herself that she surpasses her. She comes into this movie wearing bikini's and tank tops and short shorts. I really wonder why Saif Ali Khan is letting his wife-to-be dress like that. But, she must've impressed some people dressing like that. And if you ask how, then consider every man is having an erection watching this movie. They are dreaming of having Kareena Kapoor in bed naked with a condom. Including me. Personally I think that she dressed like a whore, but I really liked it.<br /><br />I am forced to give it a 1/10, but I'd really give this movie a 0/10. An unachieved film.\n",
      "* * * * * * * * * \n"
     ]
    },
    {
     "name": "stdout",
     "output_type": "stream",
     "text": [
      "8542\n",
      "This movie proves that you can't judge a movie by the awesome artwork on the DVD cover. It also goes to show that you should learn more about a movie before you buy it (or get it for someone at Christmas). The beginning of this movie actually looks somewhat promising. Well, until you meet the characters. Pumpkin Jack (the old guy from down the street) brings the college co-eds a book full of witch's spells that he leaves at their annual haunted house (where the movie takes place). After that there is some drinking, fighting, and soft core porn. Then the action of the movie finally takes place after over an hour.<br /><br />Overall, Hallow's End was predictable, unsuspensful, and reminiscent of a soft-core porn. This movie is probably best viewed with a group of friends who have nothing better to do, as it is a good movie to make fun of. And for first-time viewers, it is really fun making predictions of the order of people who die.\n",
      "* * * * * * * * * \n",
      "8658\n",
      "It a bit peculiar that a story that is placed in a part of Oslo where a very high percentage of the local residents is from an Asian background does NOT EVEN SHOW ONE ASIAN OR AFRICAN person, not even as an extra. That fact probably describes Norwegian race relations in general. - However.<br /><br />NO SPOILERS - ONLY A BRIEF INTRODUCTORY DESCRIPTION:<br /><br />Buddy portrays four young people living in a flat-share in Oslo. The protagonist are two young men that don't manage to direct their life in any serious fashion, and one might say that the film could be about being indecisive and avoiding responsibility - a sort of fear of growing up. The narrative plays on typical teenage dreams and fantasies and lifestyle role models. Quite the cliché. Although the story is mildly funny, the acting is good and as a 'young person' one can sort of identify with the characters `crazy' situations and complicated love affairs, I don't find the story or the characters very believable. To polished and lacking in depth. This film uses all the classic audience pleasing tricks to make an entertaining film that has as much intellectual depth as `Friends' (yes that show on TV).<br /><br />Has Norwegian film finally found its identity?: Audience pleasers in well known American style.<br /><br />How about watching Lukas Moodysson's Tillsammans (Together).\n",
      "* * * * * * * * * \n",
      "8697\n",
      "I've come to realise from watching Euro horror, especially films made by cult luminary Jess Franco, that you can't expect a plot that makes much sense. However, Franco has gone overboard with this film; and despite a surreal atmosphere, and the film's reputation as one of the director's best - Succubus is unfortunately is a truly awful film. I've got to admit that I saw the American cut version, which runs at about 76 minutes; but unless it was just the logic that was cut, I'm sure the longer European version is just as boring. The plot has something to do with a woman marauding around; practicing S&M and talking rubbish, and it's all really boring. There's no gore and the sex is dull, and most of the runtime is taken up by boring dialogue and despite the fact that this is a short film; I had difficulty making it all the way to the end. I have to say that the locations look good and Franco has done a good job of using his surreal atmosphere; but the positive elements end there. Jess Franco is definitely a talented director that has made some classic trash films - but this looks like it was one he made for the money, and overall I recommend skipping it and seeing some of the director's more interesting works.\n",
      "* * * * * * * * * \n",
      "8724\n",
      "Polyester was the very first John Water's film I saw, and I have to say that it was also the \\worst\\\" movie I had seen up to that point.<br /><br />Water's group of \\\"talent\\\" included several people who I am sure worked for food, and were willing to say the lines Waters wrote. Every thing about the movie is terrible, acting, camera, editing, and the story about a woman played by 300 lb transvestite Divine was purely absurd.<br /><br />That said, I have to recommend this film because it is very funny, and you won't believe the crap that happens to poor Francine. Her son huffs solvents and stomps unsuspecting women's feet at the grocery store. Her daughter is the sluttiest slut in town. Her husband is a cackling A-hole of a pornographer who does everything in his power to embarrass and humiliate poor Francine.<br /><br />Francine's only friend is played by Edith Massey, possibly the worst actress ever. Edith looks and sounds like she is reading the lines off a cue card and has never seen the script prior to filming.<br /><br />Despite all of Francine's travails, Waters cooks up a fabulous Hollywood ending and everyone (who survives) lives happily ever after.\"\n",
      "* * * * * * * * * \n",
      "8902\n",
      "I get it the Diehl character is s'posed to be a microcosm of America itself - seeing Arab terrorists under every rock, only to find out at the end that it's his own actions all along that got him into that siege state and truly if he practices good-will to all men everything will be rainbows and lollipops. Sorry Wim you have made amazing movies in the past that stay neutral of the politics and for good reason, polemics are your weak point and they weaken this a well-made, amazingly filmed movie with absurd characters, dialog and plotting. Better luck on your next flick. Another thing that yanked my crank was the belabored point of the homeless section of LA being there for reasons of hunger, these people don't get enough to eat. Truly these folks aren't eating regally but the real hunger these folks is a spiritual hunger, an emotional hunger, a mental hunger. They need self-respect, self-worth, dignity which you can't give a man. Yeah those folks are hungry and if they need it it is available. Less the center for hunger in America, I would say it's more the center for alcoholism, drug-abuse, mental suffering and economic devastation. Dealing with hunger although a noble endeavor is band-aiding a more profoundly systematic societal and age-old human problem of homelessness. Bill Diehl was good though and Michelle Williams was cute as the young yet (cliched) old soul.\n",
      "* * * * * * * * * \n",
      "9162\n",
      "I saw this film at the Rotterdam Festival, as did presumably all the other voters. The Director was present and seemed to have worked very hard and be very committed to the project, which I think explains the above average reception and mark it got. It's most similar to a feature length episode of Aussie kids favourite \\Round the Twist\\\" but it takes itself too seriously to have even that redeeming feature. The movie in itself is maybe worth seeing if you're trying to do a cinematic world tour visiting all UN member states, as I can't think of another Fijian movie but overall it was generic, poorly acted (albeit by an amateur cast) and prey to the subaltern mentality. The moral of the story seemed to be that native islanders will try and screw each other over, but as long as there is an essentially decent white governor to step in, all problems can be solved (by leaving the island).\"\n",
      "* * * * * * * * * \n",
      "9238\n",
      "The line is funnier in England, where, away from Vixen!'s native America, the word \\fanny\\\" has a whole new meaning. Sadly, it's the only laugh you'll get in this terrible sex comedy that is neither sexy nor funny.<br /><br />Oddly unalluring with painted-on eyebrows, Erica Gavin (Acting ability: zero) is a nymphomaniac who lusts after her own brother, but rejects his black friend while making derogatory remarks about watermelons. As if in revenge, he asks her if she would go with a Shetland pony. Reference is also made to \\\"making it with monkeys\\\". Gavin's ability to shake and tremble with orgasmic pleasure at the slightest touch is matched only in it's lack of appeal by her seduction dance  which involves a bonfire and a haddock. Personally, I preferred the haddock.<br /><br />For '68 this was pretty tame stuff, and belies the controversy it attracted at the time. A character claims to be \\\"getting stoned\\\", though it's only on bourbon, and for one of the original \\\"X\\\" certificates, there's no full frontal nudity. Just six years later we would be getting Timmy Lea and his Confessions, but here we have to make do with topless shots. Only Gavin's final seduction of her own brother really shocks. Another activity for Vixen is where she helps settle the sexual problems between a married couple by sleeping with them both. The two women clearly aren't enjoying acting out their scene together, and make a poor effort to disguise it. After Vixen irons out their disharmony, the romantic husband concludes of his wife \\\"I guess she's got it coming to her!\\\"<br /><br />The only near-worthwhile segment involves an unusual discussion of Cuban Communism. It seems out of place with the rest of the film, though is spliced with shots of Gavin's breasts to rope it in to continuity. This then leads into a vague anti-Vietnam stance, which is commendable, though dropped in the middle of such a frivolous film it seems trite and insensitive, not to say downright tasteless. Incidentally, the part of would-be Communist Niles Brooke is taken by Harrison Page, the same Harrison Page who played Captain Trunk in amusing comedy Sledge Hammer! Page must be embarrassed by his back catalogue (Which also includes Meyer's Beyond The Valley of the Dolls), though Meyer apologists would have you believe the terrible dialogue, lousy acting, sloppy direction and dire editing are not just part of the charm, but wholly intentional. As a defence, it fails to hold water.<br /><br />The irritating incidental music  a cross between the tunes they play in cinema restaurant ads and muzak used by TV stations when the transmission breaks down  is omnipresent and intrusive; while even the silly, amateurishly skewed camera angles can't generate interest. A wonderful world of jazz saxophones, where women have been \\\"asking for it\\\", black men  or \\\"shines\\\"  aren't good enough for anyone, and rape is an acceptable form of revenge. Absolutely abysmal.\"\n",
      "* * * * * * * * * \n",
      "9273\n",
      "\\When a small Bavarian village is beset with a string of mysterious deaths, the local (magistrate) demands answers into (sic) the attacks. While the police detective refuses to believe the nonsense about vampires returning to the village, the local doctor treating the victims begins to suspect the truth about the crimes,\\\" according to the DVD sleeve's synopsis.<br /><br />An inappropriately titled, dramatically unsatisfying, vampire mystery.<br /><br />Curiously, the film's second tier easily out-perform the film's lackluster stars: stoic Lionel Atwill (as Otto von Niemann), skeptical Melvyn Douglas (as Karl Brettschneider), and pretty Fay Wray (as Ruth Bertin). The much more enjoyable supporting cast includes bat-crazy Dwight Frye (as Herman), hypochondriac Maude Eburne (as Aunt Gussie Schnappmann), and suspicious George E. Stone (as Kringen). Mr. Frye, Ms. Eburne, and Mr. Stone outperform admirably. Is there another movie ending with a mad rush to the bathroom? <br /><br />Magnesium sulfate",
      " Epsom salts",
      " it's a laxative! <br /><br />**** The Vampire Bat (1933) Frank Strayer ~ Dwight Frye, Melvyn Douglas, Maude Eburne\"\n",
      "* * * * * * * * * \n",
      "9319\n",
      "I appreciate a think positive feel good about yourself film, but this is too much. In the end they look like a bunch of loonies. This film is one of those finding yourself 70's plots, I know the film is made in 1980. A lot more of Clint and girl friend movie. This movie is a 3/10.\n",
      "* * * * * * * * * \n",
      "9374\n",
      "I cringed all the way through this movie. First of all, the idiotic plot has little to do with Parson's own story. Hollywood has attempted to create a kind of comedy car chase movie. Imagine \\Englebert Sings Hendrix\\\".<br /><br />Do not take anything about this movie to be accurate. The name Parsons in the title and stealing of his body is just used as springboard for a low budget chase movie, a blatant attempt to grab a few bucks from the Parsons legacy and his fan base. Gram's father had long since been dead in 1973, the other global characters are fictional, none of this has anything to do with Grams life or death.<br /><br />If you are a Gram fan, I advise you to not see this movie. I wish I hadn't. It's saddening to see something special be treated as such disgracing fodder. I'd swear I could hear Gram turning in his grave while the movie was playing. If you are not familiar with Gram's life and legacy, do not take anything in this movie as being representative of Gram.<br /><br />I cannot say enough bad things about this movie. If Gram were alive and saw this movie, he would kill himself. Then again, maybe he'd be afraid to if he knew this movie were to result.\"\n",
      "* * * * * * * * * \n",
      "9529\n",
      "Good grief! While I still maintain that Manos: The Hands of Fate is the worst piece of mental torture available, Hobgoblins came awfully close. This...this...thing insults the audience at every opportunity.<br /><br />At least films like Space Mutiny and Future War can be enjoyed on mst3k, this one was a struggle to get through. I was literally writhing on the couch in anguish. This thing managed to embarrass me - alone!<br /><br />Even if you are a die-hard MST3K fan and have made it your mission to see every single experiment, think twice about seeing this one.<br /><br />It's that bad.\n",
      "* * * * * * * * * \n",
      "9531\n",
      "The sight of Kareena Kapoor in a two-piece bikini is about the only thing that wakes you up from your sleep while watching Tashan  the mega-disappointing, mind-numbing new film at the cinemas this weekend. Bad films are bad films and we see some every week, but Tashan is not just a bad film, it's a terrible film. Terrible because it takes its audience for granted, terrible also because the filmmakers expect to get away without a plot or any common sense only because they've got big movie stars onboard.Written and directed by Vijay Krishna Acharya, Tashan is what you'd describe as a road movie, but one that's going in all the wrong directions. Saif Ali Khan stars as Jimmy Cliff, a call-centre executive who's hired to teach English to Bhaiyyaji - that's Anil Kapoor playing an ambitious UP gangster, desperate to go cool. Jimmy's got his eye on Pooja, the gangster's pretty young assistant (played by Kareena Kapoor), who uses Jimmy to swindle her boss of 25 crore rupees. Determined to recover his money and also to punish both Jimmy and Pooja, Bhaiyyaji recruits his most trusted henchman to do the job. So you have Akshay Kumar as Bachchan Pandey, the gangster's faithful aide from Kanpur, who tracks down the culprits and recovers the stolen money that's hidden across the length and breadth of the country.Much like those bad eighties potboilers, Tashan too is held together by a threadbare script centred on a vendetta plot. But the treatment's so over-the-top, so indulgent that it fails to establish any connect. Instead of a coherent screenplay or a traditional three-act structure, you get a handful of set pieces around which most of the scenes are loosely constructed. That garish item song in the desert, the bullet-dodging action scene at a Rajasthani fort, Kareeena's bikini moment, even that ridiculous climatic action scene complete with shaolin monks, a water scooter zipping through a dirty naala, and believe it or not, even a Dhanno-style horse-driven tonga. In all fairness, not all these set pieces are badly done - the item song in the desert is quite neat actually - but very little of it makes any sense in the larger picture, because you're just going from one piece to another without any help from the script really. Little do you expect in a seemingly fast-paced road movie, to find a sickeningly sentimental flashback track about childhood sweethearts.You see the problem with Tashan is nobody associated with this film knew what film they were making. What's more, I don't think they cared either - the film reeks of arrogance. Arbitrarily packing in elements of every genre without actually bothering to stop and see if the mix does work, Tashan is like an overcooked stew.There are films that kill you softly, and then there's Tashan, a film that kills you with excess. Packaged snazzily with glossy-finish camera-work, exotic locations and fancy costumes, every frame of the film probably cost lakhs to put together, but it still feels like a hollow piece in the end because the story doesn't hold. Borrowing narrative from Tarantino and style from Stephen Chow doesn't help either because they don't blend with the film's wafer-thin plot. One may have complained a little less if the characters were more engaging, but Anil Kapoor's grating Hinglish dialogue makes you want to slit your wrists, and Saif Ali Khan fumbles through the film foolishly, unable to find his feet. Kareena Kapoor, meanwhile, queen of over-the-top delivery, does a decent job. But of course, if Tashan is salvaged to some extent, it's thanks to Akshay Kumar's irresistible presence and his spontaneous approach to the character. You cringe when he's cupping his crotch repeatedly, and you scowl when he delivers those double-meaning dialogues, but not for a moment can you take your eyes off the screen when he's up there.Despite some good music from Vishal-Shekhar, the songs seem like they're only prolonging your misery. Well that's because Tashan is a test of your patience. In case you didn't know, Tashan means style. I'm sorry to say, this film has none.\n",
      "* * * * * * * * * \n",
      "9578\n",
      "Well, I had to be generous and give this a 2. This was mainly due to the gratuitous holes cut in that lady's shirt where her breasts are. I found that mildly amusing. Other than that, this movie does nothing more than provide a few good laughs with a friend. Funny if you're willing to throw \\mystery science theatre\\\" comments at it with someone, but it ain't no better than a 2. And a 2 pretty much sucks.\"\n",
      "* * * * * * * * * \n",
      "9655\n",
      "The only thing that kept me from vomiting after seeing this movie was the fact that these are just actors and not the freak show that usually appears on the TV show. This is also the main reason that fans of the TV show won't like the movie, but not the only reason. This movie has about as much entertainment value as getting a root canal. It approaches the abyssmal depths of bad movie making, and then gets even worse. I won't waste your time describing this movie in further detail; suffice it to say that I pity the poor camera people who had to suffer through watching this c**p the first time.\n",
      "* * * * * * * * * \n",
      "9811\n",
      "What an incredible fall for Sean Ellis.<br /><br />You gather a bunch of your friends at home, all hyped about the follow up work of Sean Ellis. You have an vague idea of the plot, no spoilers that could kill the fun, very high expectations.<br /><br />It is late at night, perfect atmosphere for a movie of this type.<br /><br />15minutes passes and you start telling yourself it is bound to pick up, at 25mins you start wondering if you should just go to sleep and save this for another time when you can fully appreciate the expected not existent subtle touches. Over the half hour mark you realize half of your your hyped up audience is already asleep and call it a day.<br /><br />A few days later when you exhaust all other material to watch you go back to this, in the middle of the day this time, hoping your mood will keep you awake this time. 10 minutes later you find yourself fastforwarding the unbelievably and needlessly long intermediate transitions and images. Any other stuff I would have given up already but there is cashback and its legacy. But that legacy can only carry you so long, this is a new level of boring movie-making, imagine a short story extended to a novel with just descriptions, this is what it is.<br /><br />Decent cast is wasted, there is no cinematography that leaves you in awe like cashback either. There are films that annoy you, there are films that lack certain aspects, or just cheesy, unfortunately this is just a waste of time.<br /><br />Final words, stay away.\n",
      "* * * * * * * * * \n",
      "9947\n",
      "I thought \\Intensive Care\\\" was quite bad and very unintentionally funny. But at least not as bad as I thought it might be. Sometimes it's somewhat suspenseful, but never a good shocker.<br /><br />SPOILER AHEAD<br /><br />The fun lies in ridiculous moments. But the all-time classic moment is this: Peter (Koen Wauters) is stabbed and beaten by the killer. He lies moaning in the corner of the hallway. Amy (Nada van Nie) kneels beside him and asks \\\"Poor Peter, shall I get you a band-aid?\\\".<br /><br />This movie was shot in Dutch and English. To spare costs, all license plates are USA, and the background in the news studio is a skyline of Manhattan. Very funny if you're Dutch and watching the original version in Dutch.\"\n",
      "* * * * * * * * * \n",
      "10136\n",
      "Terrible story, poor acting and no humour at all (apart from the final joke at the end)<br /><br />Some sort of ugly angel is sent to earth to save a boy and his mum from being thrown out of their home. Supposed to be a kiddies movie, but even they will not be amused by this terrible film\n",
      "* * * * * * * * * \n",
      "10222\n",
      "Me and a friend rented this movie because it sounded really good. But we were wrong. First of the acting....wow...the acting was the worst, the effects were really bad as well, it seemed like a film a college kid made. The plot was pretty good, but it'd been done. The thing that ruined the movies the most were the actors. The main guy was the worst actor ever...it's a shame I'm even calling him an actor...The only good thing about this movie was it was so bad it was funny...so if you want a good laugh see it....but other than that...stay far away from this one. I usually love B list movies and such, but this one... I do not know how it was passed to even be put on video...this one is the worst I've seen..and I've seen some bad ones.\n",
      "* * * * * * * * * \n",
      "10233\n",
      "OK. So it's a low-budget \\film\\\" (I used the quotes because it was shot in Hi-8 video). The acting is universally horrid, the makeup is laughable (the blood looks like it came from Sherwin-Williams and I've seen more convincing bruises made from halloween ghoul kits), and the lighting generally looks like they used someone's borrowed Toyota pickup to shine headlights on the actors.<br /><br />I might be able to forgive these low-budget traits if there were some actual content, if a movie made an attempt to tell a story. But this collection of video footage can boast of no plot, no real characters, and no momentum. It's a self-indulgent mess.<br /><br />And don't worry -- no spoilers here, 'cause there's absolutely nothing to spoil.\"\n",
      "* * * * * * * * * \n",
      "10238\n",
      "Wow-this one sucks. I'm gonna sum it up as quickly as possible. <br /><br />A count invites 4 naive sluts back to his castle. A bunch of nothing happens for a long time. Some lame and un-erotic soft-core sex scenes happen. Some girls get their heads cut off (off-screen)-The End.<br /><br />The only things going for this one are the decent looking sets and costumes, some bad dubbing which leads to some unintentionally funny dialogue, and a few brief nudie shots. And believe me-those things are not enough to redeem the 90-minutes of tedium that this film is. In fact-the best part is the tacked on beginning from the distributor that features some slutty goth chicks covered in blood and showing their tits-and again-this is definitely not worth the price of admission for this garbage. As everyone else has noted- the title of the film is completely nonsensical-as there's absolutely no bloodsucking, nor dancing of any sort in the film at all. It may as well have been called 'The Goat-Raper Leads the Circle-Jerk'-and at least then it would have had a better title that also pertains to nothing in the film. An accurate title would have been '90 Minutes of Torture'-another alluring title that would have at least been truthful...for the viewer. Honestly-the trailer that's on the disc shows all the best parts (and i use the term 'best' extremely loosely...) so I highly suggest watching that instead if you're still curious.  I can't imagine anyone liking this wreck of a film-please take my advice and leave this one on the shelf. 2/10 \n",
      "* * * * * * * * * \n",
      "10296\n",
      "This movie features a gorgeous brunette named Danielle Petty. She has stunning green eyes, and is in the first few scenes and the last scene. She is the only thing about this movie that is not repulsive. She may not have a future as an actress, because this kind of movie is the kind of offensive disaster that kills careers.<br /><br />The movie itself has absolutely nothing to recommend it. It is not a good horror film, or a good fake journalistic report, or remotely well done. There is no skill apparent in it's production. It is like a bad student film. The story's horrific elements do not make you sick, it is the fact that it is so poorly done that makes you sick. I would give this movie ZERO stars if I could.\n",
      "* * * * * * * * * \n",
      "10302\n",
      "The director states in the Behind-the-Scenes feature that he loves horror movies. He loves them so much that he dedicated the movie to Dario Argento, as well as other notable directors such as George A. Romero and Tobe Hooper. Basically dedicating this movie to those great directors is like giving your mother a piece of sh*t for Mother's Day. The first thing they did wrong was the casting. CAST PEOPLE THAT CAN ACT. Also, don't cast a person that is 40 years old for the role of a misunderstood, 18 year old recluse. That's right, he's been in high school for 22 years. The reactions made by people as they watch their boyfriends get their hearts ripped out is amusing. Or like one part when a guy gets stabbed in the ear with an ear of corn (haha get it), and his girlfriend just goes, \\Oh..my.. God?\\\" The scarecrow himself is quite a character. Doing flips off cars and calling people losers.<br /><br />The movie does have one redeeming factor... oh wait, no it doesn't.<br /><br />If you absolutely MUST see this movie, than just watch the Rock and Roll trailer on the DVD. It covers about everything and has a really gnarly song dude.\"\n",
      "* * * * * * * * * \n",
      "10328\n",
      "this animated Inspector Gadget movie is pretty lame.the story is very weak,and there is little action.most of the characters are given little to nothing to do.the movie is mildly entertaining at best,but really doesn't go any where and is pointless.it's watchable but only just and is nowhere near the calibre of the animated TV show from the 80's.it's not a movie that bears repeat viewing,at least in my mind.it's only about 74 minutes long including credits,so i guess that's a good thing.unlike in the TV show,the characters are not worth rooting for here.in the show,you wanted Inspector Gadget to save the day,but there,who really cares?anyway,that's just my opinion.for me Inspector Gadget's Last Case is a disappointing 3/10\n",
      "* * * * * * * * * \n",
      "10622\n"
     ]
    },
    {
     "name": "stdout",
     "output_type": "stream",
     "text": [
      "A very good story for a film which if done properly would be quite interesting, but where the hell is the ending to this film?<br /><br />In fact, what is the point of it?<br /><br />The scenes zip through so quick that you felt you were not part of the film emotionally, and the feeling of being detached from understanding the storyline.<br /><br />The performances of the cast are questionable, if not believable.<br /><br />Did I miss the conclusion somewhere in the film? I guess we have to wait for the sequel.<br /><br />\n",
      "* * * * * * * * * \n",
      "10673\n",
      "Just a stilted rip-off of the infinitely better \\Murder, She Wrote\\\", it is absolutely amazing that this poorly-written garbage lasted for a full eight years. I'm sure most of the people who watched this unentertaining crap were in their sixties and seventies and just tuned in because they had nothing better to do, or simply remembered its star from the old Dick Van Dyke Show. Van Dyke, who only had a decent career in the 1960s, never was much of an actor at all (by his own admission) and he was already far too old to play a doctor when the series began in 1993. He looks absolutely ancient as a result of years of chain smoking and heavy drinking. His talentless real life son Barry, a wooden actor who has rarely been in anything that didn't involve his father, plays his son in the series.\"\n",
      "* * * * * * * * * \n",
      "10694\n",
      "This movie is very important because suggested me this consideration: sometimes you can wish to be sick ... sometimes you can wish to have a syndrome ... sometimes, for example, you can wish have Goldfield Syndrome... that way you'd not remember this boring movie ... and above all you'd not remember Adam \\superfluos\\\" Sandler... sometimes, simply, you can wish... have rented another movie...<br /><br />My vote? 3 out of 10. My suggestion? If you are neither a fan of boring romantic comedies or Adam Sandler (...it's a joke don't exist Adam Sandler's fan...I want to hope it), save yourself... Someone to save? Drew Barrymore. ... perhaps.\"\n",
      "* * * * * * * * * \n",
      "10846\n",
      "The story and the show were good, but it was really depressing and I hate depressing movies. Ri'Chard is great. He really put on a top notch performance, and the girl who played his sister was really awesome and gorgeous. Seriously, I thought she was Carmen Electra until I saw the IMDb profile. I can't say anything bad about Peter Galleghar. He's one of my favorite actors. I love Anne Rice. I'm currently reading the Vampire Chronicles, but I'm glad I saw the movie before reading the book. This is a little too\\real\\\" for me. I prefer Lestat and Louis's witty little tiffs to the struggles of slaves. Eartha Kitt was so creepy and after her character did what she did The movie was ruined for me; I could barely stand to watch the rest of the show. (sorry for the ambiguity, but I don't want to give anything away) Sorry, but it's just not my type of show.\"\n",
      "* * * * * * * * * \n",
      "10853\n",
      "This one acts as a satire during the women's rights movement era. Of course, that doesn't mean COACH (the movie) is a wonderful experience to behold. It runs into the same vein as FASTBREAK (which was better, but still tame), and is basically standard fare fluff. What I mean for this movie being uninteresting is simple to recognize. Anybody who serves time away from a normal job by training a bunch of lunatics earning their way to sudden victory makes waste. It's the same feeling you may get after watching this. A nice attempt at casting the opposite sex for a man's duty, but I expected better things.\n",
      "* * * * * * * * * \n",
      "10879\n",
      "This film is predictable; it is more predictable then a Vinnie Testaverdi pass, when he huts the ball for the Jets. One saw the ending coming up halfway through the film. The politics reminds me when I was back east. Many people know when the fix is in. I gave this four because of the acting, but the story is lame.\n",
      "* * * * * * * * * \n",
      "10916\n",
      "Whoever wrote the script for this movie does not deserve to work in Hollywood at all (not even live there), and those actors need to find another job. The most dreadful hour and some minutes of my life... and I only kept watching to see if it would get better which, unfortunately for me it did not.<br /><br />Even at the end, the credits gave me anxiety. I guess there weren't a lot of people behind the movie so they had to roll the credits slowly... very slowly.<br /><br />This movie is definitely a great \\How Not To Make a Movie\\\" guide. Too bad I can't give a 0.\"\n",
      "* * * * * * * * * \n",
      "11031\n",
      "I've been reading posts here concerning Wonder Woman's costume for this TV movie. It should be pointed out at the time the movie was made, she wasn't wearing her traditional outfit. The producers were actually sticking to the comic book writer's conception of WW for the early seventies.<br /><br />As for the movie itself, I have to agree with many of the other posters here. Snoozefest! I was a kid when it appeared on ABC in 1974, so I was at the right age to have appreciated a movie about a comic book hero. Yet I was so \\engrossed\\\" with the plot, I stopped watching it three quarters into the movie.<br /><br />Of course, I wasn't at the right age to appreciate Cathy Lee! :-)\"\n",
      "* * * * * * * * * \n",
      "11061\n",
      "Too Much of Something Borrowed Grade B-<br /><br />Super Bowl Sunday is one of the slowest days at movie theaters every year. Because of this, movie studios tend to avoid releasing bigger budgeted films that weekend. Every few years a studio releases a counter-programming female skewing movie (2001's \\The Wedding Planner\\\") to compete with the big game. This Super Bowl weekend similarly titled \\\"The Wedding Date\\\" will try to find success and attract viewers not watching the game. <br /><br />Sick of people feeling sorry for her, single-woman, Kat Ellis (Debra Messing, TV's \\\"Will and Grace\\\") hires male escort Nick ( Dermot Mulrony, \\\"About Schmidt\\\") to pose as her boyfriend for her sister's wedding in London. Her family has been giving her a hard time about her not being married, and her ex- fiancé of seven years, who dumped her without a reason, is the best man. To make him jealous Kat parades Nick around her ex to make him see what he is missing. But ultimately Nick helps Kat realize that she can open up, and let someone love her.<br /><br />The film borrows too much from similar wedding movies. It is almost a carbon copy of 1999's \\\"Picture Perfect\\\" and mixes in scenes similar to \\\"The Wedding Planner\\\" and \\\"My Best Friends Wedding\\\". The movie also has a reverse \\\"Pretty Women\\\" theme going for it, and knowing her audience, the director makes clever references to that and other films.<br /><br />\\\"The Wedding Date\\\" has all the clichéd elements of a typical wedding movie, there is the stereotypical overbearing mother (Holland Taylor, \\\"Legally Blonde\\\"), and practically plagiarized wedding speeches by the family and friends at the wedding and rehearsal dinner. The twist at the ending has been done before, but it was something that wasn't completely expected. The real reason why Kat was dumped comes as a surprise and changes the direction of the film for the last half hour.<br /><br />Even though \\\"The Wedding Date\\\" is predictable, it is able to stand on its own. Debra Messing, in her first lead role, proves she can be charming and funny. Dermot Mulrony has great chemistry with Debra Messing, but most of his dialogue was too corny and unrealistic. He is able to make best of what he is given, and be able to salvage the character. <br /><br />By the use of many clever puns (often sexual), the film is actually funny. Although primarily a chick-flick the film has components everyone can enjoy. The feel good story, and humor make it the best date movie released in a long time.\"\n",
      "* * * * * * * * * \n",
      "11084\n",
      "Closer to reality and containing more depth than \\Breakdance\\\", Stan Lathan's \\\"Beat Street\\\" is still a pretty dull show. Again this pic is really only cashing in on the 'breakin' craze but at least we get a little bit of entertainment from the plot, which concerns the lives of three young friends and a younger brother, all growing up in Queens, New York. Each has their own unique talent. One is a hustler, one a d.j., another an artist who creates 'burners', while little bro' Lee is a hot 'hip hop' dancer.<br /><br />Lathan is unable to generate any real audience interest in the story though, and his young cast are likewise struggling with their characters. Therefore it is left almost entirely to the funky music and the 'fresh' dancing to save the day.<br /><br />Choreography is again sharp for both club and street scenes, but this alone is not enough to lift \\\"\\\"Beat Street\\\" to greater heights. Unfortunately the film really falls flat late on, after showing a glimmer of hope that it just might get interesting.<br /><br />Sunday, August 25, 1996 - Video\"\n",
      "* * * * * * * * * \n",
      "11085\n",
      "This is to the Zatoichi movies as the \\Star Trek\\\" movies were to \\\"Star Trek\\\"--except that in this case every one of the originals was more entertaining and interesting than this big, shiny re-do, and also better made, if substance is more important than surface. Had I never seen them, I would have thought this good-looking but empty; since I had, I thought its style inappropriate and its content insufficient. The idea of reviving the character in a bigger, slicker production must have sounded good, but there was no point in it, other than the hope of making money; it's just a show, which mostly fails to capture the atmosphere of the character's world and wholly fails to take the character anywhere he hasn't been already (also, the actor wasn't at his best). I'd been hoping to see Ichi at a late stage of life, in a story that would see him out gracefully and draw some conclusion from his experience overall; this just rehashes bits and pieces from the other movies, seasoned with more sex and sfx violence. Not the same experience at all.\"\n",
      "* * * * * * * * * \n",
      "11124\n",
      "A memorable line from a short lived show. After viewing the episode where that line was introduced my fraternity intramural flag football team started using the line to break our huddles on offense. Instead of Ready / Break, our quarter back said FOOTBALL and the rest of the squad responded YOU BET! A fun way to break the huddle that had our opponents scratching their heads as very few of them had watched the show. Using this line added a unique element to our season that I'll never forget. We had our best season during my time in college that year and in a small way it was due to the fun that we had using this line. The show was pretty much a stinker but it lives on in the memories of the 1977 Pi Kappa Phi intramural flag football squad at West Virginia Tech.\n",
      "* * * * * * * * * \n",
      "11160\n",
      "Being a fan of the manga and anime of Go Nagai (DEVIL MAN, DEVIL LADY, VIOLENCE JACK, etc.), I was looking forward to this one. I'd seen neither the manga nor the anime, so I had no preconceived notions going in. Good thing, too. What we have here is a series of silly softcore movies of the type that used to turn up with alarming regularity on cable channels late at night. While it's tame compared to what gets rammed down the throats of regular cable viewers (our hero's naughty bits are either tastefully tucked away behind a strategically glued-on scarf or emblazoned with a ridiculous sunburst effect), there are prolonged scenes of bondage and torture that lend the proceedings just enough smarminess to make it unsuitable for the kiddies. While I have nothing whatsoever against nude female heroes, I do dislike amateurishly made movies (there are at least four in this series). On the plus side, there's at least one stunningly beautiful actress in each of the four episodes I saw. It's no wonder Nagai's TESTICLE BOY never made it...\n",
      "* * * * * * * * * \n",
      "11310\n",
      "And when I watch Sarah Silverman, I get the same results. I love quirky, irreverent humor. BUT this woman is so darned B-O-R-I-N-G, annoying, and yawn-worthy. She's also totally lacking in anything whatsoever humorous. The deadpan way she tries to deliver her lines is just dead on arrival because she's just not funny. I watched two segments of her program and was ready for Novocaine.<br /><br />Geez, my kid (age 19) saw her promos on Comedy Central and said she was a \\dumb chick.\\\" I thought that was a compliment. The one where she says \\\"Watch my show or I'll kill my dog,\\\" is actually believable. I know she's a wanna be comedienne. She just comes across as a warped nut-case. I just don't ever want to see her around MY dog.\"\n",
      "* * * * * * * * * \n",
      "11361\n",
      "Of the three titles from Jess Franco to find their way onto the Official DPP Video Nasty list (Devil Hunter, Bloody Moon and Women Behind Bars) this is perhaps the least deserving of notoriety, being a dreadfully dull jungle clunker enlivened only very slightly by a little inept gore, a gratuitous rape scene, and loads of nudity.<br /><br />Gorgeous blonde Ursula Buchfellner plays movie star Laura Crawford who is abducted by a gang of ruthless kidnappers and taken to a remote tropical island inhabited by a savage tribe who worship the 'devil god' that lurks in the jungle (a big, naked, bulging-eyed native who likes to eat the hearts of nubile female sacrifices).<br /><br />Employed by Laura's agent to deliver a $6million ransom, brave mercenary Peter Weston (Al Cliver) and his Vietnam vet pilot pal travel to the island, but encounter trouble when the bad guys attempt a double-cross. During the confusion, Laura escapes into the jungle, but runs straight into the arms of the island's natives, who offer her up to their god.<br /><br />Franco directs in his usual torpid style and loads this laughable effort with his usual dreadful trademarks: crap gore, murky cinematography, rapid zooms, numerous crotch shots, out of focus imagery, awful sound effects, and ham-fisted editing. The result is a dire mess that is a real struggle to sit through from start to finish (It took me a couple of sittings to finish the thing), and even the sight of the luscious Buchfellner in all of her natural glory ain't enough to make me revisit this film in a hurry.\n",
      "* * * * * * * * * \n",
      "11460\n",
      "I'm a huge Randolph Scott fan, but this film is a dud. The whole thing has a canned, fake, soundstage feel to it, with truly awful rear-screen projection. It has a good plot idea that the screenwriter has successfully buried in a nitwit script, which makes it impossible for the audience to become immersed in the action and truly care about any of the characters. The directing is pedestrian, and only accentuates how bad the script is instead of helping to improve it. I've seen plenty of thoroughly enjoyable \\soundstage productions\\\" before, but this is not one of them. All it does is make you appreciate the gritty Scott/Boetticher films all the more.<br /><br />Randolph Scott is tanned, trim, and shines that million dollar smile throughout. He's always a pleasure...even in the worst of his films. Aside from Scott, the other main reason I wanted to see this movie was due to how much I enjoyed Ms. Wymore in Errol Flynn's movie, \\\"Rocky Mountian\\\". In \\\"Man Behind the Gun\\\", she is just as beautiful, and you can tell she's a good actress, but she was forced to say some pretty dumb lines, and the blocking she was given by the director was truly awful. I've only seen Phil Carey in \\\"Operation Pacific\\\", and he plays the exact same character here...an arrogant pain-in-the-butt you want to beat into unconsciousness. I guess it proves he's a good actor...he made me hate him. There are some lame attempts at comic relief that only detract from the film, in my opinion. Although there are many elements to knock, I must say that I found myself truly enjoying the two Spanish songs sung in the musical numbers...but that's not why we go to see Randolph Scott movies, right?<br /><br />There are definitely worse Scott films out there, and this one certainly isn't unbearable, but it also certainly couldn't be deemed anything beyond mediocre.\"\n",
      "* * * * * * * * * \n",
      "11510\n",
      "Earlier today I got into an argument on why so many people complain about modern films in which I encountered a curious statement: \\the character development in newer movies just isn't nearly as good or interesting as it used to be.\\\" Depending on the film(s) in question, this can be attributed to a number of things, sometimes generic special effects and plot-driven Hollywood garbage like War Of The Worlds, but in the case of over-the-top, uninteresting attempts at social commentary and a desperate struggle to put \\\"art\\\" back into cinema, it's movies like Dog Days that are to blame.<br /><br />I normally have a very high tolerance for movies, no matter how dull or pointless I find them (ranging from good, long ones like Andrei Rublev and Dogville, to ones I've considered painful to sit through a la Alpha Dog and Wild Wild West). I shut this movie off 45 minutes in, which is 30 minutes more than I actually should have. I wasn't interested in any of the characters whatsoever and found nothing substantial beyond a thin veil of unfocused pessimism. In an attempt to say something about the dregs of society, this film too easily falls into being self-indulgent, trite, and exploitative in a very sincere sense. Granted, I've seen many disturbing movies on the same subject, but there are so many better films out there about depressing, pathetic people (Happiness, Gummo, Kids, Salo, Storytelling, Irreversible) that actually contain characters of great emotional depth and personality. Dog Days had none more than an eighth grader's distaste for society, choosing to ignore any true intelligence about the way people actually are, and instead choosing to be a dull, awful, and hopelessly unoriginal attempt at a work of \\\"art.\\\" This isn't a characterization of the unknown or a clever observation into the dregs of society, it's just boring and nothing worth caring about.\"\n",
      "* * * * * * * * * \n",
      "11647\n",
      "First let me say that I am not a Dukes fan, but after this movie the series looked like Law and Order. The worst thing was the casting of Roscoe and Boss Hogg. Burt Reynolds is not Boss Hogg, and even worse was M.C. Gainey as Roscoe, If they ever watched the show Roscoe was not a hard ass cop. He was more a Barney Fife than the role he played in this movie.<br /><br />The movie is loaded with the usual errors, cars getting torn up, and continues like nothing happened. The worst example of this is when the the General gets together with Billy Prickett, and the General is ran into a dirt hill obviously slowing to a near stop, but goes on to win the race.\n",
      "* * * * * * * * * \n",
      "11662\n",
      "This film is about a Japanese woman who has an obsession with calligraphy on skin.<br /><br />The plot is absolutely bizarre. I fail to see any \\sensual\\\" or \\\"erotic\\\" undertones. The plot turns an ancient art form into a fetishistic pornography. In addition, the scenes that are filmed in Hong Kong are certainly portraying bad parts of Hong Kong, such as the airport in the middle of the city, poor living conditions and noise pollution. Throughout the whole film, I keep thinking that \\\"The Pillow Book\\\" is insulting the Japanese culture and the Hong Kong environment.<br /><br />\\\"The Pillow Book\\\" is a perverted, yet boring film. Seriously stay away from it.\"\n",
      "* * * * * * * * * \n",
      "11881\n",
      "Johnny Weissmuller's final film as 'King of the Jungle', after 16 years in the role, TARZAN AND THE MERMAIDS, is bound to disappoint all but the most ardent of his fans. At 44, the ex-Olympian, one of Hollywood's most active 'party animals', was long past the slim athleticism of his youth, and looked tired (although he was in marginally better condition than in his previous entry, TARZAN AND THE HUNTRESS).<br /><br />Not only had Weissmuller gotten too old for his role; Johnny Sheffield, the quintessential 'Boy', had grown to manhood (he was a strapping 17-year old), so he was written out of the script, under the pretext of being 'away at school'. Brenda Joyce, at 35, was appearing in her fourth of five films as 'Jane' (she would provide the transition when Lex Barker became the new Tarzan, in 1949's TARZAN'S MAGIC FOUNTAIN) and was still as wholesomely sexy as ever.<br /><br />Produced by Sol Lesser, at RKO, on a minuscule budget, the cast and crew took advantage of cheaper labor by filming in Mexico. While the location gave a decidedly Hispanic air to what was supposedly darkest Africa, veteran director Robert Florey utilized the country extensively, incorporating cliff diving and an Aztec temple into the story.<br /><br />When a young island girl (Tyrone Power's future bride, Linda Christian) is rescued in a jungle river by Tarzan, he learns that a local high priest (George Zucco, one of filmdom's most enduring villains) had virtually enslaved the local population, threatening retribution from a living 'God' if they don't do his bidding. The girl had been chosen to become the 'God's' bride, so she fled. Faster than you can say 'Is this a dumb plot or WHAT?', the girl is kidnapped by the priest's henchmen and returned to the island, and Tarzan, followed by Jane, colorful Spanish character 'Benjy' (charmingly played by John Laurenz, who sings several tunes), and a government commissioner are off to take on the Deity and his priest (poor Cheeta is left behind). After a series of discoveries (the 'God' is simply a con man in an Aztec mask, working with the priest in milking the island's rich pearl beds), a bit of brawling action, and comic relief and songs by Benjy, everything reaches the expected happy conclusion.<br /><br />Remarkably, TARZAN AND THE MERMAIDS features a musical score by the brilliant film composer, Dimitri Tiomkin, and is far better than what you'd expect from this 'B' movie! <br /><br />While the film would provide a less-than-auspicious end to Weissmuller's time in Tarzan's loincloth (he would immediately go on to play Jungle Jim, a more eloquent variation of the Ape Man, in khakis), the talent involved lifted the overall product at least a little above the total mess it could have been.<br /><br />Tarzan was about to get a make over, and become much sexier...\n",
      "* * * * * * * * * \n",
      "11907\n",
      "I'm rarely moved to make a comment online about a film. But I can't understand how this one got made. Who made it? How could they have possibly thought they were capable of making a feature film? Did they do a weekend course at some film school, get a nice big cheque from daddy and kidnap David Badiel's family one by one until he agreed to be in it? Or was he by any chance a longtime family friend/distant relation doing this out of sheer, misplaced kindness? I don't care, don't want to know. Even he looks utterly embarrassed to be in it, mumbling his lines and hiding his face from the camera. Meanwhile the DOP must have been the gaffer from Neighbours, there seemed to be absolutely no sound design, the script, the direction and editing were all abysmal, and quite frankly the apathy that overwhelms me right now means that I can't be bothered to spend any more of my life thinking about this film.\n",
      "* * * * * * * * * \n",
      "11918\n",
      "THE CHOKE (aka AXE in the UK) is a slasher produced supposedly as a straight-to-DVD movie. I say \\supposedly\\\" because the title of the movie does not have the \\\"V\\\" in brackets to indicate that it was a made for DVD movie (even though it does have the appearance of one).<br /><br />The plot is simple  a band is holding a gig in a former meatpacking factory and they are killed one by one.<br /><br />I think most would agree that the movie was never going to be a masterpiece, but this does not excuse the faults here. Even straight-to-DVD movies such as BACHELOR PARTY MASSACRE (which has a very low IMDb rating) have a lot of redeeming qualities and sometimes come off as being one of the so-called \\\"so bad, they're good\\\" movies. However, THE CHOKE falls far short of being either a serious slasher (such as HALLOWEEN) or being a \\\"so bad it's good\\\" movie (such as THE NAIL GUN MASSACRE).<br /><br />The movie does start off good with a character killed using a drill. The blood effects were very cheesy but understandable given the very low budget. But, from there onwards, it's downhill all the way.<br /><br />There are so many faults in THE CHOKE that I could spend all day talking about them. But, a few obvious ones stand out and I'll go into them.<br /><br />The aforementioned gig that the band holds seems to start off with around 50 people present but after the music stops, there seems to be only around 8 people left (and yet they're all meant to be locked in!).<br /><br />The characters in this movie are not likable at all. Most of the band members are aggressive foul-mouthed morons or just downright weird. No one really cares about what happens to them, and even their supposed friends forget about them when they've been dispatched. The highlight of the movie is the presence of a homeless man who seems to regard the meatpacking factory as some kind of church (seriously!). He spouts some really funny lines for no apparent reason. But sadly, even his presence can't save the movie.<br /><br />There are too many scenes of people walking around and talking without any characterisation. Around 65 minutes of the film is spent watching characters walk around talking. Characters disappear for long periods of time without explanation. As in other straight-to-DVD movies such as CROCODILE and GRIM WEEKEND, the characters spend a lot of time swearing at each other aggressively without any provocation at all. There are plenty of over-the-top outbursts (mainly from the male characters) and one nearly results in a full-blown fight. In fact, the format could be said to go as follows: characters walk around--murder takes place--characters walk around--murder takes place. You get the idea.<br /><br />The dialogue is terrible and it seems that few lines are spoken without the f-word being used. Perhaps this was meant to be funny, but it just comes off as sad. And more to the point, we have all seen this done a thousand times before (usually to much greater effect).<br /><br />The movie is totally devoid of any suspense at all. The dead bodies serve to provide the only indication that the characters are in danger. A maniac is running around loose and yet the characters just behave like total morons. They make little attempt to get out of the factory or find a weapon with which to protect themselves. And much of the time, they don't even pretend to be scared.<br /><br />In the same vein as DRIVE-IN MASSACRE, the killer is not seen at the time the murders are being committed (with the exception of the final murder when the killer's identity is revealed). A random weapon appears out of nowhere to kill the victim in question. There is no one seen stalking the characters at any time. In DRIVE-IN MASSACRE, this served to make the film funny (unintentionally of course), but here it is not funny at all.<br /><br />And, as another reviewer has pointed out, the soundtrack includes music that is very bad, even for those who like punk rock. The extras look uncomfortable dancing to it. The score (at the end, there is no music at the beginning!) consists of a band of Sugarbabe wannabes singing some very bad song that is completely unrelated to the movie.<br /><br />Don't misunderstand the points made in this review. This reviewer likes bad movies (such as THE NAIL GUN MASSACRE and BACHELOR PARTY MASSACRE) as much as the classics (such as HALLOWEEN and Friday THE 13TH). But, it seems that THE CHOKE tried too hard to fit into one of those categories without fitting into either. And even as straight-to-DVD movies go, this is a poor effort.<br /><br />On a positive note, the film does contain some fairly good gory murder scenes. But, when the surviving characters do not take the situation seriously, these scenes lose their importance quickly as the intensity they provide disappears into oblivion.<br /><br />Fans of the traditional 1980s B-movie slashers should take steps to avoid this movie. And fans of the classics such as HALLOWEEN and Friday THE 13TH should do everything in their power to avoid it!\"\n",
      "* * * * * * * * * \n",
      "12138\n",
      "I had no expectations other than to be entertained for 90 minutes, and that is exactly what I was.<br /><br />Of course it is campy, of course some of the dialog wasn't perfect, of course the \\special effects\\\" were a bit hokey. That is exactly why I enjoyed the movie so much. It is a perfect fit for this genre of a 70's Horror classic.<br /><br />The talent needs to start some where, that goes for the actors and the crew, and what better piece of material to sharpen your skills on than this.<br /><br />I for one look forward to another film from these producers and directors.\"\n",
      "* * * * * * * * * \n",
      "12157\n",
      "Once upon a time in the mid 1990s I used to write for DOCTOR WHO fanzines and the whole of fandom was holding its breathe about the new American produced DOCTOR WHO TVM . As soon as it was announced that the Doctor`s arch enemy the Master was going to be played by Eric Roberts everyone scratched their heads and exclaimed \\ Who is Eric Roberts ? \\\" . I should point out this was before the IMDB came online when all you had to do was type in a name into this website to their resume , but one helpful soul wrote into a publication I wrote for to explain that Eric Roberts was best known for a role where he starred opposite F Murray Abraham , the film was called BY THE SWORD and was about a fencing school . Actually looking back now Roberts is best known for THE POPE OF GREENWICH VILLAGE and RUNAWAY TRAIN but that didn`t stop the person putting the boot into both Roberts and BY THE SWORD and his mind was made up that this American Master with his southern drawl was going to a debacle . Strangely most fans were furious about Roberts playing the Master but after they saw the DOCTOR WHO TVM a great many fans ( Myself among them ) thought Roberts performance was the best thing about the disappointing American production <br /><br />Yeah I`m digressing but BY THE SWORD was a film that I wanted to see simply because it was the first time I`d heard the name of Eric Roberts but I didn`t get the chance to see it untill this weekend and I was fairly disappointed with it . I know nothing about fencing ( Everyone else on this page seems duty bound to mention if they fence or not . I don`t fence ) so I don`t know how accurate it all is , but as mentioned the film feels somewhat anachronistic even if you saw it on its release in 1991 , the hairstyles seem a few years out of date along with its mixed teenage cast doing a little dance routine that makes you wonder if it wouldn`t have worked a lot better if it`d had been produced by Jerry Bruckheimer in the mid 1980s . You could argue this would have meant the relationship between Max Suba and Alexander Villard being off centre for most of the film but I wasn`t convinced about their love/hate relationship and Abraham and Roberts have given much better performances before and since BY THE SWORD\"\n",
      "* * * * * * * * * \n",
      "12170\n",
      "After eagerly waiting to the end, I have to say I wish I wouldn't have joined the whole series at the first place. The final episode was everything against the previous seven years. It has ruined everything. The journey was 23 years, but captain Janeway has the power to reduce it... let say, seven years only. Why seven? Why not just one? Or nothing? Why not avoid the whole adventure? Crewmemebers were dying all along the journey. Why she wants to save Seven of Nine only? The others don't count or what? The most ridiculous part when the crew states that getting home is not really the most important thing to them. As the say, \\journey is more important than the destination\\\". Unbelievable. And at the finale scene the are surrounded by other Federation ships and the Earth is in sight. Nothing about landing, returning to the normal life.<br /><br />Worst ending ever.\"\n",
      "* * * * * * * * * \n",
      "12176\n",
      "There's really no way to beat around the bush in saying this, Lady Death: The Motion Picture just plain sucks. Aside from the fact that the main character is a well endowed blonde running around Hell in a leather bikini with occasional spurts of graphic violence, the movie seems to have been made with the mentality of a 1980's cartoon based on a line of action figures. The bad guy himself even talks like a Skeletor wannabe, has the obligatory inept henchman, and lives in a lair that looks to have been patterned after the domain of the villain from the old Saturday morning Blackstar cartoon. Just don't expect any humor other than the sometimes howlingly bad dialogue. At other times it feels like the kind of anime tale better suited to hentai, yet there is no sex, no tentacle rape (Thank goodness!) and very little sex appeal, this despite the physical appearance of the title character. There is simply no adult edge to this material, unless you count the half-naked heroine and bloody deaths. Essentially, what we have here is a feature length episode of She-Ra, Princess of Power, but with skimpier clothes and more gore.\n",
      "* * * * * * * * * \n",
      "12241\n",
      "The movie is just as fun as staring at the sun.Sheriff Pataki is a total retard that loves nothing better to do than sit on his fat rear making a smoke ring from his puffy cigars and drinking booze while the doctor acts like a zombie version of Nicholas Cage sucking up all that so called \\Blood\\\" which in reality seemed like Fruit Punch.<br /><br />Most of all the plotting seemed very horrid to even call this piece of crap a movie.The rest of the characters in this movie are total wastes of time, the ending was awful, the outlines were cheesy, and the scenes were terrible. What else more should I say to you viewers out there? My advice would be to get your Rabies shot if you've already watched the movie. This movie may give you the foam in the mouth if you didn't get your up-to-date shots.\"\n",
      "* * * * * * * * * \n",
      "12319\n",
      "This movie was awesome!! (Not quite as good as the Leif Garrett masterpiece Longshot) but still awesome!! I thought Ashley looked freakin' huge compared to Mary-Kate in this film. I wonder why. Who woulda thought they could swith places like that and almost get away with it. Dad was kinda a jerk though and Mom was a little too chummy with Helmit Head. I give it 4. Any one who likes this movie shoudl check out Longshot.\n",
      "* * * * * * * * * \n",
      "12333\n",
      "As Steven Segal movies go this one is bottom of the barrel. His best was just fodder for bored teenagers. This one tips the scales, then falls off. The characters are all cardboard. The story is double lame. I can't spoil it by telling you the ending. You already know how all Steven Segal movies end if you have seen one. Here goes. He is a super-dooper government agent who know too much to turn loose so they decide, instead of killing him, to dope his brain until he don't remember squat. He escapes, of course, gets arrested and is located by his old general who needs his one man in a million experience to get back a stealth plane that has been handed over to a terrorist gang in Afghanastan by a rogue Air Force pilot who, surprise, surprise, Segal trained. All the heroes, except Segal's character and his dusky girlfriend, die heroically and Steve-Baby save the whole world in one swell foop, or fell swoop. Whatever. Made with some surplus Air Force and Navy flying film. And a lot of boom-booms. Get some Popeye cartoons instead.\n",
      "* * * * * * * * * \n"
     ]
    },
    {
     "name": "stdout",
     "output_type": "stream",
     "text": [
      "12503\n",
      "In this strangely-lackadaisical apocalypse, the world suffers from a dual plague of zombies and vampires, but no one seems to be too worried about it in this Grade-Z film which bares less resemblance to Sheridan Le Fanu's famous short novel than my mother's lasagna recipe. Bored attendants still run gas stations and doctors still make house calls and helpful police officers still show up with radiator fluid just when you need it. The plot, and I use that term loosely, involves a father and a daughter trying to rendevous with \\the general,\\\" whose daughter is missing, at a church to kill a vampire who, very conveniently, happens to be traveling with the father and daughter. I must confess that a moment or two of genuine humor can be found between vast stretches of unintentional humor. The film also boasts just enough nudity to keep a boy of fourteen interested. Anyone older beware.\"\n",
      "* * * * * * * * * \n",
      "12525\n",
      "Witty. Quirky. Genuine. Surreal. Butterfly wings? One could ask what all of these words best describe, and some (those in fuse with the international film community) may quickly say Happenstance, but others may jump aboard the more American train and immediately yell, The Butterfly Effect. Strangely, I would be one of those screaming for that sci-fi Kutcher film mainly because none of those words that I initially mentioned at the start of this paragraph accurately depicts the Tautou feature that I witnessed. Sure, we all loved her in Amelie and thought she was the daughter of Jesus in The Da Vinci Code, but in this film first-time director (of a feature film at least) Laurent Firode doesn't give Tautou the opportunity to shine. Sadly, he gives nobody the opportunity to really demonstrate themselves because he is too delicately caught up in the moments of \\random chance\\\" to bring this film to anything but just a shimmer (never a true boil). Firode has ample, and I use \\\"ample\\\" as a small word, moments throughout this film where he could have built us a fantastical story, a genuinely whimsical fairy-tale of love and coincidence, but instead he fell face-first into a mud-bucket of chaotic intertwining that overwhelmed us with inconsistent characters and a story that left us gasping for less.<br /><br />Tautou's beautiful face adorns the cover of this box, but do not be so taken immediately as I did in assuming that this was going to be another monumental journey into Tautou's French cinema. Tautou is in this film, do not get me wrong, but one could argue that she is not at the center of this story. Firode's job is to create a series of random events that eventually will lead to an audience friendly (albeit confusing) ending which exemplifies that meaning of refreshing \\\"melodrama\\\". He utterly, utterly fails. Firode fails by giving us, the audience, too many characters. With too many characters he gives us too many random interventions, and by the end you don't really care who is who, or what is what, or how is how; your main focus happens to be centered solely on the ending credits and the time destination of their arrival. Tautou could have saved this film from the disaster it was if only Firode would have given her the center. Alas, he did not, but attempted to seemingly force a group of 12 through a theoretical film hole about the size of a penny. It just didn't work and we were left with a jam in which we were completely stuck.<br /><br />Firode fails because he focus' so intently on the minor details that, for one of those rare film occurrences, he actually forgets the central focus. I can say that there was no defined central focus to Happenstance. In the beginning he attempts to create one with our two supposed main characters discovering that they share the same birthday and their horoscope promises love by the moonlight, but we never go back to that throughout the film. Instead, again, we are bombarded with new characters, stuffy scenes, and meaningless drivel obviously chosen to direct us away from an actual story and more into a world full of \\\"ifs, ands, and buts\\\". I couldn't do it. I couldn't believe this film. Writer Firode (yes, the same guy directing this garbage) uses a technique so primitive in this film that I immediately felt like ending it immediately. He must have been assuming that many of us were incapable of actually following the storyline (or the scientific premise) because he grabs the aid of a homeless person to actually fill in the respective blanks. I didn't need this, nor do I think Firode needed to belittle his audience in this matter. While there were other elements that just didn't seem to work for me at all (again, felt like a jumbled Parisian collage of shredded paper), this was the icing on the cake. I don't need my hand held through films.<br /><br />I will give this film one star for credit. This is a rather difficult genre to master successfully. Time travel films are especially hard because of the innumerable amounts of possibilities that are never accounted for, but with Happenstance it works because Firode semi-explores the different avenues. While I will counter with saying that he does not do it well, it did make for at least five full minutes of enjoyment. I liked where Firode was headed with this film, he had a genuinely diagramed story, but the final execution just blew this film to shreds. Firode could have saved this film if he would have strengthened his characters, while lightening up his premise and story. I think my overall mood of this film would have changed if just these two simple directions were taken. Oh, how I only wish I could time travel back to the production of this film to show Firode the errors of his ways.<br /><br />Overall, for the first time (and probably last), this was a Tautou film that I must say utterly disappointed me. From the choppy opening to the apathetic ending, I just felt that Happenstance failed due to Firode's leadership and horrid marketing. Marketing is something that I didn't mention before, but why would anyone purchase this film thinking that it was an Amelie 2 (per the title released in Hong Kong), and why would you place Tautou squarely on the cover knowing full well that she wasn't carrying this film at all. I believe that from the first minute that passed on my DVD player, this film was in shambles. While I will applaud his subject, everything else was well below the level of mediocrity. I cannot suggest this film to anyone.<br /><br />Grade: * out of *****\"\n",
      "* * * * * * * * * \n",
      "12571\n",
      "Gods, I haven't watched a movie this awful in a long while. Maybe not since 'The New Guy' or various Freddie Prinze Jr. movies. Yes, it is that astoundingly awful. Mira Sorvino's blank and wooden acting surely must've been inspired by Freddie. The movie staging was awkward (like a play, rather, and that feeling of confinement does NOT work well on film). The actors had no idea what they were doing, especially Sorvino. Her accent was awful and her sex appeal non-existent here so it was painful to see her 'seducing' other characters and they 'falling' for it. And what was with the occaisional shots of a live audience in lawn chairs? Nonsensical! I had to turn the dvd player off, it would have been self-inflicted pain to finish this film.\n",
      "* * * * * * * * * \n",
      "12632\n",
      "I wondered why I didn't like Peggy Sue Got Married more than I did, when it first came out in 1986, with all the hype. Somehow I found Nic Cage's character off-putting. Way off-putting. Then the plot didn't seem to make sense. Then by the end of the credits, the question came to mind: What point was this movie making? What was it saying? The answer, unfortunately, was not much, if anything. I really don't think this movie aimed at making a statement; unless it was \\your life is your life, you're gonna make the same mistakes no matter what, so keep your eye upon the doughnut, and not the hole\\\". Not a very profound statement, and I'm sorry, not profoundly made in this movie. The writing simply isn't that good. The direction is uneven, and is strangely overblown at times. Kathleen Turner was the best, and in my opinion, only worthwhile thing in this movie, and performed something of a miracle creating a whole character despite bizarre, unexplained circumstances, with a script that had no apparent statement to make. <br /><br />She also finally cleared up the mystery for me of the main reason I didn't enjoy this movie more. She states in her autobiography that Cage made a point of fighting his uncle Coppola's direction every step of the way, doing it \\\"his own way\\\" (not a good idea for a new actor), and putting on a goofy voice she called \\\"stupid\\\". His voice was annoying, abrasive and unnatural, and his character was obnoxious and overbearing as a young guy. I understand what he was attempting to do: play a young-guy \\\"hot shot\\\" who is not as hot as he thinks he is, setting up his own karma for future failure. But he goes overboard, the way he does it is abrasive, not effective, and if he had listened to his uncle instead of \\\"fighting the Man\\\", we would have had a more enjoyable film. Cage slips a little with his obnoxious voice stylings in the movie and occasionally sounds like a real person, and those scenes are more watchable than others. But if I had to watch the movie through in its entirety, I would find myself wanting to pay someone in L.A. to pour a bucket of water over his head during some of his more affected (put-on) scenes. <br /><br />The movie doesn't aim for a statement, doesn't make a point, is great to look at except when Cage is doing a demented Elvis impression (but without the voice), and is, ultimately, confusing and a waste of time. Given all this, Kathleen Turner surely deserved an Oscar in this flailing mess of a movie. I can't recommend anyone spending two hours watching this, unless you like Turner and have a remote to pick out all her scenes. Believe me, you will miss nothing plotwise by skipping the other scenes, and it will make just as much sense. <br /><br />Kathleen Turner is getting a lot of flak from critics regarding her Cage comments, which proves that she's strong enough to be honest, and to hell with other people's comments. You go, Turner! I'm not particularly a fan of this actress any more than I am of any other first-rate actor or actress, but her candor is refreshing. Cage's acting can be good to annoying, and here it doesn't work. At least, in this film, now we know why.\"\n",
      "* * * * * * * * * \n",
      "12758\n",
      "There are lots of extremely good-looking people in this movie. That's probably the best thing about it. Perhaps that even makes it worth watching.<br /><br />\\Loaded\\\" tells the story of Tristan Price (Jesse Metcalfe), a young man who's about to make his mark on the world. He's the son of a well-to-do family with a good reputation, and he's on his way to law school. But like so many such settings, things aren't quite as perfect as they appear. The expectations in this family far outweigh the love. Except for school, Tristan's father rarely lets him leave the house. This seems to be the result of some past traumatic event that shook the family, which is partially revealed through flashbacks but isn't spelled out until the very end. Tristan's claustrophobic environment causes him to let loose in very extreme ways at the first possible opportunity, when his friends take him out to a strip club to celebrate his graduation. The celebration soon follows some strippers back to a beach house party, and from there, Tristan befriends Sebastian Cole (Corey Large), who pulls him into a drug dealing underworld.<br /><br />While technically well-made, this movie suffers from a lackluster script and a storyline that isn't very engaging. Also counting against this film are some constant camera tricks that generally seemed annoying and out-of-place, such as slow-motion, fast-motion, freeze-frames and echos. These are the types of effects a director might normally utilize to show a character's perspective while on drugs, except in this case they seem to have been sporadically tossed in at random points, in some cheap attempt at style.<br /><br />Despite its cast of relative unknowns, performances were good all around, most notably with respect to the main antagonist (Corey Large). I suspect we'll be seeing at least a couple of these people in bigger and better projects in the future.<br /><br />Of course, when mentioning the actors, I must mention their looks. Rating based on hotness, this movies scores an 11. The women in this movie are incredible-looking and almost distract you from what a boring movie you're watching. I'm sure the male characters are also quite attractive, but you'll have to ask someone else to comment on that.<br /><br />Overall, I can't recommend this movie, not for buying, renting, or even seeing for free. It's unfortunately just not worth the effort it takes to sit through.\"\n",
      "* * * * * * * * * \n",
      "12799\n",
      "Acting is horrible. This film makes Fast and Furious look like an academy award winning film. They throw a few boobs and butts in there to try and keep you interested despite the EXTREMELY weak and far fetched story. There is a reason why people on the internet aren't even downloading this movie. This movie sunk like an iron turd. DO NOT waste your time renting or even downloading it. This film is and always will be a PERMA-TURD. I am now dumber for having watched it. In fact this title should be referred to as a \\PERMA-TURD\\\" from now on. Calling it a film is a travesty and insult. abhorrent, abominable, appalling, awful, beastly, cruel, detestable, disagreeable, disgusting, dreadful, eerie, execrable, fairy, fearful, frightful, ghastly, grim, grisly, gruesome, heinous, hideous, horrendous, horrid, loathsome, lousy, lurid, mean, nasty, obnoxious, offensive, repellent, repulsive, revolting, scandalous, scary, shameful, shocking, sickie, terrible, terrifying, ungodly, unholy, unkind\"\n",
      "* * * * * * * * * \n",
      "12817\n",
      "The really sad thing is that this was supposedly the highest budget \\Halestorm Entertainment\\\" has had to work with. All involved should be fined for littering since all the celluloid they wasted is good for nothing more than filling the trash. Not only is the writing atrocious and the jokes awful, but the camera work and film quality are amateur at best. The soundtrack sounds like it was created on some guys laptop PC. The worst part of all is that I actually sat through the whole thing. I think just because I couldn't believe that I had actually paid to buy a ticket and that the theater I was watching it in had actually agreed to show the \\\"film\\\".\"\n",
      "* * * * * * * * * \n",
      "12831\n",
      "I am a big fan of Fred MacMurray and Carole Lombard. And, in addition to them, Charles Butterworth (a very enjoyable supporting actor) was in this film,...so why didn't I particularly enjoy it?! Well, despite a good cast, this is one of the poorest written and most clichéd \\A pictures\\\" I have ever seen. Given the talent and money spent to make this film, it is shocking how slip-shod the writing was. I knew the film would be tedious when time after time early in the film I found myself predicting EXACTLY what would happen next--and I was always right! And this isn't because I am some sort of \\\"movie savant\\\", but was because almost no imagination or effort went into it. In fact, it seemed almost as if the film was just a long string of clichés all strung together! Also, I found it a bit irritating that Fred mistreated Carole so bad throughout the film and yet, true to convention, she came running to him in the end. Uggh! There is MORE suspense in a Lassie film (\\\"will he bring people to rescue Timmy or will the rope he is dangling from break?\\\").<br /><br />Despite the very, very tired and clichéd script, there were a few positives about the film. It was pretty cool seeing Fred look like a broken lush at the end of the film--it was pretty believable and he looked like he hadn't eaten, shaved or slept in days. Also, Charles Butterworth's \\\"prattle\\\" did provide a few mildly humorous moments. But all this just wasn't enough to make this film look any different than a \\\"B movie\\\". It's a shame,...it could have been so much better.\"\n",
      "* * * * * * * * * \n",
      "12871\n",
      "A failure. The movie was just not good. It has humor that 5 year olds that will not even giggle at. I mean, sure, some parts were amusing, but most of it is not. Lindsey Lohan is a great actress (and a bad singer,) and she should be working on better movies. The movie should have been aired as a Disney Channel original movie, that is FREE.<br /><br />The only thing that was well done about this movie was the music. Nothing like a remade rock soundtrack to brighten up your day. These songs are so good. Especially Alyson and Amanda's Walking On Sunshine and Caleigh Peter's, Beach Boy song, Fun Fun Fun.<br /><br />4 out of 10. If I gave it a ten, 9 of that would be the music and 1 will be the movie. Not worth your money, but the soundtrack is.\n",
      "* * * * * * * * * \n",
      "12924\n",
      "I opted to see the film at the recent Dubai Film Festival because it had been selected to the Cannes film festival's prestigious Competition section. I was surprised that Cannes could be so off the mark in judging quality.<br /><br />The film, some reviewers, have noted does not have too much of gunfire--but the inherent violence is repulsive. Imagine killing your enemy/competitor in front of your young son..or forcing someone to eat a porcelain spoon to prove loyalty. There are some hints of the contrasting Corleone sons in Copolla's \\Godfather\\\" that seem to resurface here in this Chinese/Hong Kong film but the quality of the two are as distinctly different as chalk and cheese.<br /><br />This film is only recommended for violence junkies..there is no great cinema here. At best it might be considered to be better than the usual Run Run Shaw production for production values.\"\n",
      "* * * * * * * * * \n",
      "12956\n",
      "I'm going to go on the record as the second person who has, after years of using the IMDb to look up movies, been motivated by Nacho's film, The Abandoned to create an account and post a comment. This was hands down the worst movie I've ever seen in my entire life. The plot was on the verge of non-existence, and none of the \\puzzle-pieces\\\" added up in any way whatsoever. The acting was laughable and the writing was embarrassing. How this film got backed and came to be is completely beyond me. The only saving grace I could find was Anastasia Hille's cunning and repetitive use of the f word. (and brilliant sound design) If I were faced with the option of seeing this film again or being mauled by wild bores I would be up against a difficult decision. I'm disappointed that I am unable to give it 0 stars.\"\n",
      "* * * * * * * * * \n",
      "13070\n",
      "Follows the usual formula in putting a new recruit -- this time the first African-American (Cuba Gooding) after President Truman desegregates the Armed Forces -- through the U. S. Navy's deep-sea diver training program that is run by a racist zealot (Robert DeNiro). If the program weren't bad enough, it's got to be located in Bayonne, New Jersey.<br /><br />There's nothing wrong with the performances. Robert De Niro activates his Southern accent and shouts gibberish effectively. Cuba Gooding, raised by a stern father as a poor black farm boy in the South, is the expectable paragon of rectitude. The girls -- one could hardly call them women -- are Charleze Theron and Lonette McKee. They have minor roles and are mostly there to argue that their men should exercise common sense. Other decent performers -- Powers Boothe and Hal Holbrook -- have even more perfunctory roles.<br /><br />That's about it. Almost everything else could have been assembled by a computer. A ship is called a boat. Robert De Niro salutes indoors, uncovered. After a brutal assault on hospital personnel, he's transferred out of his outfit instead of being busted. Somebody shouts \\I'm outta here\\\" in the early 1950s. (Maybe it was a common expression at the time. If so, \\\"my bad.\\\") People address each other by rank -- \\\"Lieutenant\\\", \\\"Boatswain's Mate,\\\" \\\"Commander,\\\" as they do in the Army, whereas in the Navy they are simple \\\"Mister\\\" (if an officer) or addressed by their last name (if enlisted). I didn't bother to check if there was a rank called \\\"Senior Master Chief\\\" in 1950.<br /><br />Cuba Gooding has a tough row to hoe. Everyone in the Navy, it seems, hates Negroes except for one guy from Wisconsin. He stutters and is held in contempt by the others in his class. It's like the scene in \\\"Animal House\\\", in which the applicant to a tony fraternity is asked to wait in a room with a Sikh, a black man, and a blind kid.<br /><br />Gooding is an enlisted man, a second class petty officer. He manages to marry a beautiful woman who has just graduated from medical school. In one of their arguments she pleads with him. She just wants to be a doctor and he should join her, quit the Navy, and lead a quiet life. \\\"And just let life pass you by?\\\", he retorts. Yes. Yes, just be a doctor's spouse and let life pass you by. You can wave to it from the golf course in Boca Raton.<br /><br />These kinds of flicks were common enough in World War II. \\\"Bombardier,\\\" \\\"Airial Gunner,\\\" that sort of thing. Cheap as they often were, they had some educational features. You learned something about becoming a bombardier or a gunner. Here, the technical details are skipped over, perhaps because the writer knew nothing about them (except Boyle's law, which we learned in high-school chemistry).<br /><br />I couldn't follow what was happening during some of the emergencies without which a movie like this wouldn't exist. If I got the mechanical problems right, it was because I guessed correctly. The direction is no help either. The movie abounds in close ups, so many that they lose any dramatic impact they might have had. And the emergencies are confusing because they're ill focused.<br /><br />Why go on? Want to see a better example of this kind of movie? Almost any will do -- except maybe \\\"G. I. Jane\\\", in which the abused hero is a heroin. Try the training camp scenes in \\\"The Young Lions.\\\" There the victim is a Jew. Or try \\\"From Here to Eternity,\\\" in which no easy sympathy buttons are pushed and the victim is a grown man who refuses to bend and who is active in bringing the conflict on, just like \\\"Cool Hand Luke.\\\" No easy excuses are offered, because easy excuses are too easy.<br /><br />Thoroughly formulaic, and not well done.\"\n",
      "* * * * * * * * * \n",
      "13154\n",
      "How can you gather this respectable cast of young British actors and come up with such a pile of filmic manure? Horrible script, annoyingly hectic camera, awfully edited, gruesomely badly acted. Only Rhys Ifans tries to fill his role with life. Another painful proof that \\different\\\" sometimes equals \\\"dreck\\\". Why do the money people fail to read the scripts beforehand? Do yourself a favour: spare yourself and do something else - like hitting a mallet onto your knees. It's less painful and more fun than this movie!\"\n",
      "* * * * * * * * * \n",
      "13380\n",
      "No redeeming features, this film is rubbish. Its jokes don't begin to be funny. The humour for children is pathetic, and the attempts to appeal to adults just add a tacky smuttishness to the whole miserable package. Sitting through it with my children just made me uncomfortable about what might be coming next. I couldn't enjoy the film at all. Although my child for whom the DVD was bought enjoyed the fact that she owned a new DVD, neither she nor her sisters expressed much interest in seeing it again, unlike with Monsters inc, Finding Nemo, Jungle Book, Lion King, etc. which all get frequent requests for replays.\n",
      "* * * * * * * * * \n",
      "13420\n",
      "Unfortunately for me, the first Busby Berkeley movie I ever watched was \\42nd Street.\\\" I then expected all of his stuff to be that good. I found out that wasn't necessarily the case, even here, with my all-time favorite classic-era actor James Cagney.<br /><br />Oh, the musical numbers at the end are as spectacular as always, but the story is like many of the others and quite tiresome. They seem to always involve screaming, unhappy show producers. In this film, it's Cagney who winds up shouting things out so often that he gives me a headache after awhile and his character wears thin....fast!<br /><br />Even the songs in here are anywhere near \\\"42nd Street\\\" class, songs you could hum for years and years - decades, I should say. The songs in this movie are not memorable. No, this is one of the few early Cagney films - and Berkeley films - I totally dislike and was very disappointed with while watching.\"\n",
      "* * * * * * * * * \n",
      "13427\n",
      "I am completely baffled as to why this film is even liked, let alone held in such high regard, especially by so many critics who are, otherwise, quite sensible.<br /><br />There is one key word which describes this film to its core - irritating.<br /><br />The most easily explained example of this is the director's use - or, more accurately, abuse - of music. In the first half, a really dull reggae tune is played about three times (when once is too often). But in the second half, The Mommas And The Papas \\California Dreamin'\\\" is played at least seven times, usually at top volume. Godsakes, whether you liked the song or not beforehand, you'd be thoroughly sick of it by the end. Just think, some people claim to have seen this film four or five times. This means they've listened to California Dreamin either 28 or 35 times.....<br /><br />All of this needless hyper-repetition (it contributes nothing to the story) could possibly be excused if the remainder of the film had any lingering merit, or if the story was in any way involving.<br /><br />But it ain't.<br /><br />The only aspect I found likeable was Bridgette Lin's charging around and still playing Asia The Invincible in a raincoat and sunnies. Even this wore off fairly quickly.<br /><br />I'm sure this film's undeserved high reputation will convince many poor suckers to go and see it.<br /><br />I can only warn you - if you've never seen a HK movie before, don't start with this one.<br /><br />If you feel compelled to watch it, avoid at all costs seeing it in a cinema. The fast-forward and mute buttons are essential tools for survival here.<br /><br />You have been warned !\"\n",
      "* * * * * * * * * \n",
      "13445\n",
      "From watching only the trailer to Theodore Rex, you would think this is a bad buddy cop comedy with Whoopi Goldberg and a guy in a dinosaur costume. That is true, but this is mostly a futuristic story, which looks a lot like Batman Forever with it's direction style and weird character designs. It was mismarketed, and should have been marketed as a futuristic tale, instead of just a lame cop comedy. Whether or not this movie is mismarketed, it's still a horrible movie.<br /><br />In the future, dinosaurs have been brought back to life through amazing technology, and they talk and walk around like humans. Teddy is a dinosaur detective who is never taken seriously, but after a dinosaur is murdered, he's given the case to work on, but he has to be partners with the toughest cop of them all, Katie Coltrane (Whoopi Goldberg). It's up to this mismatched duo to solve the murder, and it's up to the audience to stay awake long enough to make it through this piece of crud.<br /><br />Teddy starts the picture as a normal acting character, but by the end he is unbearable to listen to. For some reason along with being a detective, he's also a bad comedian and a bad impersonator. He does imitations of famous people and accents, and has some truly awful lines. Whoopi blames him for farting and he says, \\It's not my butt trumpet!\\\" Wow! What a puerile, immature line, even for a kid's movie of this caliber. Whoopi is also annoying and rude to everyone. I was hoping Teddy would bite her head off the entire length of the film.<br /><br />This movie never knew what it wanted to be. When the futuristic scenes and action occur, there is no comedy or humor. In any non-action scenes, the characters try to be as funny as they can, which just results in nonstop straight faced boredome. The action scenes don't work as they're too weird and not violent enough, and as stated earlier, the comedy is just a bunch of massacred jokes. Nothing ever works here.<br /><br />Having a dinosaur/human detective duo seems like a pretty original movie, if nothing else. Nope! This movie is a huge rip-off of Who Framed Roger Rabbit. Just replace dinosaurs with cartoons, and set it in the future, and it's the exact same plot. A man is killed, a dinosaur is killed. A dinosaur and detective solve the murder, a toon and detective solve the murder. The bad guys in Roger Rabbit are Christopher Lloyd and weasels. The bad guys here are a guy who sounds like Christopher Lloyd and guys who act just like the weasels. The club scene in Roger Rabbit where Jessica Rabbit walks down the stage is imitated with dinosaurs. This is a huge rip-off of a much better movie!<br /><br />Overall, this is a bad movie, not even deserving of it's straight to VHS stature.<br /><br />My rating: 1/2 out of ****. 90 mins. PG for mild violence, language and crude humor.\"\n",
      "* * * * * * * * * \n",
      "13467\n",
      "Okay, if you've seen The Ring, you've basically seen The Grudge. It's trying to be scary by just having freaky camera work and loud sounds, but it fails miserably. The plot, if you can call it that, is weak and rather full of holes, for instance, how would the care center have known that Yoko didn't show up for work when the people who lived in the house were not there? And it's not really clear what Bill Pullman's character had to do with anything. He just kind of came out of nowhere to advance the plot. It didn't make a lot of sense what happened to the original family. Who was hanging in the room, the little boy or the dad? And was Yoko alive or dead when the care center guy found her? There were too many unanswered questions and I was too bored to think about it more.\n",
      "* * * * * * * * * \n",
      "13500\n",
      "I've tried to like this film, really. In watching it, all I can think is, \\This guy gives me the creeps, I would have gotten a restraining order\\\". It also calls out CODEPENDENCE in capital letters. Was this really the conversation before making the movie? \\\"Let's make a film that puts two chronically depressed, socially inept people into a relationship which deepens their isolation and encourages them to complain about how bad their lives are!\\\" From what I've seen in life is that the last thing on earth we find attractive in a potential mate is constant self-pity. <br /><br />The mood of the movie is distinctly 80-ish; brooding and slow. Don't get me wrong, the film has its moments, just very few of them.\"\n",
      "* * * * * * * * * \n",
      "13534\n",
      "Roy Rogers and company try to bring \\Sintown\\\" back to life - it's a ghost town which may go boom if silver mining is successful. Andy Devine (as \\\"Cookie\\\") slapsticks around. Jane Frazee (as Carol) loses a piece of her bitches to Mr. Rogers' sharp leer. Foy Willing and the Riders of the Purple Sage stand-in (or, is that sing-in?) for the A.W.O.L. Bob Nolan and the Sons of the Pioneers. James Finlayson (from the Laurel and Hardy films) adds to the \\\"slapstick\\\" look of \\\"Grand Canyon Trail\\\". A loose floor board delivers the winning comedy performance. Mr. Devine's mule kicks its heels. There are energetic human performances, too - but, the material isn't Grand. <br /><br />** Grand Canyon Trail (1948) William Witney ~ Roy Rogers, Jane Frazee, Andy Devine\"\n",
      "* * * * * * * * * \n",
      "13573\n",
      "The first half of the film is OK, the second half one of the most tedious experiences imaginable. Quite possibly the most overrated movie of all time. \\Pulp Fiction\\\" was robbed for \\\"Best Picture.\\\" This is one of those films that people feel required to love because the main character is \\\"slow.\\\"\"\n",
      "* * * * * * * * * \n",
      "13865\n",
      "This movie which was released directly on video should carry a warning label that it is dangerous to human health and may subject the viewer to terminal boredom. It is yet another thinly veiled, evangalizing \\rapture\\\" religious movie with the good guys (the believers) suddenly vanishing and the bad guys (the non-believers)left behind. It's an interesting concept, especially since we see it happen on a flight captained by a non-believer who is having a sinful affair with a stewardess aboard (needless to say that sinner doesn't disappear either!). Unhappily, with all the pilots being non-believers, the plane did not crash or the movie would have been mercifully over. Though this could have be interesting without the heavy religious browbeating, as a whole the plodding movie makes one gag, the acting is horrible and the obviously computer-generated simulations are very fake looking. Plus it's yet another movie shot in Canada that purports to be New York City. Spare me...I'll just read the Bible.\"\n",
      "* * * * * * * * * \n",
      "13881\n",
      "I thought before starting with these movie that it might be a good one, but when i started with it i found it really awful. They said movie is being made in Afghanistan but i think 95% of the movie is shot in India. you can see Indian made cars. you can see lars drinking bisleri(an Indian water brand), Hindi written on the road, you can also see temples in Afghanistan *hahah* its really funny and many more stuff which proves its not shot in Afghanistan. I think one should not waste his/her time watching this movie.. pure time waste.. i would recommend to do something else instead of watching this movie or may be might heart is better idea but don't watch this waste of time\n",
      "* * * * * * * * * \n",
      "13928\n",
      "The original was a good movie. I bought it on tape and have watched it several times. And though I know that sequels are not usually as good as the original I certainly wasn't expecting such a bomb. The romance was flat, the sight gags old, the spoken humor just wasn't. This may not have been the worst movie I've ever seen but it comes close.\n",
      "* * * * * * * * * \n",
      "14001\n",
      "This is it. This is the one. This is the worst movie ever made. Ever. It beats everything. I have never seen worse. Retire the trophy and give it to these people.....there's just no comparison.<br /><br />Even three days after watching this (for some reason I still don't know why) I cannot believe how insanely horrific this movie is/was. Its so bad. So far from anything that could be considered a movie, a story or anything that should have ever been created and brought into our existence.<br /><br />This made me question whether or not humans are truly put on this earth to do good. It made me feel disgusted with ourselves and our progress as a species in this universe. This type of movie sincerely hurts us as a society. We should be ashamed. I really cannot emphasize that our global responsibility as people living here and creating art, is that we need to prevent the creation of these gross distortions of our reality for our own good. It's an embarrassment. I don't know how on earth any of these actors, writers, or the director of this film sleeps at night knowing that they had a role in making \\Loaded\\\". I don't know what type of disgusting monsters enjoy watching these types of movies.<br /><br />That being said, I love a good \\\"bad\\\" movie. I love Shark Attack 3, I love Bad Taste, they are HILARIOUS. I tell all my friends to see them because they are \\\"bad\\\".<br /><br />But this.......this crosses the line of \\\"bad\\\" into a whole new dimension. This is awkward bad. This is the bad where you know everything that is going to happen, every line, every action, every death, every sequence BEFORE they happen; and not just like a second or two before, I mean like, after watching the first 5 minutes before.<br /><br />Every cheesy editing \\\"effect\\\" is shamelessly used over and over again to a sickening point. I really never want to see the \\\"shaky\\\" camera \\\"drug buzz rush\\\" effect or jump cuts or swerve cuts or ANY FANCY CUT EVER AGAIN EVER. This is meticulously boring, repetitive and just tortures the audience.<br /><br />But.......and let me be specific here, the most DISTURBING thing about this movie is that given the production, it appears that a somewhat decent amount of money was actually put into this excrement. I personally will grab the shoulders of the director if I ever see him and shake him into submission, demanding that he run home and swallow two-gallons of Drain-O or I will do it for him.<br /><br />If we ever needed a new form of inhumane torture for our war prisoners abroad, just keep showing them this movie in a padded cell over and over again. Trust me, I think they will become more extravagant with suicide methods after the 72nd time of sitting through this.<br /><br />Stop these movies, they are just the most vile of all facets of our society. Please. Stop. NOW.\"\n",
      "* * * * * * * * * \n",
      "14009\n",
      "I might not be a huge admirer of the original \\Creepshow\\\", but its trashy sequel makes that anthology look like perfection! And to think I was going into this expecting to like this one more. Five years after its predecessor, George Romero gets back on board the EC Comic style trail and on this outing pens the screenplay for Steve King's three stories. Though, the direction is handed off to Michael Gornick. The film mostly falters in that aspect with uneven brushes by Gornick. But most of the blame would have to go to Romero's dreadfully static and unbearably cringe-like script (especially in those dialogues streaming through the first and final story). Moralistic messages (that came from mostly a sour bunch of characters) simply took over the black humour. Oh it was painful and the same can be said about the lively rotten music score accompanying the picture. Loosely linking the three tales (Old Chief Woodenhead, The Raft and The Hitchhiker) together is a mildly curious and effective wraparound story done in nostalgia (80s) animation form. I rather liked this segment and the wisecracking Creep character was a glowing light. <br /><br /># The first story \\\"Old Chief Woodenhead\\\" sees two elderly proprietors (George Kennedy & Dorothy Lamour) of a general store in a dying native community, Dead River. Get robbed and eventually killed by a couple of punks dying to live it up in Hollywood. In front of the store is a wooden statue of an Indian Chief that comes to live to avenge their deaths. <br /><br />-Listen to George Kennedy waffle.. And waffle on for 10 minutes about how he's committed to his 'great' community. What a nice touchy feely time. Well, just like Kennedy's speeches, this is one monotonously colourless and overdrawn item that never makes good of a fine premise. The overbearing script is plain inane and the performances are suitably so. These two factors really added to my headache. When the Indian comes alive and turns avenger, the goons meet a very quick (though grisly) death in the proper fashion. The effects were commendably done, but what about that free flowing hair. How could Hollywood knock that lock of hair back? Ugh! <br /><br /># Second story \\\"The Raft\\\" follows a group of dope smoking and yahoo teens heading up to a secluded lake. After swimming to the raft in the middle of the lake, they get trapped on the platform because of an ominous looking creature lurking in the water. <br /><br />-Now this is much better, MUCH better. What starts of as your basic teens run afoul turns into a mysteriously creepy set-up that's full of tight and claustrophobic tension. And it doesn't even cop out on the flashes of nudity or spiteful splatter. Quite morbid it is and that goes for its sense of humour too. The surprisingly ironic ending has a beautiful touch to it. The performances from the nobodies are acceptable without making a huge mark. Gornick's direction sticks to the nasty and rather gooey side. While, the alarming music score on this occasion pressed the right chords. The sludge-like creature in the lake (like many have mentioned) looks like an icky black tarpaulin (yeah you're reading that right!) floating on the water. <br /><br /># Finally number three concludes with \\\"The Hitchhiker\\\". A wealthy, but sexually lacking woman is on her way back home after being with her male gigolo, but she's is running late. Thinking of some ideas to explain for her lateness if needed, she skids off the road and accidentally hit's a hitchhiker. Instead of checking or getting help, she drives off in the hope getting home before her husband. Soon enough she's being terrorised by the mangled corpse of the dead hitchhiker.<br /><br />-Not awful, but I really didn't get into this laughably ludicrous exercise at all. Compared to the first two this one was so different in tone and tried to tickle the funny bone instead. Lois Chiles was okay in the lead role, but that constant assuring and the little conversations she has with herself became pitifully aggravating and downright tired. The vivid make-up effects are well-displayed and dripping with vision. When she hit's the hitchhiker that's when it becomes hectic, cheesy and over-the-top in its execution. From there onwards we endlessly hear our supposedly dead hitchhiker repeat and repeat",
      " and repeat the line, \\\"Thanks for the ride lady!\\\" This happens every time she decides to run over him. Have a little courtesy for the dead darling. <br /><br />In all, the second short story \\\"The Raft\\\" and the unpleasantly, well-conceived effects is what lifts this extremely inferior sequel.\"\n",
      "* * * * * * * * * \n",
      "14203\n",
      "Simply put: the movie is boring. Cliché upon cliché is confirmed and story lines never come together. It seems as if the director was unsure whether to make a movie or a documentary. The main plot is very thin (a CIA agent is ordered to kill an oil prince, gets caught and then warns the prince (why?)) and therefore some elements were added to make the movie more interesting. So, a kid dies, which results in the \\natural\\\" response of the father: freely advising the person indirectly responsible for his son's death. The lawyer has a drunk \\\"friend\\\" and keeps him around, why, no one knows. Some kids become suicide terrorists and blow up a ship.<br /><br />All in all, this is one of the worst movies I have seen in quite a while. I was neither entertained nor intellectually challenged. I neither laughed nor cried, I did not gain an understanding nor was I compelled to learn more or take up a cause. It meant nothing to me, which in my eyes is the worst one can say about a movie.\"\n",
      "* * * * * * * * * \n",
      "14208\n",
      "...well, pop this into the DVD, waste an hour and a half of your life that you will never get back, and find out.<br /><br />Acting? What acting? <br /><br />Production values? ...Production? ...Values?<br /><br />Story? Don't get me started.<br /><br />After many years of posting on IMDb, I never thought I would see a film so bad that I truly wished for a lower rating than one. I always have found at least a reason or two to see merit - if only in the intent or the effort of the writer, the director, the cast, or the producer?<br /><br />In this case, they're all the same guy (!) who really needs to get a handle on the fact, at least as demonstrated by this worthless waste of video tape, that he has no talent. I mean it would be a reasonable excuse if this were some junior high schooler's \\production\\\" for his first cinema class, but the referenced \\\"artist\\\" behind this dreck was twenty-six at the time of this miscarriage. <br /><br />Just how did this ever get made? Who in their right mind ever wrote a check for this? Moreover, don't let the box cover fool you: there's not even anything that remotely resembles a good sex scene or any good \\\"exposure\\\" of the hunk on that cover.<br /><br />Two final items: there was one second when this \\\"film\\\" had redeeming value: the aforementioned \\\"talent\\\" gets roundly punched out by his lover. I cheered! And, I did learn one thing from this \\\"film.\\\". There are times when something is so very bad that it is, indeed, truly very funny. But not in any comical manner; it's just sadly humorous. Very sadly humorous.\"\n",
      "* * * * * * * * * \n",
      "14272\n",
      "This movie could have been so much better, especially considering the talent. Larenz Tate's portrayal of Frankie Lymon was not good, especially in musical performances. He doesn't lip sync well and his stage mannerisms are Larenz Tate, when he should have been Frankie Lymon. The portrayal of the women as a bunch of gold diggers has Hollywood written all over it. The powers that be obviously pushed it, but it only made the characters more unrealistic. The positives of the movie were Miguel Nunez's portrayal of Little Richard, and the cameo of Little Richard himself. Lela Rochon is eye candy, as usual, even in a conservative role. It's too bad that the talents of Halle Berry and Vivica A. Fox were wasted. The whole Frankie Lymon saga was fascinating in real life. Too bad this film was a wasted opportunity.\n",
      "* * * * * * * * * \n",
      "14280\n",
      "Well - when the cameo appearance of Jason Miller (looking even more eroded than he did in Exorcist IV) is the high point of a picture, what've you got?<br /><br />It's a little bit country, a little bit rock n' roll: mix two drunks with money who drag their kid all over the place with a bog-dried mummy (have you figured that one out yet - DRIED in a bog?) in the basement, Christopher Walken with a bad dye job, and a little girl who might have been an interesting character if they'd developed her.<br /><br />I understand - sort of - that they're going back to visit her relatives. After that....<br /><br />Problem: There are several interesting flashbacks to what I must assume is her mother being killed in a car bombing (I think). This is never connected to anything. <br /><br />Problem: What do we need the grandmother for? Now, the grandmother could be interesting. She speaks Gaelic, or Celtic, or something. Maybe you can make something of her. The best they can do is that she 's got a tobacco habit. That's all.<br /><br />Problem: They cast a real shifty character as the husband. Is he type-cast (will he sell his wife to the devil? Maybe he can look forward to the trust fund he manages for her)or is he cast against type (after all, he has a good haircut and nice clothes)? He drinks, he hesitates. He's not a bad guy. Not a good one. But dislikable. Why didn't they DO something with him?<br /><br />No problem: an old boyfriend shows up. The husband knocks him down. He comes back to knock down the husband. (It gets pretty stupid, but at least THAT character has motivation.) <br /><br />NOW - she's an alcoholic, he's an alcoholic; he might only have married her for her money. The grandmother is locked in the bedroom. The blind uncle takes our heroine to the basement to show her the mummy of a witch (are you following this?) who may come to life. In fact, you KNOW she'll come to life, the music swells. A little girl lives in the house, takes tea to the grandmother (unlocks the door to do so) and provides granny with cigarettes. Periodically, granny gets out. But nothing happens. <br /><br />Husband and wife lose the kid in the house, subsequently lose their bedroom. Uncle gets his throat cut in the basement. The leading lady has nose-bleeds. The husband drinks. They both drink. In the face of all of this, the awful truth alluded to in the first over-voice is - omigod - an abortion when the leading lady was twelve years old.<br /><br />In spite of all these dangling-thread ingredients, nobody managed to get a story on the screen. No bridge between situations, no graduation from mild disturbance to awful horror, just long slow scenes that go nowhere.;nbody, really, to care about - and they had places to go with that aspect - the innocent kid in the charge of drunks,the grandmother who might be locked up because she's a monster, but no, her worst fault is smoking. She's got great hair, good makeup. <br /><br />In short, no plot. Just a little random (predictable)violence in a dark library, with the rain gushing in, and the sound track cuing us in. You need more than a few drunks and Christopher Walken to make a movie.<br /><br />The production values were good. Oh. Nice scenery, good wardrobe. The cameraman, at least, knew what he was doing.<br /><br />I bought it. Poor me.\n",
      "* * * * * * * * * \n",
      "14520\n",
      "Unbelievably awful film. I watched part of this on T.V. recently. My jaw dropped as I watched a horrendously conceived plot and listened to mind-numbing drivel. Not a single line from the master of one-liners could come close to producing anything resembling a chuckle. It was so bad it made me want to exhume Rodney Dangerfield's body, slap him around and scream, \\How could you?\\\" I know many films are done in haste, hoping to cash in on the popularity of a given actor or theme. But please, Hollywood, show a little respect for your audience. It's sad and scary that people were expected to pay to see such tripe. The bottom of the cesspool, even by Sunday afternoon television standards.\"\n",
      "* * * * * * * * * \n",
      "14595\n",
      "As someone who was staggered at the incredible visuals of \\Hero,\\\" I was anxious to see this film which was billed as being along the same lines, but better. It also featured an actress I like: Ziyi Zhang. Well, I was disappointed on both counts. I bought the DVD of this film sight-unseen, and that was a mistake. It was not better.<br /><br />I realize these flying-through-the-air martial arts films are pure fantasy but this story is stretched so far past anything remotely believable it just made me shake my head in disappointing disbelief. A blind woman defeating hundreds of opponents? Sorry, that's going a little far. Also, the major male character 'Jin\\\" (Takeshi Kaneshiro) was so annoying with his dialog, stupid look on his face and stupid laugh, that he ruined the film, too.<br /><br />Despite the wonderful colors and amazing action scenes, this story - to me - just didn't have an appeal to make it a movie worth owning. This film is no \\\"Hero\\\" of mine!\"\n",
      "* * * * * * * * * \n",
      "14640\n",
      "This movie was a littttle confusing at first. I usually like Gina Phillips, but this one I have to say was a bad choice just like her doing the movie Ring Around the Rosie, that one also not one her good movies. Jeepers Creepers was way better. Anyway, Faye Dunaway was good. She totally creeped me out and at the end, that was crazy. It was about Jennifer Cassi(Phillips) who comes to her twin sisters funeral. She stays at a house that her sister owns and her grandmother(Dunaway) lives at with an Aunt named Emma. Mary Ellen(Dunaway) is kinda sacrificing her relations to stay alive and as long as she wants to live, she can't die. Even if Jennifer tries to kill her, which she tries. Ravens have a weird part in it. When the relations go to sleep, the Ravens eat there organs, so they can't go to sleep. But they do. Basically it all crazy and Mary Ellen will never die and her relations will be buried, but not dead, b/c they have to suffer forever so Mary Ellen can stay alive. Yeah, I hope this helps. If it doesn't, sorry. Love ya.\n",
      "* * * * * * * * * \n",
      "14660\n",
      "Trash/bad movies usually ain't bad because I will find them enjoyable. This one is so bad that I am out of words to describe it - its below \\bad\\\". There is an instruction in the beginning of the film that tell you what to do during the movie. Needless to say, the instruction and a dozen of beer couldn't help me seat through the entire film. One tagliner compares this one to KILLBILL which is certainly unthinkable and an insult to our intelligent. Obviously. this tagliner had a plan to tempt you into buying this DVD.<br /><br />If you are considering renting this one, put it down! If you are thinking of buying, Dont think! If you unlucky to have this dvd, dont play it, throw it in trash bin immediately.\"\n",
      "* * * * * * * * * \n",
      "14665\n",
      "As long as there's been 3d technology, (1950's I think) there's been animation made for it. I remember specifically, a Donald Duck cartoon with Chip and Dale in it. I don't remember the name at the moment, but the plot was that Donald worked at a circus, was feeding an elephant peanuts and Chip and Dale were stealing the peanuts. This was made to watch in 3d probably 1960's. If you happened to watch Meet the Robinsons in 3d in theaters, they showed this cartoon before the movie and explained the details of it's origin. There are probably somewhere around 100 cartoons made specifically to be viewed through 3d glasses. This claim was a bad move because it's not difficult to prove them wrong. On top of that, this just looks like a bad movie.\n",
      "* * * * * * * * * \n",
      "14669\n",
      "Words fail me.<br /><br />And that isn't common.<br /><br />Done properly this could have been great, funny spoof B-movie sci-fi, but sadly, it was not to be. Rarely in the field of drama have so many competent actors struggled so vainly with such a dogs-breakfast of a script. I can only endorse the previous reviewer's comments - go clean the bathroom. In fact do ANYTHING except watch this film.<br /><br />Positives: Lucy Beeman's nose. Negatives: Everything else.<br /><br />Most apposite line: \\This isn't going anywhere\\\".<br /><br />If only every plastic surgeon could meet with such a fate.\"\n",
      "* * * * * * * * * \n",
      "14710\n",
      "The British claymation series putting \\witty\\\" conversations taped from \\\"average\\\" people in the mouths of \\\"cute\\\" fanciful creatures at least had the advantage for non-British viewers of seeming droll and the kind of rarefied cultured humor you couldn't get on U.S. television. Someone made the mistake of PUTTING it on U.S. television.<br /><br />Sort of like the sadly miscast American version of the sublime Brit-com COUPLING which died in a month on NBC when the same basic scripts didn't \\\"translate\\\" from British English to American English, what seemed droll and cultured (and just a BIT dull) in England, comes across in CREATURE COMFORTS, the American Version, as simply boredom with puppets. There's no through plot-line, no characters and after one and a half episodes watched (of the three ultimately aired), no reason to suffer through more.<br /><br />The only positive thing to be said about the new summer series and the mercifully brief run it had is that the claymation is at least professionally done and coming as a set-up for the single worst show on the CBS schedule, The New Adventures of Old Christine (or \\\"how to be a HORRIBLE mother - or person - in one interminable, unfunny lesson\\\"), kids who wanted to stay up past their bedtime happily ran to bed rather than sit through this show, and the adults could wait to tune in until 9pm when \\\"Two and A Half Men\\\" (guilty pleasure) and \\\"How I Met Your Mother\\\" (actual quality writing) come on.\"\n",
      "* * * * * * * * * \n",
      "14739\n",
      "Brainless film about a good looking but brainless couple who decide to live their dream and take people on diving tours. The pair almost instantly make the wrong choice of customers and get mixed up with some people seeking to recover the items that we see falling to the ocean floor during the opening credits sequence. Great looking direct to video movie could have been so much better if it wasn't so interested in primarily looking good. Performances are serviceable and the plot is actually not bad, or would have been had the director and producers not redirected the plot into making sure we see lots of shapely people in bathing suits (or in what I'm guessing the reason for the \\unrated\\\" moniker a few fleeting bare breasts). The film never generates any tension nor rises above the level of a forgettable TV movie. If you get roped in to seeing this you won't pluck your eyes out since the eye candy is pleasant but we really need to stop producers from making films that are excuses to have a paid vacation.\"\n",
      "* * * * * * * * * \n"
     ]
    },
    {
     "name": "stdout",
     "output_type": "stream",
     "text": [
      "14795\n",
      "A perfect little atrocity...I doubt if a single shot lasted for more then the reglamentary-MTV 4.4 seconds. Woeful casting, worse even than in Kusminsky's version (a reminder: he managed to miscast Juliet Binoche and Ralph Feinnnes). But, hey-the rich got what they deserved. Dark and brooding Heathcliff reduced to the state of a golden-locked angel, frail and angellic Catherine presented as a chubby, melon-breasted heffer, meek and weak Linton is a peeping tom, and innocent Isabel becomes Sara Michelle-Gellar's character from Cruel Intentions. 15-year old Eddie Bauer and Abercrombie and Fitch donners-take notice. This thing was made for you. It is an hour-and-a-half long music video where everything is given to you; you are saved from the uncomfortable necessity of not even trying to understand the complexity of the characters, but even from initial shock at their actions. The actors tried, but, as I stated before, they were miscasted. Decent photography, but editing is on the level of TV production class in high school. I implore you all: read the book, or the cliffnotes even; watch the previous versions of it, even Kusminsky's; but stay away from the numerous future reruns, during which you will not receive the benefit of the commercial-free premiere.\n",
      "* * * * * * * * * \n",
      "14824\n",
      "Chan Wook Park is nothing if not inventive. I'M A CYBORG BUT THAT'S OK is chock full of amusing little technical flourishes with some ingenious ideas sprinkled in between. Attempting to walk in the footsteps of the likes of Marc Caro and Jeunet (CITY OF LOST CHILDREN, DELICATESSEN), Park embarks on a fanciful, lighthearted tale which is a radical departure from his usual morbid fare. Hardly one to be faulted for his ambition or his vision, it is genuinely unexpected, then, to see all Park's effort add up to so very little.<br /><br />I'M A CYBORG BUT THAT'S OK seems astonishingly to subtract from itself as it goes along, with the the end result being a fraction of the sum of its parts. The premise is promising, gags are copious and offbeat humour abounds but it all fails miserably to create any meaningful connection with the audience. The characters are cute and quirky and played with gusto by the cast, but, try as i might, i could not bring myself to care for any.<br /><br />SYMPATHY FOR LADY VENGEANCE was a misstep, indicating perhaps that Park was overindulging himself a little bit, but it still managed to showcase some of the director's unique flare and in the wake of an impressive filmography, was readily forgiven. None of the assured confidence that commanded JOINT SECURITY AREA or SYMPATHY FOR MR. VENGEANCE is evident here. I'M A CYBORG BUT THAT'S OK left me so utterly unengaged i caught myself instinctively fast forwarding from time to time (more regularly as the film progressed). I gave LADY a 5/10, and by that measure, this probably deserves no more than a 3. For old time's sake, i'll be generous: 4/10\n",
      "* * * * * * * * * \n",
      "14922\n",
      "A study in bad. Bad acting, bad music, bad screenplay, bad editing, bad direction and a bad idea. Pieces of schlock don't come any cheesier or unintentionally funnier than this... thing. By the end of the \\movie\\\", you are left wondering why did they bother in the first place. Poor Malcolm McDowell, was he short of cash or something? Still thinking of seeing this? *SPOILERS AHOY*: If you haven't died of laughter in the first thirty minutes, by the time you'll see the cyborg-populated town named \\\"Cytown\\\", you will. Avoid this, my movie-loving friends. Avoid.\"\n",
      "* * * * * * * * * \n",
      "14959\n",
      "Some people seem to think this was the worst movie they have ever seen, and I understand where they're coming from, but I really have seen worse.<br /><br />That being said, the movies that I can recall (ie the ones I haven't blocked out) that were worse than this, were so bad that they physically pained every sense that was involved with watching the movie. The movies that are worse than War Games 2 are the ones that make you want to gouge out your eyes, or stab sharp objects in your ears to keep yourself from having another piece of your soul ripped away from you by the awfulness.<br /><br />War Games: The Dead Code isn't that bad, but it comes pretty close. Yes I was a fan of the original, but no I wasn't expecting miracles from this one. Let's face it the original wasn't really that great of a movie in the first place, it was basically just a campy 80s teen romance flick with some geek-appeal to it.<br /><br />That's all I was hoping for, something bad, but that might have tugged at my geek-strings. Was that too much to ask for? Is it really not possible to do better than the original War Games, even for a straight to video release? Well apparently that was too much to ask for. Stay away from this movie. At first it's just bad, like \\Oh yeah, this is bad, but I'm kind of enjoying it, maybe the end will be good like in the original.\\\" And then it just gets worse and worse, and by the end, trust me, you will wish you had not seen this movie.\"\n",
      "* * * * * * * * * \n",
      "14993\n",
      "first this deserves about 5 stars due to acting (some which would give me a better subjective opinion and NOT an objective one as it should by giving this one, WELL DESERVED, star) but then i know that those facts are used for the actor(S) NAMES to increase the rating of something like this...<br /><br />i do have a problem with such productions; yet another attempt (just like \\untraceable\\\") of a systematic propagandistic feature promoting government intrusion on your rights( how interesting that it comes at a moment when IPS providers trying to \\\"preferentiate\\\" = CENSOR information, and the Americans and Canadians are fighting AGAINST that at this very moments). this time is not by labeling torrent file transfers as evil ( that one was intended to remind you of such feeling whenever you transfer data on the net), but by literally attempting in creating a sexual frustrated population as a whole. SEEMS LIKE FEAR PROMOTION IS HOLLYWOOD'S NORM THIS DAYS, especially when coming to thrillers which is the most \\\"on demand\\\" motion picture genre for past 2 decades or so = most viewed, best way to try influence the society as a whole. such levels of violence are depicted in this 2 features of morally and \\\"ethical\\\" people, that it gives a new much needed meaning to \\\"anti-heroes\\\" figures. make no mistake , this is NOT \\\"DEXTER\\\" which was meant to be high-quality entertainment.STOP SELLING \\\"FEAR\\\" please, the world would be a better place without it and the dollars made of it.<br /><br />the opening scene and generally the first 10 minutes really give a frightful picture of an Erroll Babbage that is CLEARLLY suffering of sexual frustration. the way he handles the black male is very disturbing if not outright racist(for sure a \\\"cliche\\\" at least) ( in real life someone would probably get a beating for it, you will see what i mean). the second scene ( with Claire Danes's character present) is even more extreme. at that point i realized, in my opinion that Erroll Babbage is a very dangerous individual to people around him.how many people, that have seen or will see this movie, have never been \\\"hold down\\\"(regarding BOTH sexes) out of self, COMMON gratification!?.typically the movie gives an extreme CRIMINAL case(that unfortunately did, is and will likely happen again sometime , somewhere) BUT fingers everyone else indirectly as well as \\\"you could become that\\\", etc. anyone that is familiar with Sigmund Freud and Jung will know very well that sexuality is not something to be judged let alone \\\"asses\\\" , by such fanatical \\\"hero\\\" here. SAFE sex in its many forms IS healthy and not some evil that apparently Richard Gere character is obsessed with , on his way for some sexual \\\"crusade\\\". have we not learned anything from the abundant recent scandals involving priests and young boys!? or for how long an American teenager can see extreme violence on \\\"pg-13\\\" but he can not even see a woman breast until \\\"R-18\\\"!?!?( yet the industry targets them with this VERY SAME sexual perversions like \\\"american pie\\\" series for example).raise the kids tester-one levels but frustrate them and drive them underground in developing fetishes to UNhealthy EXTREMES!? all sexual activities(upon MUTUAL acceptance) integrates individuals better then some \\\"rightous\\\" nut-case, THAT blames his misfortunes and shortcomings on \\\"the lives of others\\\"( a new German movie that would work great in comparing this 2 distinct and world apart features on the very same subject).here, like in that movie, you will probably appreciate the actors for well portraying the opposite of what they should have been.<br /><br />i am very disappointed with Richard Gere especially after the recent \\\" hunting party\\\", a feature where he really shines and about a more realistic \\\"hero\\\"( after real facts as well).but then it just reminds me that all those people are only actors that get paid to play someone's political and social agenda. \\\"the flock\\\" and \\\"untraceable\\\" 2 heads of the same hidden beast)))it just reminds you, if know anyone with similar views on the subject as a WHOLE, as Erroll Babbage has those here, to stay clear of them for THEIR own safety.they would kill my family faster then any 0.00001 chances of Paul Jerrod in anyone's life would...<br /><br />in the end i recommend this to anyone thinking negative here about MY \\\"assesment\\\" of this particular movie ( and \\\"untraceable\\\" actually), so you can likely have similar thoughts as i did. nothing sweeter then a propagandistic movie shooting itself in the \\\"foot\\\".))))for once i agree with the rating, this is not a feature for teenagers or kids; simply because at best would confuse them even more then the \\\"common\\\" belief of \\\"money+fame+fashion\\\" and how that relates to sexuality. \\\"scream\\\" series and movies as such AT LEAST have a defined entertainment value(even if a dumb one in my opinion). but this one is just another \\\"trust me i know what is good for you\\\" deeply (not so well done i might add) subliminal messages.\"\n",
      "* * * * * * * * * \n",
      "15046\n",
      "There's tons of good-looking women in this flick. But alas, this movie is nudity-free. Grrrrrrrrrr Strike one.<br /><br />Ahem. One story in this film takes place in 1971. Then why the hell are the main characters driving a Kia Sportage? Hello? Continuity, anyone?<br /><br />As you might know, this movie was released in stereoscopic 3D. And it is the most hideous effect I have ever seen. I'm not sure if someone botched the job on this, but there WAS no 3D, just double-vision blurs. I didn't have the same problem with this company's other 3D movies, HUNTING SEASON and CAMP BLOOD. Sure, the 3D in those ones sucked too, but with them I could see a semblance of 3D effect.<br /><br />This thing is a big ball of nothing.<br /><br />And whoever that women was who played the daughter of the ear-eating dame, yum! I'd like to see more of her. In movies, as well. Looks like Janet Margolin at a young age. Purrrrrrrrrrrrrrrr<br /><br />\n",
      "* * * * * * * * * \n",
      "15238\n",
      "This is surely one of the worst films ever made and released by a major Hollywood studio. The plot is simply stupid. The dialog is written in clichés; you can complete a great many sentences in the script because of this. The acting is ridiculously bad, especially that of Rod Cameron. The \\choreography\\\" is silly and wholly unerotic. One can only pity the reviewer who saw 23-year-old Yvonne's dance as sexual; it's merely very bad choreography. The ballet scene in the film's beginning is especially ludicrous. If you are into bad movies and enjoy laughing at some of Hollywood's turkeys, this is for you. I bought the colorized version on VHS, making the movie even worse. Yvonne's heavy makeup, when colored, has her looking like a clown all the time. And she's the best part of this film. What a way to launch a career.\"\n",
      "* * * * * * * * * \n",
      "15522\n",
      "With a title like that, it's above and beyond my comprehension how this movie just did NOT appeal to me. Granted, there's a few decently sleazy moments and a little gore, but the way in which the movie was shot and the overall storyline just struck me as an idiotic and lazy attempt at profuse \\shock\\\" tactics... The inconsistent plot starts with a guy raping and murdering a woman stranded at the side of the road. He and his abetting brother are imprisoned up until the brother breaks out and arranges to meet his girlfriend out in the woods. He ends up forcing her into a house where they screw and he later shows her a collection of kidnapped guys in the basement. The heavily drugged captives consist of her old boyfriend who raped her, a \\\"grabby\\\" neighbor, and her sexually abrasive boss. He explains to her that he is going to kill them all. She winds up killing HIM and then turning her focus towards the men (or pigs) whom she tortures and kills, herself... Most of the violence and humiliation has to do with sh!t eating and genitalia destroying - all of which are far from disturbing and essentially mild. The best scene is a graphic broom handle masturbation followed by some painful man-rape... Surely, \\\"I Spit on Your Corpse, I P!ss on Your Grave\\\" was intended as an unofficial sequel to \\\"I Spit on Your Grave\\\" - based on, mainly the title, and a reference the main character gives - suggesting her mother was Camille Keaton. I personally consider that to be a wildly blasphemous assertion! This movie is a boring, amateurish mess that strives for shocks but failed miserably...\"\n",
      "* * * * * * * * * \n",
      "15566\n",
      "Not good! Rent or buy the original! Watch this only if someone has a gun to your head and then....maybe.<br /><br />It is like claiming an Elvis actor is as good as the real King.\n",
      "* * * * * * * * * \n",
      "15829\n",
      "Yet another forgettable Warners foreign intrigue \\thriller,\\\" this is rendered even less enjoyable by the irritating presence of Lauren Bacall, who, without Humphrey Bogart's tender attentions to humanize her, comes off as her usual shrill, shallow self. Even master gigolo Charles Boyer cannot feign romantic interest in her.\"\n",
      "* * * * * * * * * \n",
      "15937\n",
      "SLASHERS (2 outta 5 stars)<br /><br />Not really a very good movie... but I did like the idea behind it... and the the filmmakers did make it look pretty good considering the tiny budget they had to work with. The movie is ostensibly an \\episode\\\" of a live Japanese reality show that sends several contestants into a sealed off \\\"danger zone\\\" and has three costumed creeps sent after to them to kill them. The survivor, if there is one, wins fame and fortune... everyone else just winds up dead. The main drawback to this movie is that the acting is pretty bad. None of the \\\"real\\\" people seem real at all. The actors playing the killers are kind of fun... because they are portraying cheesy and over-the-top caricatures of popular modern horror movie types... and that's exactly how they would be done if this was an actual show. The movie pretends to be done all in one take... there is one cameraman who follows the contestants around the \\\"danger zone\\\" and everything is seen from the point of view of his camera... but the lights keep flickering on and off constantly (to hide the \\\"cuts\\\" from one take to another, I would imagine).\"\n",
      "* * * * * * * * * \n",
      "15941\n",
      "This movie is bad. I don't just mean 'bad' as in; \\Oh the script was bad\\\", or; \\\"The acting in that scene was bad\\\".....I mean bad as in someone should be held criminally accountable for foisting this unmitigated pile of steaming crud onto an unsuspecting public. I won't even dignify it with an explanation of the (Plot??) if I can refer to it as that.I can think of only one other occasion in some 40-odd years of movie watching that I have found need to vent my spleen on a movie. I mean, after all, no one goes out to intentionally make a bad movie, do they? Well, yes. Apparently they do...and the guilty man is writer/director Ulli Lommel. But the worst of it is that Blockbusters is actually renting this to their customers! Be advised. Leave this crap where it belongs. Stuck on the shelf, gathering dust.\"\n",
      "* * * * * * * * * \n",
      "16209\n",
      "This was an excellent idea and the scenery was beautiful but that's where it ends. It seemed like a lackluster Set It Off meets The West. The plot barely made any sense. There were so many characters and not enough time to develop their personalities. There were too may unnecessary things going on that didn't pertain to the plot nor did it help further the story along. There were also long blank moments where the plot could have been explored but was used for silence or unnecessary conversations. The script should have made more sense as well as the directing. I had a huge question mark on my head watching this movie. But the casting was great in my opinion. If you're only watching for eye candy then this is the movie for you.\n",
      "* * * * * * * * * \n",
      "16219\n",
      "I originally gave this episode a rating of two- I now wish I'd thought more about it. I also wish they had negative rating options.<br /><br />Watching it, I was amazed at how poor the whole thing was from start to finish. I adore Ron Pearlman, and John Carpenter... so what went wrong?? Last season episode 13 was pulled due to the way it handled the abortion issue. I think that this season Mr Carpenter managed to make something so grey-area that you can't immediately see if he is pro-choice or anti-abortion. It was only after I sat and thought about it that I realized he is very much anti-abortion- you get this most clearly in the end when the 'Mother' shoots the baby and kills it, to the dismay of the 'Father', who walks off in grief, leaving the mother unharmed. But you also see it in the way the Ron P. character is treated- I hardly think that if someone has proved themselves enough of a threat in the past so as to have a restraining order against him that they would not immediately be ringing the police. Instead we have the guard almost sympathetically dealing with him (only to pay for it in the end) I don't mind someone having a strong view on something, even if it isn't something I agree in, but I do think its a bit lame not to stand by that view, rather than trying to look like they're sitting somewhere in the middle.<br /><br />But, political issues aside, this episode was beyond poor. The music was retro-70's and just plain didn't work. The acting (other than Ron P.) was poor. The effects were dreadful- it might have been better just to -not- show the monster at all rather than show the lame excuse for a monster they had.<br /><br />All this being said, I'm glad they have the Masters of Horror- I don't mind sitting through some really poor episodes to find the good ones. Its a bit like renting horror movies from the video store- every now and again you get a good one and it makes it all worth while. I do agree with the poster that said maybe the name needs to change from Masters- some of these people just plain don't deserve the title. (Let me stress tho- even tho I hated this episode, John Carpenter TOTALLY deserves the title. He is a master thru and thru)\n",
      "* * * * * * * * * \n",
      "16256\n",
      "Leonard Maltin compared this film to a Mel Brooks comedy. He was far too kind to Ms. Rivers, and far too cruel to Mr. Brooks. Not even the raunchiest Mel Brooks films are this tasteless, and at least they're genuinely funny. This picture deserves a place on the hundred-worst list.\n",
      "* * * * * * * * * \n",
      "16835\n",
      "I'm a Jean Harlow fan, because she had star quality. I don't think her movies are good and I don't even think that she was a good actress, but she certainly was Great in comedies. Every bit of comedy in The Girl from Missouri is very good. But this movie is perhaps more like a love story. Jean Harlow is wonderful in this one and you can forget the rest of the cast - their performances bring nothing new. It always impresses me much to think that Harlow's beautiful body was that of an ill woman. Well, in this movie she does look beautiful.\n",
      "* * * * * * * * * \n",
      "17218\n",
      "this is without a doubt the worst most idiotic horrible piece o' crap i have ever watched.<br /><br />this movies plot is that some guy goes crazy and dresses up as santa claus and kills people BECAUSE he saw his mother give his father oral sex while he was dressed as santa clause. THAT IS WHY HE WENT INSANE? is it just me or is that the worst damn reason for someone to go insane like EVER? and that's not the only thing. i'm being serious when I say NOTHING HAPPENS IN THIS DAMN MOVIE. nothing until like 1 hour and 15 minutes of it have gone by.<br /><br />there's an entire friggin scene where he glues a friggin santa beard on to him. IT'S A FRIGGIN MINUTE LONG. WHO THE HELL WANTS TO SEE THAT? however i must say the ending of this movie made me crap myself laughing at it. so if you see this movie on TV or something come back in like 1 hour and 20 minutes just to watch without a doubt the worst ending in all of cinematic history. and i'm serious about that.<br /><br />it's not even so good its bad, it's tedious, it's idiotic, it made me want to break the vcr. it's just not worth your time also i'm sure every other review mentioned this but The actress who played the mother on Home Improvement was in this movie for a split second. YOU WANT TO KNOW HOW BAD THIS MOVIE IS? I'D RATHER WATCH HOME IMPROVEMENT FOR SIXTY SIX HOURS THEN EVEN LOOK AT THIS MOVIES COVER EVER AGAIN.\n",
      "* * * * * * * * * \n",
      "17223\n",
      "Knowing how old a film is, ought to prepare the viewer for a few things, and, with those things in mind, perhaps the movie'll be more tolerable. So it was when I watched Revolt of the Zombies. The heavy reliance on tedious dialogue and corny movements should be expected, as should the primitiveness (or absence) of special effects in those days. A great deal is asked from the imagination of the onlooker - maybe too much, in this case. And the plot isn't easy to follow: Some zombiefied southeast Asian soldiers in WWI performed very admirably. Although skeptical as to why, if true, the explanation should stay out of the wrong hands, so, off goes a group to archaeologically investigate. The key to long-distance hypnosis is learned by a member of the expedition, who uses it to, among other purposes, temporarily dispense with the beau of the gal for whom he has the hots. To prove his love for her, he gives up his hold on everybody, which he shouldn't have done 'cause, once they're all unzombiefied, many want to kill him so that he'll never control them again. Below average, even with precautionary forethought. Recommended for only the extremely patient.\n",
      "* * * * * * * * * \n",
      "17323\n",
      "Sholay: Considered to be one of the greatest films. I always wondered if they would ever remake being the classic it is. That was the time RGV announced this movie and I was somewhat excited to see it. I always thought that maybe this will be a good movie, but every week we would here RGV change something. And the movie is a very B-Grade movie, something that I had not hoped.<br /><br />I really tried looking for positives, but I promised to keep Sholay out of my mind. The cinematography is awesome. The movie tries to be its own. But that is the up side. The action sequences are weak. The screenplay had potential. The biggest flaw is editing. None of the scenes excite you. For example, the comedy sequences felt very out of place and forced. Ironic because comedy was just as entertaining in the original. And none of the characters are developed. And no scenes will linger until the end. And the ending was very disappointing.<br /><br />The biggest question is acting. Amitabh Bachchan was good as Gabbar Singh, nothing great. It seemed as if they concentrated too much on his look, that the character only looks menacing, but you don't get creeped out. Mohanlal is barely in the movie, but he impresses in his few scenes. Ajay Devgan was decent. It wasn't so much the performance, he gave it his all, it was the weak script. Prashant Raj is very confident, and has potential to make it far with better movies.<br /><br />I had most expectations for Sushmita Sen, who was probably the best of the lot. She was expressive, but this still was not enough. Nisha Kothari surprised me. She seemed disinterested for the most part, but her emotional scene after her friend's death was quite good. Seems as if she needs to find a director who will help her talent, not her cute looks. But what disappointed me most was chemistry. Ajay Devgan and Prashant Raj didn't look like friends. Ajay-Nisha were not a strong couple. No passion was to be found between Sushmita and Prashant. And Amitabh and Mohanlal did not the hateful passion they needed.<br /><br />As for songs, they pretty much suck. Urmila's Mehbooba was too overblown and I pretty much slept through it. It was however nicely danced. The Holi number was enjoyable, but not memorable. Same went for the other songs. For someone who looked forward to this movie, I was heavily disappointed. I had high hopes for RGV because of his Jungle, but seems as if he lost his talent during the shooting of this movie. But hopefully he regains his talent for Sarkar Raj. But this movie is best forgotten. All the positives still do not make up for the boring movie it is.\n",
      "* * * * * * * * * \n",
      "17469\n",
      "Can we say retarded? This girl has no talent what so ever, nothing but complete garbage. You people are just marking 10 stars because you know most people hate this pathetic woman, if its such a \\great\\\" show then why did it get canceled after 6 measly episodes? exactly. People that support her, please seek help you do NOT know what is funny. Her stand up comedy is just so stupid, seriously how do you find this trash funny? The show tries to poke fun at stereo types and other things that are not funny at all. Carlos Mencia is funny and to that stupid poster, he actually has fans and his show is on the air so I'm sorry your a redneck who doesen't get his jokes. Please give me my 20 minutes of my life back.\"\n",
      "* * * * * * * * * \n"
     ]
    },
    {
     "name": "stdout",
     "output_type": "stream",
     "text": [
      "17564\n",
      "This is the most saccharine romance I ever sat through. The perfect film for an idle housewife in kerchief, housedress, and ostrich-trimmed high-heeled mules to watch in the afternoon, lying on the couch eating bonbons. In fact, bonbons play a prominent role in the movie.<br /><br />The only reason I was able to watch to the end, is that I finally was able to gaze at Keanu Reeves' dreamy face in almost every scene. In most of his films, he moves too fast to get a good look. The only rapid action in this show is Giancarlo Giannini waving his hands with Latin emotionality - more Italian than Mexican, really. <br /><br />The dialog is as stiff as wood. Unfortunately, no bodices are ripped - the hero is disgracefully perfect-mannered and mild. The aristocratic warm-blooded old-world family cliche is as old as the hills. What does it matter if they are Irish or Italian or Mexican? This is a fairy story.<br /><br />I knew before the titles finished running that this would not be the movie I hoped for. The glowing grapes looked like the paragon of all food ads in Women's Day Magazine. I didn't see his name listed, but the art director surely was Thomas Kinkade, who paints the million dollar canvases of Irish cottages snuggled in fuchsias. This film was literally seen through rose-colored glasses. If you like dreamy pink and blue sky, this film is for you! (The bonbons looked really good, too!)\n",
      "* * * * * * * * * \n",
      "17569\n",
      "OK,but does that make this a good movie?well,not really,in my opinion.there isn't a whole lot to recommend it.i found it very slow,tediously,in fact.it's also predictable pretty much through and through.number one and two were somewhat predictable,but not as much.i also felt this movie was quite campy at times,which i didn't really think fits this series and the character.Jeff Fahey plays the main bad guy in this installment.he's a decent enough actor,but i felt he played his character too over the top.i guess that fit with the tone of the movie,which would have been great if i had liked the movie.plus,there were some pretty bad one liners.Arnold Vosloo returns in the title role,but is given little to work with in this movie.the character has not really evolved,as i had hoped.oh well.this is just my opinion.anyway,for me,while this movie is not abysmal,it is pretty bad.my vote for Darkman III: 3.5/5\n",
      "* * * * * * * * * \n",
      "17612\n",
      "I rented this movie tonight because it looked like a fun movie. I figured that you really couldn't go wrong with a concept of Ex Girlfriend with super powers. <br /><br />... but the movie was confused and pointless ...<br /><br />it seemed that at every turn the writer kept throwing junk in. Also the writer kept throwing in way too much toilet humor and sexual situations that only a teenage boy could love.<br /><br />It seems that it could have been so simple to draw a story out of Fatal Attraction Super hero .. but I guess not. <br /><br />This is not a fun romantic comedy it was advertised to be. You could not take a child to see it and you would be embarrassed seeing it a date. <br /><br />If the writer could have done a basic story around the high concept and cleaned it up - the movie might have a fighting chance. <br /><br />A serious waste of time.<br /><br />B\n",
      "* * * * * * * * * \n",
      "17743\n",
      "I actually intended to see this movie in the theatre. It was actually sold out. I actually went to see Solaris instead, which actually was the worst movie to be released in 2002.<br /><br />Victor Rosa (John Leguizamo), a tough, streetwise 'street pharmacist', freaks out when he sees a kid get shot, so he decides to go clean and invest all of his money with Jack (Peter Sarsgaard). Things seem to be going pretty well until Jack skips town with his girlfriend Trish (Denise Richards). This happened very late in the movie, so had they not revealed this in the preview, it might have been an interesting twist. But they did, so it's not.<br /><br />In fact, there's not a single interesting thing about this movie; everything is given away in the preview. If you saw even one preview, you saw the whole movie, so you might just want to think really hard to fill in the gaps. Go to the website, download the preview, save yourself $3.99. There is not a single surprise or twist in the entire film, other than how terrible the soundtrack is.<br /><br />I hope that whoever was in charge of writing the soundtrack was fired. Twice. Most of it is what music would be like if the only songs allowed to be released were Ricky Martin and Gloria Estefan duets, and (I may shatter the fabric of the space-time continuum with a concept as mind-numbing as this) they both had less talent and musical ability.<br /><br />The acting is at best poor, the script is at best a crime against humanity, and Denise Richards is at best 67% styrofoam and 33% ziploc bag. You know things are bad when John Leguizamo (he was in The Pest!) upstages the rest of the cast with his acting abilities.\n",
      "* * * * * * * * * \n",
      "17775\n",
      "Let me being by saying the I followed watching this video by watching Saw and after Bleed, Saw looked like the all time greatest horror flick ever even though I thought it was only fairly good. Bleed is pretty bad. The best part is seeing the female cast nude. The gore is very fake looking and over-done. It has its funny parts but its extremely predictable and I didn't want to stay to see the horrible ending. If I could, I would ban these actors and actresses, the only reason being is that Debbie Rochon (Maddy) has been in over a hundred other videos and I've also seen two other members of the cast in equally or worse motion pictures. They should not allowed to continue this madness.\n",
      "* * * * * * * * * \n",
      "17786\n",
      "I saw this in the summer of 1990. I'm still annoyed by how bad this movie is in 2001.<br /><br />Implausible plot. You'd have to be a child to think this could happen.<br /><br />I'm just really annoyed by it. Don't see this.\n",
      "* * * * * * * * * \n",
      "17899\n",
      "There are probably more people afraid of the dentist than of, let's say, little monsters or scary looking dolls. Which makes it a perfect subject for a horror movie, really.<br /><br />Dr. Feinstone (Corbin Bernsen) has been a successful dentist for several years now, but when he catches his wife cheating on him with the poolguy he snaps, and he brings his anger and frustration to his work. Well, give a mad dentist a drill and a mouth, and you can probably guess what happens next...<br /><br />As I said, brilliant idea but not delivered as well as it should. In particular the ending is a huge let down. Last note: watch for Mark Ruffalo (You Can Count On Me, Eternal Sunshine...) in this one.<br /><br />5/10.\n",
      "* * * * * * * * * \n",
      "17917\n",
      "\\It's like hard to like describe just how like exciting it is like to make a relationship like drama like with all the like pornographic scenes thrown like in for like good measure like, and to stir up like contro- like -versy and make us more like money and like stuff.\\\" - Ellen, the lost quote.<br /><br />\\\"Kissing, Like, On the, Like, Mouth And Stuff\\\" is like the best like artistic endeavor like ever made. Watching like Ellen's hairy arms and like Chris masturbating was like the height of my years-long movie-viewing experience and stuff. But before I like begin like breaking new U.S.-20-something-airhead records with the my \\\"likes\\\", let me like just briefly list like the high- like -lights of this visual like feast: <br /><br />1. Chris doing the deed with his genitals. And not just that: the way the camera (guided so elegantly by Ellen and Patrick) rewards the viewer with a full-screen shot of Chris's fat white-trash stomach after he finishes the un-Catholic deed - that was truly thrilling. I can in all honesty say that I've never seen such grace. Chris, you should do more such scenes in your next movies, because that is exactly what we needed as a continuation of what that brilliant, brilliant man, Lars von Trier and his \\\"Idiots 95\\\", started. A quick w*** and then a hairy, fat, white belly: what more can any movie-goer ask for?! Needless to say, I can sit all day and watch Chris ejaculate (in spite of the fact that I'm straight)... Such poetry in motion. Such elegance, such style. No less than total, divine inspiration went into filming that sequence - plus a solid amount of Zen philosophy. Even Barbra Streisand could not get any more spiritual than this.<br /><br />2. Ellen's hairy, thick arms. The wobbly-camera close-ups, so skillfully photographed by our two directors of photography (I can't emphasize this enough), Ellen and Patrick, often caused confusion regarding the proper identification of the sex in question. There were several scenes when we would see a part of a body (a leg, arm or foot), yet it was often a guessing game: does that body-part belong to a man or a woman? Naturally, Chris and his fellow artists, Ellen, Patrick and whatsername, cast themselves on purpose, because their bodies were ideal for creating this gender-based confusion. It was at times hard to guess whether one is seeing a female or male leg. Patrick is so very thin and effeminate in his movements, so hairless and pristine, whereas Ellen and the other girl are so very butch, what with their thick legs and arms. Brilliant. <br /><br />3. Brilliant - especially the way that neatly ties in with the theme of role reversal between the sexes: so utterly original and mind-blowing. Ellen behaves like a man, wants sex all the time, while her ex Patrick wants to talk - like a girl. Spiffing.<br /><br />4. Ellen's search for a Leftist mate. \\\"He must love 'The Simpsons', which is quite Leftist.\\\" I am glad that the makers of this movie decided to break the long tradition of offering us intelligent Leftists. Ellen is such a refreshing - and realistic - change. The number of \\\"likes\\\" that she and her liberal friends manage to utter in less than 80 minutes is truly phenomenal (3,849, to be exact). They have managed to realistically transfer their real-life ineptness onto the big screen with a minimum of effort, and I applaud them for that.<br /><br />5. The close-ups of toes. Plenty of stuff here for foot-fetishists, which I think is a very liberal, highly commendable way of reaching out to sexual minorities. After all, shoe- and foot- fetishists are offered so little in modern cinema, so it's nice to see that someone out there CARES.<br /><br />KOTM, or rather, KLOTLMAS, offers more than meets the eye. It is not just a modest little film about shallow people engaging in hollow relationships while indulging in meaningless conversations. No, it's much more than that. It's about the light that guides all silly creatures; the guiding light that dominates the futile lives of various pseudo-artistic wannabes who just dropped out of film school, and plan to assault our senses with dim-witted drivel that will hopefully play well at pretentious festivals like Sundance and Cannes, enabling them to gain the necessary exposure hence some real cash for a change, with which they will later hire the likes of Sean Penn and George Clooney in promoting the saving of this planet and the resolving of ALL political problems this world faces. What better way to do that than by making porn at the very start? <br /><br />If Chris and Ellen did the camera here, as is clearly stated in the end-credits, then who held the camera while the two of them were in front of it? They probably hired some passers-by and shoved the camera into their hands...<br /><br />Go to http://rateyourmusic.com/~Fedor8, and check out my \\\"TV & Cinema: 150 Worst Cases Of Nepotism\\\" list.\"\n",
      "* * * * * * * * * \n",
      "17926\n",
      "TYSON <br /><br />Aspect ratio: 1.33:1<br /><br />Sound format: Stereo<br /><br />Reverent - though scrupulously fair - account of the life and times of champion boxer Mike Tyson. Given his conviction on a rape charge, the film is careful not to portray him as hero or villain, but paints a warts-and-all portrait of his rise to fame, the pressures of success, and the people who shaped his destiny for good or bad. Constrained by time limits, the script gallops through a succession of relevant details, alighting briefly on significant events, culminating with Tyson's (temporary) downfall in 1995. Novices will be enlightened by the chronology, while boxing fans will be entertained by director Uli Edel's straight-arrow approach to the material. He portrays Tyson's life as a circus in which he was ultimately led astray by the circumstances of his own success. In fact, the script reserves most of its venom for Tyson's ex-wife Robin Givens, characterising her as an ungrateful gold-digger who took advantage of his naivety. Production values are uniformly solid and the cast is superb: Michael Jai White does a fair imitation of the title character; George C. Scott plays Tyson's mentor Cus D'Amato through acres of gritted teeth; and Paul Winfield was surely born to play Don King!\n",
      "* * * * * * * * * \n",
      "17935\n",
      "This is a terrible film, and not one scene has an ounce of truthful emotion. The characters are uninflected, obviously drawn, predictable and the story line is obvious and typical Hollywood wish fulfillment.<br /><br />William Holden (so sad to see him in this role) was 55 when this film was made, but he's playing someone in his early 40s and looks like he's in his 60s. Kay Lenz was 20 and was scripted to find him irresistibly attractive. I think the dog they found by the side of the road was sexier and had more life than their erotic connection.<br /><br />Holden's character--the same age as Clint Eastwood when he directed this film, (not) coincidentally--is placed with obvious trappings of 60s pre-hippie cool: the bachelor pad, the swinging hi-fi, the lunches at Yamashiro. But the film is ridiculously uncool, a clanging claptrap of old fogies desperately wishing that the free spirits they saw on Sunset and in Laurel Canyon would find them and their big honkin' cars sexy.<br /><br />Ugh. Youth culture was never that desperate. And I shudder to think that Bill Holden was so desperate for youth that he took this embarrassing part.\n",
      "* * * * * * * * * \n",
      "17978\n",
      "Recherche is a good word to describe this movie.<br /><br />Let's say every movie has a selling point, a gimmick. Transformers' gimmick is the awesome effects as well as fan boys nostalgia. Sleepless in Seattle's gimmick is situational in their tag-line, \\What if someone you never met, someone you never saw, someone you never knew was the only someone for you?\\\" Many romance relies heavily on these gimmicks and some through draw of big names. Leap Years employs both by using the Irish folklore as the circumstance and featuring considerably famous names within the country.<br /><br />So now that the audience are in the cinema, besides all the usual elements in characters, conflict or consequences, crisis, resolve and denouement, they also look forward to stimulating dialog, more absorbing situations as a result of the leap years, interesting sub-plots and perhaps, to a certain extent, a good twist in the middle or towards the end of the story that favors the circumstances of the characters.<br /><br />This is what Jean Yeo is trying not to achieve. If they've tried to, their goal was apparently in the other court, at the other stadium, on the other end of the planet. She and her writer, Alain Layrac, utterly failed to provide stimulating dialog. Most of the lines were contrived. It seems that they have a bag filled with lines which she would like to use in her movie: \\\"Okay, these are the lines and quotes which I've heard or read from either movies I've seen or books I've read before and they all sound good to me. If they sound good to me, they will sound good to the audience. Therefore, all i have to do is piece them all together. I am going to use all of them.\\\" The result is cathartic. I can't say that the lines were unnecessary and bears no relation to the story or in driving the plot on, but they seem to spring out of nowhere, catching you off guard with these quotable quotes.<br /><br />On a personal level, i know people who cite quotes based on most of the situations in our dialog, trying to make it meaningful to themselves while nodding along. I don't go out with them anymore because the urge to punch them is overwhelming.<br /><br />Secondly, the characters portrayed are silly and one-dimensional. With exception to the unnatural dialog which implies their motivation (necessary to drive the plot), there was no sense of conviction in them. I haven't an idea who they are. They are all simpletons spouting lines from the advice column of a female-oriented magazine.<br /><br />The gimmick in the leap years is not enough to drive the story on because the circumstances are too shallow. Then again, there are movies with less but fared better than this, aren't there. They made it up with my first and second point. Moreover, the sub-plots are inconsequential (not that it's a bad thing for movies) and thin (bad thing).<br /><br />Jean Yeo and the producers are trying to pass off the terrible plot with fancy locations and passable photography. This is because they probably understand that it is possible and easier to attain the approval from some viewers than the others with the good use of cinematography, soundtrack and filming location. These non-discerning viewers.<br /><br />It is not even the kind of movie that is so bad that it's good. It is just bad. Don't watch this.\"\n",
      "* * * * * * * * * \n",
      "18023\n",
      "This is a German film from 1974 that is something to do with some women who come to a castle and beyond that, I can't really tell you their purpose or even what the purpose of the movie is. I can tell you that there's several women who also moonlight as servants at this particular castle who strip, put on body paint and gyrate to bongos like they were at the Goth Kit-Kat Klub, though, and that seems to be a good portion of the run time of this film. Yeah, there seems to be something with devil worship and vampires, and there's some girl on girl stuff, etc., but the main focus seems to be the painted babes gyrating away in the basement. I did rather like the eye-rolling of one of the main housekeepers/devil worshipers, that lent an authenticity to the proceedings and made her even more evil-looking. Was that Wanda the Evil Lesbian (as billed in the credits)? No matter. If you aren't too picky about your lesbian devil worshiping movies, you might like this, otherwise it's pretty dull stuff and I couldn't even finish it, I was so bored. 3 out of 10.\n",
      "* * * * * * * * * \n",
      "18051\n",
      "The first time I watched Cold Case was after it had run for about a year on Danish television. At the time it came to the TV it nearly drowned in 4 or 5 other American crime shows aired roughly the same time.<br /><br />I saw it and I was bored to death. The substandard actors with the self righteous faces and morals were a pain in the behind. The entire premise that so much money was given a team of investigators to solve murders dating back 10-20-30 or even 60 years seems so unlikely.<br /><br />The time is also a factor as they only have 50-60 min to tell the story which means that they get a break through just in the nick of time to solve the case and bring justice to surviving family members, if they are still alive. This combined with the \\personal\\\" problems and relations of the investigators which there HAS to be time for leaves the show a complete lackluster.<br /><br />I give it a 2-star rating because of the music i the end which is really the only reason for watching it....which you then of course won't do as that is TOO lame a reason for watching this crap.\"\n",
      "* * * * * * * * * \n",
      "18062\n",
      "Patricia Hunter: Oh, professor, do you also make a habit of collecting coffins? Dr. Lorenz: Why, yes, in a manner of speaking. I find a coffin much more comfortable than a bed. <br /><br />Interesting Bela Lugosi (Glen or Glenda, Dracula) vehicle where he plays the mad scientist. I was especially creeped out when he appeared in the bedrooms of his guests when they were sleeping.<br /><br />Luana Walters (Girls in Prison) was really appealing as a sensual reporter, Patricia Hunter< who was to be a victim, but woman-power trumps evil scientist every time.<br /><br />2'11\\ Angelo Rossitto and creepy Frank Moran , who liked to stoke the women's hair added to the film.<br /><br />Interesting look at a 40s horror film.\"\n",
      "* * * * * * * * * \n",
      "18127\n",
      "It's my opinion that when you decide to re-make a very good film, you should strive to do better than the original; or at least give it a fresh point of view. Now the 1963 Robert Wise telling of Shirley Jackson's remarkable novel \\The Haunting of Hill House\\\" is worth the price of admission even today. Now fast forward to 1999 and the re-make. I was left shaking my head and asking, why? The acting is wooden, the story unrecognizable and the whole point seems to be to replace the subtle horror of the original with as many special effects computers can generate. I had heard that this update was bad; but couldn't believe it was that bad, considering the source material. I was wrong. After watching this and saying to my wife how awful it was, she said; \\\"Well they got your money!\\\" She's right, don't let them get yours. If there's no profit in making lousy re-makes, maybe they'll stop making them or come up to a higher standard that doesn't insult their audience\"\n",
      "* * * * * * * * * \n",
      "18151\n",
      "When I first saw the preview for this movie, I really couldn't wait to see it. The plot seemed good and the setting was great. I mean, a slasher movie that takes place on prom night, great idea!! And the plot: A High School teacher that becomes sexually obsessed with one of his students, goes crazy, gets arrested, and escapes three years later on prom night! Prom night, a night that is supposed to be happy and memorable, turns into hell!! However, I saw it and was extremely disappointed. It was not only the worst \\horror movie\\\" I have ever seen, but it was one of the worst movie in general that I have ever seen!! First of all, it wasn't even scary. There was not one moment in that movie when I jumped out of my seat. Also, the murder scenes were so cheesy and dull. All the slasher did was either stab his victims in the stomach multiple times or cut their throats. Also there was absolutely no gore (its rated PG-13). The scene with the most blood was probably the one where the killer murders the black girl. He slits her throat and blood splatters on the sheets hanging around them (they don't actually show him cutting her throat).<br /><br />Next, you see the killers face the first time he is introduced in the movie. He isn't mysterious, creepy, or scary. He's just this guy who kills people.<br /><br />Also, everything in the movie was so cliché. An example is when, at the end, the killer is about to kill the main character and at the last moment, the detective shoots and kills him. Also, every single thing in this movie was so predictable. The victim, after seeing the guy with a knife, runs for her life, hides, thinks she gets away, and then the killer just pops out and kills her.<br /><br />Finally, the sequence of the movie was extremely bad. The guy goes into the hotel, kills a few people, the bodies are discovered, someone pulls the fire alarm, and everyone evacuates. The main character forgets something in her room, has an encounter with the killer, runs and escapes. Thats it! She and her boyfriend go home, the slasher kills the guards patrolling the house, finds the girl, then gets killed by the detective. The movie sequence was so stupid and cliché.<br /><br />If your thinking of seeing this movie all because the preview looked good, trust me, don't waste your time or money. No wonder this movie was being shown in the smallest theater in the movie theater. My friend and I, along with these two girls sitting in the back, were the only ones in the theater. That should have told me something about the movie beforehand.\"\n",
      "* * * * * * * * * \n",
      "18315\n",
      "Maybe it's the dubbing, or maybe it's the endless scenes of people crying, moaning or otherwise carrying on, but I found Europa '51 to be one of the most overwrought (and therefore annoying) films I've ever seen. The film starts out promisingly if familiarly, as mom Ingrid Bergman is too busy to spend time with her spoiled brat of a son (Sandro Franchina). Whilst mummy and daddy (bland Alexander Knox) entertain their guests at a dinner party, the youngster tries to kill himself, setting in motion a life changing series of events that find Bergman spending time showering compassion on the poor and needy. Spurred on by Communist newspaper editor Andrea (Ettore Giannini), she soon spends more time with the downtrodden than she does with her husband, who soon locks her up in an insane asylum for her troubles. Bergman plays the saint role to the hilt, echoing her 1948 role as Joan of Arc, and Rossellini does a fantastic job of lighting and filming her to best effect. Unfortunately, the script pounds its point home with ham-fisted subtlety, as Andrea and Mom take turns declaiming Marxist and Christian platitudes. By the final tear soaked scene, I had had more than my fill of these tiresome characters. A real step down for Rossellini as he stepped away from neo-realism and further embraced the mythical and mystical themes of 1950's Flowers of St. Francis.\n",
      "* * * * * * * * * \n",
      "18322\n",
      "I happen to be the director's nephew. It's taken me years to get my hands on a copy of this film and I can confirm that it is indeed one of the worst movies of all time. My uncle doesn't even have a copy of it anymore (I asked). I'm looking forward to bringing him a copy.<br /><br />Currently the film's average rating is 1.9/10. As far as I can tell, that should put it somewhere in the mid-30s in the IMDb \\bottom 100,\\\" however with only 206 votes, it hasn't yet placed.<br /><br />It's sad that the film doesn't even get the respect of a bottom 100 title.<br /><br />Anyhow, I'm giving copies of the movie to family members this year for holiday gifts. Best/Worst gift ever?\"\n",
      "* * * * * * * * * \n",
      "18523\n",
      "Be warned! <br /><br />This is crap that other crap won't even deign to be in company with because it's beneath them! Okay, got that out of the way, let me say something more substantive.<br /><br />I've seen Ashes of Time a very long time ago thinking it was a fresh take on the material which is based on a highly revered wuxia tome of a novel due to the emerging reputation of the director, Wong Kar Wai. Well, despite of all of that WKW hasn't succeeded at adapting the novel on screen according to a lot of wuxia fans; mostly it is just shots of dripping water, beads of sweats, legs of horses running, etc. I couldn't sit through most of the movie.<br /><br />Fast forward many years later when I wanted to give Mr. Wong's movies another shot after hearing many praises, especially from Cannes. I was intrigued by his latest, 2046. A friend told me to start w/ Chungking Express because it is his most accessible movies. So wrong! I was just p.o. that I got duped into wasting my time and money on this piece of pretentious nothingness. Some professional reviewers mentioned it as a meditation on alienation and loneliness in a modern big city, blah, blah, blah. It's all fine if the director has a point of view with something to say as to why these things happen and tell it. But no, he merely shows what is. Faye Wong's acting is very typical of Hong Kong's style: garbled enunciation, deer in the headlight wide eye expression, try to be cute and girlish kind of acting; the rest of the cast is equally uninspired.<br /><br />I think the word, Auteur, is a euphemism for a director who tries something new and different, which is to be applauded, but not one who hasn't yet mastered the art of cinematic story telling, which is what Mr. Wong is, for the last 17 years!\n",
      "* * * * * * * * * \n",
      "18693\n",
      "Being that I loved the original \\Caligula\\\" even with all its flaws, I have to say this remake trailer was abysmal.<br /><br />Listening to Jovovich say in that lazy American accent \\\"Mmm cuhligyooluh...\\\" makes me feel sick. The set doesn't look Roman at all... it looks like some rich actor's Hollywood mansion backyard, and the Roman costumes look like cheap crap you buy at a suburban costume shop.<br /><br />That \\\"charming\\\" Adriana Asti looks like a fifty year old Hispanic woman totally terrified out of her mind, as if not knowing it's a movie trailer.<br /><br />The acting has got to be some of the worst I've ever seen, with most of the lines I hear being random actors screaming \\\"CALIGULAAAAAAAAAAAAAAAAA!!!!!!!!\\\" as loudly and obnoxiously annoyingly as they can.<br /><br />The random sex scenes also filled a good 40 or 50% of the trailer, and the scenes with notable actors/actresses like Gerard Butler (who graces the screen in shadows for all of three and a half seconds) not doing anything but looking uncomfortable or going all-out over the top with their minimal lines, just dragging it down with the ridiculousness of their delivery.<br /><br />Courtney Love's part consists of her looking like her usual dumpy crack-whore self leaning against a door mumbling about the moon or something. You can't tell because she's either drunk or high or just mumbling idiotically.<br /><br />Karen Black is just annoying... randomly laughing, and screaming in such a way that irritates you.<br /><br />Helen Mirren... she was in the original, and her return to \\\"Caligula\\\" consists of... \\\"CAAAAAAAAAAAAAAAAAAAAAALIGULAAAAAAAAAAAAAAAAAAAAAAA!!!!!!!!!!!!!!\\\" I particularly \\\"love\\\" (and by love, I mean hate) Ennia's line, \\\"Caligola... j00 no maki me *something incoherent*.... *something that sounds like j00nalo*\\\" It's also insanely arrogant to say Caligula's four year reign was greater than Jesus's birth and death.<br /><br />Honestly, this has got to be the worst, most exploitative, self-indulgently arrogant piece of crap labeled as \\\"art\\\" I've ever seen. Even if Gore Vidal hated the original Caligula, he shouldn't have shown up or given his name over for this crap-pile, no matter how much they paid him (unless it was a billion trillion yen). Worst trailer ever.\"\n",
      "* * * * * * * * * \n",
      "18724\n",
      "Terrible acting, lame plot, stupid story and just all around terrible movie sums up this piece of junk. It was excruciating to sit through. Just awful. Do not waste one penny on this. The movie theaters should feel bad about actually putting this movie out there for people to watch. This \\horror\\\" film was not even in the least bit scary, creepy or disturbing. It was in no way visually appealing. The acting was so terrible by all of the actors that any attempt to draw you into the movie through dialog are completely destroyed within moments of the actor/actress opening their mouth. Plus the entire story, i don't know why someone would make a movie with this story AGAIN. Do not waste your time or money. Even if it's a free ticket don't waste one moment viewing this movie. You will feel dumber for watching it.\"\n",
      "* * * * * * * * * \n",
      "18768\n",
      "I caught this film at the Edinburgh Film Festival. I hadn't heard much about it; only that it was a tightly-paced thriller, shot digitally on a very low budget. I was hoping to catch the next big Brit-Flick. But I have to say, I was severely disappointed. \\This Is Not A Love Song\\\" follows two criminals, who, after accidentally shooting and killing a farmer's young daughter, become embroiled in a deadly game of cat and mouse when the locals decide to take matters into their own hands and hunt them down.<br /><br />The real problem is that this is yet another example of style over substance in a British film. The camera angles and editing are completely at odds with the story, as are the over the top performances, and the appalling use of slow motion, which only serves to make the whole thing look like an expensive home video. There are repeated attempts to make the film look edgy and gritty, which instead come over as hilarious and over the top(Cue a pathetic, obligatory drug scene, and countless, pointless camera zooms). No amount of cliche's such as this can disguise the fact that this is a pretty bad story.<br /><br />We've seen this kind of thing many times before, and made a hundred times better, particularly in John Boorman's masterful \\\"Deliverance.\\\" But while in the latter film, we actually cared about the characters, in this film, I found myself just wanting them to be hunted down and killed as quickly as possible. Even this wouldn't have been so bad if their adversaries had been frightening or worthwhile, but instead, are merely a collection of stereotypical, inbred-looking countryfolk. Again, another offensive, overused cliche' coming to the fore. Surely there are some nice people in the country, filmmakers?<br /><br />In its defense, \\\"This Is Not A Love Song\\\" does contain a couple of good, suspenseful moments, but it's hard to see this film doing anything other than going straight to video, or, at a push, getting a very limited cinema release. It's not a patch on last year's Low-Budget hunted in the hills movie, \\\"Dog soldiers\\\". Maybe British Cinema could actually get kick-started again if the right money stopped going to the wrong people.\"\n",
      "* * * * * * * * * \n",
      "18795\n",
      "I am not a big fan of horror films, and have only seen a handful of them (and none of the \\Halloween\\\"s or \\\"Friday the Thirteenth\\\"s) - but I can appreciate a frightening horror film not because of gore. And I'm pretty sure this isn't scary.<br /><br /> What's so spooky about a little plastic skull that pops up everywhere? In all of its appearances there are faraway establishing shots, so there's no real surprise in any of this film. (Not that a skull in of itself is that scary anyway, but . . .)<br /><br /> The plot concerns Claus Von Bulow's third cousin (John Hudson), who marries a Donna-reed look-a-like (Peggey Webber, giving one of the worst performances ever) who begins seeing skulls and hearing the mysterious screams of a group of peacocks on her husband's mansion. Did I mention that her husband lost her first wife in a mysterious drowning incident? OOOOH!!!! Wonder who did it!!!!<br /><br /> This is the same old plot about a rich boy trying to kill and/or drive their wife insane. If you want to see a well-done version of this stuff, try \\\"Reversal of Fortune\\\". And BTW, Jeremy Irons is one hundred times more talented than John Hudson.<br /><br /> The MSTing was okay but nothing special; paired with the \\\"Gumby\\\" short, however, it makes for good viewing.<br /><br /> Two stars for \\\"The Screaming Skull\\\"; eight stars for the MST3K version.<br /><br /> And now, to paraphrase Mr. Von Bulow himself: \\\"How bad is this film?\\\" \\\"You have no idea!\\\"\"\n",
      "* * * * * * * * * \n",
      "18844\n",
      "I'm a Christian. I have always been skeptical about movies made by Christians, however. As a rule, they are \\know-nothings\\\" when it comes to movie production. I admire TBN for trying to present God and Jesus in a positive and honest way on the screen. However, they did a hideous job of it. The acting was horrible, and unless one is familiar with the Bible in some fashion, one COULD NOT have understood what the movie was trying to get across. Not only was the movie terribly made, but the people who made it even had some facts wrong. However, in this \\\"critique\\\", those facts are irrelevent and too deep to delve into. In short, the Omega Code is the absolute worst movie I have ever seen, and I would not recommend it to anyone, except for comic relief from the every day grind.\"\n",
      "* * * * * * * * * \n",
      "18974\n",
      "A rating of \\1\\\" does not begin to express how dull, depressing and relentlessly bad this movie is.\"\n",
      "* * * * * * * * * \n",
      "19212\n",
      "By far the most important requirement for any film following confidence tricksters is that they must, at least occasionally, be able to pull one over on us, as well as their dumb-witted marks, the cops, the mob and (ideally) each other. But this film NEVER pulls this off. Every scam can be seen coming a mile off (especially the biggen!) Neither are they very interesting, intricate or sophisticated. Perhaps Mammet hoped to compensate for this with snappy dialogue and complex psychological relationships. If so, he failed. The lines are alright, but they're delivered in such a stilted, unnatural, stylised way that I thought perhaps some clever point was being made about us all acting all the time... but it wasn't. As for the psychological complexity, the main character's a bit repressed and makes some ridiculously forced freudian slips about her father thinking she's a whore, but she gets over it. I really liked the street scenes though. Looked just like an Edward Hopper painting.\n",
      "* * * * * * * * * \n",
      "19271\n",
      "OK Hollywood is not liberal.<br /><br />Obviously I'm lieing because it is. Im a conservative but the politics i will leave out of my opinion of the movie. This movie was anti bush, anti middle east , anti big oil propaganda but that is not why it was bad.<br /><br />Fist off i will give credit where credit is due. i saw this film opening night because i happen to like these kinds of films and am a political science major in collage. The cinematography was excellent and the acting was as far as i could tell very good.<br /><br />The plot was impossible for me to decode however. I have been tested and have an IQ of 138 but no matter how hard i tried there was no way i could piece together the story line of the movie and what characters where doing what.<br /><br />The story and scene sequence was totally incoherent and poorly organized.<br /><br />Unless this is one of those movies that is meant to be watch many times to get the full depth pf the story, which it very well may be, i have no idea exactly what was going on.<br /><br />Which makes sense because if you want to make a political argument and not receive any criticism then make your argument impossible to critique! If you cant dazzle them with brilliance, then baffle them with Bull S.\n",
      "* * * * * * * * * \n",
      "19414\n",
      "I saw Brigadoon on TV last night (12 Sept 2009). I am 61 years old and have been watching films as long as I can remember. I can truthfully say that Brigadoon stands alone as by far and away the worst film I have ever seen. The accents were shameful. The local children's club would have produced better sets. The characters were so wooden that they probably contracted dry rot from the tears of the patrons who had the misfortune to watch them. It is to be hoped that the stars of this film had hides thick enough to protect them from the embarrassment which they must have suffered on seeing this film. The owners of this tripe should perform a great service to mankind and destroy all copies of this film.\n",
      "* * * * * * * * * \n",
      "19533\n",
      "The 1930s saw a vogue for documentary films about remote corners of the world, with an emphasis on wild animals, exotic terrain and primitive people with unusual cultures. Despite the logistics of transporting a film crew to a distant and dangerous place, and then bringing 'em back alive (with the film footage), such films were often much cheaper to make than were conventional Hollywood features ... because there were no expensive sets, costumes, or high-priced movie stars.<br /><br />The most successful makers of such films (artistically and financially) were the team of Martin E. Johnson and his wife Osa, who made several documentaries (sometimes with blatantly staged events) in Africa and Asia. The Johnsons' safari films were extremely popular, inspiring several parodies ... most notably Wheeler & Woolsey's \\So This is Africa\\\", in which the very sexy Esther Muir plays a character named Mrs. Johnson-Martini (instead of Martin E. Johnson, geddit?). Although several other filmmakers were producing safari documentaries at this time, the Johnsons' films were the most popular in this genre because they relied heavily on humour. Viewed from our own more enlightened (I hope) standpoint, this is a serious flaw in the Johnsons' documentaries: there are too many scenes in which the funny little brown or yellow people are made to look complete idiots who are easily outsmarted by the clever white bwana Johnson and his wife.<br /><br />One definite asset of these movies is the presence of Osa Johnson. Ten years younger than her husband, she manages to seem young enough to be his daughter. While certainly not as attractive as the shapely blond Esther Muir, Osa Johnson was a pert brunette who gave ingratiating performances in front of the camera in all the films she co-produced with her husband.<br /><br />'Congorilla' is probably the best of the Johnsons' films. The shots of the Congo are interesting and have some historical value as evidence of what this environment looked like in 1930. The shots of the Pygmies and other natives are also interesting, although these suffer from the Johnsons' penchant to stage events in a manner that makes the natives look 'wild' and alien.<br /><br />The best (and funniest) scene in 'Congorilla' is an improvised sequence in which Osa Johnson attempts to teach a jazz dance to some Pygmy women. (The dance is the Black Bottom, no less ... the same dance which Bob Hope famously taught to Daisy and Violet Hilton, the conjoined twins.) Wearing jodhpurs, riding boots, and a pith helmet, Osa Johnson starts scat-singing while she does high steps and slaps her knees in her attempt to teach this dance to the African women. Meanwhile, they just stand there staring at her, apparently wondering what this crazy white woman is trying to accomplish. It's a very funny scene, but it has unpleasant undertones. Osa Johnson is doing a dance that was invented by black Americans: the implication seems to be that black Africans should instinctively be able to perform this dance after a brief demonstration (using natural rhythm, I guess) because it's in their blood, or something.<br /><br />I'll rate 'Congorilla' 4 points out of 10. This film says a little bit about African life in the 1930s and rather more about American cultural perceptions in that same decade.\"\n",
      "* * * * * * * * * \n",
      "19572\n",
      "Your attitude going into Prom Night II will determine how much joy you take away from the film. If you're expecting a horror masterpiece, look elsewhere. If you like campy movies that are rather fun to watch unfold, you'll like this. Lisa Schrage has the time of her life playing an over the top Mary Lou and Wendy Loyd channels Schrage's rage perfectly during her time \\possessed\\\".<br /><br />Not classic cinema but a fun way to kill a couple of hours with a wicked ending.<br /><br />\"\n",
      "* * * * * * * * * \n",
      "19600\n",
      "This movie is hilarious. The problem is that it's not a comedy. One classic scene involves Kurt Thomas just happening to find a pommel-horse in the middle of a village square (which he uses to pummel the bad guys.) Another is the trek into the \\Village of Crazies.\\\" Too bad this movie wasn't made to be a farce, or it may have gotten better ratings.\"\n",
      "* * * * * * * * * \n",
      "19607\n",
      "The recent boom of dating show on U. S. television screens has reached a fevered pitch since the first episode of \\The Bachelor.\\\" Unsuspecting audiences have since been subjected to countless clones and variations, including \\\"The Bachelorette\\\", \\\"Joe Millionaire\\\", \\\"For Love Or Money\\\", and the execrable \\\"Married By America.\\\" Hoping to cash in on this trend, and simultaneously tap and exploit a new demographic, Bravo has unleashed the disastrous \\\"Boy Meets Boy\\\" upon the world. And may they have mercy on us all.<br /><br />The premise is simple and is designed to be light-hearted: an eligible gay man is courted by a number of suitors, eliminated show by show until one is left, but there's a twist. Half of the men are actually straight. This is not much of a big deal, but the inherent viciousness of the scenario kicks in after hearing the pay-off: if, at the end of the show, the gay man picks a straight man in disguise, the straight man wins a cash prize. The gay man gets nothing, or at least nothing more than a few parting gifts, a pat on the back, and a hearty round of \\\"Aren't you embarrassed? Well, thanks for playing!\\\"<br /><br />Just the like the equally painful \\\"Queer Eye For The Straight Guy\\\" (another Bravo program), this show is another example of stereotypes run amok. What makes it even worse, though, is the fact that straight men are playing UP these stereotypes for cash. The producers of this show believe that all you have to do is put enough hair gel in a man's hair, dress up in Abercrombie & Fitch with a pair of designer sandals, strip him of all body hair and fat and voila! It's the gay equivalent to putting a white performer in blackface, and just as offensive to those of us -- like myself -- who are genuinely gay and don't dress/act like that. It implies that gays have no variance or chance for individuality, that they can't behave like real people, only like stereotypes. Never mind the fact that the bank of suitors is sorely lacking in any kind of diversity. All are gym-toned, most are white, and all look far too scrubbed and cleaned.<br /><br />This is another example of how, instead of fostering acceptance of gays as dynamic individuals capable of variance and change, Hollywood has again taken a stereotype and run with it all the way to the bank. I feel genuinely dirty watching this show, as show any gay man who sees this unabashed parade of soft-core pornography masquerading as legitimate television. 1 out of 10.\"\n",
      "* * * * * * * * * \n",
      "19644\n",
      "Ironic that Dr. Seuss' fable emphasizing the non-commercialization of Christmas should be one of the most hyped, marketed, and successful blockbusters of the holiday season. The general gist of Ron Howard's adaptation is that the Grinch's bane against Christmas stems from an early childhood incident and that the Whos themselves are caught up in the materialism of the season save for Cindy Lou Who (played very well by Taylor Momsen). This movie makes an ardent, ambitious attempt to capture the wackiness and sentiment of Seuss' story, but the end result is a movie that lurches and never quite packs the emotional punch of Chuck Jones' animated version. Jim Carrey is noteworthy in his performance as the devilish Grinch, but whether it's the dialogue, the pacing, or extraneous storylines heaped upon the initial plot, the transformation from bitter miser to gleeful benefactor just does not ignite convincingly. There are some wonderful visuals and the make-up work is amazing, yet beyond the technical triumphs there's an element or two here that's missing.<br /><br />Succinctness?<br /><br />Soul?<br /><br />Or maybe Jones did the initial adaptation all too well in his 25-minute cartoon that Howard falls short of in a movie that feels three hours long. Howard, Carey, and crew are all very capable and talented, but what would seem a winning combination is just weak and plodding in its final product. If you must see the feature-length version, rent it on video with Jones' animated version and you can see how bigger and glitzier is not always better. I give this film three cans of Who-Hash out of five.\n",
      "* * * * * * * * * \n",
      "19722\n",
      "Obnoxious Eva Longoria dies on her wedding day when an ice sculpture of an angel (without wings) falls on her off the back of a truck and kills her. She is then tries to ruin the relationship of her ex-boyfriend with his new girlfriend, a psychic who can see her.<br /><br />Obvious unoriginal movie wouldn't be bad in a clichéd sort of way, except that Longoria's character is hateful and obnoxious that she drains all of the fun out of the film. Its like having your ears cleaned with sandpaper. To be fair Longoria, nor anyone else in the cast or crew, isn't the problem, its the god awful script that sinks the proceedings. Its just really really stupid.\n",
      "* * * * * * * * * \n",
      "19980\n",
      "This film is described as a action/comedy. The first 15 minutes and James Belushi's presence point to it being a humorous gangster film.<br /><br />However, the introduction of the ridiculous female lead begins a number of ludicrous plot twists which do little to conceal the contrived ending. The film moves between comedy(description used loosely) and surreal drama with some out of context adult scenes thrown in. The lead female (the Angel of the title) is poorly acted and the actress is not helped by the script which requires some unbelievable, extremes of character to be portrayed. James Belushi is the only one who handles his part well but is also let down by the poor script. One to avoid.\n",
      "* * * * * * * * * \n",
      "19986\n",
      "When a friend gave me a boxed set of \\12 Amazing Scifi/Horror Movies!\\\" I was understandably a little cautious. But, since the item was a gift, I really didn't truly pay my common sense much heed. After all....movies for free! So what if they are a little ropey. After much consideration, Alien Intruder was the first of those movies. Ironically, it was first choice because it looked the best of the bunch. All I can say is, if this is the best of them, I shudder to think what the rest are like.<br /><br />On the surface, it had some good things going for it. Four (count 'em!) actors that I was familiar with. Billy Dee Williams, Tracy Scoggins, Maxwell Caulfield and Jeff Conaway. I told myself...\\\"Billy and Tracy have been in some good scifi (Star Wars and Babylon 5, respectively) so they wouldn't sign up for a turkey. Max is a veteran soap actor who never really managed to break into film....but not too shoddy an actor. An Jeff....well...he's done the good and the bad as far as films and TV go.\\\" I was soon to discover that Jeff had decided to add \\\"the ugly\\\" to his repertoire of movies.<br /><br />The first clue was in the opening scenes. Jeff mugs his way with gusto through an \\\"I'm mad\\\" scene before finally killing himself. An amusing cameo performance, really. Unfortunately this is, without much exaggeration, the highlight of the film. It goes downhill from there.<br /><br />Next up we have the commander of the mission (Williams) who is being sent out to see what happened to Jeff and his crew busy picking his new shipmates from among the ranks of the criminal element. But this assortment aren't so much the Dirty Dozen - more like the Unconvincing Foursome. Plus, one of the crims, a computer hacker, is shown in his cell working away on a laptop computer. Isn't that a bit like letting a murderer run a gun shop in the slammer? Pretty lame prison, if you ask me.<br /><br />When they finally take off the effects are truly horrible. It looks like the spaceship model was knocked up in an afternoon by some bored 8 year old who had parts left over from his Airfix kits.<br /><br />But the horror doesn't stop there. Whilst on route to the area where Jeff's ship vanished, the criminal crew are rewarded for their good behaviour by being given weekends of virtual reality, in which they indulge their male fantasies. All well and good, and the use of scenes from their fantasies serves as an introduction to the \\\"Alien Menace\\\" which begins to appear there. But did they have to drag it out for quite sooooo loooooong? Alien Intruder? Alien Boring, more like.<br /><br />Finally they make it to G-Sector and the alien presence makes them fight against each other for her affections until only good old Max is left. The ending, in truly optimistic rubbish film vein, hints at a sequel - as if! Also making an appearance in this movie is a character I'll nickname the \\\"Sweatdroid\\\". He's supposed to be an android, but apparently that fact was lost on the make-up crew, who provided him with sweaty features at any opportunity. But don't worry, he's just there to make up the body count numbers at the end.<br /><br />Williams and Scoggins, to be truthful, do very little in the film. They only just barely stay awake, let alone act. And, as I mentioned earlier, Jeff gets an early trip to the showers, so his manicness isn't allowed to enlighten much of the film. Max tries his best, as do a couple of the other cast members, but the movie is just direly atrocious, to be honest.<br /><br />The one, and only, half-way imaginative thing this movie offers is the ship naming convention. They are all named after musicians - Holly, Presley, Joplin. The rest of the film is bland and uninspired.<br /><br />Made in 1992, I had thought, on initial viewing, it was one of those 80's straight-to-video jobs. Looks like they still made crap movies well into the 90's, it seems.<br /><br />It's best avoided. Even as a beer n chips movie this film is a stinker, but at least you can fast forward it, I suppose.\"\n",
      "* * * * * * * * * \n"
     ]
    }
   ],
   "source": [
    "# false positives\n",
    "\n",
    "print(\"Examples of false positives:\")\n",
    "\n",
    "import random, time\n",
    "\n",
    "for i in range(0, len(ols_predictions)):\n",
    "    if (ols_predictions[i] == 1):\n",
    "        if (X_raw_train.iloc[i]['sentiment'] == 0):\n",
    "            if (random.uniform(0, 1) < 0.05): # to print only 5% of the false positives\n",
    "                print(i)\n",
    "                print(X_raw_train.iloc[i]['review'])\n",
    "                print('* * * * * * * * * ')\n"
   ]
  },
  {
   "cell_type": "markdown",
   "metadata": {},
   "source": [
    "---\n",
    "\n",
    "# <span style=\"color:red\">WARNING: Don't look at test set performance too much!</span>\n",
    "\n",
    "---\n",
    "\n",
    "The following cells show performance on your test set. Do not look at this too often! "
   ]
  },
  {
   "cell_type": "markdown",
   "metadata": {},
   "source": [
    "# Look at performance on the test set"
   ]
  },
  {
   "cell_type": "markdown",
   "metadata": {},
   "source": [
    "### MODEL: ordinary least squares"
   ]
  },
  {
   "cell_type": "code",
   "execution_count": 15,
   "metadata": {},
   "outputs": [
    {
     "name": "stdout",
     "output_type": "stream",
     "text": [
      "{'Pos': 2467, 'Neg': 2533, 'TP': 1430, 'TN': 1126, 'FP': 1407, 'FN': 1037, 'Accuracy': 0.5112, 'Precision': 0.5040535777229468, 'Recall': 0.5796513984596676, 'desc': 'ols_test'}\n"
     ]
    }
   ],
   "source": [
    "ols_performance_test = BinaryClassificationPerformance(ols.predict(X_test), y_test, 'ols_test')\n",
    "ols_performance_test.compute_measures()\n",
    "print(ols_performance_test.performance_measures)"
   ]
  },
  {
   "cell_type": "markdown",
   "metadata": {},
   "source": [
    "### MODEL: SVM, linear"
   ]
  },
  {
   "cell_type": "code",
   "execution_count": 16,
   "metadata": {},
   "outputs": [
    {
     "name": "stdout",
     "output_type": "stream",
     "text": [
      "{'Pos': 2467, 'Neg': 2533, 'TP': 2035, 'TN': 2097, 'FP': 436, 'FN': 432, 'Accuracy': 0.8264, 'Precision': 0.8235532173209227, 'Recall': 0.8248885285772193, 'desc': 'svm_test'}\n"
     ]
    }
   ],
   "source": [
    "svm_performance_test = BinaryClassificationPerformance(svm.predict(X_test), y_test, 'svm_test')\n",
    "svm_performance_test.compute_measures()\n",
    "print(svm_performance_test.performance_measures)"
   ]
  },
  {
   "cell_type": "code",
   "execution_count": 48,
   "metadata": {},
   "outputs": [
    {
     "name": "stdout",
     "output_type": "stream",
     "text": [
      "{'Pos': 2490, 'Neg': 2510, 'TP': 2159, 'TN': 2100, 'FP': 410, 'FN': 331, 'Accuracy': 0.8518, 'Precision': 0.8404048267808486, 'Recall': 0.8670682730923694, 'desc': 'svc_test_C'}\n",
      "{'Pos': 2490, 'Neg': 2510, 'TP': 2159, 'TN': 2100, 'FP': 410, 'FN': 331, 'Accuracy': 0.8518, 'Precision': 0.8404048267808486, 'Recall': 0.8670682730923694, 'desc': 'svc_test_C1'}\n",
      "{'Pos': 2490, 'Neg': 2510, 'TP': 2159, 'TN': 2100, 'FP': 410, 'FN': 331, 'Accuracy': 0.8518, 'Precision': 0.8404048267808486, 'Recall': 0.8670682730923694, 'desc': 'svc_test_C2'}\n",
      "{'Pos': 2490, 'Neg': 2510, 'TP': 2159, 'TN': 2100, 'FP': 410, 'FN': 331, 'Accuracy': 0.8518, 'Precision': 0.8404048267808486, 'Recall': 0.8670682730923694, 'desc': 'svc_test_C3'}\n",
      "{'Pos': 2490, 'Neg': 2510, 'TP': 2159, 'TN': 2100, 'FP': 410, 'FN': 331, 'Accuracy': 0.8518, 'Precision': 0.8404048267808486, 'Recall': 0.8670682730923694, 'desc': 'svc_test_C4'}\n",
      "{'Pos': 2490, 'Neg': 2510, 'TP': 2159, 'TN': 2100, 'FP': 410, 'FN': 331, 'Accuracy': 0.8518, 'Precision': 0.8404048267808486, 'Recall': 0.8670682730923694, 'desc': 'svc_test_C5'}\n"
     ]
    }
   ],
   "source": [
    "svc_performance_test = BinaryClassificationPerformance(svc.predict(X_test), y_test, 'svc_test_C')\n",
    "svc_performance_test.compute_measures()\n",
    "print(svc_performance_test.performance_measures)\n",
    "\n",
    "svc_performance_test_1 = BinaryClassificationPerformance(svc.predict(X_test), y_test, 'svc_test_C1')\n",
    "svc_performance_test_1.compute_measures()\n",
    "print(svc_performance_test_1.performance_measures)\n",
    "\n",
    "svc_performance_test_2 = BinaryClassificationPerformance(svc.predict(X_test), y_test, 'svc_test_C2')\n",
    "svc_performance_test_2.compute_measures()\n",
    "print(svc_performance_test_2.performance_measures)\n",
    "\n",
    "svc_performance_test_3 = BinaryClassificationPerformance(svc.predict(X_test), y_test, 'svc_test_C3')\n",
    "svc_performance_test_3.compute_measures()\n",
    "print(svc_performance_test_3.performance_measures)\n",
    "\n",
    "svc_performance_test_4 = BinaryClassificationPerformance(svc.predict(X_test), y_test, 'svc_test_C4')\n",
    "svc_performance_test_4.compute_measures()\n",
    "print(svc_performance_test_4.performance_measures)\n",
    "\n",
    "svc_performance_test_5 = BinaryClassificationPerformance(svc.predict(X_test), y_test, 'svc_test_C5')\n",
    "svc_performance_test_5.compute_measures()\n",
    "print(svc_performance_test_5.performance_measures)"
   ]
  },
  {
   "cell_type": "markdown",
   "metadata": {},
   "source": [
    "### MODEL: logistic regression"
   ]
  },
  {
   "cell_type": "code",
   "execution_count": 17,
   "metadata": {},
   "outputs": [
    {
     "name": "stdout",
     "output_type": "stream",
     "text": [
      "{'Pos': 2467, 'Neg': 2533, 'TP': 2041, 'TN': 2093, 'FP': 440, 'FN': 426, 'Accuracy': 0.8268, 'Precision': 0.822652156388553, 'Recall': 0.8273206323469802, 'desc': 'lgs_test'}\n"
     ]
    }
   ],
   "source": [
    "lgs_performance_test = BinaryClassificationPerformance(lgs.predict(X_test), y_test, 'lgs_test')\n",
    "lgs_performance_test.compute_measures()\n",
    "print(lgs_performance_test.performance_measures)"
   ]
  },
  {
   "cell_type": "markdown",
   "metadata": {},
   "source": [
    "### MODEL: Naive Bayes"
   ]
  },
  {
   "cell_type": "code",
   "execution_count": 18,
   "metadata": {},
   "outputs": [
    {
     "name": "stdout",
     "output_type": "stream",
     "text": [
      "{'Pos': 2467, 'Neg': 2533, 'TP': 1768, 'TN': 1907, 'FP': 626, 'FN': 699, 'Accuracy': 0.735, 'Precision': 0.7385129490392648, 'Recall': 0.7166599108228617, 'desc': 'nbs_test'}\n"
     ]
    }
   ],
   "source": [
    "nbs_performance_test = BinaryClassificationPerformance(nbs.predict(X_test), y_test, 'nbs_test')\n",
    "nbs_performance_test.compute_measures()\n",
    "print(nbs_performance_test.performance_measures)"
   ]
  },
  {
   "cell_type": "markdown",
   "metadata": {},
   "source": [
    "### MODEL: Perceptron"
   ]
  },
  {
   "cell_type": "code",
   "execution_count": 19,
   "metadata": {},
   "outputs": [
    {
     "name": "stdout",
     "output_type": "stream",
     "text": [
      "{'Pos': 2467, 'Neg': 2533, 'TP': 2071, 'TN': 2084, 'FP': 449, 'FN': 396, 'Accuracy': 0.831, 'Precision': 0.8218253968253968, 'Recall': 0.8394811511957844, 'desc': 'prc_test'}\n"
     ]
    }
   ],
   "source": [
    "prc_performance_test = BinaryClassificationPerformance(prc.predict(X_test), y_test, 'prc_test')\n",
    "prc_performance_test.compute_measures()\n",
    "print(prc_performance_test.performance_measures)"
   ]
  },
  {
   "cell_type": "markdown",
   "metadata": {},
   "source": [
    "### MODEL: Ridge Regression Classifier"
   ]
  },
  {
   "cell_type": "code",
   "execution_count": 20,
   "metadata": {},
   "outputs": [
    {
     "name": "stdout",
     "output_type": "stream",
     "text": [
      "{'Pos': 2467, 'Neg': 2533, 'TP': 2106, 'TN': 2101, 'FP': 432, 'FN': 361, 'Accuracy': 0.8414, 'Precision': 0.8297872340425532, 'Recall': 0.853668423186056, 'desc': 'rdg_test'}\n"
     ]
    }
   ],
   "source": [
    "rdg_performance_test = BinaryClassificationPerformance(rdg.predict(X_test), y_test, 'rdg_test')\n",
    "rdg_performance_test.compute_measures()\n",
    "print(rdg_performance_test.performance_measures)"
   ]
  },
  {
   "cell_type": "markdown",
   "metadata": {},
   "source": [
    "### MODEL: Random Forest Classifier"
   ]
  },
  {
   "cell_type": "code",
   "execution_count": 21,
   "metadata": {},
   "outputs": [
    {
     "name": "stdout",
     "output_type": "stream",
     "text": [
      "{'Pos': 2467, 'Neg': 2533, 'TP': 1253, 'TN': 1725, 'FP': 808, 'FN': 1214, 'Accuracy': 0.5956, 'Precision': 0.6079573022804464, 'Recall': 0.5079043372517228, 'desc': 'rdf_test'}\n"
     ]
    }
   ],
   "source": [
    "rdf_performance_test = BinaryClassificationPerformance(rdf.predict(X_test), y_test, 'rdf_test')\n",
    "rdf_performance_test.compute_measures()\n",
    "print(rdf_performance_test.performance_measures)"
   ]
  },
  {
   "cell_type": "markdown",
   "metadata": {},
   "source": [
    "### ROC plot to compare performance of various models and fits"
   ]
  },
  {
   "cell_type": "code",
   "execution_count": 45,
   "metadata": {},
   "outputs": [
    {
     "data": {
      "image/png": "[encoded data removed]",
      "text/plain": [
       "<Figure size 432x288 with 1 Axes>"
      ]
     },
     "metadata": {
      "needs_background": "light"
     },
     "output_type": "display_data"
    }
   ],
   "source": [
    "fits = [svc_performance_test, svc_performance_test_1, svc_performance_test_2, svc_performance_test_3, svc_performance_test_4, svc_performance_test_5]\n",
    "\n",
    "for fit in fits:\n",
    "    plt.plot(fit.performance_measures['FP'] / fit.performance_measures['Neg'], \n",
    "             fit.performance_measures['TP'] / fit.performance_measures['Pos'], 'bo')\n",
    "    plt.text(fit.performance_measures['FP'] / fit.performance_measures['Neg'], \n",
    "             fit.performance_measures['TP'] / fit.performance_measures['Pos'], fit.desc)\n",
    "plt.axis([0, 1, 0, 1])\n",
    "plt.title('ROC plot: test set')\n",
    "plt.xlabel('False positive rate')\n",
    "plt.ylabel('True positive rate')\n",
    "plt.show()"
   ]
  },
  {
   "cell_type": "markdown",
   "metadata": {},
   "source": [
    "---\n",
    "\n",
    "# <span style=\"color:red\">SUBMISSION</span>\n",
    "\n",
    "---"
   ]
  },
  {
   "cell_type": "code",
   "execution_count": 23,
   "metadata": {},
   "outputs": [
    {
     "name": "stdout",
     "output_type": "stream",
     "text": [
      "movie_data is: <class 'pandas.core.frame.DataFrame'>\n",
      "movie_data has 25000 rows and 2 columns \n",
      "\n",
      "the data types for each of the columns in movie_data:\n",
      "id        object\n",
      "review    object\n",
      "dtype: object \n",
      "\n",
      "the first 10 rows in movie_data:\n",
      "         id                                             review\n",
      "0  12311_10  Naturally in a film who's main themes are of m...\n",
      "1    8348_2  This movie is a disaster within a disaster fil...\n",
      "2    5828_4  All in all, this is a movie for kids. We saw i...\n",
      "3    7186_2  Afraid of the Dark left me with the impression...\n",
      "4   12128_7  A very accurate depiction of small time mob li...\n",
      "Shape of HashingVectorizer X:\n",
      "(25000, 131072)\n",
      "Look at a few rows of the new quantitative features: \n",
      "   word_count  punc_count\n",
      "0         131           5\n",
      "1         169          15\n",
      "2         176          18\n",
      "3         112           5\n",
      "4         133           8\n",
      "5         331          20\n",
      "6         121          18\n",
      "7         230          22\n",
      "8          59           3\n",
      "9         224          14\n",
      "Size of combined bag of words and new quantitative variables matrix:\n",
      "(25000, 131074)\n",
      "(25000, 131074)\n",
      "Shape of X_test for submission:\n",
      "(25000, 131074)\n",
      "SUCCESS!\n",
      "Number of rows in the submission test set (should be 25,000): \n"
     ]
    }
   ],
   "source": [
    "# read in test data for submission\n",
    "# CHANGE FILE PATH and my_random_seed number (any integer other than 74 will do): \n",
    "raw_data, X_test_submission = process_raw_data(fn='/home/ec2-user/data/moviereviews_test.tsv', my_random_seed=74, test=True)\n",
    "print(\"Number of rows in the submission test set (should be 25,000): \")"
   ]
  },
  {
   "cell_type": "markdown",
   "metadata": {},
   "source": [
    "---\n",
    "\n",
    "Choose a <span style=\"color:red\">*single*</span> model for your submission. In this code, I am choosing the Ordinary Least Squares model fit, which is in the `ols` object. But you should choose the model that is performing the best for you! "
   ]
  },
  {
   "cell_type": "code",
   "execution_count": 24,
   "metadata": {},
   "outputs": [
    {
     "name": "stdout",
     "output_type": "stream",
     "text": [
      "0.5596\n"
     ]
    }
   ],
   "source": [
    "# store the id from the raw data\n",
    "my_submission = pd.DataFrame(raw_data[\"id\"])\n",
    "# concatenate predictions to the id\n",
    "my_submission[\"prediction\"] = ols.predict(X_test_submission)\n",
    "# look at the proportion of positive predictions\n",
    "print(my_submission['prediction'].mean())"
   ]
  },
  {
   "cell_type": "code",
   "execution_count": 25,
   "metadata": {},
   "outputs": [
    {
     "data": {
      "text/html": [
       "<div>\n",
       "<style scoped>\n",
       "    .dataframe tbody tr th:only-of-type {\n",
       "        vertical-align: middle;\n",
       "    }\n",
       "\n",
       "    .dataframe tbody tr th {\n",
       "        vertical-align: top;\n",
       "    }\n",
       "\n",
       "    .dataframe thead th {\n",
       "        text-align: right;\n",
       "    }\n",
       "</style>\n",
       "<table border=\"1\" class=\"dataframe\">\n",
       "  <thead>\n",
       "    <tr style=\"text-align: right;\">\n",
       "      <th></th>\n",
       "      <th>id</th>\n",
       "      <th>review</th>\n",
       "      <th>word_count</th>\n",
       "      <th>punc_count</th>\n",
       "    </tr>\n",
       "  </thead>\n",
       "  <tbody>\n",
       "    <tr>\n",
       "      <td>0</td>\n",
       "      <td>12311_10</td>\n",
       "      <td>Naturally in a film who's main themes are of m...</td>\n",
       "      <td>131</td>\n",
       "      <td>5</td>\n",
       "    </tr>\n",
       "    <tr>\n",
       "      <td>1</td>\n",
       "      <td>8348_2</td>\n",
       "      <td>This movie is a disaster within a disaster fil...</td>\n",
       "      <td>169</td>\n",
       "      <td>15</td>\n",
       "    </tr>\n",
       "    <tr>\n",
       "      <td>2</td>\n",
       "      <td>5828_4</td>\n",
       "      <td>All in all, this is a movie for kids. We saw i...</td>\n",
       "      <td>176</td>\n",
       "      <td>18</td>\n",
       "    </tr>\n",
       "    <tr>\n",
       "      <td>3</td>\n",
       "      <td>7186_2</td>\n",
       "      <td>Afraid of the Dark left me with the impression...</td>\n",
       "      <td>112</td>\n",
       "      <td>5</td>\n",
       "    </tr>\n",
       "    <tr>\n",
       "      <td>4</td>\n",
       "      <td>12128_7</td>\n",
       "      <td>A very accurate depiction of small time mob li...</td>\n",
       "      <td>133</td>\n",
       "      <td>8</td>\n",
       "    </tr>\n",
       "  </tbody>\n",
       "</table>\n",
       "</div>"
      ],
      "text/plain": [
       "         id                                             review  word_count  \\\n",
       "0  12311_10  Naturally in a film who's main themes are of m...         131   \n",
       "1    8348_2  This movie is a disaster within a disaster fil...         169   \n",
       "2    5828_4  All in all, this is a movie for kids. We saw i...         176   \n",
       "3    7186_2  Afraid of the Dark left me with the impression...         112   \n",
       "4   12128_7  A very accurate depiction of small time mob li...         133   \n",
       "\n",
       "   punc_count  \n",
       "0           5  \n",
       "1          15  \n",
       "2          18  \n",
       "3           5  \n",
       "4           8  "
      ]
     },
     "execution_count": 25,
     "metadata": {},
     "output_type": "execute_result"
    }
   ],
   "source": [
    "raw_data.head()"
   ]
  },
  {
   "cell_type": "code",
   "execution_count": 26,
   "metadata": {},
   "outputs": [
    {
     "data": {
      "text/html": [
       "<div>\n",
       "<style scoped>\n",
       "    .dataframe tbody tr th:only-of-type {\n",
       "        vertical-align: middle;\n",
       "    }\n",
       "\n",
       "    .dataframe tbody tr th {\n",
       "        vertical-align: top;\n",
       "    }\n",
       "\n",
       "    .dataframe thead th {\n",
       "        text-align: right;\n",
       "    }\n",
       "</style>\n",
       "<table border=\"1\" class=\"dataframe\">\n",
       "  <thead>\n",
       "    <tr style=\"text-align: right;\">\n",
       "      <th></th>\n",
       "      <th>id</th>\n",
       "      <th>prediction</th>\n",
       "    </tr>\n",
       "  </thead>\n",
       "  <tbody>\n",
       "    <tr>\n",
       "      <td>0</td>\n",
       "      <td>12311_10</td>\n",
       "      <td>1</td>\n",
       "    </tr>\n",
       "    <tr>\n",
       "      <td>1</td>\n",
       "      <td>8348_2</td>\n",
       "      <td>1</td>\n",
       "    </tr>\n",
       "    <tr>\n",
       "      <td>2</td>\n",
       "      <td>5828_4</td>\n",
       "      <td>1</td>\n",
       "    </tr>\n",
       "    <tr>\n",
       "      <td>3</td>\n",
       "      <td>7186_2</td>\n",
       "      <td>1</td>\n",
       "    </tr>\n",
       "    <tr>\n",
       "      <td>4</td>\n",
       "      <td>12128_7</td>\n",
       "      <td>0</td>\n",
       "    </tr>\n",
       "  </tbody>\n",
       "</table>\n",
       "</div>"
      ],
      "text/plain": [
       "         id  prediction\n",
       "0  12311_10           1\n",
       "1    8348_2           1\n",
       "2    5828_4           1\n",
       "3    7186_2           1\n",
       "4   12128_7           0"
      ]
     },
     "execution_count": 26,
     "metadata": {},
     "output_type": "execute_result"
    }
   ],
   "source": [
    "my_submission.head()"
   ]
  },
  {
   "cell_type": "code",
   "execution_count": 27,
   "metadata": {},
   "outputs": [
    {
     "data": {
      "text/plain": [
       "(25000, 2)"
      ]
     },
     "execution_count": 27,
     "metadata": {},
     "output_type": "execute_result"
    }
   ],
   "source": [
    "my_submission.shape"
   ]
  },
  {
   "cell_type": "code",
   "execution_count": 28,
   "metadata": {},
   "outputs": [],
   "source": [
    "# export submission file as pdf\n",
    "# CHANGE FILE PATH: \n",
    "my_submission.to_csv('/home/ec2-user/data/moviereviews_submission.csv', index=False)"
   ]
  },
  {
   "cell_type": "markdown",
   "metadata": {},
   "source": [
    "# Submit to Canvas: 1) the CSV file that was written in the previous cell and 2) the url to the repository (GitHub or other) that contains your code and documentation"
   ]
  }
 ],
 "metadata": {
  "kernelspec": {
   "display_name": "Python 3 (ipykernel)",
   "language": "python",
   "name": "python3"
  },
  "language_info": {
   "codemirror_mode": {
    "name": "ipython",
    "version": 3
   },
   "file_extension": ".py",
   "mimetype": "text/x-python",
   "name": "python",
   "nbconvert_exporter": "python",
   "pygments_lexer": "ipython3",
   "version": "3.9.7"
  }
 },
 "nbformat": 4,
 "nbformat_minor": 2
}

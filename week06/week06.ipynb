{
 "cells": [
  {
   "cell_type": "markdown",
   "metadata": {},
   "source": [
    "# Movie reviews\n",
    "\n",
    "This notebook takes you though a complete iteration of Machine Learning Assignment 1 - Movie reviews. The assignment details (including links to download the data) can be found [here](https://docs.google.com/document/d/1WGYw99e5q6j5V0Zrf2HveagU6URt_kVvdR8B9HYQ99E/edit?usp=sharing). "
   ]
  },
  {
   "cell_type": "code",
   "execution_count": 2,
   "metadata": {},
   "outputs": [],
   "source": [
    "# all imports and magic commands\n",
    "import numpy as np\n",
    "import pandas as pd\n",
    "import matplotlib.pyplot as plt\n",
    "from my_measures import BinaryClassificationPerformance\n",
    "from sklearn.feature_extraction.text import HashingVectorizer\n",
    "from sklearn.feature_extraction.text import TfidfTransformer\n",
    "from scipy.sparse import csr_matrix, hstack\n",
    "from sklearn.preprocessing import StandardScaler\n",
    "from sklearn.model_selection import train_test_split\n",
    "%matplotlib inline"
   ]
  },
  {
   "cell_type": "markdown",
   "metadata": {},
   "source": [
    "### IMPORTANT!!! Make sure you are using `BinaryClassificationPerformance` v1.02"
   ]
  },
  {
   "cell_type": "code",
   "execution_count": 3,
   "metadata": {},
   "outputs": [
    {
     "name": "stdout",
     "output_type": "stream",
     "text": [
      "Help on class BinaryClassificationPerformance in module my_measures:\n",
      "\n",
      "class BinaryClassificationPerformance(builtins.object)\n",
      " |  BinaryClassificationPerformance(predictions, labels, desc, probabilities=None)\n",
      " |  \n",
      " |  Performance measures to evaluate the fit of a binary classification model, v1.02\n",
      " |  \n",
      " |  Methods defined here:\n",
      " |  \n",
      " |  __init__(self, predictions, labels, desc, probabilities=None)\n",
      " |      Initialize attributes: predictions-vector of predicted values for Y, labels-vector of labels for Y\n",
      " |  \n",
      " |  compute_measures(self)\n",
      " |      Compute performance measures defined by Flach p. 57\n",
      " |  \n",
      " |  img_indices(self)\n",
      " |      Get the indices of true and false positives to be able to locate the corresponding images in a list of image names\n",
      " |  \n",
      " |  ----------------------------------------------------------------------\n",
      " |  Data descriptors defined here:\n",
      " |  \n",
      " |  __dict__\n",
      " |      dictionary for instance variables (if defined)\n",
      " |  \n",
      " |  __weakref__\n",
      " |      list of weak references to the object (if defined)\n",
      "\n"
     ]
    }
   ],
   "source": [
    "help(BinaryClassificationPerformance)"
   ]
  },
  {
   "cell_type": "markdown",
   "metadata": {},
   "source": [
    "# Function for feature building and extraction on natural language data"
   ]
  },
  {
   "cell_type": "code",
   "execution_count": 4,
   "metadata": {},
   "outputs": [],
   "source": [
    "# function that takes raw data and completes all preprocessing required before model fits\n",
    "def process_raw_data(fn, my_random_seed, test=False):\n",
    "    # read and summarize data\n",
    "    movie_data = pd.read_csv(fn, sep='\\t')\n",
    "    print(\"movie_data is:\", type(movie_data))\n",
    "    print(\"movie_data has\", movie_data.shape[0], \"rows and\", movie_data.shape[1], \"columns\", \"\\n\")\n",
    "    print(\"the data types for each of the columns in movie_data:\")\n",
    "    print(movie_data.dtypes, \"\\n\")\n",
    "    print(\"the first 10 rows in movie_data:\")\n",
    "    print(movie_data.head(5))\n",
    "    if (not test):\n",
    "        print(\"The rate of 'good' movie reviews in the dataset: \")\n",
    "        print(movie_data['sentiment'].mean())\n",
    "\n",
    "    # vectorize Bag of Words from review text; as sparse matrix\n",
    "    if (not test): # fit_transform()\n",
    "        hv = HashingVectorizer(n_features=2 ** 17, alternate_sign=False)\n",
    "        X_hv = hv.fit_transform(movie_data.review)\n",
    "        fitted_transformations.append(hv)\n",
    "        print(\"Shape of HashingVectorizer X:\")\n",
    "        print(X_hv.shape)\n",
    "    else: # transform() \n",
    "        X_hv = fitted_transformations[0].transform(movie_data.review)\n",
    "        print(\"Shape of HashingVectorizer X:\")\n",
    "        print(X_hv.shape)\n",
    "    \n",
    "    # http://scikit-learn.org/stable/modules/generated/sklearn.feature_extraction.text.TfidfTransformer.html\n",
    "    if (not test):\n",
    "        transformer = TfidfTransformer()\n",
    "        X_tfidf = transformer.fit_transform(X_hv)\n",
    "        fitted_transformations.append(transformer)\n",
    "    else:\n",
    "        X_tfidf = fitted_transformations[1].transform(X_hv)\n",
    "    \n",
    "    # create additional quantitative features\n",
    "    # features from Amazon.csv to add to feature set\n",
    "    movie_data['word_count'] = movie_data['review'].str.split(' ').str.len()\n",
    "    movie_data['punc_count'] = movie_data['review'].str.count(\"\\.\")\n",
    "\n",
    "    X_quant_features = movie_data[[\"word_count\", \"punc_count\"]]\n",
    "    print(\"Look at a few rows of the new quantitative features: \")\n",
    "    print(X_quant_features.head(10))\n",
    "    \n",
    "    # Combine all quantitative features into a single sparse matrix\n",
    "    X_quant_features_csr = csr_matrix(X_quant_features)\n",
    "    X_combined = hstack([X_tfidf, X_quant_features_csr])\n",
    "    X_matrix = csr_matrix(X_combined) # convert to sparse matrix\n",
    "    print(\"Size of combined bag of words and new quantitative variables matrix:\")\n",
    "    print(X_matrix.shape)\n",
    "    \n",
    "    # Create `X`, scaled matrix of features\n",
    "    # feature scaling\n",
    "    if (not test):\n",
    "        sc = StandardScaler(with_mean=False)\n",
    "        X = sc.fit_transform(X_matrix)\n",
    "        fitted_transformations.append(sc)\n",
    "        print(X.shape)\n",
    "        y = movie_data['sentiment']\n",
    "    else:\n",
    "        X = fitted_transformations[2].transform(X_matrix)\n",
    "        print(X.shape)\n",
    "    \n",
    "    # Create Training and Test Sets\n",
    "    # enter an integer for the random_state parameter; any integer will work\n",
    "    if (test):\n",
    "        X_submission_test = X\n",
    "        print(\"Shape of X_test for submission:\")\n",
    "        print(X_submission_test.shape)\n",
    "        print('SUCCESS!')\n",
    "        return(movie_data, X_submission_test)\n",
    "    else: \n",
    "        X_train, X_test, y_train, y_test, X_raw_train, X_raw_test = train_test_split(X, y, movie_data, test_size=0.2, random_state=my_random_seed)\n",
    "        print(\"Shape of X_train and X_test:\")\n",
    "        print(X_train.shape)\n",
    "        print(X_test.shape)\n",
    "        print(\"Shape of y_train and y_test:\")\n",
    "        print(y_train.shape)\n",
    "        print(y_test.shape)\n",
    "        print(\"Shape of X_raw_train and X_raw_test:\")\n",
    "        print(X_raw_train.shape)\n",
    "        print(X_raw_test.shape)\n",
    "        print('SUCCESS!')\n",
    "        return(X_train, X_test, y_train, y_test, X_raw_train, X_raw_test)"
   ]
  },
  {
   "cell_type": "markdown",
   "metadata": {},
   "source": [
    "# Create training and test sets from function"
   ]
  },
  {
   "cell_type": "code",
   "execution_count": 5,
   "metadata": {},
   "outputs": [
    {
     "name": "stdout",
     "output_type": "stream",
     "text": [
      "movie_data is: <class 'pandas.core.frame.DataFrame'>\n",
      "movie_data has 25000 rows and 3 columns \n",
      "\n",
      "the data types for each of the columns in movie_data:\n",
      "id           object\n",
      "sentiment     int64\n",
      "review       object\n",
      "dtype: object \n",
      "\n",
      "the first 10 rows in movie_data:\n",
      "       id  sentiment                                             review\n",
      "0  5814_8          1  With all this stuff going down at the moment w...\n",
      "1  2381_9          1  \\The Classic War of the Worlds\\\" by Timothy Hi...\n",
      "2  7759_3          0  The film starts with a manager (Nicholas Bell)...\n",
      "3  3630_4          0  It must be assumed that those who praised this...\n",
      "4  9495_8          1  Superbly trashy and wondrously unpretentious 8...\n",
      "The rate of 'good' movie reviews in the dataset: \n",
      "0.5\n",
      "Shape of HashingVectorizer X:\n",
      "(25000, 131072)\n",
      "Look at a few rows of the new quantitative features: \n",
      "   word_count  punc_count\n",
      "0         433          20\n",
      "1         158          16\n",
      "2         378          20\n",
      "3         379           8\n",
      "4         367           9\n",
      "5          89           5\n",
      "6         112           9\n",
      "7         132           9\n",
      "8         163           7\n",
      "9          43           5\n",
      "Size of combined bag of words and new quantitative variables matrix:\n",
      "(25000, 131074)\n",
      "(25000, 131074)\n",
      "Shape of X_train and X_test:\n",
      "(20000, 131074)\n",
      "(5000, 131074)\n",
      "Shape of y_train and y_test:\n",
      "(20000,)\n",
      "(5000,)\n",
      "Shape of X_raw_train and X_raw_test:\n",
      "(20000, 5)\n",
      "(5000, 5)\n",
      "SUCCESS!\n",
      "Number of fits stored in `fitted_transformations` list: \n",
      "3\n"
     ]
    }
   ],
   "source": [
    "# create an empty list to store any use of fit_transform() to transform() later\n",
    "# it is a global list to store model and feature extraction fits\n",
    "fitted_transformations = []\n",
    "\n",
    "# CHANGE FILE PATH and my_random_seed number (any integer other than 74 will do): \n",
    "X_train, X_test, y_train, y_test, X_raw_train, X_raw_test = process_raw_data(fn='moviereviews_train.tsv', my_random_seed=64)\n",
    "\n",
    "print(\"Number of fits stored in `fitted_transformations` list: \")\n",
    "print(len(fitted_transformations))"
   ]
  },
  {
   "cell_type": "markdown",
   "metadata": {},
   "source": [
    "# Fit (and tune) Various Models"
   ]
  },
  {
   "cell_type": "markdown",
   "metadata": {},
   "source": [
    "### MODEL: ordinary least squares"
   ]
  },
  {
   "cell_type": "code",
   "execution_count": 6,
   "metadata": {},
   "outputs": [
    {
     "name": "stdout",
     "output_type": "stream",
     "text": [
      "{'Pos': 10010, 'Neg': 9990, 'TP': 4775, 'TN': 5387, 'FP': 4603, 'FN': 5235, 'Accuracy': 0.5081, 'Precision': 0.5091703988057155, 'Recall': 0.477022977022977, 'desc': 'ols_train'}\n"
     ]
    }
   ],
   "source": [
    "from sklearn import linear_model\n",
    "ols = linear_model.SGDClassifier(loss=\"squared_loss\")\n",
    "ols.fit(X_train, y_train)\n",
    "\n",
    "ols_performance_train = BinaryClassificationPerformance(ols.predict(X_train), y_train, 'ols_train')\n",
    "ols_performance_train.compute_measures()\n",
    "print(ols_performance_train.performance_measures)"
   ]
  },
  {
   "cell_type": "markdown",
   "metadata": {},
   "source": [
    "### MODEL: SVM, linear"
   ]
  },
  {
   "cell_type": "code",
   "execution_count": 7,
   "metadata": {},
   "outputs": [
    {
     "name": "stdout",
     "output_type": "stream",
     "text": [
      "{'Pos': 10010, 'Neg': 9990, 'TP': 10010, 'TN': 9990, 'FP': 0, 'FN': 0, 'Accuracy': 1.0, 'Precision': 1.0, 'Recall': 1.0, 'desc': 'svm_train'}\n"
     ]
    }
   ],
   "source": [
    "from sklearn import linear_model\n",
    "svm = linear_model.SGDClassifier()\n",
    "svm.fit(X_train, y_train)\n",
    "\n",
    "svm_performance_train = BinaryClassificationPerformance(svm.predict(X_train), y_train, 'svm_train')\n",
    "svm_performance_train.compute_measures()\n",
    "print(svm_performance_train.performance_measures)"
   ]
  },
  {
   "cell_type": "markdown",
   "metadata": {},
   "source": [
    "### MODEL: logistic regression"
   ]
  },
  {
   "cell_type": "code",
   "execution_count": 8,
   "metadata": {},
   "outputs": [
    {
     "name": "stdout",
     "output_type": "stream",
     "text": [
      "{'Pos': 10010, 'Neg': 9990, 'TP': 10010, 'TN': 9990, 'FP': 0, 'FN': 0, 'Accuracy': 1.0, 'Precision': 1.0, 'Recall': 1.0, 'desc': 'lgs_train'}\n"
     ]
    }
   ],
   "source": [
    "from sklearn import linear_model\n",
    "lgs = linear_model.SGDClassifier(loss='log')\n",
    "lgs.fit(X_train, y_train)\n",
    "\n",
    "lgs_performance_train = BinaryClassificationPerformance(lgs.predict(X_train), y_train, 'lgs_train')\n",
    "lgs_performance_train.compute_measures()\n",
    "print(lgs_performance_train.performance_measures)"
   ]
  },
  {
   "cell_type": "markdown",
   "metadata": {},
   "source": [
    "### MODEL: Naive Bayes"
   ]
  },
  {
   "cell_type": "code",
   "execution_count": 9,
   "metadata": {},
   "outputs": [
    {
     "name": "stdout",
     "output_type": "stream",
     "text": [
      "{'Pos': 10010, 'Neg': 9990, 'TP': 9593, 'TN': 9823, 'FP': 167, 'FN': 417, 'Accuracy': 0.9708, 'Precision': 0.9828893442622951, 'Recall': 0.9583416583416583, 'desc': 'nbs_train'}\n"
     ]
    }
   ],
   "source": [
    "from sklearn.naive_bayes import MultinomialNB\n",
    "nbs = MultinomialNB()\n",
    "nbs.fit(X_train, y_train)\n",
    "\n",
    "nbs_performance_train = BinaryClassificationPerformance(nbs.predict(X_train), y_train, 'nbs_train')\n",
    "nbs_performance_train.compute_measures()\n",
    "print(nbs_performance_train.performance_measures)"
   ]
  },
  {
   "cell_type": "markdown",
   "metadata": {},
   "source": [
    "### MODEL: Perceptron"
   ]
  },
  {
   "cell_type": "code",
   "execution_count": 10,
   "metadata": {},
   "outputs": [
    {
     "name": "stdout",
     "output_type": "stream",
     "text": [
      "{'Pos': 10010, 'Neg': 9990, 'TP': 10010, 'TN': 9990, 'FP': 0, 'FN': 0, 'Accuracy': 1.0, 'Precision': 1.0, 'Recall': 1.0, 'desc': 'prc_train'}\n"
     ]
    }
   ],
   "source": [
    "from sklearn import linear_model\n",
    "prc = linear_model.SGDClassifier(loss='perceptron')\n",
    "prc.fit(X_train, y_train)\n",
    "\n",
    "prc_performance_train = BinaryClassificationPerformance(prc.predict(X_train), y_train, 'prc_train')\n",
    "prc_performance_train.compute_measures()\n",
    "print(prc_performance_train.performance_measures)"
   ]
  },
  {
   "cell_type": "markdown",
   "metadata": {},
   "source": [
    "### MODEL: Ridge Regression Classifier"
   ]
  },
  {
   "cell_type": "code",
   "execution_count": 104,
   "metadata": {},
   "outputs": [
    {
     "name": "stdout",
     "output_type": "stream",
     "text": [
      "{'Pos': 10010, 'Neg': 9990, 'TP': 9923, 'TN': 9921, 'FP': 69, 'FN': 87, 'Accuracy': 0.9922, 'Precision': 0.9930944755804644, 'Recall': 0.9913086913086913, 'desc': 'rdg_train'}\n"
     ]
    }
   ],
   "source": [
    "from sklearn import linear_model\n",
    "rdg = linear_model.RidgeClassifier(alpha=70000)\n",
    "rdg.fit(X_train, y_train)\n",
    "\n",
    "rdg_performance_train = BinaryClassificationPerformance(rdg.predict(X_train), y_train, 'rdg_train')\n",
    "rdg_performance_train.compute_measures()\n",
    "print(rdg_performance_train.performance_measures)"
   ]
  },
  {
   "cell_type": "markdown",
   "metadata": {},
   "source": [
    "### MODEL: Random Forest Classifier"
   ]
  },
  {
   "cell_type": "code",
   "execution_count": 17,
   "metadata": {},
   "outputs": [
    {
     "name": "stdout",
     "output_type": "stream",
     "text": [
      "{'Pos': 10010, 'Neg': 9990, 'TP': 8112, 'TN': 7125, 'FP': 2865, 'FN': 1898, 'Accuracy': 0.76185, 'Precision': 0.7389997267012846, 'Recall': 0.8103896103896104, 'desc': 'rdf_train'}\n"
     ]
    }
   ],
   "source": [
    "from sklearn.ensemble import RandomForestClassifier\n",
    "rdf = RandomForestClassifier(max_depth=2, random_state=0)\n",
    "rdf.fit(X_train, y_train)\n",
    "\n",
    "rdf_performance_train = BinaryClassificationPerformance(rdf.predict(X_train), y_train, 'rdf_train')\n",
    "rdf_performance_train.compute_measures()\n",
    "print(rdf_performance_train.performance_measures)"
   ]
  },
  {
   "cell_type": "markdown",
   "metadata": {},
   "source": [
    "### ROC plot to compare performance of various models and fits"
   ]
  },
  {
   "cell_type": "code",
   "execution_count": 105,
   "metadata": {
    "scrolled": false
   },
   "outputs": [
    {
     "data": {
      "image/png": "[encoded data removed]",
      "text/plain": [
       "<Figure size 432x288 with 1 Axes>"
      ]
     },
     "metadata": {
      "needs_background": "light"
     },
     "output_type": "display_data"
    }
   ],
   "source": [
    "fits = [rdg_performance_train]\n",
    "\n",
    "for fit in fits:\n",
    "    plt.plot(fit.performance_measures['FP'] / fit.performance_measures['Neg'], \n",
    "             fit.performance_measures['TP'] / fit.performance_measures['Pos'], 'bo')\n",
    "    plt.text(fit.performance_measures['FP'] / fit.performance_measures['Neg'], \n",
    "             fit.performance_measures['TP'] / fit.performance_measures['Pos'], fit.desc)\n",
    "plt.axis([0, 1, 0, 1])\n",
    "plt.title('ROC plot: rdg_performance_train_test_set_default_alpha=70000')\n",
    "plt.xlabel('False positive rate')\n",
    "plt.ylabel('True positive rate')\n",
    "plt.show()"
   ]
  },
  {
   "cell_type": "markdown",
   "metadata": {},
   "source": [
    "### looking at reviews based on their classification\n",
    "\n",
    "Let's say we decide that Ordinary Least Squares (OLS) Regression is the best model for generalization. Let's take a look at some of the reviews and try to make a (subjective) determination of whether it's generalizing well. "
   ]
  },
  {
   "cell_type": "code",
   "execution_count": 14,
   "metadata": {},
   "outputs": [],
   "source": [
    "ols_predictions = ols.predict(X_train)"
   ]
  },
  {
   "cell_type": "markdown",
   "metadata": {},
   "source": [
    "### let's look at some false positives:"
   ]
  },
  {
   "cell_type": "code",
   "execution_count": 15,
   "metadata": {},
   "outputs": [
    {
     "name": "stdout",
     "output_type": "stream",
     "text": [
      "Examples of false positives:\n",
      "78\n",
      "In the U.S., very few films have been made about Rome that were not set in the time of Julius Caesar or shortly thereafter. Hollywood's sword and sandal epics mostly have a Christian theme, which makes it difficult to get into earlier Roman history (Spartacus was probably the first exception to this rule, and encountered some resistance in Hollywood because it did not have Jesus in it).<br /><br />It's interesting to see at least one picture that not only takes place before the time of Caesar and Christ, but is set when Rome was only one city among many on the Italian peninsula, and had just ousted the hated King Tarquin and formed the Republic.<br /><br />However, this is not a historical film; it's peplum, and while the production values aren't rock bottom, the acting and characterizations are cardboard. I can only imagine what the dialogue was like in Italian, but with wooden English dubbing it's very campy. I got a few good laughs out of it at first.<br /><br />I haven't seen many films of this genre, having missed most of the Hercules movies of the 60s. It's amusing up to a point, but as the film goes on, it gets somewhat boring.<br /><br />One thing's for sure: if I'd seen this movie when I was ten years old, I would have loved it. At that age, I went for anything with Romans and swordfights in it. So at least, this flick brought back some childhood memories.\n",
      "* * * * * * * * * \n",
      "114\n",
      "I gave this a four purely out of its historical context. It was considered lost for many years until it popped up out of the blue on Showtime in the early nineties.<br /><br />Moe is the straight man and Larry and Curly act as a duo. Spade Cooley has a couple of numbers. I guess it had something to do with working on a ranch. I'm not quite sure because the plot was so minimal nothing really sticks in my memory. I vaguely remember it being a western musical comedy. Even the Stooge's seem to be going through the motions. Overall there's nothing much really to recommend here.<br /><br />If you're not a Stooge fan then don't bother. If you are a Stooge fan, then stick with the shorts.\n",
      "* * * * * * * * * \n",
      "461\n",
      "The turgid pace of this movie numbs us to any shocks that it might provide. There was no real suspense. Most of the characters were insipid. The chesty Irish priest was as lame as the love interest. Interest is misleading. The girl that they chose to provide the film's sensuality might be better. The central conflict of the main character was uninvolving. This film is entirely devoid of positives. It is like a tedious exercise by someone who didn't want to go to the gym that day but did anyway.\n",
      "* * * * * * * * * \n",
      "473\n",
      "was sort of enjoying this movie until the issues of Ed Norton's facial hair. Without revealing any plot details--on one afternoon he was sporting a light beard but by the same evening the beard was gone and a very luxuriant moustache was in place. It was much fuller than the moustache that went with the beard. Later on, in the course of a dark night in the open the moustache was gone and he appeared cleans haven. This was on an occasion where stopping to shave wouldn't be an option. These continuity discrepancies totally distracted me from the rest of the movie and ruined any credibility it had previously had. Also, I found the lengthy scene of the cowboy alone in his bedroom was way too reminiscent of De Niro in Taxi Driver. Even if it was meant to be an homage it was laid on too thickly for this viewer.\n",
      "* * * * * * * * * \n",
      "490\n",
      "\\Fungicide\\\" is quite possibly the most incompetent, embarrassing, pitiful \\\"film\\\" I have ever seen. The acting is criminal, the direction practically non-existent, and the special effects presumably put together by unleashing a monkey with learning difficulties on a defenceless laptop computer.<br /><br />Far be it from me to stifle creativity, but I actually believe things like this shouldn't be made. I am sure the \\\"film\\\"-makers will say that, yes, the \\\"film\\\" was hampered by a low (as in nothing) budget - but in that case they just really shouldn't have bothered. As it is, they have offered the world something so dire, so execrable, that only imbeciles could get the merest shade of enjoyment from it.<br /><br />Starting the \\\"movie\\\" it wasn't as though I was expecting \\\"Citizen Kane\\\" or anything. I was expecting a low budget little horror with perhaps a modicum of inventiveness, a hint of fun, and even some energy. What I got was the cinematic equivalent of a used handkerchief.<br /><br />The plot? Well, our leering antihero scientist, who works in his parents' basement, is seen manically stirring some goo in a cup. Apparently, such high-level science is the end-result of years of research. His parents then send him off to a strange hotel-type place in the countryside to relax. There are some other people there, who are simply too awful to write about. Anyway, the scientist drops his test-tube onto some mushrooms - and soon the mushrooms grow and kill some people. (Wow, I'm getting suicidal just writing the plot summary). Our heroes save the day by detonating a barrel of balsamic vinegar (by attaching a \\\"fuse\\\" - really a piece of string - to it). The barrel unaccountably explodes with the power of a small nuclear weapon, destroying all the mushrooms. The end. (Thank goodness).<br /><br />That summary is as good as the \\\"film\\\" gets (and actually makes it sound a lot more interesting than it actually is). It really should never have got past this stage of development (by which I mean a plot outline scribbled on the back of an envelope with crayons). Somebody should have really stepped in and given someone a vigorous shake and said \\\"NO.\\\" <br /><br />And those \\\"special\\\" effects. Well, they're \\\"special\\\" all right. This is CGI gone crazy. And done by a person who I can only assume believes the bicycle pump to be the pinnacle of modern technology. And when the mushroom monsters are not in the style of a 1984 home computer graphics package, they are represented by actors shuffling along covered in a sheet (I kid you not).<br /><br />One of the most inexcusable things about the movie is its laziness. This can be summed up by the scene in which the hero spins his guns (a la Clint Eastwood) and then fails miserably to get them in his pockets. I mean come on, a couple of retakes and he could have pulled it off, but just to leave it as it is - really weak.<br /><br />I cannot believe money was spent on this camcorder-shot rubbish. The \\\"film\\\"-makers should hang their heads in shame and be banned from going within fifty metres of any movie-making equipment.<br /><br />I also think it's wrong that friends and family of the makers come onto IMDb and post mendacious reviews and give stupidly high user ratings which give a totally inaccurate picture of the \\\"movie.\\\" \\\"Fungicide\\\" is an absolute travesty of film-making. Mr Wascavage is either very, very stupid or very, very cynical.\"\n",
      "* * * * * * * * * \n",
      "843\n",
      "So what's the big fuss out of making an INDIANA JONES wannabe when you have an actor who's cast as a fictional dude from adventure storybooks who doesn't want to go out on an adventure??? Whoever wrote the script for JAKE SPEED was probably fired, but for whatever reasons possible, this movie greatly lacks in excitement! That doesn't mean it has no action, but look on the dark side of the picture. This has got to bare no resemblance to INDIANA JONES or other action-adventure thrills containing cliffhangers and narrow escapes, and JAKE SPEED was promoted that way using clever propaganda to make me and several others interested in it! Besides, I've never heard of the guy, so who needs his attention?\n",
      "* * * * * * * * * \n",
      "978\n",
      "Carlito Way, the original is a brilliant story about an ex-drug dealer who hopes to leave his criminal past and so he invests in a club and the deals with the trouble that comes with it.<br /><br />This film was....<br /><br />I saw the trailer and knew instantly it was going to be bad..But after dismissing films in the past and finding out they were great( Lucky Number Slevin, Tokyo Drift)...I gave this a shot and it failed within the first five minutes...<br /><br />The script is something a teenager would come up with if given five minutes to prepare...It was weak, with weaker dialogue. It seems there is an instant need for romance in a gangster movie. So Brigante decides to beat a guy up for the girl....and she say's 'Yes!' And if you need to act bad just throw racism around...As we learn from the 'Italian mobsters'...<br /><br />The acting was terrible to say the least...I found 'Hollywood Nicky', hilarious.<br /><br />I absolutely hate all these musicians turning to movies. Lets face it the only reason P Diddy did this movie was so he could play a gangsters...The actress who plays Leticia was weak but beautiful. The sex scene was weak but we got to see her..which was okay...<br /><br />But overall I expected it shed light on how Carito ended up in prison and the love of his life...And the assassin towards the end completely added to the horrendous movie that is...<br /><br />Carlito's Way: Rise to Power..\n",
      "* * * * * * * * * \n",
      "1048\n",
      "I shall not waste my time writing anything much further about how every aspect of this film is indescribably bad. That has been done in great detail already, many times over. The 'plot' started out as a very uninspiring cockney wide-boy/gangster-by-numbers bore and very quickly descended into an utter shambles. Anybody who pretends that they can see some hidden masterpiece inside this awful mess is just kidding themselves. It is now 7 or 8 years since I watched it during its 1 week run at the cinema before it was pulled, yet it sticks in my mind for being easily the most terrible film I have ever seen.<br /><br />I am only making these comments, and indeed the only reason I went to see the film, is because of the amusing fact that my brother Eddie appeared in it as the second 'heavy' in the pub scene. It was his hands that thrust a zippo lighter towards Rhys Ifan's face in the bar in 'Russia' (it was actually filmed at the former Butlins holiday camp at Barry Island). My brother has absolutely no acting experience whatsoever - he had recently joined an extras' agency and this was his first part. Having seen the film, it appeared that nobody in it required any acting experience whatsoever.<br /><br />I remember there were about 8 people in the whole cinema - and this was just a couple of days after it had been released. I have never heard of an other film that was so unpopular and disappeared so fast - and rightly so. In case you were thinking of renting this film on DVD, I would advise you instead to put your two pound coins in a fire until they are red-hot, then jam them into your eye sockets. This will probably be a lot less painful than watching the film.\n",
      "* * * * * * * * * \n",
      "1149\n",
      "I was mad anyone made this movie. I was even more angry I lost valuable minutes of my life sitting still to watch this. I could have had a wax job and been more entertained. At least Cherri makes me laugh before it hurts. I was a bit confused at first but then I caught on and realized what was going on. By this time the film was half way through, and Yes I am a procrastinator but I always want to see things through until the end. So I stuck it out I watched it all. Not only are the actors not as attractive as in Cruel Intentions, they just aren't convincing. I've seen my nephew cry for attention more convincingly than the supposed lust portrayed on screen in this movie. If you like bad movies with bad acting watch this.\n",
      "* * * * * * * * * \n",
      "1167\n",
      "The film is bad. There is no other way to say it. The story is weak and outdated, especially for this country. I don't think most people know what a \\walker\\\" is or will really care. I felt as if I was watching a movie from the 70's. The subject was just not believable for the year 2007, even being set in DC. I think this rang true for everyone else who watched it too as the applause were low and quick at the end. Most didn't stay for the Q&A either.<br /><br />I don't think Schrader really thought the film out ahead of time. Many of the scenes seemed to be cut short as if they were never finished or he just didn't know how to finish them. He jumped from one scene to the next and you had to try and figure out or guess what was going on. I really didn't get Woody's (Carter) private life or boyfriend either. What were all the \\\"artistic\\\" male bondage and torture pictures (from Iraq prisons) about? What was he thinking? I think it was his very poor attempt at trying to create this dark private subculture life for Woody's character (Car). It didn't work. It didn't even seem to make sense really.<br /><br />The only good thing about this film was Woody Harrelson. He played his character (Car) flawlessly. You really did get a great sense of what a \\\"walker\\\" may have been like (say twenty years ago). He was great and most likely will never get recognized for it. <br /><br />As for Lauren, Lily and Kristin... Boring.<br /><br />Don't see it! It is painful! Unless you are a true Harrelson fan.\"\n",
      "* * * * * * * * * \n",
      "1180\n",
      "When you put this DVD into your player and hit \\play,\\\" you will experience a brief moment of silence and see a black screen as the laser is guided to the correct starting point in the center of the disc. CHERISH THIS MOMENT. Make sure you have some Tylenol or something (preferably PM's so you can fall asleep), because you're going to have a massive headache once this movie starts.<br /><br />Starring a bunch of big-breasted girls and with an opening that actually made me chuckle a bit, I thought I'd be in for a good time. Sure, the opening sequence was a WEE bit awkward and most of the jokes fell flat and it seemed like this was going to be a Scream ripoff (by the way, my sole chuckle was from Julie Strain's final comment in this scene). But then I knew there was trouble... the opening sequence had a terrible rock song. During this terrible rock song, I looked over the DVD Chapter titles and saw things that said \\\"TOPLESS IN THE BACKYARD!\\\" and \\\"BETTER THAN SEX!\\\". I knew what the selling point of this movie was going to be.<br /><br />And that's the sad truth: The ONLY good thing about this movie is the attractive cast. Other than that, it's a sadly routine slasher film that throws in an \\\"innovative\\\" concept about murder clubs, which ends up being fake anyway. So, the whole movie then points in another direction to try to be confusing and this huge mystery, but it all just adds up to not being interesting at all and leaves you feeling like you don't care for any of the characters. I mean, when the main character of the movie is revealed to have murdered an innocent woman, can you really feel ANY sympathy towards her when she's in fear for her life? The Scream influence is prevalent throughout, with a ghost face killer and some really terrible jokes. We're also treated to scenes of the main character talking to her mom and dad (Lloyd Kaufman! The only other cool part of the movie!) about an abortion or something. Uh. Yeah... This isn't a \\\"so-bad-it's-good\\\" movie, it's just BAD.<br /><br />Someone compared this to a Troma film, but... you know, most any film that comes from Full Moon (or its offshoot, as this film proves) is horrible. NOT horrible in a Troma sense -- I've seen many Troma films, and I can honestly say they all offer something, ANYTHING that you can walk away with and tell your friends about later. However, this film has pretty much nothing at all enjoyable about it. Beware.\"\n",
      "* * * * * * * * * \n",
      "1206\n",
      "I was looking forward to seeing John Carpenter's episode in Season 2 because his first, Cigarette Burns, was by far the best from Season 1 (and I did like other episodes from that season). Oh, how I was disappointed.<br /><br />In fairness to Carpenter I think the primary problem with this episode was absolutely horrible writing. The characters, aside from the subject matter, seemed to behave and speak as though they were written for an episode of Walker, Texas Ranger. The acting was bad, and I normally like Ron Perlman a lot, but I can only blame them so much because the writing was so horrible. I'm not going to try to guess what the writers were trying to do because that would be useless but it appeared as though they were trying to mix horror (obviously) with some form of social commentary on abortion and religion. In this case, not surprisingly, it seemed a chance to bash a certain variety or religious nuts as well as fanatical anti-abortionists. And I am in favor of both aims but it was done so horribly that I was embarrassed to watch characters act and speak with such stupid inconsistency. This failed totally to offer any worthwhile opinion on the subjects and the horror element failed as well alongside such inept writing.<br /><br />While I don't think Carpenter can be blamed for most of the badness here I will say he did choose to direct the teleplay and therefore has that to be held responsible for. There are a couple small bits that I found nice, hence the 2 stars I gave it.<br /><br />The actual gore and monster effects were good, but the CGI gore (two separate gunshots to the head) were so obviously inferior quality CGI they should've never been given the OK. I'm generally very critical of CGI but not because I have a problem with it in principle. I have a problem with the execution of it. The technology, while amazing in some respects, is not good enough to match \\real\\\" effects, whether they be miniatures or gore especially when it is supposed to match something organic and/or alive, and therefore shouldn't be used until they are. CGI can be used well in small amounts or obviously if the whole film is animated.<br /><br />I'll also take this opportunity to note that the show title, Masters of Horror, is a bad title to have. There simply aren't many actual \\\"masters of horror\\\" around. Maybe two or three. If the show were called \\\"Tale of Horror\\\" or something like that it would be fine. But as it stands the criteria for directing one of these episodes, and therefore being criticized for not being a \\\"master of horror\\\" is that they have directly at least one horror film in their career. And it didn't even have to be a good one.\"\n",
      "* * * * * * * * * \n",
      "1328\n",
      "I saw the 7.5 IMDb rating on this movie and on the basis of that decided to watch this movie which my roommate had rented. She said she had seen it before. \\It's funny and sad! I cried the first time I saw it,\\\" she gushed. Maybe compared to other Bollywood movies this deserves a 7.5 out of 10, but in comparison to all the other movies I have seen in my lifetime, this deserves no more than a 3. Any movie where I can perpetually guess what is going to happen next is no good for me. The characters are unbelievable, how the act is not realistic at all and their motives are contrived. It is over dramatic and the songs aren't all that great. My biggest problem with Bollywood movies is the lack of subtlety. All the emotions are way too overdone and thus not at all realistic. Any emotion or bond between characters that is the least bit subtle must be magnified with an unnecessary song. I think I understood that the relationship between the father and son was more like one between friends than one between a parent and child without having to have it conveyed via a five minute long song. The stupid comic relief complete with laugh track was not funny or necessary (we get it, Laxman isn't the sharpest tool in the shed). If a movie tries to elicit tears through the most hackneyed means possible it just isn't meaningful, just a bit embarrassing.<br /><br />*****SPOILER*****<br /><br />Generally if someone has terminal stage lung cancer their son who lives with them would know something was wrong without having to be told. Too many plot holes to count. At first the movie was amusing and cute in the way Bollywood movies are to people who don't watch them that avidly but it just got tedious. It takes a lot of skill to make a movie that is amusing and heartwrenching and the best way to do it is usually not having all the amusing parts in the first half of the movie and all the heartwrenching parts at the end.<br /><br />*****SPOILER OVER***** Perhaps it had a very little more depth than other Bollywood movies that I have seen, but not much at all. I spent more time laughing at the stupidity of the movie than the parts that were supposed to be funny. I didn't shed a single tear nor did I feel like it, rather I was overwhelmed with a feeling of disgust at the attempt at a dramatic ending. I don't recommend this movie if you want to watch something good, I recommend it if you want to watch a Bollywood movie that is kind of sad.\"\n",
      "* * * * * * * * * \n",
      "1366\n",
      "I made a special effort to see this movie and was totally disappointed with the outcome. On paper, the script seems hopeful, and the choice of actors leaves one with hopes - I liked Pacino in Scent of a Woman and have seen Anny Duperrey and Marthe Keller in several French and other films of the 70s/80s. But I had forgotten how important a part dialogues can play in a film, and in this film they are absolute ..... trash ! The filming locations were also attractive but the hopeless, pretentious and forced dialogues pulled the whole thing down to sub zero level. In addition to that, I am pretty allergic to the world of motor racing and find no interest in this sport. Even the inelegant dialogues in \\Love Story\\\" were better than the ones in this film (and that's saying something !!). I was really expecting better from this film and was very disappointed to have been let down so much.\"\n",
      "* * * * * * * * * \n",
      "1380\n",
      "If I could i would give ZERO stars for this one, but unfortunately i have to give one...<br /><br />There is no single scene I could laugh about... but the game didn't make me laugh either. So if you're some ill retarded folk, go to your local cinema, watch this movie and give it 10 stars, like some people here already did.<br /><br />but for me... in a movie where children are shot dead to achieve humor... good taste goes over the edge... this was the third time i wasted my time to see a Boll movie and it was definitely my last!<br /><br />0/10... i'm ashamed of being from the same country as Uwe Boll!<br /><br />PLEASE PLEASE KEEP HIM FROM MAKING MORE MOVIES!!!!!\n",
      "* * * * * * * * * \n",
      "1495\n",
      "Based on a self-serving novel by one-time girl friend and groupie of F. Scott Fitzgerald, gossip columnist Sheila Graham wrote this trashy story. Gregory Peck carries on in shameless excess as a forceful be-drunk-or-be-damned alcoholic; in contradiction to the gentle and soft spoken real Scott Fitzgerald. Focusing on Fitzgerald's Hollywood writing era, late in his life, the much-honored author was, in fact, living a quiet life and effectively fighting his alcoholism at a time when AA was not yet well known. Fitzgerald was none-too-proud to be recycling his flapper stories in order to support both his wife (in a mental hospital) and his daughter (in college). Living in a small apartment and driving a second hand Chevrolet his life was 180 degrees different than as portrayed in this movie.<br /><br />Virtually every 20th Century-Fox movie made during Daryll F. Zanuck's leadership, as well as virtually every film directed by Henry King, was a work of excellence. Beloved Infidel was the exception.\n",
      "* * * * * * * * * \n",
      "1580\n",
      "Return to Cabin by the Lake just.... was lacking. It must have had a very low budget because a fair amount of the movie must have been filmed with a regular video camera. So, within the same scene - you'll have some movie-quality camera shots AND simple video camera shots. It makes for a very odd blend! I think they should have found SOME way to not do the \\home video\\\" type effect! <br /><br />I think it's worthwhile to see it IF you have seen the original CBTL because then you can compare and see the differences. But if you haven't seen the original CBTL.... you'll never want to see it if you see this one first! It will probably seem way too cheesy and turn you off from even caring about the original one.\"\n",
      "* * * * * * * * * \n",
      "1584\n",
      "okay, this movie f*ck in' rules. it is without question one of the most technically inept pieces of cinema ever made. absolutely terrible, but you GOTTA see it. rent this with your buddies and come up with a drinking game or just have fun, it's hilarious. and the behind-the-scenes featurette proves it, you can do anything with paper plates and finger paint. awesome. okay, rent it just for this one scene: two characters are actually WALKING IN PLACE for about 3 minutes in a shot. the director (on the commentary) says \\yeah, the tracking was so smooth it looks like they're...\\\". yeah, right man, they are totally walking in place. it's so funny.\"\n",
      "* * * * * * * * * \n",
      "1602\n",
      "I couldn't tell if \\The Screaming Skull\\\" was trying to be a Hitchcock rip off or a modernized Edgar Allen Poe tribute. These days, someone would have chopped it up a bit and presented it as one of those TV anthology episodes from the old \\\"Tales From The Dark Side\\\"...but only after an extensive rewrite.<br /><br />The sad thing is, there seems to be a nice, nasty little story trying to get out from under the rubble of this movie, and the actors are obviously doing the best they can with both their talent and the material they have to work with. But the director just didn't know how to stage or pace a dramatic scene; the special effects simply didn't work; the screenplay telegraphed its threadbare plot points so plainly that a bivalve could have seen them coming; and the soundtrack kept playing German \\\"oompah band\\\" music when it was supposed to be trying to scare the audience. <br /><br />They tried; they tried really hard. But this is of interest only as a period piece.I suppose someone very young who hadn't seen a lot of suspense or horror might get a charge out \\\"The Screaming Skull\\\", but someone that young probably wouldn't get most of the subtext or plot motivation. (\\\"Mommy, why is that nice man trying to scare the twisty faced scaredy-cat lady??\\\")\"\n",
      "* * * * * * * * * \n",
      "1669\n",
      "<br /><br />How this film ever got a 6 star average is beyond me. The script is so banal, and frankly an insult to whomevers life it is based upon. The cinematography comes straight from the slick world of advertising, and the talented Ridley Scott should be ashamed. Demi Moore however, shows none a surprise by participating in this film, if one looks at her tracklist. All in all, a \\high concept\\\" style film that even Don Simpson would be ashamed of.\"\n",
      "* * * * * * * * * \n",
      "1909\n",
      "This story about three women is a very sensitive study about: Muriël (Charlotte Van Den Eynde) the youngest, Laura (Els Dottermans) who is about 37 and Martha (Frieda Pittors) the oldest who is the mother of Muriël. They live together in the same building. They have different expectations of life. The vital Laura wants a child. Muriël comes from a village and wants to change her life in Brussels. Martha dreams about her youth when she was a young girl. In fact nothing happens in this movie so you wait for something - for instances an accident - which could dramatize this story. As times goes on, you discover that the director Dorothée Van Den Berghe only wants to develop a psychological portrait of the three women and nothing more. This movie is disappointing because you expect the women to learn from their experiences which is not the case, so one is left with a feeling of emptiness.\n",
      "* * * * * * * * * \n",
      "2071\n",
      "I just got back from the film and I'm completely appalled. This movie is an absolute mockery to all of mankind. The theatre I was in maybe had 4 other people. This movie was recommended to me and I couldn't believe that this person liked it. I can't believe that any sane human would like it. There was no plot NO PLOT AT ALL. It was a joke. How can you make a movie about nothing. This movie only goes to show why Hollywood is in such a shambles. I can only just look at the spiral of the \\Horror Movie\\\" industry and giggle. What a travesty to all filmaking, this is true of all the new \\\"teen horror flicks\\\" Grudge,Boogeyman,Ring,Saw series. It is all such trash. Don't support this kind of hogwash!\"\n",
      "* * * * * * * * * \n",
      "2320\n",
      "I wholeheartedly disagree with the other viewers of this wretched film. The only reason why I didn't rate it 1 for awful was due to the great talent of Carmen Miranda. The beginning and end are the best parents due to her gifted singing and dancing.<br /><br />The problem is with the rest of the picture. Alice Faye comes off quite hollow. Don Ameche has a great singing voice but with the wretched writing material, he comes off so terribly corny.<br /><br />The plot is a real stiff here with Ameche assuming two parts as a song and dance man and a baron not happily married to Faye.<br /><br />It seems that by playing the song and dance man, Ameche's marriage gets a second change to reignite. Some silly nonsense about the baron having to clear up business and being away allows him to play both parts.<br /><br />S.Z. Sakal is given little to do here and so his comedic gifts are not given the opportunity to shine. Ditto for J. Carrol Naish who actually appears uncomfortable in his role.<br /><br />This is a chica chica boom bomb of a film.\n",
      "* * * * * * * * * \n",
      "2431\n",
      "Title: Robot Jox (1990) <br /><br />Director: Stuart Gordon <br /><br />Cast: Gary Graham, Anne Marie Johnson, Paul Koslo <br /><br />Review: Stuart Gordon who we usually associate with extremely gory horror films such as Re-Animator, From Beyond, Dagon and Castle Freak, took a small detour here and did a little sci-fi flick. I stress the word \\little\\\" since this is a very low budget flick, and there in lies its main weakness.<br /><br />The story takes place in the future. A world in which the great superpowers (that according to this movie are the United States and Russia) duke out their differences not by going on a full blown world war...but by fighting gladiator style battles with gigantic robots. Our hero Achilles must go up against the evil Russian robot fighter called Alexander. Lots of cheap stop motion animation ensues.<br /><br />Well, the idea is awesome I guess. The great nations settleling territorial disputes with giant robots? Interesting premise and one that could have been handled properly if the proper budget had been available. Unfortunately what could have been a fun movie ends up being an embarrassment for an otherwise great director.<br /><br />I as a kid loved this movie, and I guess if you want any enjoyment out of this movie, you'll have to revert back to little kid mode to have some fun with it. I showed this film to some of my friends and as the movie progressed my friends where like \\\"what the hell is this piece of crap franco?\\\" And I'm like well this movie is a sci-fi by one of my favorite directors Stuart Gordon?\\\" But as the movie progressed into corny territory I almost felt like pressing stop and not having them go through that torture. I could go through it, cause I loved this film as a kid, and there's still a little nostalgia attached to watching it. But everyone else was just not going to get it.<br /><br />And I myself realized that the movie isn't really that good. First off. The movie is about giant robots kicking the hell out of each other. And in order to achieve this in a credible fashion you'd have to use some damn good special effects to make it work, expensive effects that would help us the audience suspend disbelief. But unfortunately this being a small scale movie, from a small scale company (Empire Pictures, which went bankrupt after making this film!)the effects only help us giggle and laugh at them. Heck even the sets and some of the wardrobe looks unfinished or half assed.<br /><br />OK granted, once you accept that you are watching a mixture of moderate stop animation and miniatures well you can sort of give in to the film and even enjoy the big robots kicking the hell out of each other. There are certain scenes when the robots are fighting that are kinda cool, and made me go \\\"thats why I liked thid movie!\\\" But every know and them, some crappy effect will take you right out of that protective little cocoon you were trying to hide in. And boom, your right back into realizing this film just doesn't live up to its premise.<br /><br />And heres another thing that sort of bothered me a bit about the movie. This movie is basically a movie for kids. You know, giant robots duking it out? Stop motion animation? Hello? But this movies dialogue had a lot of sexual innuendos and the violence gets a little bloody. So I kept asking myself is this a kids movie or not? After a while I just came to the conclusion that basically this was a kids movie with adult sensibilities, which really isn't a good mix.<br /><br />So for those of you who don't feel that certain naive childlike charm of watching two robots fighting each other and if you don't have a nostalgic connection to this movie (like I do) well Id suggest you steer clear away from this one. Gordons a great director, but this movie he made, just didn't do it for me. Well, at least not now that I'm a full grown adult.<br /><br />Rating: 2 out of 5\"\n",
      "* * * * * * * * * \n",
      "2458\n",
      "I have to say that there is nothing wrong with low budget films, so that was not my problem with it. My problem with it is that I felt like I was watching my next door neighbor's home movie. IMO everything about it just seemed like a guy wrote out a quick story, grabbed a camera, and started shooting. I understand how hard this must be to do effectively, but when I pay to rent a film, I expect to feel like I am watching some type of professionally made movie.<br /><br />John Schneider has a huge resume, is a great actor, and was fine in this film. The other people in it were not. I understand how it must be fun, and cheaper to use friends, and relatives as the cast, but it doesn't make for convincing acting. It seemed like the way it was shot, he was trying to give many of the scenes a more interesting look, but when the writing, plot, and acting are there to begin with, that type of style isn't necessary, and it is a distraction.<br /><br />Also on a technical level, it had digital artifacts all over the place. In the first scene of all of those fine cars, when they did a slow scan of them, they appeared to jerk back and forth just a little bit. The problem isn't in my viewing equipment, (Benq PE-8700 84\\ diagonal) but somewhere in the production. I've never seen that kind of artifact in a professionally made film before. Then there was the sound. It sounded like they didn't do any voice-overs, which may be o.k. unless it sounded like the track in this film. It sounded like the built in microphone on the camera.\"\n",
      "* * * * * * * * * \n",
      "2492\n",
      "Okay... it seems like so far, only the Barman fans have commented on this film - time for a counterpoint. Beware, this writeup is *LONG*.<br /><br />For those not in the knowing (mostly the non-Belgians) : Tom Barman, director of this film, is the frontman of dEUS, one of the better known rock bands of the late 90's here in Belgium. Basically, they made a couple of very adventurous and innovative albums and quickly rose to fame on the national scale. Then, egos started hurting and the band basically fell apart, with Barman and a couple of others remaining to go on making albums under the dEUS-monicker. The way it always happens in such cases, the post-breakdown dEUS was a lot tamer and less interesting than the original. They tried to go for an international breakthrough with their album \\The Ideal Crash\\\" in 1999, presenting a much diluted form of their earlier style of songwriting. They didn't quite make it. However, egos were still pretty big it seems : big enough for Barman to consider himself enough of an artist to try on movies.<br /><br />More often than not this sort of thing is a VERY big mistake, and this film does not make the exception. And Barman clearly went for *art* on this one, another very big mistake. For one thing, he's a musician, not a movie director. For another, dEUS at it's best made fun and provoking music, but never anything close to what I would consider *art*. It shows.<br /><br />So, what's this movie about? Basically, it tells the story of a bunch of completely uninteresting people, doing equally uninteresting things over the course of a totally uninteresting friday in Antwerp, as even more uninteresting stuff happens to them in the act of being uninteresting. The characters are shallow, the plot totally pointless and the film just doesn't have any other redeeming qualities to make up for these shortcomings. Humor? The whole film made me smile (slightly) about 3 times, and actually managed to provoke a single 5-second laugh (not quite loud). Mood? The film just doesn't seem to show any kind of emotion or feeling at all. Mystery? Well, (*MINOR SPOILER*)the idea of the \\\"wind-man\\\", inspiring the name of the film, is as enthralling as a banana pepper pizza - not very, and has been done a thousand times before (anyone remember Johny Destiny - one of Tarantino's worst appearances on film to date)(*END MINOR SPOILER*). And well, its *artistic*, so don't expect any kind of real action to make up for all the previous. In other words, except for the few smiles, it bored me out of my shorts.<br /><br />So what remains? Well, the soundtrack is pretty good, though it suffers from some of the same problems that other OST's have shown lately : first, it makes the movie seem like nothing more than a commercial for the CD. Second, it gives the impression that Barman is trying to hide the weaknesses and lack of emotional content in the film behind the content quality of the songs, which simply doesn't work. In the end, it makes the film look like nothing more than an illustration to the songs. And sadly, it's Barmans own contribution to the soundtrack which gets the most attention, though it is the weakest part of the whole soundtrack as far as I'm concerned. All in all, it just stands to show that Barman knows more about music than movies. Camera work is okay as well, though not anything that would make you scream out with joy.<br /><br />The only thing about this movie that kept me watching was the sight-seeing factor. Since I originate from Antwerp, it was fun to play a kind of \\\"guess-the-location\\\" game. I would hardly consider this as a quality though.<br /><br />All in all, another chance lost for Flemmish film. I keep on noticing that lately, the best Belgian movies have been coming from the French part of the country. This is mostly because at least, they have something to tell and manage to tell it in way that is both sharp and emotional (the brothers Daerden come to mind). Maybe the Flemmish art-house filmmakers should try that too.\"\n",
      "* * * * * * * * * \n",
      "2500\n",
      "After reading the book, I loved the story. Watching the movie I was disappointed that so many changes were made. It is understandable that books and movies differ but it was two different stories, only the names and some of the book's story remained. Read the book and you'll have a better understanding of the movie. The book gives you a better development of the characters. These characters are extremely interesting and make you care about them. The locations were indeed in line with the book's descriptions. Some characters not included. Television has microwaved so many great books and stories, this is a perfect example of that. Input from the author doesn't always insure a good movie but it can help sometimes.\n",
      "* * * * * * * * * \n",
      "2638\n",
      "To grasp where this 1976 version of A STAR IS BORN is coming from consider this: Its final number is sung by Barbra Streisand in a seven minute and forty second close-up, followed by another two-and-half-minute freeze frame of Ms. Streisand -- striking a Christ-like pose -- behind the closing credits. Over ten uninterrupted minutes of Barbra's distinctive visage dead center, filling the big screen with uncompromising ego. That just might be some sort of cinematic record.<br /><br />Or think about this: The plot of this musical revolves around a love affair between two musical superstars, yet, while Streisand's songs are performed in their entirety -- including the interminable finale -- her costar Kris Kristofferson isn't allowed to complete even one single song he performs. Nor, though she does allow him to contribute a little back up to a couple of her ditties, do they actually sing a duet.<br /><br />Or consider this: Streisand's name appears in the credits at least six times, including taking credit for \\musical concepts\\\" and her wardrobe (from her closet) -- and she also allegedly wanted, but failed to get co-directing credit as well. One of her credits was as executive producer, with a producer credit going to her then-boyfriend and former hairdresser, Jon Peters. As such, Streisand controlled the final cut of the film, which explains why it is so obsessed with skewing the film in her direction. What it doesn't explain is how come, given every opportunity to make The Great Diva look good, their efforts only make Streisand look bad. Even though this was one of Streisand's greatest box office hits, it is arguably her worst film and contains her worst performance.<br /><br />Anyway, moving the melodrama from Hollywood to the world of sex-drugs-and-rock'n'roll, Streisand plays Esther Hoffman, a pop singer on the road to stardom, who shares the fast lane for a while with Kristofferson's John Norman Howard, a hard rocker heading for the off ramp to Has-beenville. In the previous incarnations of the story, \\\"Norman Maine\\\" sacrifices his leading man career to help newcomer \\\"Vicky Lester\\\" achieve her success. In the feminist seventies, Streisand & Co. want to make it clear that their heroine owes nothing to a man, so the trajectory is skewed; she'll succeed with or without him and he is pretty much near bottom from scene one; he's a burden she must endure in the name of love. As such, there is an obvious effort to make the leading lady not just tougher, but almost ruthless, while her paramour comes off as a henpecked twit.<br /><br />Kristofferson schleps through the film with a credible indifference to the material; making little attempt to give much of a performance, and oddly it serves his aimless, listless character well. Streisand, on the other hand, exhibits not one moment of honesty in her entire time on screen. Everything she does seems, if not too rehearsed, at least too controlled. Even her apparent ad libs seem awkwardly premeditated and her moments of supposed hysteria coldly mechanical. The two have no chemistry, making the central love affair totally unbelievable. You might presume that his character sees in her a symbol of his fading youth and innocence, though at age 34, Streisand doesn't seem particularly young or naive. The only conceivable attraction he might offer to her is that she can exploit him as a faster route to stardom. And, indeed, had the film had the guts to actually play the material that way, to make Streisand's character openly play an exploitive villain, the film might have had a spark and maybe a reason to exist.<br /><br />But I guess the filmmakers actually see Esther as a sympathetic victim; they don't seem to be aware just how cold-blooded and self absorbed she is. But sensitivity is not one of the film's strong points: note the petty joke of giving Barbra two African American back up singers just so the film can indulge in the lame racism of calling the trio The Oreos. And the film makes a big deal of pointing out that Esther retains her ethnic identity by using her given name of Hoffman, yet the filmmakers have changed the character's name of the previous films from \\\"Esther Blodgett\\\" so that Streisand won't be burdened with a name that is too Jewish or too unattractive. So much for ethnic pride.<br /><br />The backstage back stabbing and backbiting that proceeded the film's release is near legendary, so the fact that the film ended up looking so polished is remarkable. Nominal director Frank Pierson seems to have delivered the raw material for a good movie, with considerable help from ace cinematographer Robert Surtees. And the film did serve its purpose, producing a soundtrack album of decent pop tunes (including the Oscar-winning \\\"Evergreen\\\" by Paul Williams and Streisand). But overall the film turned out to be the one thing Streisand reportedly claimed she didn't want it to be, a vanity project.\"\n",
      "* * * * * * * * * \n",
      "2793\n",
      "1940. - A visit to the Lodz ghetto in Nazi-occupied Poland, recorded by a German cameramen with the naive co-operation of the Jewish community, is combined with archival footage, clips from international newsreels, and excerpts from related cultural films to portray the World's Jews as swindlers and parasites. This 'documentary' interprets Jewish life from the viewpoint of traditional anti-Semitism and Nazi ideology. A candid, cinematically-unique expression of racial hatred. I personally find this film frightening and highly offensive. One can only hope that such pictures as this will never reach the screen again.\n",
      "* * * * * * * * * \n",
      "2826\n",
      "Bangville Police supposedly marked the debut of the Keystone Kops, named after the studio they worked for. In this one, however, they don't dress in the silly cop costumes or drive the fast-paced car that's their trademark. Anyway, Mabel Normand is a farm girl here who's begged her dad for a calf. She later sees some strange men in the barn and quickly calls the police. One answers and the chase is on. Next, Mabel slams her door just as someone is coming in. Turns out it's her mother who jumps to the conclusion robbers are in there! So while Mabel blocks her door with furniture, the mother and father try to fight their way in! This was perhaps the most amusing part of the short along with some explosions of the cop car. This was a short 7 minutes that went by so fast it's over before it's begun. The only real characterization that's developed is Mabel's who exudes charm with just her face and big eyes and seems so optimistically cheery here except, of course, when she's frightened. It's easy to see why she became a star. It's largely because of her that I'd recommended seeing this at least once and why I'm giving this a 4.\n",
      "* * * * * * * * * \n",
      "2976\n",
      "Clint Eastwood is Bronco Billy, the leader of a Wild West troupe, one of six regular misfits who comprise a struggling-to-break-even touring show. The seventh member of the bunch is a woman, Billy's assistant, but such women never last long, and the position is chronically open. Enter Antoinette Lilly (Sandra Locke  Eastwood's girlfriend at the time). It seems Miss Lilly, as Doc (Scatman Crothers) calls her, is a would-be heiress who will only receive her long-deceased father's estate if she's married by the time she turns 30, so on the eve of that birthday she gets hitched to the cartoonish Geoffrey Lewis.<br /><br />So, what's the plot of this film? It's hard to say. There's the romantic tension between Billy and Miss Lilly, but the problem is that for the first half of the movie she's so haughtily insipid and detestable that when she suddenly becomes 'one of the troupe' halfway through the film, it's not only unbelievable, but the audience is well past caring about her. There's the chronic lack of funds behind the Wild West show, but this topic isn't touched upon enough to really be the raison d'etre of the film. There's Miss Lilly's predicament of being stranded in the rural west, cut off from the funds that fuel her spoiled life of luxury (she's mistakenly believed to be dead by her family and the press). But are we really supposed to believe that she couldn't get back to New York and her waiting fortune if she gave it a bit of effort?<br /><br />No, the point of this film seems to be that Billy is the leader of a family, a lovable bunch of losers who hang together through thick and thin. This is a warm, fuzzy film  or at least tries to be. <br /><br />Along the way, Clint shows us his skills with a gun, even foiling a bank robbery in a shooting that is grotesquely out of place in an otherwise relatively non-violent film. One of the gang is arrested on an old draft evasion charge; Billy bribes the local sheriff. The show's tent burns down; an orphanage makes them a new one. But numerous mundane pitfalls do not a plot make.<br /><br />Compounding the problem is the acting, or lack thereof. Aside from Scatman Crothers, the supporting cast is quite amateurish. Eastwood isn't on top of his game either, though he looks better simply by virtue of being surrounded by such a lackluster bunch.<br /><br />And for all this, the film plods on for 116 minutes. To what point? Good question ",
      " <br /><br />4 out of 10\n",
      "* * * * * * * * * \n",
      "3064\n",
      "This is at least the third remake of this movie so if while watching it, there is a sense of deja vu, don't be surprised. All they did was change the setting of the story and tell it differently but the differences are not significant. And it doesn't get any better because the plot is flawed to begin with. It never works. And like its predecessors, the acting is mediocre.<br /><br />The plot has a unique ending which will surprise any one who has never seen the movie before but the ending doesn't fit the story. Had this movie ended ten minutes earlier, it would have worked and have been very satisfying and I would have thought it more worthwhile. But here is the spoiler and that in the end crime does pay because the criminal is not caught. I never like this message resulting from a movie.\n",
      "* * * * * * * * * \n",
      "3192\n",
      "Okay, so the previews to this film only tells you that a rebellious young girl goes to live with her grandmother for the summer in order to straighten out. That is actually not the case! It's about a young rebellious 17 year old girl who reveals a secret and it's up to her mother to believe if she's telling the truth or not.<br /><br />To be honest, I really enjoyed the concept of this movie. They had a really good plot and a really good theme of a love/hate relationship between mother and daughter. I did not however, enjoyed watching Lindsay Lohan's acting. In reality, this movie would have been GREAT if they had someone else, perhaps a better actress. The character of Rachel (Lohan) is a very sexually aggressive person and it sort of reminds us of the real Lindsay so it takes away a lot from the film.<br /><br />I do however, think that if you put Lindsay aside, you will enjoy this film. The ending is pretty great (and sad).\n",
      "* * * * * * * * * \n",
      "3457\n",
      "Nahhh! Leila (Grace Mills) is a teenager turned on to Satan (and LSD) by her archaeologist fiancé Richard. There's a neighborhood hippie demon cult hanging out at the local decrepit ancient castle, where Leila and Richard drink blood, drop drugs, join in sex orgies, dance to lame psychedelic rock and participate in black mass ceremonies where the guys wear pants, masks and capes and the women don't wear anything at all. Unfortunately, these kind of extracurricular activities have left Leila open to demonic possession from the dreaded \\spirit of evil.\\\" Leila also comes from a screwed up family, which doesn't help either. Her older brother John is a recluse who seems to be in love with her. Her mother Patricia (Maria Perschy) is depressed because she thinks she was responsible for the father's death. To top it off, her sister (Maria Kosti) is a slutty semi pro golfer named (gasp!) Debbie Gibson. There's plenty of hired help around also to waste more time. Two maids (a young one who takes her clothes off a lot and an old one who spies on everyone), plus Udo (Luis Induni), a bald voyeuristic handyman who spies on Leila changing clothes, takes nude pictures of her and sneaks into the pool house to take a sniff of her freshly used bathing suit. Oh yeah and Borg, the pet German Shepherd.<br /><br />Paul Naschy is Father Adrian Dunning, the doubting priest (zzzzz) who starts snooping around after John and Richard both have their heads twisted around backwards. Leila tells him \\\"They say I am perverse and I'm going to prove it is true!\\\" During her birthday party, she tells her guests \\\"You make me sick! I hate you all!\\\" and when mom suggests having a doctor come over she she screeches \\\"I don't want to see that fat ass!\\\" Debbie suggests they commit Leila to a \\\"sanitory,\\\" but Leila runs off and joins the cult again. She is rescued (again) and brought back home (for the third time).<br /><br />By this point in the movie, there's only about ten minutes left to go and all we've basically seen is some very boring scenes of characters talking and whining about how terrible and f-ed up their lives are and how Leila is acting weird. It's almost as agonizing to sit through as an Andy Milligan movie, minus the gore and laughs. But finally during the last few minutes we get the movie the title implies - an EXORCIST-like possession flick. Unfortunately, the best part of it are the contact lenses Leila gets to wear. Some cheap time-lapse slashes appear on her arms, legs and face, she gets scabby lips and her eyes take on the appearance of blue and white marbles. She begins reeking of rotted flesh, spits up some clear gunk, starts speaking in her dead dad's voice, sneaks into her mom's bedroom, slaps her around a bit and calls her a \\\"filthy bitch of a whore.\\\" In comes Father Adrian, who now finally believes she is indeed possessed, fends off her attempts at seduction, hallucinates frogs and eels are in the kitchen and douses Leila with holy water. Doors open and close, a mirror breaks, there's sudden thunder and her bed rises up off the floor. After she tackles Dunning and the two roll down the stairs, the spirit is out of her and into - guess who? Why, Borg the family pooch! The demon dog then turns on Adrian and chews him up a little before he impales it on a fire poker. Then we get one of the most irritating final shots ever committed to film. It's Leila on the floor going from her hideous appearance back to her normal sexy self. But then there's ANOTHER time-lapse effect that sort of seems to suggest that the demon has possibly reentered her body. It's so badly done, you really have no clue what to make of it, which is the final slap in the face to anyone who has just realized they've wasted an hour and a half on this worthless POS.<br /><br />Screw the contacts, 1 out of 10 it is.\"\n",
      "* * * * * * * * * \n",
      "3465\n",
      "Giant crabs cursing in Japanese? What was in that drink? A terrible movie, but laughable. I love the invisible Samurai ghosties running around. Drink much beer before you see this movie.\n",
      "* * * * * * * * * \n",
      "3566\n",
      "Where is it written that sequels must suck? Scream 2 didn't! Others didn't! But this one sure did... problems include horrible actors (only Christopher Walken could act in the entire film), bad writing (you will never understand what's going on and I even have done research on the idea of Nephilim before), and just horrible choices for casting. Eric Roberts makes the stupidest Archangel Michael that I have ever seen in my life!<br /><br />Avoid it like the plague unless you are desperate to see Christopher Walken. In that case just fast-forward to the parts where he is in the film, and avoid the others.<br /><br />Yech!!!\n",
      "* * * * * * * * * \n",
      "3616\n",
      "In A Woman Under the Influence Mabel goes crazy, but I can see why she does go crazy. If I lived the kind of life she lived with the family she has I would go crazy too. Everyone in her family is off their rocker and not completely with it. She is constantly surrounded by people yelling at her and telling her what is best for herself and people that aren't the sharpest knifes in the drawer.<br /><br />To start with the one person closest to her in her life, her husband, Nick, is a little off his rocker. He is always yelling at her when he is home telling her how to live her life and to stop acting like an imbecile. The rest of the time he is working long hours at his job and he isn't there to support her when she needs support. The one person in her life that should always be there for her is never there and if he is, he is just making her feel worse. She relies on him for support and always goes to him first when she feels she is acting wrong and he does nothing to support her. When she comes home from the hospital all he does is tell her how to act, instead of comforting her, he just yells at her and tells her what to do.<br /><br />The other major people in her life are her parents. Her parents do nothing in her life for her. Mabel basically runs their lives because they are afraid to stand up to her and stand up for her. In the end she even asks her father to stand up for her and he doesn't understand, and when he does get it he still does nothing. They do nothing to help Mabel recover or to keep her from going crazy because they do nothing for her period. The only person that tries to do something for her is Nick's mom. Nick's mom is adamant about having Mabel committed. She doesn't want to have Nick deal with it so she has the doctor commit her. It seems as though everyone is against Mabel and they feel that having her committed is a good idea because then they won't have to deal with it anymore. They all want to live their own lives and do nothing for Mabel except for yell at her and make her feel like she is doing something wrong when she really isn't. That is why she went crazy, and why she had to be committed, it was her family's entire fault.\n",
      "* * * * * * * * * \n",
      "3867\n",
      "They should have named this movie ...Blonde women that needed to get their roots colored. Also the main character, geeze, the too tight sweaters. The giggling. Thought the guy did a good job though. I keep hoping we'll find a good 8 star Christmas movie to watch this week. The dart throwing. Had to laugh at that too. We've still got 3 more on the DVR to watch, maybe we'll get lucky. Oh yeah, I figured the guy out pretty quickly and nailed it when he picked up the flowers and then drove out with his cousin. I told my daughter they were on their way to the cemetery. And how stupid was it that the two gals followed them there spying on them? Creepy.\n",
      "* * * * * * * * * \n",
      "4020\n",
      "Yikes did this movie blow. The characters were weak, the plot weaker. I figured this couldn't be too bad because it has Christoper Walken, oops. He must have done this because he was bored and needed the money. The characters were supposed to be Irish but noone had an Irish accent. I am desperately trying to find something nice about this, I can't except Walken did a fine job with a wooden character. Find something to read, or watch discovery, don't ever see this movie.\n",
      "* * * * * * * * * \n",
      "4096\n",
      "Well I just gave away 95 minutes and 47 seconds that I'll never get back on this piece of trash. I heard someone online describe this movie's villains as \\subhuman cannibals\\\", and I thought it was promising because I thought it would be like the Descent. WRONG! The Descent was a psychological thriller with dynamic characters and strong storyline. These villains are totally unrealistic and no part of their performance is enjoyable to watch. This movie isn't so controversial, I've seen this level of gore in many films. This movie plain sucks. SYNOPSIS: A blonde who thinks she's real hot (but she isn't), her admirer, and her admirer's friend (no, I don't remember their names) go into the woods. Their car breaks down. They are warned to leave by a man named Mark. The blonde gets unreasonably hysterical and the next morning they can't find the admirer's friend. Admirer impales his foot (whoops!). Don't worry, he is much more upset when his car won't start than when he gets impaled by nails. After a nanosecond of coaxing, the blond leaves to find help. Events ensue that I cannot remember. During this and throughout the movie, we are shown grotesque torture scenes with no substance including one that made me gag. Blonde goes to save admirer from house of cannibals (even though all they are seen eating is intestines, which would logically be the last choice for real cannibals to eat since they contain actual food). Blonde finds admirer hurt and works very hard (unsuccessfully) to work up tears. Then you get a good laugh when the blonde is in the house and announces she can \\\"out think them\\\". Mark (the man who warned them to leave) has a remarkable change of character when he reveals the cannibals are his family. Then there is some shooting, they leave the house, the shooting continues, then a random guy shows up and says he's been watching them. Before he is shot, we are shown an acid-trip inspired scene of more killing. The blonde or her admirer shoots him because he did not help them. There's more killing, the admirer professes his love for the blonde. Then a mysterious hand covers the camera. What does that imply? I don't know, hopefully not a sequel.\"\n",
      "* * * * * * * * * \n",
      "4271\n",
      "You talking' to Me? (1987) is a pretty bad movie starring some dude who I have never seen before or since starring as a guy from the neighborhood who tries to become an actor. He has a heavy jones for Taxi Driver as tries to use that shtick to make it big. When he learns the hard facts of life, he does what everyone else does, changes his image! He goes from good fella to a surf's up dude over night. His friend can't believe the change (but he scores with Faith Ford and get's a cool paying gig). Can this young punk keep his street cred whilst making it big?<br /><br />This is a real lame movie that tries too hard to incorporate too many things at once. An interesting idea that falls apart due to poor execution. Who knows, maybe somebody will pick up the ball and run because the film makers fumbled the ball this time.<br /><br />Don't waste your time with this movie. Unless you want to see a hot Faith Ford and a young Bubba from Forest Gump.<br /><br />xx\n",
      "* * * * * * * * * \n",
      "4320\n",
      "For those fans of Laurel and Hardy, the 1940s and beyond were a very sad time for the team. Their contracts with Hal Roach Studios had expired and now they were \\free agents\\\"--able to work for any studio who offered them a job. Unfortunately, Fox, RKO, MGM (without Roach) and even a French film company who hired the boys had absolutely no touch for their comedic talents. Plus, Stan and Ollie were a lot older and seeing these geriatric men taking pratfalls seemed sad, not particularly funny. Stan looked very ragged and Ollie's weight had ballooned up to the point where he could barely walk--and so it made me feel uncomfortable laughing at their very, very sedate antics.<br /><br />In addition to their age, this particular film suffers because Fox Studios oddly cast them in a supporting role and created a parallel plot involving a young couple--something that reduced their time on screen AND turned them into insipid \\\"hangers on\\\" instead of just being themselves. A cute and cuddly Stan and Ollie is very foreign to the old Laurel and Hardy of the 20s and 30s--and just seemed awfully strange and suited them poorly.<br /><br />Now even with their age, this COULD have been a decent movie if it had been given decent writing and if it appeared the studio cared--and it's quite obvious they were using the \\\"B unit\\\" here--with, at best, second class support. In particular, there are very few laughs and the last 10 minutes of the film is simply dreadful--relying exclusively on a sloppy rear-projected screen for the stupid chase scene--which might just rank as one of the worst of its kind in film history.<br /><br />For mind-numbed zombie lovers of Laurel and Hardy, it's probably a film they will love. But, for lovers of the team who are willing to honestly evaluate this film relative to their amazing earlier films, it simply comes up wanting indeed. In fact, of all their full-length films pre-1940, I can't think of one I liked less than DANCING MASTERS. Unfortunately, of the post-1940 films, this might just be one of their better ones. Sadly, it got a lot worse--with wretched films like THE BIG NOISE and NOTHING BUT TROUBLE. I just wish the boys had just retired after SAPS AT SEA.<br /><br />Finally, I wonder if all the generally positive reviews for this film on IMDb might reflect the reviewers' love of the team more than it's an indication that this is a good film? For an audience who are NOT already in love with the team, I don't know HOW this film will do anything but bore the audience--it certainly WON'T convince anyone that Laurel and Hardy were comedic geniuses. But even comedic geniuses need material worthy of their talents.\"\n",
      "* * * * * * * * * \n",
      "4378\n",
      "Dick Foran and Peggy Moran, who were so good together in THE MUMMY'S HAND, return for this very minor Universal Horror offering. But this time, instead of having Wallace Ford as the comedic sidekick \\Babe,\\\" we get Fuzzy Knight substituting as a silly buddy named \\\"Stuff\\\". But the results are nowhere near as charming, and the scare level is virtually nil.<br /><br />Dick is a businessman who gets the idea of spearheading a treasure hunt on a remote island inside a spooky old castle. Peggy is one of the gang who comes along for the ride. But there is a tall and skinny John Carradine lookalike in a black cape and big hat known as \\\"The Phantom\\\" who crashes the party in pursuit of the buried fortune himself.<br /><br />This \\\"phantom\\\" is not very mysterious, and no effort is made to even try and keep his rather average guy face in the shadows to create any tension or spookiness. It's always nice to see perky Moran, but otherwise you can chalk this up as one of Universal's instantly forgettable misfires.\"\n",
      "* * * * * * * * * \n",
      "4542\n",
      "After what I thought was a masterful performance of two roles in Man From Snowy River, WHY was Kirk Douglas replaced by Brian Dennehy in the sequel? It just wasn't the same without Spur and Harrison, as portrayed by Douglas. Maybe he recognized how poor the plot was--Jim returns after extended absence, to find Jessica being pursued by another man. He could not expect any girl to wait that long with no contact from him, and not find competition. For a Disney movie, this contains foul language, plus the highly unnecessary part when Jim & Jessica shacked up without being married--very LAME. Quite an insult to viewer intelligence, according to members of my family. I'll stick with the first one, and try to forget I ever saw the sequel!\n",
      "* * * * * * * * * \n",
      "4557\n",
      "First To Die 2003<br /><br />I'll admit my mistake first: I didn't realize this was a made for TV movie. I was \\thrown off\\\" by the \\\"R\\\" certification. The plot is strong, but the movie is about 40 minutes too long. The direction and continuity were excellent. For the most part the cast was exceptional and did a good job with their characters. The down side of the movie is that it definitely falls into the \\\"chick flick\\\" genre. Although there are some violent scenes, none of the violence should call for an \\\"R\\\" rating. There is no nudity or gratuitous sex scenes. Actually, there are no sex scenes. Ona Grauer (who is absolutely beautiful), Kristina Copeland, Sonya Salomaa, and Glynis Davies were all guests on the SG-1 series, but this movie did nothing to advance their careers since they were all used as low level supporting actresses. Robert Patrick was fantastic, as he usually is and Mitch Pileggi made me think of a modern day Lee Marvin. The very talented Megan Gallagher who I came to respect as an actor during the Millennium series, was given nothing challenging to show her range of abilities. The greatest disappointment with regard to the cast was Tracy Pollan. Aside from being a below average actress and not particularly attractive, her voice is absolutely annoying. I found myself muting the TV during her dialogue. I would recommend this movie to anyone who enjoys the Lifetime TV type of programs. I would not recommend paying any money to see this movie however. Considering I found nothing that would cause censorship, this is a movie that is worthy for only watching on TV, since nothing will be cut out. As a TV movie I would rate this as a 5 out 10. As a feature film with an \\\"R\\\" certification and such as strong cast, I rate it as a 2 out of ten.\"\n",
      "* * * * * * * * * \n",
      "4660\n",
      "I have never read the book\\A wrinkle in time\\\". To be perfectly honesty, after seeing the movie, do I really want to? Well, I shouldn't be reviewing this movie i'll start off with that. Next i'll say that the TV movie is pretty forgettable. Do you know why I say that? Because I forgot what happens in it. I told you it was forgettable. To be perfectly honest, no TV movie will ever be better than \\\"Merlin\\\".<br /><br />How do I describe a TV movie? I have never written a review for one before. Well, i'll just say that they usually have some celebrities. A wrinkle in time includes only one. Alfre Woodard(Or Woodward, I am not sure), the Oscar winner. <br /><br />The film has cheesy special effects, a mildly interesting plot, scenes that make you go \\\"WTF\\\". The movie is incredibly bad and it makes you go\\\"WTF\\\". What did I expect? It's a TV movie. They usually aren't good. As is this one. A wrinkle in time is a waste of time and a big time waster. To top it off, you'll most likely forget about it the second it's over. Well, maybe not the second it's over. But within a few minutes.<br /><br />A wrinkle in time:*/****\"\n",
      "* * * * * * * * * \n",
      "4727\n",
      "I couldn't agree more with another reviewer that mentioned Jodorowsky.<br /><br />Barney seems to be utterly boring and uninspired \\content-wise\\\". He can produce eye-candy (and I like candy), but its pretentiousness and fundamental artistic emptiness just diminishes all the joy. <br /><br />I am afraid that many people don't distinguish between similar (but really only on the surface) works of Jodorowsky or even more linear film-makers like Tarkovski or Kubrick (I love 2001 Odyssey and was never bored through the ending scenes...) That kind of art as M.Barney's makes adds confusion and fends off the viewers that could otherwise start to appreciate experimental cinema. Typical empty post-modern \\\"conceptual\\\" art. And check his interviews. I just don't buy it, sorry. And so boring. <br /><br />I was never bored seeing Alejandro Jodorowsky's movies, while Drawing Restraint 9 was an utter disappointment. Especially while it offered the possibilities to be something, to actually tell something in a non-linear unorthodox way (like the beginning and the great choreographed dance and preparations for the ship to sail out. Ships \\\"meeting\\\" on the sea... Ideas of feces as an object of value(if it was feces). Those \\\"pearl\\\" divers... Everything could construct a great surreal movie with some content. But it didn't. ANd those horrible pretentious scenes of dressing up and fake tea ceremony... How vain and fake and philosophically pretentious but empty can it get?<br /><br />I has some great picturesque scenes, but the whole movie became so boring and pretentious and utterly empty and fake that it made me physically sick.<br /><br />And it doesn't have good tempo. I like slow pace movies, but this was just boring in some scenes - because it was pretentious and fake - so I was just forced to witnessed prolonged scenes of artistic vanity...<br /><br />That kind of movies just kill the art and spirit in my view. <br /><br />I want more Jodorowsky!!!\"\n",
      "* * * * * * * * * \n",
      "4871\n",
      "Terrible film with Frank Sinatra as Tony Rome. Here, he gets involved with a dead woman below the sea.<br /><br />Rome is soon hired to find out what happened to a woman. Naturally, it's the woman below the sea. Her room mate, Lainie Kazan, soon winds up dead on the floor.<br /><br />An aging Richard Conte plays a police officer and friend of Rome. When a local club owner gets killed, the blame falls on Rome and there becomes an interesting chase scene. That's how bad this picture is if you have to depend on a chase scene to supply the action.<br /><br />Raquel Welch plays the beauty up to her neck in intrigue. Her acting leads a lot to be desired. <br /><br />Martin Gabel is a retired hoodlum whose son is trying to outdo him.<br /><br />By the film's end, you don't know why the girl was murdered. Don't even bother to ask.\n",
      "* * * * * * * * * \n",
      "4926\n",
      "My 10-year-old daughter, Alexandra, writes:<br /><br />I thought it was very boring, and I thought it was just a repeat of stuff from \\101 Dalmatians.\\\" I couldn't wait for the movie to end. The best part was the credits at the beginning - they were cute and well done. The rest of the film is not worth watching. Thank you.\"\n",
      "* * * * * * * * * \n",
      "4942\n",
      "THIS REVIEW IS MOSTLY ALL SPOILERS. IF YOU PLAN ON ENJOYING THIS FILM, DON'T READ THIS REVIEW.<br /><br /> That's the problem with kids TV nowadays. It's all so patronizing and condescending. `Wow, that was fun, wasn't it?' No it wasn't. And unfortunately it seems to have permeated into children films as well. And that is what 'Flight of the Reindeer' is all about. Admittedly I haven't seen 'Flight of the Reindeer' in a few years so I might be hazy on some points, but I remember being thoroughly unimpressed with it at the time.<br /><br /> Essentially, the story follows a lecturer who is given a book for Christmas. Now, the lecturer is an esteemed scientist on the flying habits of some animal. I think it was bullfrogs. Anyway, through this book, Mr Lecturer / family man learns that reindeer can fly in exactly the same way as bullfrogs. Apparently this book was written by a scientist many hundreds of years ago who disappeared in the North Pole. Now, if it were me I would have thrown the book out the nearest window. Flying bullfrogs are a naturally occurring phenomenon, but flying reindeer is a fantastic and wholly unrealistic concept. But, Mr lecturer ISN'T me, so I guess that explains why he decides to fly to the north pole leaving his wife and kid at home with no idea where he's gone. Of course, things go awry and before he knows it, a flying reindeer has crashed into his private plane and he's stranded at the North Pole.<br /><br /> Are you still following this? Good.<br /><br /> His family, of course, are devastated. I would be too, I mean, what a suck-tacular Christmas. Elsewhere, Mr lecturer finds himself in a hidden town at the North Pole inhabited by midgets and one tyrannical figure who dresses only in red and white. Rather than try to escape immediately, as I would have done, he greets everyone there with open arms. This hidden civilization of midget monsters, and he greets them with open arms. Oooo-kayyyy. They feed him this story that they are the elves of Santa Claus and they spend all year round making toys for kids they have no idea exist. And Mr lecturer accepts all this. He even accepts that Santa Claus is in fact the scientist who disappeared two hundred years ago or whatever. There's just one problem - they don't want him to leave. The world can't know of their secret existence. After all, before they'd know it there'd be a McDonalds and a Starbucks on every street corner.<br /><br /> Still with me?<br /><br />Now, Mr nice guy's family find the book and assume he's gone to the North Pole. Boy, wouldn't they be embarrassed if they found out he'd just gone for a brisk walk? Before the audience knows it, they're jetting off to spend a Christmas in the most authentic winter wonderland on the planet. Meanwhile, Mr lecturer gets sick of all the uppity midgets and decides to leave. I can't remember exactly, but I do recall him holding Santa Claus to gunpoint. A fire fight ensues when the midgets attack and he manages to escape via Santa's sleigh. With Santa hot on his heels and with bloodlust in his eyes, Mr Whatever, through some marvellous co-incidence, finds himself flying alongside his family's plane that is looking for him. So he jumps on to their plane, the planes flies back and everyone lives happily ever after.<br /><br /> The fact is, there have been some shocking films made in the name of Christmas over the years but because they feature that festive charm they get away with it. And it's that charm that is utterly devoid from 'Flight of the Reindeer' There isn't much wrong with it; nothing which insults the intelligence (well, obviously there IS, but it's a kids film and thus can get away with such things) or anything particularly offensive, but the problem is there is nothing much right about it either. It just doesn't FEEL Christmassy. And for a film that is all about Christmas, that it a pretty major flaw. But hey, I don't think 'Flight of the Reindeer's target audience mind about that? Why should they? They're all so doped up on sedatives they probably couldn't spell `Christmas'<br /><br /> I give it three out of ten. If it was a TV-Movie then I'd add another two stars onto it. We all know how bad they can get.\n",
      "* * * * * * * * * \n",
      "5054\n",
      "What do you call a horror story without horror and story? <br /><br />This is the most irritating thing about the film: I get the feeling the writers never really decided what's actually going on in the film! It's a different thing to know it, give hints for the audience and not completely reveal it, but here, you get the feeling the screenwriters don't know it, characters in the film do not know it and audience sees that no one knows! (Remember \\Cube\\\"? Even that film knew more about itself.) <br /><br />I've consumed a lot of 80's horror / gore films and this movie certainly has its roots deep in those films. But a lot of important things are missing. We really know nothing about the characters. They keep repeating empty lines over and over again. The story isn't really developing - it never goes anywhere. B-acting is OK in this type of horror films, but there's not much to act in the script. We don't care about the characters. There's nothing to remember about them. There's not even cheesy humor or unnecessary sex. And most importantly - no thrills, no chills.<br /><br />You only get some commonly used elements of the horror film genre. They show the Lordi monsters one by one but their characters don't really contribute anything for the story.<br /><br />I honestly believe that this amount of story, character development and atmosphere could be achieved with minimal amount of crew and equipment. Oh yeah, film makers used to do that - and more - some 20 years ago! I felt the shared embarrassment of the audience as the film ended. Too bad really.\"\n",
      "* * * * * * * * * \n",
      "5194\n",
      "Wow! I remember so many awful films that loosely revolved around high school from the early 1980s. They usually had someincredibly strained plot and lots of 27 year old actors pretending to be students. As I watched this film I felt a little of the nostalgia of growing up in the 1980s. However, then I find out that this film was made in 1989? Say what! Well, the nostalgia factor ends right there, this is just bad. The plot has the city preparing to close a high school and threatening to bus all of the students to inner city high schools. Which is odd, in that the students at this school are both wealthy and abundant. In fact, the main character lives in a mansion. Makes you wonder how they cannot find money to keep this school alive, have they never heard of property taxes. Oh, but here is the kicker. The school board says that they will keep the school alive, if the students can raise $200,000. So the seniors go about doing this. Hmmm, you raise $200,000 but instead of saving that for college, you put it towards saving the high school that you are a Senior in? And why exactly would they close an overpopulated school before the year is out? And...ahh forget it, this film was stupid and made in 1989!?\n",
      "* * * * * * * * * \n",
      "5238\n",
      "My first clue about how bad this was going to be was when the video case said it was from the people who brought us Blair Witch Project which was a masterpiece in comparison to this piece of garbage. The acting was on the caliber of a 6th grade production of Oklahoma and the plot, such as there was, is predictable, boring and inane. 85% of the script is four letter words and innumerable variations on them. Mother F seems to be the \\writer's\\\" favorite because it is used constantly. It must have taken all of 10 minutes to write this script in some dive at last call. Thank God I rented it and could jump through most of it on fast forward. Don't waste your time or money with this.\"\n",
      "* * * * * * * * * \n",
      "5277\n",
      "This movie made it into one of my top 10 most awful movies. Horrible. <br /><br />There wasn't a continuous minute where there wasn't a fight with one monster or another. There was no chance for any character development, they were too busy running from one sword fight to another. I had no emotional attachment (except to the big bad machine that wanted to destroy them) <br /><br />Scenes were blatantly stolen from other movies, LOTR, Star Wars and Matrix. <br /><br />Examples<br /><br />>The ghost scene at the end was stolen from the final scene of the old Star Wars with Yoda, Obee One and Vader. <br /><br />>The spider machine in the beginning was exactly like Frodo being attacked by the spider in Return of the Kings. (Elijah Wood is the victim in both films) and wait......it hypnotizes (stings) its victim and wraps them up.....uh hello????<br /><br />>And the whole machine vs. humans theme WAS the Matrix..or Terminator.....<br /><br />There are more examples but why waste the time? And will someone tell me what was with the Nazi's?!?! Nazi's???? <br /><br />There was a juvenile story line rushed to a juvenile conclusion. The movie could not decide if it was a children's movie or an adult movie and wasn't much of either. <br /><br />Just awful. A real disappointment to say the least. Save your money.\n",
      "* * * * * * * * * \n",
      "5532\n",
      "This movie is a re-write of the 1978 Warren Beatty movie, \\Heaven Can Wait\\\", but it is written for the stand-up comedic style of Mr Rock. The premise remains the same: Lance Barton, (Rock) is taken before his life time is up and works a deal with God's representative, Mr King, to come back to earth as someone else. As in Beatty's movie; he chooses the murdered Charles Wellington, a rich white man, all because he fancies Sontee Jenkins (Regina King) who happens to turn up at Wellington's house during the murder. The role of Mrs Wellington and her lover suffers in this remake and the idea to turn an aged white multi-millionaire into a stand up black comedian who tries to woo Sontee simply does not work. Also the intercuts used to show Rock as Wellington and then as the real 'white' Wellington, fail miserably. Improvements could have been made to the original Beatty plot - which in itself did not masterfully portray the life-after-death idea - but they certainly were not to be found in \\\"Down To Earth\\\".\"\n",
      "* * * * * * * * * \n",
      "5560\n",
      "Drawing Restraint 9. dir: Matthew Barney.<br /><br />How do you know when you're in the middle of a pretentious art film? Is it that there is only 8 lines of dialogue in 140 minutes of film? Is it when Bjork is wearing what looks like a giant furry pita on her head in a pseudo-Asian ritual? Maybe when mammoth turds and spinal columns are used in a whale blubber experiment. Or, when you're about ready to kill the composer for making a minimal, and still annoying, version of a Philip Glass score? In any case, Drawing Restraint 9 is among the most pretentious of the modern art movies. At 135 minutes, it adds to its pretension by being boring to boot. I would call the use of color stunning, and the opening sequence interesting, but the rest of the movie looked like it was filmed for a Discovery Channel documentary. That is until it looks like they were trying to film their version of P-ss Christ, but that will be coming up later.<br /><br />Actually, the documentary-esquire portions were the best parts of it. The surface plot is about a whaling ship, and then there is a ritual about making whale fat. Then, there are the guests in the form of Bjork and Matthew Barney who are welcomed on the ship by being put through a ritual of humiliation which includes passed-out head shaving (think frat boy pranks), nicotine patches, and giant furry pita hats. Then there is mutual evisceration, cannibalism, and lets not forget the giant turd.<br /><br />Matthew Barney has written that this is about \\the relationship between self-imposed resistance and creativity.\\\" That's almost like saying, \\\"if you don't get it, then you're not creative in your interpretation, so sod off because I'm an artist.\\\" Oh, wait, that's the POST-modern interpretation of that sentence and what the movie would be about if it was POST-modern. But, its supposed to be Modern art. Which is about the art itself.<br /><br />So, let's start this whole interpretation bit, shall we? The following lines are only 3/4 serious and should not be taken as any realistic attempt to interpret the movie.<br /><br />The first half-hour concerns pearl divers and the construction of a giant ramp. Obviously, the ramp is symbolic of the need for self-elevation to whatever standards you hold dear, and the pearl divers are looking for pearls of wisdom. Then, on a whaling ship, they build a crate that looks like it is in the crude shape of a whale. Obviously a crude element of foreshadowing.<br /><br />On the ship, they make whale fat inside the shape of the whale, and take out the fins portion. They replace this with a spinal column and later a giant turd. These are supposed to be the states of the movie itself. When its fat, its entertaining but bad for you. When it is the spinal column, its the \\\"important\\\" parts of the movie, or the backbone so to speak. Then, the giant turd is the bowels of the movie, or when the movie is crap.<br /><br />Bjork and Matthew Barney the arrive on separate ships, are put into strange humiliating outfits which AREN'T EVEN WELL MADE OR SYMMETRICAL, one suspects that they ran out of money and Barney was trying to quit smoking. SO, they put patches on his head. They go through a ritual and learn about the ship from a Japanese wise man, who tells them that the ship is scarred from when another ship hit it; a crash or intersection, if you will. This inspires Bjork and Barney, who are different on the outside, to start cutting each other's legs off and eat them so they could turn into whales themselves and be the same person. They intersect. Oh, did I forget to mention that this has been done in a Robbie Williams video? Then, the pearl divers come back with their mouths full of pearls of knowledge which they let fall to make a stupid Venn Diagram. Barney made it through 8th grade geometry, obviously. Or, maybe at least some social studies.<br /><br />Oh, and did I forget Bjork's ear-gouging I-want-to-kill-her score? At times it is hypnotic, but at others you just want to assassinate her.<br /><br />Art film is one thing, but when you just throw up all sorts of symbolism in the hopes of getting a reaction out of people, it becomes a self-destructive joke. When do you cross the line between becoming a joke in terms of art? Dali and Bunuel frequently made surreal pieces of nonsense but were more coherent and/or entertaining than this piece of trash. Un Chien Andalou had the sensibility to cram as much symbolism as it could into less than half an hour.<br /><br />So, can I recommend this? Only if you like dull HIGH ART films with lots of symbolism and flat imagery.<br /><br />D+\"\n",
      "* * * * * * * * * \n",
      "5610\n",
      "Hey everyone...<br /><br />There really isn't much to say for this movie at all. The basic plot is that a guy (Brandon) takes a few friends on a trip to his cabin in the woods for a weekend holiday away from work. After picking up a girl on the way there, things start going badly wrong for all of them.<br /><br />The storyline alone (written by the actor playing Brandon, I believe, although I could be wrong here) is unlikely and unconvincing, and is acted out accordingly. The \\Clown Killer\\\" himself is a rather a sad excuse for a psychotic killer. Far from being a dark, mysterious but most of all, intelligent predator, we are instead offered a rather clumsy, nursery rhyme-singing buffoon who appears to be going through a minor mid life crisis. The only thing that warranted the writing of this comment were the sex scenes and whatever gore there was in the film (the quality of the film led me to derive some enjoyment out of such things).<br /><br />In short, this film falls below every possible set standard. Admittedly, I was sharing a few beers with a close friend as I watched this, so we managed to scrape together some relative entertainment value out of this film and it is therefore only fair to mention that S.I.C.K did fall just shy of a two rating. However, in reality, (and with the benefit of hindsight) the one star rating is a more than legitimate score for this film.<br /><br />1 star out of ten.\"\n",
      "* * * * * * * * * \n",
      "5665\n",
      "This is probably one of the worst movies I have ever seen. Jessica Simpson not only lacks any acting skill, but the script is incredibly shallow and lame. You actually hear serious dialogue that goes, \\I love you more.\\\" \\\"No, I love YOU more.\\\" I stopped watching the movie (online) after the first half hour, I couldn't take it anymore. Her \\\"southern girl charm\\\" just doesn't work and is really quite annoying; her attempts at slapstick humor fall flat and she delivers lines like she is reading the script right off the page.<br /><br />Poor Luke Wilson. Did he not read the script before agreeing to do this, or did he fall for Papa Joe's (Jessica's dad and also the producer of the movie) promise of big profits? Hopefully he now knows better than to sign on to another movie like this. Luke Wilson is actually a good actor - I hate seeing the pained look on his face as he suffers through the bad dialogue.<br /><br />Also, I think the previous commenter giving this movie an 8 out of 10 was probably either involved in the movie somehow or hired by Papa Joe to give the movie a better rating. No one in their right mind would actually find this movie engaging.<br /><br />Jessica has lots of money, right? Maybe buy some acting lessons?\"\n",
      "* * * * * * * * * \n",
      "5730\n",
      "I just sat in the theater bored as hell, i wanted to leave halfway through the movie. The plot is simple 4 Samoan guys wreck weddings. So They have to bring a dates in order to get into the wedding. Yawn.<br /><br />The thing that peeved me off the most was the so-called crude jokes... They were highly UNfunny, clichéd and thrown in your face, to make you get into the already dull movie. The acting was below-average and i felt this movie just went on and on about nothing but a bunch of unfunny jokes and a predictable plot.<br /><br />All in all, one of the worse movies i've seen of 2006, unfunny, bad acting, just ugly.<br /><br />Well thank god a friend shouted me. <br /><br />Avoid.\n",
      "* * * * * * * * * \n",
      "5759\n",
      "When I was 16 I saw the documentary: \\A Funny Thing Happened on the Way to the Moon\\\". I actually liked, and believed in it for a couple of years. But then I grew up, and began to think, and when I had sought more information. This is: more info from reel sources, and non-biased sources. When I started at university, not so long ago, i asked an assistant-professor in astronomy about these conspiracy theories. What he said shocked me: He said that all those theories where lies. That baffled me, I did not believe it first, but then he presented evidence for his claims. He quickly debunked most of the theories about the subject: \\\"humans did not go to the moon\\\". The most outrages claim was that the Apollo-craft could not travel through the Van-Allen-radiation-Belt, without the crew perishing from radiation. The truth is that the Americans use a secret aluminum-anti-radiation-alloy. It is not that well-known. And the exact specifications are a secret. And why is it a secret: Well, why should they reveal it back then?? If they where in a space race with the Russians, then it would be VERY dumb to reveal that they had new technology that could shield crew against radiation.<br /><br />And then there is the biggest evidence of all: The Moon Stones. When the Apollo-missions DID go to the moon, they brought back many rocks from the moon, to give to geologists and similar scientists, who are documenting all things about the moon. These rocks and stones are IN FACT FROM THE MOON. Because: the internal basic elements, which all matter consist of, are also made of special isotopes, that are different from quarry to quarry, land to land, and especially planet from planet. The isotopes of these rocks and stones have been Proved, that they do not come from earth. The astronauts brought home HUNDREDS of Kilogram's of these rocks, all of them have been proved to have come from outside earth, and from the same planet. Ergo: The moon-landings where not fake. NASA did go to another planet: the moon, though it is not a planet, but a satellite to a planet, a moon (duuh). These rocks have been distributed to laboratories and universities all around the world. It has been proved: Humans did go to the moon - it is a fact, pronto.<br /><br />But I do not worry: most conspiracy-theorists are generally unemployed and uneducated, that is mostly why they do not know or lie about these facts. The fact remains: Humans did walk on the moon.\"\n",
      "* * * * * * * * * \n",
      "5762\n",
      "TV version of \\Twister\\\" springs a few leaks but manages to remain watchable. My sister bought this at a Wal-Mart a few years back when it was released, I saw it back then and thought it was okay. Later \\\"Twister\\\" with Bill Pullman and Helen Hunt comes out (or was it before? I think it was '97) and did a better job overall. But \\\"Twister\\\" was more silly fun; this is realistic with a message. It all depends on what you want from a movie with twisters: Twisters, or a low-budget character study?<br /><br />John Schneider and Devon Sawa (he's the reason my sister bought it) star, and Devon Sawa, who went on to \\\"Wild America,\\\" \\\"Final Destination\\\" and \\\"Slackers\\\" got his big break here. So in a way, I was one of the first people to see him really take off. I don't know if it's an honor or a shame, I haven't seen how he acts in recent films.<br /><br />\\\"Night of the Twisters\\\" all depends on personal taste, like I said, it all depends on what you want from a movie with twisters: Twisters, or a low-budget character study. \\\"Night of the Twister\\\" has the latter. So you decide.<br /><br />I give it a 2.5/5...<br /><br />- John Ulmer\"\n",
      "* * * * * * * * * \n",
      "5765\n",
      "This show had a lot of hype but I didn't know about it until the midseason (season 1). Someone even recommended the show to me. But I decided that if I was going to watch it, I was going to wait until the end of the season so I could watch it in bulk. Due to the show's format, I'm happy I waited. I imagine it would have been fairly annoying have nearly every episode end in the middle of some cliff hanger then have to wait another week to find out what happens in the next second of the story.<br /><br />Somehow, this show has managed to throw in too much sex. Jason will have sex with pretty much anything that moves. Right after he finds out that one woman he had sex with was killed, he's in bed with another woman the next night! Then Tara and Sam get it on, despite each of them knowing that Sam is in love with Sookie. And for some reason, Sookie gets mad when she later finds out about it--even though she's sleeping with a vampire. One of the problems with the show, is that it doesn't do a good job of making you care about the characters. I really didn't care for Jason at all. Along with his endless pursuit of tale, he was rude to the people who actually were concerned for him. After a few episodes, I wouldn't have minded if he got killed somehow. For that reason, I was for the most part uninterested in the murders until Sookie's Grandmother became a victim (since the first two were more closely involved with Jason).<br /><br />Then once Sookie and Bill have sex, the story gets a few more subplots. Tara's mother wants an exorcism, then the exorcist lady tries to convince Tara that she should have one to remove her own demon. I wasn't so much bothered by the whole exorcism thing as I know there are some people who really believe in that stuff. However, they waste little time in showing that is it a farce right after Tara spends about $1300 on exorcisms for her and her mother. At other points, some of the developments happen too fast. Jason continues being a jerk, trying to sell his Grandmother's stuff to buy vampire blood, which apparently is the new crack or something. In his search he finds this girl who will do V (vampire blood) with him. They get high, and within three days fall in love with each other and kidnap a vampire for a constant source of V. Another example is when Bill has to go to a vampire tribunal. He's only gone for two days before Sookie starts to feel abandoned and start to wonder if he thinks \\vampire politics\\\" are more important than her.<br /><br />Subtlety is not this show's strong suit. It doesn't take a genius to figure out something is going on with the local dog. Although my assumption wasn't dead on, it wasn't that much of a surprise. But the finale two episodes was where it really got annoying as it just shoved all the developments in your face as if you couldn't possibly figure the out for yourself. When Tara gets into the car accident, the naked lady's face with the pig is clearly shown, and was easily recognizable when she shows up at the jail for the bailout. As if that wasn't enough, they later show the lady again with the pig at her house. Then it's time to wrap up the murder story. At the end of the penultimate episode, it's revealed that Renee is not who he says he is and most likely is the killer. In the final episode, they shove Renee being the killer in your face. Sookie remarks that it's odd that Renee's thoughts don't have an accent. I thought that was fine, as it adds to Renee being a fraud. But the next scene is full of incriminating evidence against Renee. They show that Renee has the tape of Maudette with the vampire and his fiancée finds a tape in one of Renee's boxes about how to fake a Cajun accent. At this point it was just ridiculous. I mean WE GET IT!!! So blah blah blah stuff happens. Bill almost kills himself while failing to save Sookie, who still manages to kill Renee. They start to set up season 2 by leaving unfinished issues. The naked pig lady and Sam have a history, Lafayette has gone missing and might have been killed. Jason is in the process of being brainwashed into being a religious nut by some anti-vampire church--which makes me care about him even less.<br /><br />It's almost surprising to see how many people absolutely love this show. I think I just expected this show to be better. I'm interested in seeing what happens in season 2, but if I watch it, I'll most likely wait for the season completion.\"\n",
      "* * * * * * * * * \n",
      "5950\n",
      "This movie goes beyond just being bad, it is definitively the worst movie I have ever seen in my entire life. Unless you yourself have a problem with necrophilia than you will not enjoy will not enjoy the scenes depicting it in this film, (if you can call it that).\n",
      "* * * * * * * * * \n",
      "6148\n",
      "Let's be honest shall we? Al Gore no more TRULY cares about the environment than most folks care about contacting foot fungus. It's a hook! Make no mistake, Al Gore is a POLITICIAN! Three years ago he was busted/ticketed in his home state doing 70 mph in a 55 mph zone driving NOT a hybrid, a Yugo, or even a GM Metro but a LINCOLN (go google it if you like)! Or how about the fact that Mr. Gore & his Hollywood buddies continue to use a private fuel-guzzling jets to attend the premiers of \\An Inconvenient Truth.\\\" So much for conservation huh, Al? Anyway, it takes a mere minute to subjectively look at \\\"An Inconvenient Truth\\\" & discover the main fundamental flaw. While the film parades out many seemingly impressive scientists to tell the audience the EFFECTS of supposed \\\"global Warming\\\" there is not one scientist to tell us the supposed CAUSE of it. For example: I can take a hundred folks out to a parking lot & they can point out an automobile which is not running right. BUT can they tell you with any degree of certainty WHY? Generally not! A second flaw, just how accurate were the weather instruments 100 years ago (the toilet wasn't even invented yet)? What did they have, a June bug in a match box? Hell, even 50-60 years ago? Therefore, how do we know with ANY degree of certainty that the planet is \\\"getting warmer\\\" when the records of yesteryear are highly questionable at best? Or that man is THE sole cause of it? The answer is we don't & Science is NEVER a consensus. Thirty years ago, Time Magazine did a cover proclaiming a \\\"New Ice Age\\\". The truth is that any 6th grade science teacher well versed in Earth Science will tell you that Volcanic Erruptions, Solar Activity & El Ninos have more to do with our eradicate changes in climate conditions than supposed \\\"Global Warming.\\\" Finally, what Al Gore fails to adequately address is; even IF America decides to follow the global gospel according to Al & implement everything he recommends, how are we going to get the rest of the world to follow suit when we can't even get them to agree on something so obvious as terrorism? Answer: It's wishful thinking, Mr. Gore & you being a former VP of the USA know it! If the folks who produced \\\"An Inconvenient Truth\\\" were really honest, they would have titled their film \\\"Al Gore Wants Attention.\\\" But what I'd really like is for someone to ask the former VP this; why were two of the planet's biggest polluters (AKA China & India) EXEMPT from abiding by the Kyoto Accords? Anyway, I hear the producers of A.I.T are working on their next film entitled \\\"Gnomes, Fairies & Elves: Our Endangered Friends.\\\"\"\n",
      "* * * * * * * * * \n",
      "6356\n",
      "Ned Kelly (Ledger), the infamous Australian outlaw and legend. Sort of like Robin Hood, with a mix of Billy the Kid, Australians love the legend of how he stood up against the English aristocratic oppression, and united the lower classes to change Australia forever. The fact that the lower classes of the time were around 70% immigrant criminals seems to be casually skimmed around by this film. Indeed, quite a few so called `facts' in this film are, on reflection, a tad dubious.<br /><br />I suppose the suspicions should have been aroused when, in the opening credits, it was claimed that this film is based upon the book, `Our Sunshine'. If ever a romanticized version of truth could be seen in a name for a book, there it was. This wasn't going to be a historical epic, but just an adaptation of one of many dubious legends of Ned Kelly, albeit a harsh and sporadically brutal version.<br /><br />Unfortunately, Ned Kelly is nothing more than an overblown Hallmark channel `real life historical drama' wannabe! The story plods along at an alarming rate (alarming because never has a film plodded so slowly!) The feeling of numbness after the two hours of pure drivel brought back memories of Costner's awful Wyatt Earp all those years ago. Simply put, nothing happens in the film, but it takes a long time getting to that nothing. This would possibly have been a tad more bearable if the performances were good (because the direction sure as heck wasn't). However, unless you are looking to play a game of spot the worst Oirish accent, then you're gonna be disappointed. Between that, the game of `Who has the stupidest beard?', `Spot the obvious backstabber!' (clue, they are all ginger for some reason), and `Nature in Australia.including lions', it is an experience similar to flicking through Hallmark, The History Channel, Discovery Channel, and Neighbours whilst suffering a huge hangover. Yup, nature pops up a lot, as to fill even more time (possibly an attempt to look arty), the film keeps showing pointless wildlife shots, and once all the native species are shown, here's a circus to allow for a camel and a lion (which is used during one fight to try to make us actually feel more sorry for the lion than the massacred people).<br /><br />This is a turgid, emotionless piece of historical fluff which should have gone straight to TV. There isn't even one good word I can say about this film. Even the usually fantastic Rush seems embarrassed to be here. When one of the characters comments that there is only 2 bullets left for him and his pal, I myself was wishing I had a gun to blow any memory of this film out of my head!\n",
      "* * * * * * * * * \n",
      "6397\n",
      "This seemed to be a good movie, I thought it would be a good movie, and throughout the movie I was hoping it would be a meaningful use of my time, and yes, I have to admit that the acting talent of Dimple Kapadia and Deepti Naval where truly commendable, but despite the best effort this movie falls short of effectively conveying a meaningful message, which it seems is it seemed was what Somnath Sen is trying to do. The final point comes short and the ending seemed kind of unsatisfactory after all that happens; a bit like real life in that respect but movies unlike real life ends in about 2hrs and the ending should leave the audience satisfied, if indeed that was the director's intention. This falls short in that respect and that is what disappoints me the most.<br /><br />Another aspect that concerned me was the national stereo-typing of the American characters - they all seem to be carved out of the same block. Seems to me that most American characters in Indian English movies are based upon how common Indians themselves perceive Americans to be like and it is clear that no effort has been made to bring any sense of depth or complexity to any American in the movie.<br /><br />These two aspects put together they make for a disappointing story.\n",
      "* * * * * * * * * \n",
      "6453\n",
      "I've rarely been as annoyed by a leading performance as I was by Ali McGraw's in this movie. God is she bothersome or what?! She says everything in the same tone and is horrible, so horrible in fact that, by contrast, Ryan O'Neal is brilliant. <br /><br />There is not much of a story. He's rich, she's wooden, they both have to Sacrifice A Lot for Love. His father is Stonewall Jackson, hers is called by his first name, in case you didn't notice the Difference in The Two of Them that They Overcame in the Name of Love. <br /><br />The Oscar nominations for this movie indicate it had to have been a bad year. John Marley is fine as Wooden's father, but a Supporting Nomination? At least Ali didn't win. <br /><br />I still think Katharine Ross should have played Jennifer, but then again, if it were up to me, Katharine Ross would have been in a lot more movies. She's certainly a better actress than McGraw. <br /><br />I didn't even cry when she got sick, never occured to me to even feel sad. <br /><br />It was nice to see Tommy Lee Jones looking like he was about 15, and the score is good. But this one is so old by now it has a beard a mile long, and the sin of that is its not that old, but it feels it.\n",
      "* * * * * * * * * \n",
      "6623\n",
      "Basically a typical propaganda film for the last good war. But there were a couple things that struck me. First was the use of mouthed epithets. In two cases the Scott character mouths one, once at the beginning when he drops his bomb off target during the bomb-off (\\dammit\\\") and once when he is trying to sway a bombardier into being a pilot (\\\"s*%t\\\"). I could be wrong about the second instance but I replayed it several times and that's what it looks like to me. The third case is when the Anne Shirley character wishes the O'Brien character goodbye and good luck (\\\"Give 'em hell\\\") over the roar of the engines. She must have thought that was too unladylike because she clearly says \\\"heck\\\". I also found interesting the character that has moral problems with bombing, specifically bombing civilians. The avuncular superior officer assures him that only military targets will be hit due to the precision of the bombsight used. Given what we know about the LeMay's later strategy of firebombing Japanese cities into oblivion this scene plays with not a little irony. I remember McNamara's quoting of LeMay in \\\"The Fog of War\\\", something to the effect that if the US did not win the conflict he would be tried as a war criminal. The ending is way overwrought, in keeping with the movie. It reminded me a bit of the end of White Heat (I'm not comparing the films, just the ending!). Maybe it's just 'cause he gets blowed up. Blowed up real good!!!\"\n",
      "* * * * * * * * * \n",
      "6707\n",
      "I really hate this show! I had watched one episode, and I knew this show is really terrible. The story lines are both poorly written and executed and the jokes are really bad...I mean it is just a sh++ty rip-off of Dexter's Laboratory and Johnny Quest, 'bout an obnoxious boy with flamed blond hair with his twin genius sisters and talking dog; a stay-at-home dad and a smart, super-busy mom...Like oh-my-flippin'-God! Their dad is a mother-f**kin' crazy home-maker, isn't that so gay! If my dad is a home-maker, I would personally die! Of shame that is...Really I would.<br /><br />I have nothing else to about this...this travesty but only 3 word; count them 3 words to describe it:<br /><br />· Lame, · Stupid, and above all... · F**K UP! That's all I could say folks, it is definitely making my list of worst animated series EV-ER! If I had one that is.\n",
      "* * * * * * * * * \n",
      "6800\n",
      "My first review of 2010 is \\Into The Blue 2: The Reef\\\". The story is about two divers played by Chris Carmack and Laura Vandervoort who love to explore hidden treasures at a bottom of a local reef. One day after a day of exploring they are approached by a couple played by David Anders and Marsha Thomason. They tell the young divers that they want to hire them to explore the reef and find a rare artifact about Columbus' hidden treasure that is reported at the bottom of the reef.<br /><br />Next day the four dive to the bottom of the reef and of coarse after a whole day of diving they find nothing. A few more days past and the two hired divers found out that they a part of a major deadly plot in which they can't escape otherwise they will be killed. They were hired to find two big containers. One contains a nuclear reactor and the other contains a core.<br /><br />The movie also has a back story about another person (brother of the lead character) trying to patch things up with his girlfriend, I reckon this part of the story was a waste of time, this also includes a very steamy sex scene between the couple which to me is a complete waste and wasn't needed to be shown.<br /><br />However apart from that, this movie does have some good underwater photography and the colors blend in well which is why it receives 4 stars. Into The Blue 2 is a sequel only by name. None of the original actors or characters return, it has a dumb plot, stupid characters and a boring climax.\"\n",
      "* * * * * * * * * \n",
      "6887\n",
      "Really. Does any week go by that Oprah doesn't remind us that she was abused as child?<br /><br />She makes herself the focus of every interview.<br /><br />Oprah cannot resist commenting on the answer to every question she asks. She often interrupts guests before an answer is finished to interject her own aside or anecdote. Directors are obviously instructed to focus on her closeup reaction rather than guest's faces because that's what counts - what Oprah feels, what Oprah says.<br /><br />Oprah, Oprah, Oprah. It's always all about Oprah.<br /><br />Oprah says - Feel sorry for me, I was so poor. Feel the pain of my battle with my weight. Feel my hurt when I'm turned away from a fancy store after they've already closed. Feel good for buying my magazines and books. Feel good for my success. Feel good when you give to my charity to make me look good. Feel good for making me rich beyond belief.<br /><br />My interpretation of her point of view: YOU VIEWERS ARE ALL DEEPLY FLAWED AND YOU NEED MY DAILY ADVICE. I have all the answers for your life though I have nothing in common with you plebes. I have never been married nor do I want to be. I have never had to raise a family - but I know all about it. I have little respect for men or marriage. I clearly prefer people like me over others - witness \\Legends Ball 2006\\\". Gayle is my best friend but we are not gay.<br /><br />As of 7/31/2006, the heading on her website actually reads : \\\"Oprah.com is your leading source for information about love, life, self, relationships, food, home, spirit and health.\\\" How presumptive and obnoxious is that ? <br /><br />In June 2006, she crashed two private wedding receptions in Oklahoma to gather footage for her September 2006 shows. She keeps promising to quit TV but her yapfest drags on with no end in sight.<br /><br />Contrary to what she thinks, Oprah is neither a queen nor a goddess nor on a personal mission from God. She's just one very lucky, overweight, black woman who copied Phil Donahue's style and called it her own. She happened to be in the right place at the right time and knew exactly how to suck up to the right demographic. <br /><br />Oprah is the P.T. Barnum of this age and it amazes me that people cannot see through her facade. <br /><br />So ladies and gentlemen, boys and girls and you too Oprah if you can fit that inflated ego through the door - This way now to the great egress ...\"\n",
      "* * * * * * * * * \n",
      "6980\n",
      "As someone who likes chase scenes and was really intrigued by this fascinating true-life tale, I was optimistic heading into this film but too many obstacles got into the way of the good story it should have been.<br /><br />THE BAD - I'm a fan of Robert Duvall and many of the characters he has played, but his role here is a dull one as an insurance investigator.<br /><br />The dialog is insipid and the pretty Kathryn Harrold is real garbage-mouth. From what I read, there were several directors replacing each other on this film, and that's too bad. You can tell things aren't right with the story. I couldn't get \\involved\\\" with Treat Williams' portrayal of Cooper, either. He should have been fascinating, but he wasn't in this movie. It's also kind of a sad comment that a guy committing a crime is some sort of \\\"folk hero,\\\" but I admit I wound up rooting for the guy, too.<br /><br />Not everything was disappointing. I can't complain about the scenery, from the lush, green forests of Oregon to the desert in Arizona.<br /><br />I'd like to see this movie re-made and done better, because it is a one-of-a-kind story.\"\n",
      "* * * * * * * * * \n",
      "7024\n",
      "There is no way to avoid a comparison between The Cat in the Hat and The Grinch Who Stole Christmas, so let's get that part out of the way. First of all, let me start by saying that I think Grinch was an underrated and unappreciated film. Cat was... well, just awful.<br /><br />Jim Carey was cast because he is a brilliant physical comedian, and fearlessly commits to over the top, outrageous characters. Mike Myers fell back on his old bag of tricks.<br /><br />Why, why, why Mike Myers?? The kids could care less, and the Austin Powers demographic isn't going to spy this film. So, what was the studio thinking?<br /><br />The Cat was also apparently related to Linda Richmond. Can we talk? Why a New York Accent? Not entirely consistent with anything Dr. Seuss has ever written. Myers was even allowed to sneak in his Scottish shtick. I wonder how many different voices the director and the studio tried to edit out of before they just gave in and said \\as long as you don't say fahklempt', you can keep the accents.\\\" Meyers never seemed to find any sort of comfort, either with the costume, make-up, or dialogue.<br /><br />The jokes, what few there were, were crude and age inappropriate. When Myers picks up a garden hoe and delivers to the camera: \\\"dirty ho\\\", everything but the rim shot was missing, and even that wouldn't have helped.<br /><br />The same folks who created 'Whoville', clearly had a hand in the creation of the town and the houses in 'Cat'. The sets and props were very appealing, giving the viewer a much needed distraction from the bad writing, direction, and Myers.<br /><br />There was some fun to be had with Alec Baldwin and Kelly Preston. Dakota Fanning was the only actor who seemed to be aware she was in a movie based on a Dr. Seuss classic, and stayed true to the genre.<br /><br />Call the SPCA. This Cat should be neutered and never be allowed to reproduce again. Please, please, no sequel.\"\n",
      "* * * * * * * * * \n",
      "7314\n",
      "Apparently most viewer knows nothing about the history of Europe, including Germany, Hungary and the whole Central and Eastern Europe as well as the Hitler and Stalin Era. Nuremberg (and a lot of forgotten trials all over Europe) was a revenge and injustice of the winners. What do you think, why were not any American, British, French or Soviet defendants after the WWII? There were no American, British etc. war crimes? There were no Hiroshima, no Nagasaki, no Tokyo, no Dresden, no Hamburg, no Berlin, no Katyn and so on? The Germans had war crimes too, but in Nuremberg the justice was not a real consideration. The main point was: Vae victis! Germany must perish! (That was also a book title in America, 1941.)<br /><br />This film is an awful, ignoble American brainwashing instrument, full of error, lie, propaganda, prejudice and injustice. And first of all: full of hypocrisy. But not surprisingly... Why wasn't enough the Nuremberg process itself? This film is a nightmare. Total darkness after 60 years! This darkness (and hate and narcissism and lack of self-criticism) is the real cause of the massacres in Korea, Vietnam, Cambodia, Serbia, Iraq and so forth. And there are no American war criminals... Bravo, America! Very clever. Even Stalin would become envious of it...\n",
      "* * * * * * * * * \n",
      "7331\n",
      "I have a nice collection on movies going, and this one was added to it. Number 274 to be exact. <br /><br />The title had me going at first. Splatter University. I thought this would be a great horror movie. Was I ever wrong. Don't get me wrong, this is not the worst movie I have ever seen, but it could have been a lot better. I love all movies, but this one was one that was more of a laugh then a scare. <br /><br />Poor audio quality, poor acting, and poor shot arrangements are some of the areas that could have been improved. 3 out of 10 stars.<br /><br />Movie is ideal for a good laugh. If your looking for one of those movies to make fun of, then this is one!\n",
      "* * * * * * * * * \n",
      "7463\n",
      "This is easily the worst Ridley Scott film. Ridley Scott is a wonderful director. But this film is a black mark on his career. Demi Moore and Viggo Mortensen, both totally miscast in an overaggressive film about a girl going to the army. Very stupid. And there is never one scene that is convincing in any way. It is really not difficult to make a film such as this. Everything the crew makes could have been an idea of just anybody. The writers didn't have much inspiration either; many foolish dialogs that made no sense at all; and some brainless action. I strongly recommend to stay away from this rubbish. I hope that the many talented persons involved in this project realize this type of film does not deserve their attention, and that in the future they will work on more honorable and more intelligent movies than this useless mess.\n",
      "* * * * * * * * * \n",
      "7486\n",
      "This movie is similar to the play entitled 'Blithe Spirit' written by Noel Coward. The plot of a ghost wife and a medium are strongly linked to Coward's writing. I'm surprised that movies of this nature don't acknowledge the original writer's concept. I realize that the public may not be aware that this is a knockoff but it is.<br /><br />Sad. These movies are so expensive to produce. I do perk up when a screenplay is original. I even perk up when it's an innovative way to produce a work that was previously released. There were some samples mentioned (such as Topper, etc.). <br /><br />I realize that movies are still a comparatively affordable form of entertainment. However, I'm not please when the public's taste is taken for granted. In this situation, the public's taste is overlooked.<br /><br />I look forward to better produced movie entertainment.<br /><br />In this case. I rather see the play.\n",
      "* * * * * * * * * \n",
      "7553\n",
      "Bruce Lee was a great martial artist, but this film still is probably one of the worst films ever made. It has Bruce Lee die as the result of falling off a helicopter after being hit by some kind of a ninja knife to the back of the neck but it doesn't explain how he came to be on a helicopter since the prior scene has him near but not on the helicopter which is already 200 feet in the air. It just gets downright absurd from then, like something out of a cheap comic book. Maybe the idea isn't so rotten but it isn't done with any degree of artistry from a film making point of view. There are dozens of such martial arts bombers out there, usually all made in Hong Kong. I think that Jean Claude van Dam improved the genre with adding plausible stories in his films and having film makers who know how to use the camera. Even Steven Seagal's films are way better than 90 percent of the martial arts junk movies made during the 1970s and early 1980s in Hong Kong. 'Game of Death II' falls into the category of junk cinema in my opinion, despite Bruce Lee being in it.\n",
      "* * * * * * * * * \n",
      "7566\n",
      "This movie barely followed the story line of the movie. All of the fascinating points in the book didn't even exist in the movie. They ended up turning it into a cheesy \\tween\\\" Disney movie \\\"crush\\\" story between Meg and Calvin. It was so bad it should have been Hillary Duff playing the part, or one of the likes. This movie was nothing more than an insult to the intelligence and mysticism of the book. I can't believe Disney could even get away with making such a cheap, basic rendition. If you've ever read the book, I think you would agree it could easily be made into a movie of \\\"Lord of the Rings\\\" equivalence. This movie should have never been able to use the title of A Wrinkle in Time. Poorly done.\"\n",
      "* * * * * * * * * \n",
      "7656\n",
      "When I heard the plot for this movie I simply had to see it, I mean whole cities being wiped out by killer tomatoes! Sadly the title is about as funny as it gets.<br /><br />Led by Detective Dick Mason, a special team of military and scientists (including Greg Colburn who never takes his SCUBA outfit off and Lt. Finletter who is never pictured without his parachute trailing behind) 'Attack Of The Killer Tomatoes' is a parody of B-Movies, in particular Japanese horror of the 1950's. The film begins with a standard sized tomato being discovered by a women washing up in her kitchen before we find ourselves in a middle of a crime scene as the tomato has supposedly murdered this lady, and let me tell you it doesn't get any saner as the film progresses! To be fair there are a couple of funny moments, for instance anytime the Japanese scientist Dr Nokitofa speaks his voice is dubbed over in an American accent, or when disguise expert Sam Smith infiltrates the tomatoes 'hey, can somebody please pass the ketchup?'. Equally this film was probably a lot funnier in 1978 with the whole so bad its good concept. Unfortunately for 'Attack Of The Killer Tomatoes' spoof films such as the 'Airplane' and 'Naked Gun' series have been released and done this kind of comedy a lot better since.<br /><br />The acting is atrocious; there is zero continuity in the editing and it just feels genuinely slow and lacking energy. For a parody film to work you need a lot of things happening at once, one gag after the over. The singing in the film seems pointless and the adverts for the furniture store that flash across the screen are damn right bizarre, even for this film. Ultimately, however, you can see why this film is a cult one; I can't see many people being indifferent to it. Unfortunately terrible would be the way I would sum this up.\n",
      "* * * * * * * * * \n",
      "7669\n",
      "It's not so much that SPONTANEOUS COMBUSTION had little potential. Indeed the under-explored title phenomenon is quite intriguing and, for at least the opening half, this Tobe Hooper effort promises to entertain in a way only cheesy '90s horror can. But somewhere between Brad Dourif's on-again-off-again performance and the overly intricate plot, this would-be thriller loses its way.<br /><br />Dourif, featured here before his built-in horror fan base had accumulated, is average guy Sam. Of course average guys don't stay average for long in horror movies, so after a well-done origin outline, we see Sam's various body parts start to ignite. Soon he's igniting other people, too, much to the consternation of gal pal Lisa, played unmemorably by Cynthia Bain.<br /><br />While the title of the film implies a fire-happy monster on the loose, director Hooper opted to make Sam an unwilling killer. This approach gives the film an added human depth it would otherwise lack, but it also prevents us from truly fearing the human flamethrower. We're left wondering whether this would have worked better as a straight-up villain-versus-everyone effort ala NIGHTMARE ON ELM STREET.<br /><br />SPONTANEOUS COMBUSTION is a pretty nominal effort when all is said and done. It will carry added appeal for Dourif's fans and those who can't get enough 1990s horror, be it good, bad or in between, but only on a slow night.\n",
      "* * * * * * * * * \n",
      "7680\n",
      "this is the first time I'm writing a comment on a movie on IMDb. but i had to write it for this one. its 3 hrs of unadulterated torture. from the starting u get the idea that the movie is gonna be bad. the acting is pathetic. I'm a big fan of Ajay devgan (loved him in bhagat singh) but he is at his worst in this movie. amitabh seems to have worked hard for this one, but somehow the fear is missing. prashant raj is a non actor. and the most irritating part of the movie is nisha kothari. i have no clue why the director took her in this movie. the background score is repetitive. somehow i felt that ramu tried to repeat a sarkar, the color theme, the background score, the camera angles, but it didn't work. PLEASE Don't WATCH IT\n",
      "* * * * * * * * * \n",
      "7769\n",
      "I really wanted to like this movie. I absolutely love kenny hotz, and spenny rice has a charming side to him. Not that I like spenny at all. Spenny ruins this movie. He should of let kenny and his hot girlfriend pitch the movie.<br /><br />Anyways, it's pretty boring aside from a scene with Roger Ebert in it. There really isn't too many celebrities in this movie, and most don't seem to say more than one line. Overall this movie was disappointing. I would only suggest watching it if you got it with the season 1 DVD of kenny vs spenny (it comes for free on the 3rd disc). Regardless of this production, I am still very excited to check out The Papel Chase.\n",
      "* * * * * * * * * \n",
      "7910\n",
      "Many people like to point to this TV movie when arguing with the vast legions of Hanks-philes out there that Tom did in fact make crappy films (I think \\Bachelor Party\\\" was great, but that's another story). The movie focuses on a \\\"Dungeons and Dragons-style game\\\" that eventually drives our young Gump to hallucinatory madness. The story is charmingly early 1980s, focusing as it does on the imminent threat to our youth posed by those evil role-playing games.<br /><br />I, however, prefer to view \\\"Mazes and Monsters\\\" as the turning point in the \\\"Whatever Happened to Chris Makepeace?\\\" story. we all remember him as 'Rudy the Rabbit' in \\\"Meatballs\\\" and as the hapless Clifford in \\\"My Bodyguard\\\", where he gave us all a vicarious thrill by beating the crap out of Matt Dillon. Few could argue (especially those of us who read \\\"Dynamite!\\\" on a regular basis) that great things were in store for him.<br /><br />And then came Rona Jaffe. The line between bad acting and bad writing is razor thin, so I leave it to you to decide whose fault Makepeace's performance in this is. All I know is that the last major release I saw him in was \\\"Vamp\\\", and that was 1986. He had a small role as Sean Penn's brother in \\\"Falcon and the Snowman\\\", but by that time the Brat Pack torch had been passed to others with straighter hair and flashier resumes.<br /><br />I can't in good conscience recommend this movie. Watch it if only to see a younger, more idealistic Chris Makepeace, before Rona Jaffe feasted on his soul.\"\n",
      "* * * * * * * * * \n",
      "8047\n",
      "Martin Weisz, who directed the solid \\Rohtenburg\\\", will be taking the heat, with Wes Craven, for another shabby \\\"The Hills Have Eyes 2\\\". The memory of the legendary original, which boasted an unbelievable storyline and a dog having a flashback, will be erased forever by this more technically polished remake (in name only). A bunch of National Guardsmen (and women) are sent to a desert research area surrounded by hills filled with mutants. One by one the weekend soldiers are picked off. That's it. There is some hardcore violence and a reasonably brutal rape scene, but there is precious little else to get excited about. The film's \\\"heroes\\\" are the usual bunch of clichés and the mutants, a far cry from Craven's original \\\"family\\\", mostly resemble Brian Thompson from \\\"Cobra\\\" coupled with some creatures Stan Winston had left over from the \\\"Wrong Turn\\\" shoot. Much of the action takes place in caves, ala \\\"The Descent\\\", and is well shot by Sam McCurdy. A laughable aspect is Wes and Jonathan Craven's addition of a sympathetic mutant who skulks around his cave like Leatherface in Hooper's original \\\"Chainsaw\\\". Weisz will be blamed for this dull debacle, but he's not really at fault because he does his best to maintain suspense and squeeze some freshness out of the contrived situations. Not a fan, unfortunately.\"\n",
      "* * * * * * * * * \n",
      "8115\n",
      "Incredible. Does it get any dumber than this? Not a chance. The stupidity in this movie would shame even Ed Wood, De Palma, and Woo. If the first part in the series had mediocre dialog and the second one had bad dialog, then this one has cretinous dialog. Amazing. But this time the story has been lowered to the level of the dialog, too. In spite of the acting and the dialog, I liked the first two films, but \\Cube Zero\\\" will surely kill the franchise. The utterly moronic plot so obviously stems from the pen of a frustrated left-winger.<br /><br />I sometimes wonder if such leftists even themselves realize just how anti-democracy and pro-dictatorship they are. In this movie they obviously target the US  a democracy. Why don't they target Korea, Iran, Syria, China, Zimbabwe etc. in anti-military movies? Sure, most of these places are hardly likely to produce a cube like this any time soon, but that's beside the point. It's obvious: writers of garbage like this actually admire these kinds of regimes, whether they are aware of it or not. I would even go as far as to say that ANYONE who adamantly attacks US foreign policies all the time, has anti-democratic beliefs in his core.<br /><br />Back to the movie: apart from being so far-fetched that it isn't even funny any more, the film has many obvious illogicalities. For example, for some reason the two men who supervise the cube have done it for a while and are oblivious to the pain and sadism that the project entails, yet the first one than the other suddenly turn against the system! Anyone who has any idea at all about human nature will see right through this idiocy. Or how about that cretinous character, the one-eyed evil bureaucrat who talks as if he's in a bad Mel Brooks comedy. In fact, as soon as this creature appears the movie loses ALL seriousness and hence any chance of being exciting: it really does become a comedy.\"\n",
      "* * * * * * * * * \n",
      "8161\n",
      "There's one line that makes it worth to rent for Angel fans. Everyone else: this is just a very bad horror flick. The female characters are typical horror movies females. They are wooden, annoying and dumb. You are glad when they are killed off. Long live the strong female character in a horror movie!!\n",
      "* * * * * * * * * \n",
      "8199\n",
      "Although THE FLOCK has some pretty good acting by veteran Richard Gere, and some okay shots that might harken some back to THE SILENCE OF THE LAMBS days, the movie stretches credibility to the breaking point and destroys itself against a plot that really leads nowhere.<br /><br />The film is about Erroll Babbage (Gere) who works for the department of safety and is preparing to retire. His office thrusts upon him his replacement, Allison Lowry (Claire Danes, STARDUST), who quickly discovers that Babbage is obsessed with his job. And that job ain't very fun. He monitors hundreds of sexual offenders who are on parole in his jurisdiction. Allison goes with Erroll on many calls to check up on his \\flock\\\" of offenders and learns that he is in desperate need of retirement. But Erroll is good at his job even if his methods aren't. He taunts sexual predators and even has physical conflicts with them. Erroll justifies his actions by bringing up these deviants' pasts. It is this \\\"good justification\\\" that challenges the audience on some level, letting us see how brutal Erroll is and yet how out-of-touch he's become (by being too close to his job).<br /><br />When a teenage girl goes missing in Erroll's \\\"area\\\", he immediate leaps to the conclusion that she was abducted by one of his flock. But how could he know? Is Erroll that good at his job? Allison challenges him and Erroll pushes back. Their battles become as fierce as Erroll's need to find this missing girl.<br /><br />Although the set-up for the story was okay, it didn't have any umpf! I will give credit to Richard Gere, however, who plays the Erroll character very well. Battling retirement. Worried about everyone who's near his flock. Disgusted with those he's responsible for overseeing. Disgusted with himself for having to do some of things he does. Quite a change in character portrayal for Gere. But beyond him there's not much else. Some of the sets are okay (dark and dangerous) but there are so many other problems as to be laughable.<br /><br />I'll be the first to admit that suspending disbelief is a requirement whenever watching films. But that suspension has limits. The biggest push against those limits is the destruction of EXTREMELY vital crime scenes. Someone as meticulous as Erroll would KNOW that moving a body would be a huge no-no. Or trampling through a crime scene. Or moving evidence. It went beyond and hurt the film to no end.<br /><br />The other damaging part of this film is that we never get into Clair Danes' character, Allison. She's almost dropped by the wayside at the end of the film and we're never privy to what her intension might be: Will she stay or leave? Will she end up like Erroll if she does stay? This isn't a horrible film as it does touch on some uncomfortable moral ground, but the story as a whole needed to be tightened up.\"\n",
      "* * * * * * * * * \n",
      "8253\n",
      "I just finished watching this movie and I found it was basically just not funny at all.<br /><br />I'm an RPG Gamer (computer type, none of the DnD tabletop stuff) but I found none of the jokes in this funny at all.<br /><br />Some of the scenes seemed to drag out a lot (tilt and zoom could've been cut down to 5seconds rather than over a minute) and it feels as though the director was just trying to fill in time.<br /><br />I think I laughed a total of 2-3 times in the entire movie.<br /><br />The acting itself wasn't all that bad, around the standard that a B Grade movie should have.<br /><br />I'd suggest not bothering with this movie unless you're a huge DnD fan and even then it would probably be best to steer clear of it.\n",
      "* * * * * * * * * \n",
      "8376\n",
      "This one is a real bomb. We are supposed to believe that Merle Oberon is the sequestered daughter of an ambitious politician who must prove to the Tom DeLay of the 1930s that he is worth supporting as a presidential candidate. Poor Merle can't go anywhere, but is surrounded by politicians and their quacking, quaking wives and supported only by kindly uncle Harry Davenport. She joins her two maids on a blind date and Gary Cooper happens to show up. Some shots of rodeo might have enlivened things, a la \\Misfits,\\\" but no such luck with this one. Gary later breaks in to a formal dinner, at which Merle is presiding, and, though invited to sit down and join the group, reads them a lecture on their snobbery. Where did this diffident cowboy's sudden eloquence come from? The most excruciating scene in the film is a phantom party that Gary holds in his unfinished house for his absent wife, Merle. Will it never end? One to avoid.\"\n",
      "* * * * * * * * * \n",
      "8460\n",
      "This was an impulse pick up for me from the local video store. Don't make the same mistake I did. This movie is tedious, unconvincingly acted, and generally boring. The dialogue between the young priest and his uncle is particularly poorly written and delivered; I cringed at every scene they shared. Dennis Hopper makes a few sparse appearances and is his usual disjointed self; his role was clearly not a stretch for him. And although the movie is supposedly set in Puerto Rico, it feels a lot more like a Hollywood movie lot; all of the main characters are Caucasian and several tend to speak English with pseudo-Irish accents. Odd. Anyway, when you see this one on the shelf of your local video store, keep walking.\n",
      "* * * * * * * * * \n",
      "8462\n",
      "When I was seventeen I genuinely believed Elvis to be the king of rock and roll, and not only did I wish to see all 31 of his \\character\\\" movies, but it was my ambition to own them, too. What an exceptionally poor excuse for a seventeen-year-old I must have been. Thankfully sense prevailed and Live A Little, Love A Little is the only Elvis film I own.<br /><br />The spotlight has fallen on this one recently since a remixed version of top song A Little Less Conversation has been released as a single. (His first to reach the UK top ten in 22 years  his first UK No.1 in 25) Even when I was seventeen and in serious need of psychiatric help I realised that the songs for this movie weren't exactly first rate. However, A Little Less Conversation - rollnecks and 60s grooving aside - is a real standout. Finding a lesser-known song that only a relatively small few are aware of promoted into the mainstream produces a mixture of emotions. It's nice to finally see faith in a song vindicated, but it's also saddening to see the disintegration of your own private cult. (And what chauvinistic lyrics, too. Though what other Elvis song contains the word \\\"procrastinate\\\"?)<br /><br />But what really bothers me about this film is not A Little Less Conversation but the 84 minutes that surround it. Actually based on a novel (Kiss My Firm But Pliant Lips - what kind of lame novel would that be?) this one sees a bored Elvis holed up with a \\\"comedy\\\" dog and a nympho. Within 90 seconds of meeting him, Michele Carey asks \\\"would you like to make love to me?\\\" Quite a fast mover by any standards I'm sure you'll agree.<br /><br />I do seem to recall that some of Elvis's early movies - most notably Jailhouse Rock and King Creole - weren't too bad, but this is just identikit hillbilly cobblers. Being fired from a newspaper job can lead to a five minute karate fight with a couple of gingernuts, causing a motorway pile up is good for a laugh, and models dress as pink mermaids. There's even a dream sequence for God's sake. Maybe the only dumb stereotype it doesn't conform to is in not having all that many songs. With just four to choose from, including the credits number, you're waiting an average of 22 minutes between tracks. Some movies would become vapid by having too many tunes, but here they might have helped to have numbed the pain. Of the remaining three tracks, then The Edge of Reality isn't actually that bad, though Elvis's dance to it must surely have been called \\\"The Bear Trap\\\".<br /><br />In one sense, for a PG certificate film from 1968 then this is shockingly high on sexual content. Sadly, however, with talking dogs, Middle America sitcom values and the stiffest dancing you'll ever see, Elvis's dignity is obliterated by this movie.\"\n",
      "* * * * * * * * * \n",
      "8483\n",
      "I'll be blunt. I'm not one for politically correct movies where the woman plays the bad ass who's not going to take any crap from anyone. If any one of the cast members wanted to, they could have just taken her out in a heartbeat. It was entertaining on MST 3K, but don't rent the real version. Trust me. Have I ever lied to you?\n",
      "* * * * * * * * * \n",
      "8488\n",
      "This was an incredibly stupid movie. It was possibly the worst movie I've ever had the displeasure of sitting through. I cannot fathom how it ranks a rating of 5 or 6.............\n",
      "* * * * * * * * * \n",
      "8520\n",
      "'The Fox and the Child' is the new film by French director Luc Jacquet, who brought us the Oscar-winning documentary 'March of the Penguins.' It focuses around a young girl (wonderfully played by Bertille Noël-Bruneau) and her blooming friendship with a fox.<br /><br />There are some truly mesmerizing moments here; badgers mucking about, a lynx chasing the fox through a snow-littered forest; one scene in particular when the fox is being tormented by a pack of wolves is quite intense and even frightening at times. However, there's simply not quite enough of them.<br /><br />Beautifully shot; the cinematography is dazzling. The bubbly kind of look of the film is wonderful. It's undeniably a very lush production.<br /><br />The English version is narrated by Kate Winslet, but what little dialogue there already is has been very poorly dubbed. The score is also far too fluffy, or at least it is for my liking; and the screenplay, while subtle, seemingly jumps from one scenario to another, ultimately leaving me almost baffled.<br /><br />While there's a nice moral at the heart of the film, and the rather quiet performance from Noël-Bruneau is quite lovely, the real star is the fox. Those captivating moments focusing solely around our furry little friend are tremendous. However, again, there's simply not nearly enough of them.<br /><br />- To keep up to date with all the latest in film, including reviews, news, discussions and more, be sure to visit www.mybluray.com.au\n",
      "* * * * * * * * * \n",
      "8528\n",
      "Sadly, more downs than ups. The plot was pretty decent. I mean, nothing out of the ordinary, but it had a story, unlike the other modern horror flicks. The other good thing was the cast. I'm not saying that the acting was good, because it wasn't, but every actor/actress was hot and attractive.<br /><br />One of the downs are that the movie only become exciting after the first 40 minutes or so. The rest was quite boring. Another down (or you could consider it an up if you want) is the excessive nudity. All 4 girls were topless for a few minutes, and all the guys showed their butts for a long time. It's not that I'm against nudity, but this was a horror movie, not 'The Dreamers'.<br /><br />Unless you're very desperate to watch some guy take off his swimsuit and run around naked for a few minutes, or watch a girl get naked for no reason, or you're a die-hard fan of Debbie Rochon, than this is the movie for you. But if you're looking for a good horror movie, stay away.\n",
      "* * * * * * * * * \n",
      "8565\n",
      "I rented it because the second segment traumatized me as a little kid. I snuck downstairs really early one morning, started watching HBO, and The Raft (segment 2) terrorized me good. This time around, I still enjoyed The Raft, although I couldn't tell whether it was for nostalgic reasons or if it was actually a good short. The other two segments were complete trash. I can't believe a producer somewhere payed to make this junk. All I've accomplished by watching this was to ruin one more childhood memory. Creepshow 2 will now join Rad among my list of tainted childhood classics. 4/10\n",
      "* * * * * * * * * \n",
      "8583\n",
      "Trite, clichéd dialog and plotting (the same kind of stuff we saw all through the 1980s fantasy movies), hokey music, and a paint-by-numbers characters knocks this out of the running for all but the most hardcore fans.<br /><br />What saves this film from the junk heap is the beautiful crutch of Bakshi's work, the rotoscoping, and the fact that Frank Frazetta taught the animators how to draw like him. This is Frazetta...in motion. The violence is spectacular and the art direction and animation are unlike any other sword & sorcery movie of the period.<br /><br />I like to watch this with the sound off, playing the soundtrack to the first Conan movie instead.\n",
      "* * * * * * * * * \n",
      "8588\n",
      "Considering its pedigree, this should be a far more enjoyable film than it is. Even with a lip-smacking collection of eccentrics in the cast - what aficionado would not eagerly anticipate a movie which brings together Lemmon, Lanchester, Kovacs and Gingold? - the entire event is dully paced, drearily shot and, more often than not, witless.<br /><br />Kim Novak's gifts were not essentially comic, as she went on to confirm in Kiss Me Stupid. James Stewart was a fine comedian, as he ably demonstrated in movies from ranging from The Philadelphia Story to Harvey. I think he comes out better from this mess than anyone else does. Except maybe the cat.\n",
      "* * * * * * * * * \n",
      "8680\n",
      "This insipid mini operetta featuring a Eddy-McDonald prototype in a Valentino scenario is so bad it becomes an endurance exercise after five minutes. It's silly from the get go as this brevity opens two military men discussing the lack of manliness in the son of one of the officers. In under a minute he is packed off to Morrocco where he lives a double life as the Red Shadow; the leader of an Arab tribe that would rather sing than fight.<br /><br />Alexander Gray and Bernice Clare possess fine light opera voices (with little acting ability) and there's a decent bass in there as well but the acting is so haphazard scenes so ill prepared you get the feeling they are making things up as they go along.<br /><br />This two reeler was part of a larger stage production that lists six writers. With more room to spoof and warble the show may have had some entertainment values but this rushed quickie is little more than an insult to an audience waiting for the feature presentation.\n",
      "* * * * * * * * * \n",
      "8753\n",
      "Violence whether real or not always has an impact. In this film the violence is about as crass as you could ask for. In the Great Ecstacy the director has successfully demonstrated what extremes of violence people are capable of. But what was the point? The violence looks like a mix of Noë's 'Irreversible, and ' Kubrick's 'Clockwork Orange'...both of which are remarkable films. Don't get me wrong, I'm not opposed to screen violence at all and I've seen some nasty stuff in my film-going years, but this film as a whole is totally juvenile. The story is never developed enough to offer any reason for the extreme violence, the rizla paper thin reason we are give for Robert's demise is his introduction to drugs. Danny Dyer plays the character who is partly responsible for Robert's drug fuelled demise, however he is on screen for less than 5 minutes. Lesley Manville is Robert's unable to cope mum, I am not sure what either of these actors is doing in a film of this low caliber. The acting is wooden, the scene in the kitchen with the TV-cook and his wife for instance is as painful to watch if not more so than the shocking finale- who wrote those dialogues?! Some of the comments the boys make...'looks like she's enjoying it' are so trite as to tempt one to laugh if it were not for Clay's ardent desire to bombard us with harrowing images of mutilated female genitals. Why we need to be shown such detail possibly down to the director's adolescent obsession with sadistic pornographic imagery...one can only wonder at this young man's psychology.<br /><br />The 'political meaning' of the film was repeatedly brought to our attention due to the amount of scenes; in the bar, outside the TV-cook's house, war in Iraq reports, was perhaps too obvious in my opinion. Yes, war is violent, social determinism causes frustration, we're all prone to horrifingly violent acts whether you're in politics or on the street popping E. Juxtaposing all these things as part of the same underlying issue is evading the actual issue which is the meaning of violence in man. This issue is one that we still haven't managed to grasp and certainly not in this film.<br /><br />My opinion: derivative, badly-made and pointless.\n",
      "* * * * * * * * * \n",
      "8845\n",
      "May the saints preserve us, because this movie is not going to help.<br /><br />Someone with access needs to e-mail Mel Gibson and tell him we need a faithful production of Beowulf. Something that actually has something in common with the epic poem that is the foundation for all modern western literature.<br /><br />The recent (since 2000) versions of Beowulf make we wonder two things. First, why is there so much interest in the story. Second, why are all these filmmakers squandering mountains of cash on this crap.<br /><br />The only reason this got a two is that the version with Lambert in it (Beowulf 2000) was worse and needed the 1.<br /><br />What is even worse, some people will watch this and get the wrong idea about the poem. How can an industry where Peter Jackson gets a literary conversion to film so right can get it so wrong. I mean really, the Roman Forum as a model for Heorot is too much.<br /><br />And PLEASE, horns on helmets? Spare me. This is insulting.<br /><br />/hjm\n",
      "* * * * * * * * * \n",
      "8901\n",
      "Looking through the other comments, I'm amazed that there aren't any warnings to potential viewers of what they have to look forward to when renting this garbage. First off, I rented this thing with the understanding that it was a competently rendered Indiana Jones knock-off. What I got was one of the most offensive movies I can remember trying to sit through, made all the more shocking by the movie's comparatively high production values.<br /><br />I don't think this is a spoiler, but if it is, be warned...<br /><br />If your idea of entertainment is watching Bimbo getting raped from behind by Fearsome Tribal Chief, while she is staring into the dead eyes of her significant other's severed head, by all means, rent this flick. If not, I'd advise you to look elsewhere for entertainment.<br /><br />Come to think of it, that scene so succinctly sums up the movie that there's nothing else I really need to say about it.\n",
      "* * * * * * * * * \n",
      "9073\n",
      "Usually when a movie receives a vote of one it is because someone simply dislikes it and is annoyed it doesn't have a lower rating, and so decides to drag it down as much as they can instead of just giving it a low rating. This is not the case here.<br /><br />Bonesetter is a perfect example of a 0/10 film. It does nothing right and it doesn't have the chance to because it doesn't really attempt to do anything. There are strands of a bad D&D novel kind of plot which doesn't hold together and a complete lack of any kind of acting throughout. It is clear that nobody involved in this project gave it any kind of serious effort, because even a completely patently untalented persons' hard work would amount to more. A truly awful film.\n",
      "* * * * * * * * * \n",
      "9186\n",
      "I just watched this horrid thing on TV. Needless to say it is one of those movies that you watch just to see how much worse it can get. Frankly, I don't know how much lower the bar can go. <br /><br />The characters are composed of one lame stereo-type after another, and the obvious attempt at creating another \\Bad News Bears\\\" is embarrassing to say the VERY least.<br /><br />I have seen some prized turkeys in my time, but there is no reason to list any of them since this is \\\"Numero Uno\\\".<br /><br />Let me put it to you this way, I watched the Vanilla Ice movie, because it was so bad it was funny. This...this...is NOT even that good.\"\n",
      "* * * * * * * * * \n",
      "9231\n",
      "Tom Wolfe's sprawling, brilliantly observed satiric novel of life among New York snobbery gets a glossy look here but is nevertheless not well served. The film suffers not merely from the miscasting of everyman Tom Hanks as an uncaring Yuppie, Kewpie-doll Melanie Griffith as a manipulative southern belle and Bruce Willis (?!) as the darling of New York's literati. The most serious miscasting was in the director's chair. Robert Altman might have breathed life into these unlikeable characters and made them interesting, but Brian De Palma, for all of his visual sophistication, has never had an eye for the nuances of the human experience. The resulting film looks good but seems blah toward its subject of dehumanization in favor of status. Honestly, if a satire does not make the viewer angry, what is the point?\n",
      "* * * * * * * * * \n",
      "9310\n",
      "I chuckled a few times during this movie. I laughed out loud during the notarizing of the margarine company handover (pun intended).<br /><br />There are three segments in this movie. The first one is supposed to be a spoof of \\woman 'grows up' and launches career\\\" movies. The Tampax® box was the funniest thing in this segment. Most of the cast members aren't listed here on IMDb. They are the lucky ones. Few other people will be able to connect this thing to the ruin of their acting careers.<br /><br />The second segment is a spoof of \\\"sharkish woman sleeps her way to the top and seizes control of huge industry\\\" movies. Robert Culp has several funny moments, all physical humor, including the aforementioned handover. After his character dies the segment sinks lower and lower as Dominique Corsaire rises higher and higher. By the time she becomes First Lady I wanted to rip the cable out of the TV and watch \\\"snow.\\\" I switched to Pakistani music videos instead. I don't understand Urdu, or whatever language the videos were in. It was still better than listening to the dialogue in this painfully dull \\\"story.\\\"<br /><br />Then came \\\"Municipalians\\\" with the *big* stars, half of them on screen for less than a minute: Elisha Cook, Jr., Christopher Lloyd, Rhea Perlman, Henny Youngman, Julie Kavner, Richard Widmark and ... *Robby Benson.* It's supposed to be a spoof of \\\"young cop teams with hardened, substance abusing older cop who needs retirement *badly*\\\" movies. The horizontal flash bar on the police car is very impressive. It was interesting seeing old RTD buses, and a Shell gas station sign, and an American Savings sign -- none of them are around anymore. Nagurski's \\\"Never stop anywhere you might have to get out the car\\\" made me smile momentarily. Then they discuss how boring the young cop is. A lot. Back and forth about how boring he is. That was as boring as this description of how boring it is. Nagurski's Law Number Four, \\\"Never go into a music store that's been cut into with an acetylene torch,\\\" made me think that the music store is a real business at the actual location the dispatcher gave. Thinking about that was more interesting than the set-up for the gag which followed. Young Falcone (Benson) gets shot. A lot. He becomes a hardened cop like Nagurski. The segment keeps going. On and on. And on. It won't stop. It rolls relentlessly onward no matter how many times you wish he'd just *die* already so this thing will end. It doesn't. It goes on and on and on.... Then a \\\"Buffy the Vampire Slayer\\\" episode which I've seen four times already comes on. Thank God! This abysmal movie ended while I went to get the mail.\"\n",
      "* * * * * * * * * \n",
      "9374\n",
      "I cringed all the way through this movie. First of all, the idiotic plot has little to do with Parson's own story. Hollywood has attempted to create a kind of comedy car chase movie. Imagine \\Englebert Sings Hendrix\\\".<br /><br />Do not take anything about this movie to be accurate. The name Parsons in the title and stealing of his body is just used as springboard for a low budget chase movie, a blatant attempt to grab a few bucks from the Parsons legacy and his fan base. Gram's father had long since been dead in 1973, the other global characters are fictional, none of this has anything to do with Grams life or death.<br /><br />If you are a Gram fan, I advise you to not see this movie. I wish I hadn't. It's saddening to see something special be treated as such disgracing fodder. I'd swear I could hear Gram turning in his grave while the movie was playing. If you are not familiar with Gram's life and legacy, do not take anything in this movie as being representative of Gram.<br /><br />I cannot say enough bad things about this movie. If Gram were alive and saw this movie, he would kill himself. Then again, maybe he'd be afraid to if he knew this movie were to result.\"\n",
      "* * * * * * * * * \n",
      "9422\n",
      "Horrible film. About an old crusty painter who hangs around with a young girl. Boring. Tatum O Neil goes through the motions in her part, and has some of the corniest lines in film history. Richard Burton looks close to death in this film, and we're supposed to believe he looks \\Good for sixty\\\". The acting is bad, as is the plot. The characters are awful, as is the story. It's really hard to feel for anyone in this film, except Larry Ewashen who plays a guy in a porno theater who hits on Tatum, he's kind of funny. This movie is really a waste of time. If you are a Tatum fan, like me - which is why I rented it in the first place - please don't see this movie. She is really bad in it, and you'll wonder if maybe PAPER MOON was a fluke. It wasn't, because of BAD NEWS BEARS and LITTLE DARLINGS it's known she can act well, but still, don't rent this movie. And if you're a fan of Burton, rent something when he was good looking, and not a fossil.\"\n",
      "* * * * * * * * * \n",
      "9600\n",
      "I consider Stuart Bliss the worst movie I have ever seen.<br /><br />The acting was terrible and the plot ludicrous. I get the fact that the main character's wife leaving him triggered a mental breakdown, but it got so silly and boring, after a while I could have cared less about any of the characters.<br /><br />The movie kept going over and over the same ideas without anything fresh or surprising to add to the plot. The whole thing with the Geiger counter got too much after a while after Stuart started opening up his wall to see what was behind it after the counter indicated something was there.<br /><br />Then there was the repetitive scenes with the flyer, and the confusing ones where he meets himself.<br /><br />I should have guessed that this movie was a flop when I didn't recognize any of the actors. Do yourself a favor when this movie comes up, read a book! You'll be better off.\n",
      "* * * * * * * * * \n",
      "9625\n",
      "Words can't describe how bad this movie is. I can't explain it by writing only. You have too see it for yourself to get at grip of how horrible a movie really can be. Not that I recommend you to do that. There are so many clichés, mistakes (and all other negative things you can imagine) here that will just make you cry. To start with the technical first, there are a LOT of mistakes regarding the airplane. I won't list them here, but just mention the coloring of the plane. They didn't even manage to show an airliner in the colors of a fictional airline, but instead used a 747 painted in the original Boeing livery. Very bad. The plot is stupid and has been done many times before, only much, much better. There are so many ridiculous moments here that i lost count of it really early. Also, I was on the bad guys' side all the time in the movie, because the good guys were so stupid. \\Executive Decision\\\" should without a doubt be you're choice over this one, even the \\\"Turbulence\\\"-movies are better. In fact, every other movie in the world is better than this one.\"\n",
      "* * * * * * * * * \n",
      "9627\n",
      "Today I found \\They All Laughed\\\" on VHS on sale in a rental. It was a really old and very used VHS, I had no information about this movie, but I liked the references listed on its cover: the names of Peter Bogdanovich, Audrey Hepburn, John Ritter and specially Dorothy Stratten attracted me, the price was very low and I decided to risk and buy it. I searched IMDb, and the User Rating of 6.0 was an excellent reference. I looked in \\\"Mick Martin & Marsha Porter Video & DVD Guide 2003\\\" and  wow  four stars! So, I decided that I could not waste more time and immediately see it. Indeed, I have just finished watching \\\"They All Laughed\\\" and I found it a very boring overrated movie. The characters are badly developed, and I spent lots of minutes to understand their roles in the story. The plot is supposed to be funny (private eyes who fall in love for the women they are chasing), but I have not laughed along the whole story. The coincidences, in a huge city like New York, are ridiculous. Ben Gazarra as an attractive and very seductive man, with the women falling for him as if her were a Brad Pitt, Antonio Banderas or George Clooney, is quite ridiculous. In the end, the greater attractions certainly are the presence of the Playboy centerfold and playmate of the year Dorothy Stratten, murdered by her husband pretty after the release of this movie, and whose life was showed in \\\"Star 80\\\" and \\\"Death of a Centerfold: The Dorothy Stratten Story\\\"; the amazing beauty of the sexy Patti Hansen, the future Mrs. Keith Richards; the always wonderful, even being fifty-two years old, Audrey Hepburn; and the song \\\"Amigo\\\", from Roberto Carlos. Although I do not like him, Roberto Carlos has been the most popular Brazilian singer since the end of the 60's and is called by his fans as \\\"The King\\\". I will keep this movie in my collection only because of these attractions (manly Dorothy Stratten). My vote is four.<br /><br />Title (Brazil): \\\"Muito Riso e Muita Alegria\\\" (\\\"Many Laughs and Lots of Happiness\\\")\"\n",
      "* * * * * * * * * \n",
      "9727\n",
      "I have three comments to make about this film, which I discovered hanging out forlornly in a lower shelf at Blockbuster. First off, it is interesting to see the approaches film makers take in trying to film essentially unfilmable works. Some have, as Kubrick did with \\Lolita\\\", gotten the original author to write a screenplay that is something like the original work. Of course that can't happen here; Kraft-Ebing is long dead. Some have used the premises of the original work as a launch point to go in a completely new, unrelated direction (the recent adaptation of \\\"Tristram Shandy\\\" comes to mind here). You can dumb it down - the film of \\\"Slaughterhouse Five\\\" is to my mind an example of that. Or you can simply take the format of the original and try to render it in cinematic vignettes. That would be the approach of Woody Allen's \\\"Everything You Wanted to Know About Sex\\\", and, arguably, this film. Upon consideration, it is probably the only thing one can do with a scholarly work like \\\"Psychopathia Sexualis\\\". The potential loss is that whatever cumulative point the original work had is obscured or destroyed. And so it is here.<br /><br />Point two is the cinematic style. Some would call it an \\\"homage\\\" to Murnau, Pabst, Carl Dreyer, etc., but I think it more crude than that. Its far too heavy handed and self-conscious to be effective for long. It is eventually just annoying.<br /><br />Point three is perhaps a less intellectual observation. How did the people responsible for this manage to make a film about wild sexual deviations and perversion that is so incredibly boring? I found the film impossible to pay attention to, and anyone who is not automatically drawn to depictions of sexual deviance will find it so as well. I don't want to be completely uncharitable and say the film is pointless, but I have to say that whatever point the film makers had is rather obscured by the nature of the source material, the overt copying of filmic styles, and the stubborn refusal to engage the audience on an emotional level (possibly for fear of being accused of titillation).<br /><br />The film is a dubious exercise from the start and doesn't really work for me, I'm sorry to say.\"\n",
      "* * * * * * * * * \n",
      "9759\n",
      "Unless somebody enlightens me, I really have no idea what this movie is about. It looks like a picture with a message but it´s far from it. This movie tells pointless story of a New York press agent and about his problems. And, that´s basically all. When that agent is played by Pacino, one must think that it must be something important. But it takes no hard thinking to figure out how meaningless and dull this movie is. To one of the best actors in the world, Al Pacino, this is the second movie of the year (the other is \\Simone\\\") that deserves the title \\\"the most boring and the most pointless motion picture of the year\\\". So, what´s going on, Al?\"\n",
      "* * * * * * * * * \n",
      "9917\n",
      "This show made me feel physically sick, and totally detached from British society as a whole. It was programmes such as this and Blue Peter that pretended that there were/are no class divisions in Britain. They'd always say things like; \\Go into your loft and you may find this..\\\" or \\\"Go into your back garden tonight and...\\\" - what about us 'scummy' working class kids who never never had a \\\"loft\\\", and a \\\"back garden\\\" which was nothing more than a 1 meter square of balcony on the 14th floor of a council block? Public service broadcasting - yeah right! And on top of that, it was awfully depressing to see those stupid, middle class, up-their-own-backside kids mess about with bits of old plastic having 'fun'... do me a favour, and \\\"why don't you\\\" go and slit your wrists or do a coke overdose on \\\"Mama and Papa's\\\" money... you make me sick\"\n",
      "* * * * * * * * * \n",
      "10081\n",
      "From the Q & A before and after, this is what I could gather: Some Irish guy wants to make a movie. Nothing in particular, just any movie. So, one night at a party, he hears some ex-roadie tell him a classic bit of rock n' roll lore; the one about how Gram Parsons' corpse was stolen from LAX by his loyal roadie so he could honor Parsons' wishes that he be cremated out in JoshuaTree. Wow!<br /><br />What a great idea for a movie! Rock n' Roll (well, country), grave robbing, escapes, friendship, the 70's! I guess we could get Johnny Knoxville from \\Jackass\\\", cause it's kind of a prank, right, and Knoxville wants to do \\\"a movie\\\" too. Why he must have thought he had the next \\\"Snatch\\\" on his hand!<br /><br />But this story's not really that exciting...we need something for Knoxville to struggle against.like a psychotic girlfirend after his money! But Parsons' was married at the time. That's O.K., no one knows that. Besides we could get Christina Applegate. But what if the audience doesn't like the idea of stealing a corpse.well, we'll get his dad to join the chase, but give permission in the end. But Parsons' dad killed himself when he was 10, in fact his orphan status, and tragic childhood, are key parts of the Parsons Mythology. Mythology? We're making \\\"A Movie!\\\" This is creative problem solving.<br /><br />It's an uncomfortable experience for anybody even vaguely knowledgeable on or interested in the subject. Applegate's presence is doubling jarring. First her invented character is a Beverly Hills bitch before her time -she might as well have walked around the whole movie a cell phone in her hand, and secondly, what kind of man would Parsons be if he ever associated himself with that kind of harpy? Facts aren't just distorted or left out, but REVERSED. They could have easily found the villain they wanted in Parsons STEPfather, who was attempting to whisk the body back to his home state where law would favor him in dividing up the considerable inheritance.<br /><br />And the music, oh, the music I love. The music is hacked up (the bridge of a song here, the chorus there), forced to the background, and in the end, horribly covered by the hippest new indie band, Starsailor. My girlfriend asked the unnecessary, but irresistable question after the movie --was anyone up there, the writer, the producers, the director, actually a Gram Parson's fan? Well, no. He'd never actually heard of Gram Parsons, but of course, blah blah blah, I learned to love it, and here's some factoids I read in a bio online. Another guy vouched for Parsons' coolness by saying he and Keith Richards tripped on acid together and wrote \\\"Wild Horses\\\" together, a mixed up bunch of facts as off-base as the movie. Another person asked, wasn't it morally questionable to rewrite history when most people would only know about it from this film? Well, he had the real roadie's permission (he was even set) and the Parsons estate gave permission, and all these other people who got paychecks said it was great.<br /><br />But what I really wondered was, and asked in the embarassingly trembling voice of a truly impassioned Parsons geek, was, if the movie's so cheaply made (a million), had they not considered the original Gram Parsons fanbase as an audience? The director and writer seemed to think he was a nothing figure with no fanbase, though I doubt any Mojo magazine reading, country-rock 70's music fan would agree. But a bunch of Brits made it I guess, and they just didn't care about Cosmic American Music, or even knew it existed. This isn't just not a truthful Parsons flick, it's not even in the right spirit -it doesn't even fit the legend. At the very least it should have had the sentimentality of one of his songs. And plenty of people would love to be told.<br /><br />I should mention the movie was received well from the bunch of stoned college kids, just off the slopes, and into Johnny Knoxville. But if you're a Parsons fan ignore the title, it's just a movie for Jackass fans.\"\n",
      "* * * * * * * * * \n",
      "10208\n",
      "This flick reminds me some really bad science-fiction movies from 50's and 60's.It is not scary or interesting,but it's dull,cheesy and stupid.Special effects are laughable,all actors are ludicrous and the ending is simply awful.Don't waste your money,rent or buy something better.I give it 3.5 out of 10( I found this turkey quite amusing because of its stupidity).\n",
      "* * * * * * * * * \n",
      "10247\n",
      "Bad Movie - saw it at the TIFF and the movie gives me a sense of 'been there done that' - it reminds me alot of the movie Blow - expect the Blow was actually interesting.<br /><br />This one story told two ways and both times it is not told that well.<br /><br />\n",
      "* * * * * * * * * \n",
      "10288\n",
      "This has to be the cheapest film made in 21st century. It is all the way low quality, but at the end it falls below... everything. All the cheap tricks - like flashing and darkness - are used to hide those crappy computer effects.<br /><br />All the actors are below average, especially the main character Anne Fletcher (Simmone Mackinnon). There is a scene, where Anne is asked: \\Why you seem so careless?\\\" The correct answer is, because she can't act. No matter what happens (the world is about to be destroyed, her friend is dying, she is fired), she has the same stupid grin in her face.<br /><br />It is not only the movie, which is B -quality. It is also the back cover description (at least in Finland). The text mentions things like Lorica Gray -vessel, Capital -vessel and main character Garrison Harper and Anna (not Anne) Fletcher. The description sounds like a different movie, both featuring character called Fletcher and sea monsters\"\n",
      "* * * * * * * * * \n",
      "10464\n",
      "Just think, it cost a total of $250,000 to make \\Clerks\\\". How the hell did they spend $45 Million to make this glorified music video? A practically unknown cast, two or three sets, no special effects that I could see... I know, it must have been spent on that expertly crafted, economical, tension filled screenplay. Shoot, that bar set must have cost a bundle. Anyway, I guess Jerry Bruckheimer wouldn't be caught dead producing anything for less. I'm just surprised he didn't blow up anything.<br /><br />Anyway, it wasn't an awful film I guess. The female leads seemed to have some good chemistry and the soundtrack was OK. IMO It just seems a pity that this rather mediocre project could have been made for $5 Million without any loss to the production, and 6 more $5 million dollar indy films of merit could have been made as well.\"\n",
      "* * * * * * * * * \n",
      "10493\n",
      "As a physics student, I've become aware of many idiot professors, and other so-called experts, in the field. As I continue with my studies, I learn more and more about real physics experiments going on, and about the people who are doing things right.<br /><br />Then, my friends tell me of this \\physics movie\\\" they want to see. Knowing nothing of it, I'm excited, hoping that the information will be presented well.<br /><br />I've done REAL quantum mechanics; this wasn't it.<br /><br />This movie starts with the basic assumption that anything that occurs to a subatomic particle can, and will, occur to you, if you just open your eyes. Let's think about that, for just a moment.<br /><br />Our bodies are composed of somewhere around 10^30 such subatomic particles. That is a million billion billion billion particles! The more \\\"mysterious\\\" quantum effects of just two particles can have a 50% probability of cancelling each other out completely. As you add more and more particles into the mix, it becomes almost impossible to have a large net quantum result. To tell us to believe that this is a valid assumption, with no rationality behind it...it's just stupid.<br /><br />My friend, also in physics, and I counted 3 facts during the course of this movie. But they were presented in the most misleading manner I've EVER SEEN.<br /><br />I cannot say as much for the neural portion of the movie, as I have not had any kind of medical training. It seemed as though it might have had a slight bit more truth to it, remembering my days in biology, but I cannot say.<br /><br />At least this film had a redeeming quality: the dancing peptides (or whatever they actually were) scene. Not to ruin the invaluable plot that drives this movie, but the main character goes to a wedding, where she sees all different types of personalities \\\"driven\\\" by their peptides*, and then the film cuts to the dance floor, where we are spliced between people dancing, sometimes surrounded by CG peptides, and a fully CG scene, filled with dancing peptides. The film, at that point, was trying to tell us how we're \\\"addicted to emotions,\\\" so we're treated to the full song of that smash hit, \\\"Addicted to Love.\\\"<br /><br />This scene was redeeming, because anyone who could go through THAT scene, and still take this movie seriously...well, you are the ones that need to \\\"open your eyes.\\\"\"\n",
      "* * * * * * * * * \n",
      "10573\n",
      "Power rangers, the moronic merchandising television kids show from the 1990s, has got to be the most pointless and ridiculous television show ever created.<br /><br />What exactly is the point of this show anyway, other than to sell second rate plastic nonsense to children? There is nothing even remotely redeeming or interesting about this show in anyway.<br /><br />Look at the costumes, which look like spandex gone bad.<br /><br />The mullet style hair, earrings, and fashions of the early 1990s look completely ridiculous these days.<br /><br />Avoid this show at all costs!\n",
      "* * * * * * * * * \n",
      "10747\n",
      "Man, what a scam this turned out to be! Not because it wasn't any good (as I wasn't really expecting anything from it) but because I was misled by the DVD sleeve which ignorantly paraded its \\stars\\\" as being Stuart Whitman, Stella Stevens and Tony Bill. Sure enough, their names did not appear in the film's opening credits, much less themselves in the rest of it!! As it turned out, the only movie which connects those three actors together is the equally obscure LAS VEGAS LADY (1975)  but what that one has to do with THE CRATER LAKE MONSTER is anybody's guess",
      " <br /><br />Even so, since I paid $1.50 for its rental and I was in a monster-movie mood anyhow, I elected to watch the movie regardless and, yup, it stunk! Apart from the fact that it had a no-name cast and an anonymous crew, an unmistakably amateurish air was visible from miles away and the most I could do with it is laugh at the JAWS-like pretensions and, intentionally so, at the resistible antics of two moronic layabouts-cum-boat owners who frequently squabble among themselves with the bemused local sheriff looking on. The creature itself  a plesiosaur i.e. half-dinosaur/half-fish  is imperfectly realized (naturally) but, as had been the case with THE GIANT CLAW (1957) which I've also just seen, this didn't seem to bother the film-makers none as they flaunt it as much as they can, especially during the movie's second half!\"\n",
      "* * * * * * * * * \n",
      "10749\n",
      "A far as B-movies go, SCARECROW is one of those that are so bad, that it becomes incredibly annoying to sit through. A lonely loser high school student who is constantly picked on by classmates and rejected by girls, ends up walking in on his trailer trash mother having sex with a drunk redneck. He then chases the kid out into a nearby cornfield and kills him. Apparently, the kids soul was transfered into a scarecrow which then goes around killing the bullies who tormented him as well as teachers. This scarecrow, aside from having a snappy one-liner for each of his victims, can also do Matrix-like flips through the air and kill people on sidewalks in broad daylight. Also, why did he always look like a rotted corpse? Just like the two needless sequels that followed this, this isn't even worth a laugh.\n",
      "* * * * * * * * * \n",
      "10818\n",
      "In this extremely low-budget ( I've seen home movies made with better production value) Australian utter rip-off of \\the Burning\\\" & \\\"Friday the 13th\\\", a band is planning to make a music video while on a houseboat. They're stalked by a serial killer who was burned years before. This movie is even proclaimed to be 'the worst Australian film ever made' in it's DVD promotional material. That's it's only selling point! Complete and utter rubbish in every considerable way. Perhaps a few chuckles here and there for bad movie lovers, but it still made me want to burn out my retinas.<br /><br />Eye Candy: a quick flash of barely existent itty bitty titties in a lame shower scene<br /><br />My Grade: F\"\n",
      "* * * * * * * * * \n",
      "10849\n",
      "Ah WINTER KILLS , based on the novel by Richard Condon which deals with a conspiracy that killed the president of the United States 20 years ago . I knew Condon also wrote THE MANCHURIAN CANDIDATE which dealt with a similar theme and was looking forward to seeing an intelligent thriller<br /><br />WINTER KILLS left me cold . It's not a thriller - It's a piece of worthless crap , possibly the worst movie I've seen this month and boy have I seen a lot of bad movies in June . The problem lies in both the direction and the script and seeing as William Richert was responsible for both then he should be blamed entirely for this unfunny farce <br /><br />There's two things wrong with this movie . First off is the way everything is presented in a totally over the top manner . It's not as OTT as say something like that James Bond movie with David Niven and Peter Sellers but everything has a farcial edge to it with actors completely mugging their performances . This might have been justified if there was entertainment value to the movie but there's none . As a satire it's very silly , so silly that it becomes almost unwatchable . Secondly the scenes seem to have been cut so much that they're rendered senseless . Take for example a scene where the hero is confronting a loopy militia leader called Dawson . Dawson tells the hero he has 30 seconds start then it cuts to the hero being on board a plane . The scenes begin and end with no rhyme nor reason<br /><br />A dire movie that's an ordeal to sit through\n",
      "* * * * * * * * * \n",
      "11035\n",
      "'Thunderbirds' was an immensely popular Sixties show that has transcended the years and generations to the point it is still as popular now, with both adults and children alike, as it was in its heyday. So, one would deduce the chance to produce a live-action feature film with a million pound Hollywood budget was an excellent opportunity to revive the series as has been done with 'Spider-Man' and 'The X-Men'. But a terrible storyline and bland acting obliterated this opportunity and it was soon apparent all that was destined for this film was a trip to the bargain bin of the kiddies' section.<br /><br />Instead of a film focusing on the five Tracey sons, their father and trusty geek Brain striving to rescue people and protect the world from villains, our hero in this drudge is a malcontent and bratty thirteen-year-old Alan Tracey, fourteen-year-old Tin-tin and ten-year-old brain-box Fermat, son of Brains (yes, Brains' son despite this being a man who could surely never score a woman if he tried; maybe he grew the kid in a petri dish). As one can tell from a run-through of our three lead characters, this 2004 remake 'Thunderbirds' was clearly aimed at entertaining only children under twelve instead of trying to appeal to a broad age-range as those involved in the much superior revival of 'Spider-Man' did. The plot itself was so bland with clunky, awkward dialogue and weak jokes that probably wouldn't amuse brighter pre-teens. The scriptwriter seemed more interested in ripping off 'Spy Kids' (which was at least quirky and original) instead of remaking the show people know and love.<br /><br />Although Sophia Myles and Ron Cook were excellent as Miss Penelope and Parker, they only had about three lines between them so their presence was barely felt. Bill Paxton's Jeff Tracey was just boring and there was only the slightest of mention of the other four Tracey boys while Anthony Edwards and Ben Kingsley, as Brains and the Hood respectively, were just embarrassing. The Hood, in particular, is not at all threatening or sinister and instead comes across as a campy, two-bit stereotypical villain as limp as a piece of rotting lettuce.<br /><br />Brady Corbet, who plays Alan Tracey, may well be a good young actor but it was hard to see that in a film where he plays a whinging brat who just grates and the same goes for Vanessa Anne Hutchinson as Tin-tin since the most she gets to do is look pretty and be all for 'Girl Power'. Ironically, it is young Soren Fulton's Fermat who is the only interesting character of the film as Fulton delivers a natural and relaxed performance.<br /><br />'Thunderbirds' the series will be forever remembered as an excellent show that proves puppets can give solid performances! 'Thunderbirds' the film will be forgotten by most and remembered by a few as one big flop.\n",
      "* * * * * * * * * \n",
      "11190\n",
      "Visually speaking, this film is stunning. It has some delightful black comedic moments. But on the whole, the plot is very clichéd, as is its seeming message. If you're a fan of over-the-top violence in mainstream movies like hostel or saw, you'll love it. If you're looking for something at all high-brow, steer away. I saw it as part of the edinburgh film festival 06, and I only chose it because I was looking for something disturbing. Ultimately, it isn't disturbing. Just grinding and unpleasant to sit through. If you genuinely want to be challenged, go see something like The Lost. If you want to be grossed out, or tell your friends about a really messed up film, then this is for you.\n",
      "* * * * * * * * * \n",
      "11283\n",
      "I had no idea what the film is about before I saw it because Tashan only had teaser trailers while it was being promoted. So I asked my friends if they knew anything about it and they said that \\It is the directorial debut of Vijay Krishna Acharya who wrote the screenplays for Dhoom 1 & 2 and Saif Ali Khan's son Ibrahim makes his debut in the film by playing him as a child in his flashback\\\".<br /><br />After watching it, I understood that why their wasn't a proper trailer because there wasn't anything in the film to show. The story was extremely dum and even a 10 year old child can come up with a better story-line. There was hardly any action and the camera shook at every possible angle there is and it's difficult to figure out that who is killing who. Also the action was daft & unrealistic e.g. 1 man with a handgun managed to kill about 100 men with machine guns.<br /><br />While I was watching Tashan it reminded me of 3 films:<br /><br />Sin City: During the opening credits.<br /><br />Koyla: Anil Kapoor's terrible English like Amrish Puri in Koyla.<br /><br />Jhoom Barabar Jhoom: The outrageously ridiculous jokes that are not even a jot funny.<br /><br />I also heard the budget is 40 crores which is the same amount as Dhoom 2 and I don't know where all the money went to. Anyway if you did not like Dhoom 2 then there is absolutely no chance that you will like Tashan. Race was hot on heels and that is a million times better.<br /><br />The only 2 good songs are Dil Haara & Challiya and both songs are shot in Greece at good locations but what is the use of it in a rubbish film? Even Anil Kapoor's terrible English couldn't save this discomfiture.\"\n",
      "* * * * * * * * * \n",
      "11387\n",
      "I feel like I've been had, the con is on, don't fall for it. After reading glowing reviews (the Director was a film reviewer with Sky for years so must have a lot of mates in the press ready to do him a favour by writing favorable reviews) I expected solid acting, atmosphere, suspense, strong characterization, an intriguing plot development and poetic moments. Sadly, 'Sixteen years of Alcohol', doesn't deliver on the critics promises, for the most part, sacrifices these qualities in lieu of cheesy low budget special effects (what was that clichéd cobweb scene in there for?), unrealistic fight choreography and mindless mind numbing narration, cliché edits and camera angles.<br /><br />'Sixteen years of Alcohol' starts off interestingly with some beautiful location shots in Scotland, but it's straight downhill from here. Unfortunately, instead of spending some time building atmosphere, creating characters we might care about, or building suspense - the director opts to begin driving you crazy with self indulgent heavy handed twaddle voice-over's. The lead characters are so unsympathetic and are so badly acted - the audience doesn't care what happens to them, desperate Actors do desperate things...like this movie!. To make matters worse, the 'homage's' (typical of a director trying to pay his dues to past masters) are either utterly cliché or unconvincing. The soundtrack is the only thing that lifted me and kept me in the cinema but even that failed to support the dramatic narrative other connecting a period of time to the action.<br /><br />For some reason the movie got increasingly flawed and to be quite honest annoying. I still watched the whole damn thing!<br /><br />I guess I liked the attempt at gritty realism in the film but even that was destroyed when they were often inter-cut with weird and abstract, sometimes pointless scenes. You don't need a huge budget to make truly moving film, so much has been said about how little money they had to make this film, half a million is not a little bit of money...SO NO EXCUSES! Sometimes I wonder what the actors...Or their agents were thinking!<br /><br />Pass on this turkey unless you're masochistic or mindless anyway....NOT MY THING<br /><br />1.5/10\n",
      "* * * * * * * * * \n",
      "11422\n",
      "When I saw the preview, I thought: this is going to be a great movie. And indeed it could have been. The actress playing the main character was very credible, and the beauty of the filming is undeniable. However the dialogues cast a dark shadow on the whole picture. The level of language was too familiar and too contemporary for an action taking place in 1610, and it took away most of the magic of the film. However, I must congratulate the translator, because the English sub-titles were more refined and appropriate that the original French cues, and it probably explains the good rating the movie received on the imbd!\n",
      "* * * * * * * * * \n",
      "11749\n",
      "This may have been made for the hell of it, but it was most probably the worst film i've seen in years, The best thing about the entire DVD would be the case!!! I'm surprised that people took the time to make something so rubbish and yet spend money on it too, I'm glad i only rented. I suppose the real fans of this film would probably have to be sadistic and Gothic to care about it without taking in any CGI or any other effects for that matter, I hope Alex Chandon learnt a lesson about lighting and SFX to make a better film in the future, that is, if he is still in work.<br /><br />Notes to buyers this is extremely disappointing, DON'T BUY IT!!!!!\n",
      "* * * * * * * * * \n",
      "11754\n",
      "I admit to liking a lot of the so-called \\frat-pack\\\" movies. No matter how bad they are, I can find something to like about Ben Stiller or Owen Wilson or Vince Vaughn or Will Ferrell or Jack Black. But \\\"Envy\\\" just left me about as cold as the white horse that Ben disposed of. This time, it's Ben and Jack Black as a couple of nutty neighbors, one of whom (Black) discovers a aerosol spray to make animal poop disappear and becomes incredibly wealthy while the other (Stiller) writhes in envy. That's supposedly the plot, but then it veers off in other directions that don't really make much sense.<br /><br />I guess the 'Vapoorize' thing is sort of amusing at first. The problem is, they try to sustain the gag for the whole picture (Black has a license plate that reads 'Caca King') and it gets fairly tiresome. But even Ben and Jack are used poorly; the energy level for both of their performances seems significantly dialed down. The two best performances by far are Rachel Weisz and Chris Walken. Walken's neo-hippie-dippie guy is so offbeat and so well-modulated a performance that it really never suggests any of Walken's other familiar nutcase characters. It's completely unique, yet comes across as unmistakably Walken. And Weisz is about the best actress in the business that nobody knows about. Even with limited screen time, she still dominates every scene she's in.<br /><br />The whole crux of the so-called drama is that Ben, in a jealous drunken stupor, accidentally shoots Jack's prize white stallion, and then goes to ridiculous lengths to cover it up, fearing his best friend will find out and cut him dead. But the plot twist isn't believable because there's nothing about Jack's character to indicate that he would do such a thing. He plays such a sweet guy that it renders the whole excruciating horse chase null and void. You discount it completely. It's all filler. And what's the point of the out-of-control merry-go-round, except that Barry Levinson wants us to know that he's seen \\\"Strangers on a Train\\\"? The screenplay is painfully bad and the acting of the two leads poorly directed. Someone with Levinson's track record should know better. Maybe someone will invent something to make this film disappear. Oh, wait, they already have.\"\n",
      "* * * * * * * * * \n",
      "11769\n",
      "...when he remade Broadway BILL (1934) as RIDING HIGH (1950). Recasting Bing Crosby as DAN BROOKS did not help a screenplay that was 'dated' in 34 let alone 50. This sad film has entire scenes lifted from the original with many of the supporting cast repeating their roles, unless they were dead. Though being older did not seem to matter to the Director. Nor that the Cars and Clothes in the background plates from 1934 did not seem match up too 1950s' standards. Not even 'der Bingel' singing can redeem this effort.<br /><br />We rated both the original and the remake IMDb Four****Stars. Frank's touch was long gone and all that was left was CAPRA-CORN. That did not stop Mr. Capra though. After floundering around the 50's making some educational documentaries he wound up his career remaking LADY FOR A DAY (1933) as POCKETFUL OF MIRACLES (1961). Again a fine cast was let down on that IMDb Six******Star effort compared too the originals Eight********Stars. Sometimes it is better to quit while you were still ahead, right after STATE OF THE UNION (1948).\n",
      "* * * * * * * * * \n",
      "11818\n",
      "Believe it or not, \\The Woodchipper Massacre\\\" gave me full-blown gonorrhea! That's right, I've got a rainbow of discharge spewing from me just because a group of kids went playing around with a camcorder and somehow made a deal with the Devil and got distribution. It's beyond my comprehension how anyone with moderate intelligence could tolerate this pant-load of a film. The only reason I managed to sit through the whole thing (not without several suicide attempts along the way) was because, well first off, I was delirious with boredom, and second - I guess I wanted to further explore this newly discovered type of hate I was experiencing... This movie is a 'shot-on-video' \\\"horror/comedy\\\" about three siblings who are left for the weekend in the care of their bitchy elderly aunt. The youngest kid ends up stabbing the old lady accidentally with his Rambo-replica hunting knife. They then get to dismembering auntie with various tools (apparently she didn't have a single drop of blood in her body!) and heave her into their dad's rented wood chipper... Her convict son then stops by looking for his mom and the kids end up grinding that jackass too... I don't recall ever seeing a cast of annoying actors that actually caused me nausea. Seriously, that one blond chick's voice had me wincing in pain constantly. ALL of the actors were downright atrocious - literally just screaming their phony sounding dialog and cracking jokes that must've been written by a chimp that just didn't care! Now, I can usually appreciate independent efforts, but only from those who can realize that people other than their relatives might be watching this! I don't need to see a 3 minute shot of a car pulling out of a drive-way and a torturous, painfully long lawn grooming montage with some ridiculous, fluttery music playing over it. Plus, why the hell does the box of this movie have a bloody piano on it?! There WAS a piano in ONE scene and no one is killed near it! I'm through with reminiscing about this movie. Unless you like insufferable crap, I would advise anyone with half a brain to avoid this trash.\"\n",
      "* * * * * * * * * \n",
      "11932\n",
      "This is said to be a personal film for Peter Bogdonavitch. He based it on his life but changed things around to fit the characters, who are detectives. These detectives date beautiful models and have no problem getting them. Sounds more like a millionaire playboy filmmaker than a detective, doesn't it? This entire movie was written by Peter, and it shows how out of touch with real people he was. You're supposed to write what you know, and he did that, indeed. And leaves the audience bored and confused, and jealous, for that matter. This is a curio for people who want to see Dorothy Stratten, who was murdered right after filming. But Patti Hanson, who would, in real life, marry Keith Richards, was also a model, like Stratten, but is a lot better and has a more ample part. In fact, Stratten's part seemed forced; added. She doesn't have a lot to do with the story, which is pretty convoluted to begin with. All in all, every character in this film is somebody that very few people can relate with, unless you're millionaire from Manhattan with beautiful supermodels at your beckon call. For the rest of us, it's an irritating snore fest. That's what happens when you're out of touch. You entertain your few friends with inside jokes, and bore all the rest.\n",
      "* * * * * * * * * \n",
      "12238\n",
      "In theory, films should be a form of entertainment. While this excludes documentaries and other experimental forms of film-making; most movies, specially genre films, must not only tell it's story or message, they must entertain their target audience in some way. All this just to say that in my opinion a bad movie is not a movie with low production values or low-budget, a bad movie is one that is boring.<br /><br />\\Hellborn\\\" or \\\"Asylum of the Damned\\\" as is known in the U.S., is a bad movie simply because it is just not involving, and irremediably boring and tiresome. While it has a very good premise, it is just poorly developed and the mediocre acting doesn't make things better. On another hands the film probably could had been a fine or even classic B-movie, but here it is just a bad attempt at film-making.<br /><br />Director Philip J. Jones tells the tale of James Bishop (Matt Stasi), a young psychiatry resident, who just got his dream job at St. Andrew Mental Hospital; but the old asylum seems to hide a secret. After the mysterious death of some patients and the constant rumors of satanic practices, James decides to find out what is going on; only to find the incredulity of his boss, Dr. McCort (Bruce Payne), who believes that Bishop is going as insane as his patients.<br /><br />While the premise is quite interesting, the execution of the film leaves a lot to be desired. In an attempt of making a supernatural psychological thriller, Jones goes for the easy way out and makes a movie filled with every cliché of the genre. Of course, there are lots of great movies that are also filled with clichés; but in \\\"Hellborn\\\" every single one is wasted and turned into a cheap jump scare to keep things moving, resulting in a boring and predictable storyline.<br /><br />The acting is quite mediocre for the most part, with one big exception: Bruce Payne gives a top-notch performance that makes the movie look unworthy of such good acting. Matt Stasi is very weak as the lead character and the rest of the cast make forgettable performances.<br /><br />Despite all this flaws, one thing has to be written about \\\"Hellborn\\\"; it has a visual look very good for the budget and very similar to modern day big-budget Hollywod \\\"horror\\\" productions. Also, the make-up and prosthetics are done very nicely and the designs for the main antagonist are quite good. Sadly, the rest of the Special Effects are awful and outdated, making a huge contrast with the make-up & prosthetics.<br /><br />\\\"Hellborn\\\" is a movie with a few good things outnumbered by its serious flaws with terrible results. Hardcore horror or b-movie fans may be interested by its premise but it is a boring and tiresome experience. 3/10\"\n",
      "* * * * * * * * * \n",
      "12468\n",
      "This movie was physically painful to sit through, maybe because (like many people my age, and younger) I grew up with Dr. Seuss and loved his books - funny, clever, whimsical and subversive at the same time. \\The Cat in the Hat\\\" sucks all of the interest and spark out of the story, and Mike Myer's performance as the Cat is mostly bewildering. Why the Borscht Belt accent, the unfunny patter, the inappropriate jokes, the charmless costume? I had to go back and re-read the books to see the real problem: the books are SIMPLE. This movie is OVERBLOWN and way, way too long.<br /><br />You don't expect every kids' movie to be Toy Story or The Iron Giant, but this one set a new low. How could Mike Myers need the money?\"\n",
      "* * * * * * * * * \n",
      "12475\n",
      "The movie opens up with a long single shot of aisles in factory crammed with workers. My, what we've done to the planet you might think. I hope we get to see other things like this.<br /><br />That's very rare. When you're not looking at a horribly filmed angle of the narrator at a lecture hall, you're watching him set up his camera to take pictures in different locations. It'd be nice if chose areas that were more fitting with his topic but he doesn't. So, then you'll hear some more narration, watch a few pictures go by and watch him set up his camera. Why not use the filming camera to show more of the landscapes instead? It really kills any sense of pacing and paints the guy as more of vain jerk.<br /><br />I could read tips on how someone set up their camera, fast forward through this whole movie and waste a lot less time.\n",
      "* * * * * * * * * \n",
      "12521\n",
      "Wow. I thought this might be insipid but it was even worse than I imagined! Sometimes I like to watch a good \\car-crash\\\" movie: those that are so bad that you can't look away because you want to see how bad they can possibly get. This is really the only reason I could leave the television on - morbid fascination. It wasn't so much the acting, which was only mediocre or slightly worse than one would expect from this cast, but the premise and the plot which never should have seen the light of day. The script, too, is groan-inducing. As for cinematography, did anyone else notice that they used a \\\"curtains drawing\\\" segue device, like in an old 50's TV show...but without irony? At first I thought they must be kidding but the movie takes itself too seriously to have used this in a tongue-in-cheek manner. Don't even ask me about the score...the only high point is the final song, by Morcheeba. I guess they wanted to leave people with something for their $8...glad I saw it on TV!!!!! Just silly! I wonder if this is why Timothy Hutton has had trouble finding much work recently? I guess if you don't expect much, and want to watch a mindless thriller, it would be better than spending an evening clipping your toenails, which is why it merits a 2.\"\n",
      "* * * * * * * * * \n",
      "12541\n",
      "Joe Don Baker is an alright to good actor in small roles here and there...he was alright in Goldeneye and made a pretty good Bond villan in The Living Daylights and has appeared in various other movies. One thing he can't do is carry a movie as the lead, which he is in this extremely bad revenge movie set in Malta. Joe Don's partner is killed so he kills the killer's brother and escorts the killer to Italy, but some guys cause the plane to set down in Malta and the killer gets away. The rest of the movie is seeing Joe Don chase the killer here and there, Joe Don getting taken into custody various times, Joe Don torturing a bartendar and being interrupted and so on. The movie is quite bad and you won't find yourself exactly pulling for Joe Don's character. You will be amazed at how many times Joe Don the hero gets taken out by one punch and how incompetent he proves to be. The crowning part of the movie comes when Joe Don chases the killer all over Malta with the killer in a priest robe and then they get in boats and he chases them all around Malta. This movie also features one of the worst closing lines to end a movie ever.\n",
      "* * * * * * * * * \n",
      "12615\n",
      "I really wanted to like this, but in the end it's a poorly made film with too few laughs.<br /><br />The politics are spot on, it's gonna offend the hell out of republicans but that's what it's designed to do. That alone gives me reason to chuckle.<br /><br />The problem is, it looks like it was made in a REAL hurry (like about a week). And it contains a stupid subplot about some bimbo singer, which seems to be completely off topic.<br /><br />Turiqistan is obviously Iraq, or Afghanistan, or any other number of countries the US has f**ked with since the 50s. The humour is a little dark (amputees dancing with prosthetic legs made by Tamerlane corporation) but it IS on the mark, especially with the corporations cashing in on the reconstruction (\\democracy lite\\\"!) <br /><br />However like a lot of satire criticising the US, it seems terribly heavy handed and laboured. I guess it's running counter to so much bs propaganda so it has to bludgeon people over the head to make a point. Who knows. I prefer more of a nudge, wink approach - a bit of subtlety. But that's just me.<br /><br />Anyway I might watch it again, perhaps I missed something.<br /><br />I'm hoping \\\"W\\\" is more on the mark.\"\n",
      "* * * * * * * * * \n",
      "12664\n",
      "When Ben (Red Foxx) discovers his wife Beatrice (Pearl Bailey) has run off with his own brother, he rushes to his son Norman (Michael Warren) to unload his tale of woe--only to discover that Norman has a secret lover: the effeminate Garson (Dennis Dugan.) Needless to say, Ben does not take it well, and numerous complications follow--including Ben's attempt to get Norman over being homosexual by fixing him up with a hooker (Tammy Dobson.) Unfortunately, this description of the movie sounds a great deal more entertaining than the movie itself.<br /><br />Originally written for the theatre by Ron Clark and Sam Bobrick, NORMAN... IS THAT YOU? was an absolute disaster on the New York stage. To give the play its due, I actually saw it staged in the 1970s as a community theatre production--and while no one would accuse it of being anything other than a shallow farce, the cast played so broadly and in such drop-dead manner that it proved quite amusing. It is a pity the cast of this film didn't do the same.<br /><br />This is an atrociously performed motion picture. Red Foxx, one of the most hilarious comics of the 20th century, is about as funny here as yesterday's wash, Michael Warren (who later appeared on the television series HILL STREET BLUES to much better effect) competes with Foxx to see who can give the worst performance, and Pearl Bailey is not far behind; truth be told, only Dennis Duggan, Tammy Dobson, and a cameo by Wayland Flowers have any spark--and sadly, that is only in comparison with the rest of the cast.<br /><br />Not only is the film badly performed, it looks bad. According to film lore, this was the first big screen effort to be filmed in videotape, which was then transfered to celluloid for project purposes--and believe me, it shows. The film has the look of a bad 1970s sitcom right down to the painted skyline seen through the windows of Norman and Garson's apartment.<br /><br />Some films are so bad that they become funny, but NORMAN... IS THAT YOU? isn't one of them. I can sum up my reaction to this film in two words: miss it. Don't buy it, don't rent it, don't touch it with a ten foot pole. Just back away slowly and then run like hell.<br /><br />Gary F. Taylor, aka GFT, Amazon Reviewer\n",
      "* * * * * * * * * \n",
      "12677\n",
      "Any movie with \\National Lampoon\\\" in the title is absolutely guaranteed to die a death in London,England,Paris,France,Rome,Italy,and anywhere in Germany.It may be an institution in the U.S. but it is practically unknown in Europe to the larger audience.\\\"National Lampoon's European Vacation\\\" is unlikely to rectify that situation. The appalling Griswalds are just that - appalling.They are not funny. Clearly Mr Chevy Chase thinks he's funny, after all Miss B.di Angelo laughs a lot at his jokes,but she's getting paid for it and didn't have to fork out £2.50 for the privilege. The section set in England is typical.The same old same old TV performers, Messrs Idle,Smith,Coltrane,Miss M.Lippman trot out the same old same old tired clichés,Mr Chase gets lost in the hotel corridor....yawn,yawn,yawn.. Bucking - ham Palace,Big Ben......I feel cheated that we never saw bobbies on bicycles two-by-two.........rosie red cheeks on the little chil - dren,need I go on? The English are buffoons,the French vicious - tongued Yank-haters.The Germans pompous and puffed up,(don't mention the war,Clark),and the Italians lecherous bottom-pinchers.Have I forgotten anything? Every possible \\\"comic\\\" situation is worked to death,Mr Chase gurns desperately,Miss di Angelo dimples sweetly,the children are embarrassingly bad. The fact that this franchise ran as long as it did must bring comfort to those who propound that you never lose money by underestimating public taste.\"\n",
      "* * * * * * * * * \n",
      "12699\n",
      "How did this become a blockbuster? Dear God I don't know where to start why this movie sucked too much. The movie was predictable & there was no originality. The only thing I can admire is the acting of some characters. The movie was too bright, they should have done something with the lighting, eg. making the environment more darker. The make up on certain dead characters made this movie look like a 1970 horror flick. This is 2006! People don't get scared by other people wearing heavy make up. Most of the horror scenes we're taken from other Hollywood or Asian horror movies. Total rip off! This is why I don't watch tagalog movies. The only reason why so many people \\screamed\\\" while watching this movie is because of conformity. How many times do we have to copy scenes from The Ring and improvise it that instead of the girl coming out of the TV, its now coming from the window next door? No matter how you put it, ITS STILL A RIP OFF. If you want a good horror movie, go watch the 50 best horror movie listed on this website.\"\n",
      "* * * * * * * * * \n",
      "12784\n",
      "The acting is bad ham, ALL the jokes are superficial and the target audience is clearly very young children, assuming they have below average IQs. I realize that it was meant for kids, but so is Malcom in the Middle, yet they still throw in adult humor and situations.<br /><br />What should we expect from a show lead by Bob Saget, the only comedian in existence who is less funny than a ball hitting a man's groin, which is probably why he stopped hosting America's Funniest Home Videos.<br /><br />Parents, do not let your kids watch this show unless you want to save money on college. Expose your kids to stupidity and they will grow up dumberer.\n",
      "* * * * * * * * * \n",
      "13064\n",
      "This is indeed a god adaptation of Jane Austen's novel. Compared with the American Version with Guinneth Paltrow, the script was written to resemble as much as possible the book. But the acting was awful. Besides Kate Beckinsale, who I believe was a true likeness of the Emma in the book, all the other actors were trying too hard. Mark Strong was not the \\gentleman\\\" he was supposed to be. He was often rude and offensive, had no feeling whatsoever, and throughout the entire film you could not see his love \\\"growing\\\" for Emma at all. This had a terrible effect on Kate Beckinsale, who seemed to be trying to \\\"resque\\\" her leading role as well as her partner's. Moreover, there was no chemistry between the entire cast. Hariett Smith, played by Samantha Morton, seemed to have no real attachment to Mr. Elton, played by Dominic Rowan. Therefore, she did not seem as heartbroken as she was portrayed in the book. The settings of the film are also too poor. The costumes are even more so. I would have imagined Emma Woodhouse to dress in a more fashionable and elegant way that she does here. The ending is also too long. It is good that it resembles the book's ending, but it is a killer ending for a film. And again, I can see no feeling of happiness in the face of Mr.Knightley. To conclude, I believed this adaptation to be loyal to the book, but with poor actors. It seemed as if the film was made without any budget at all. I would prefer to see the \\\"lighter\\\" version with Paltrow and Northam, even if it is clear that it was made to be a \\\"blockbuster\\\", than to watch these actors (excepting the good Olivia Williams and the better Kate Beckinsale) ruin the entire script.\"\n",
      "* * * * * * * * * \n",
      "13324\n",
      "I think I've seen worse films, so I'm giving this a 3, but it's a struggle to remember what they could have been!! Possibly Xtro (nasty & dull) or possibly Creep (just plain dull), but it is a struggle to think of something worse. It's difficult to know where to start. Let's just say it's a poor man's Under Siege, starring an even poorer man's Jean Claude Van Damme. The only redeeming feature was seeing Casper Van Dien - I always wondered what happened to him after Starship Troopers. Yes, he was Johnny Rico, if you really want to know.<br /><br />Judging from this site, he's been stuck in TV movie hell.... Casper, be more selective.... please!!!!!!!!!!!! Arghhhhh, I've just turned over and there's a half decent film on called Criminal Law...... now I'm beginning to get really resentful about the last 1.5hrs!!!\n",
      "* * * * * * * * * \n",
      "13373\n",
      "I'm not to keen on The Pallbearer, it's not too bad, but just very slow at the times. As the movie goes on, it gets a little more interesting, but nothing brilliant. I really like David Schwimmer and I think he's good here. I'm not a massive Gwyneth Paltrow fan, but I don't mind her sometimes and she's okay here. The Pallbearer is not a highly recommended movie, but if you like the leads then you might enjoy it.\n",
      "* * * * * * * * * \n",
      "13462\n",
      "Everybody just seems to be raving about the subject, and not really noticing how the movie was made. The deaf, mute guy is fine, the underdog wins - that's good, the cricket aspect is great, but the movie is average overall. I think it could be made much much better than it is.<br /><br />The plot is too predictable for a movie that is not based on a real life event. I'm sure the movie could have been made more interesting. The songs are just stuffed in there, and I had to literally forward the scenes where the same thing would be shown from different angles.<br /><br />Good acting, though. Watchable.\n",
      "* * * * * * * * * \n",
      "13711\n",
      "Loony Tunes have ventured (at least) twice into the future. The first time was with the brilliantly funny \\Duck Dodgers\\\". The latter time was with this ",
      " um ",
      " effort. \\\"Loonatics Unleashed\\\" isn't without merit, and might be considered a good product were it not that it isn't up to Warner Brothers quality. WB cartoons are noted for their cheeky humor, appealing at least as much to adults as to children. These pedestrian superhero episodes, on the other hand, cannot fail to convince adults to pass them up.<br /><br />The premise of the series is that 6 ordinary individuals (2 bunnies, a Tasmanian devil, a duck, a roadrunner, and a coyote) live on the \\\"city-planet\\\" of Acmetropolis and acquire super powers when a meteor strikes the planet in 2772. What's confusing is that the titles section features these individuals with a count-up to 2772 from the 21st Century. Cute, but frelling stupid.<br /><br />In each episode, the super sextet  amid mildly amusing but essentially banal banter  fight various super villains. For the most part, these are types that appear in every mediocre superhero adventure series and even some of the better ones. Like many mediocre superhero series, this one takes its villains far too seriously for the context. And of course these guys are the only characters that laugh  the usual evil laugh, of course. Why is it that villains in predictable superhero adventures always  ALWAYS  laugh evilly at every opportunity? Animated material of this sort seems to leave laughter exclusively in the province of villains and (occasionally) their henchpeople and/or henchthings.<br /><br />In point of fact, the makers of this series missed their best bets right from the get-go. The superpowers of the characters are sometimes based on their previous normal abilities, but sometimes not. The problem here is that we don't see enough WB looniness. Lexi and Ace have fairly ordinary biologically generated energy weapons and have virtually no personality traits one could describe as \\\"Bugs-like\\\". What we have here is basically the silly and drekish \\\"Teen Titans\\\", including its overly \\\"modern\\\" animation \\\"look\\\", but with animals. Feh.<br /><br />The other misstep by the program's creators is (or are) the villains. As noted before, these are not terribly imaginative and do the evil-laugh bit excessively. Amazingly, the writers totally missed the obvious technique of making villains from stock WB characters as well as the protagonists. Adding to the fun could have been, say, Jupiter Sam  as well as The Fudd, still hunting wabbits  as well as Tech E. Coyote converted into a really neurotic villain  and so on. Ah, the sadness of missed opportunities",
      ".<br /><br />Sadly, this whole production has gone into too much overtime (that is, a 2nd season). Nevertheless, we can rejoice that there's something new out there for the 14-going-on-9 crowd. The rest of us can hope for a 3rd season of Duck Dodgers.\"\n",
      "* * * * * * * * * \n",
      "13871\n",
      "After the superb AANKHEN(2002) which was a remake of a Gujarati play he comes with WAQT which too looks like a stage play<br /><br />In stage plays, we have characters shouting, overacting here too the same<br /><br />The first half shows Amitabh almost kidding the 40+ Akshay Kumar who acts too funny like a small nerd<br /><br />The film has a good message how not to spoil your son but sadly the way Amitabh wants to make Akki responsible is absolutely fake<br /><br />Even his reason for hiding his sickness, his runnign from the hospital and the melodramatic speech by Akki is a put off<br /><br />Some emotions do touch you but most are too over the top<br /><br />Rajpal's comedy is hilarious but too stretched in second half <br /><br />Direction by Vipul Shah is too overdone though some scenes are good Music is okay<br /><br />Amongst actors Amitabh overdoes it in the first half but is superb in emotional scenes Akshay Kumar too does his part well but looks umcomfortable in some too weepy scenes His chemistry with Bachchan is matchless Rajpal is a highlight, he makes you laugh without overacting and just his presence and his dumb behaviour and deadpan humour he is a riot Boman is good in some comic parts but too loud at places Priyanka is the heroine so nothing to do, this is her last film with Akki so far Shefali is awesome though she looks too young for Bachchan\n",
      "* * * * * * * * * \n",
      "13943\n",
      "I attempted to watch this film without being able to really sit through it, for while it is suppose to have a \\good\\\" message; the problem is that it is obviously produced according to one particular interpretation of scripture. An interpretation, in my opinion, will mislead a lot of people. In addition, I am a movie maniac and the acting in this film was completely unacceptable. Never before had I wished for a negative score to rate a movie. So, if you wish to be preached to incessantly by those without authority, then by all means, get this film. This comment is also a warning to people who like or love scifi, because the title will deceive a lot of people as well. This was an unfortunate film, because the basic idea had possibilities and those possibilities were squandered. The film's only redeemable quality is that it did make me realize that the character in the \\\"Time Machine\\\" probably should have shown a little more moral outrage at the odd behavior by those in his future.\"\n",
      "* * * * * * * * * \n",
      "14080\n",
      "Judging from this film and THE STRONG MAN, made the same year, I would not place Harry Langdon at the top of the list of great silent screen comedians. There simply is not enough there. Perhaps he was on his way to developing his style but sabotaged himself by taking his first big successes too seriously. In any event, all of his tricks are reminiscent of the greater funny men, but he lacks the acrobatic skills of Keaton and the prodigious ingenuity of Lloyd. He also undermines his own persona by dressing and walking like Chaplin's tramp character. His trademarks are childlike innocence, timidity of approach and a tendency to under-react to calamity by looking perplexed, batting his eyes or touching his pursed lips with the tip of his forefinger. The comedy in Langdon's films results from fate throwing various obstacles in his path which he tries to overcome in wimpy or naïve ways or with a minimum of physicality, such as throwing rocks at an approaching tornado to drive it away, propping up a collapsing building with a two-by-four or dodging boulders by lifting a leg so that they roll under him. In this story, about the son of a shoemaker who joins a cross-country walking race to publicize a rival company's footwear, he manages to win by sheer luck. There is nothing here that hasn't been done far better by the Big Three.\n",
      "* * * * * * * * * \n",
      "14135\n",
      "Wow, what can I say about this film? It's a lousy piece of crap. I'm surprised that it got rated as high as it did. What's wrong with this film? Here's a better question: What's NOT wrong with this film.<br /><br />The story itself is just crap and cliché. Here's pretty much what it's about...Some kinda nerdy kid with no friends gets picked on, gets killed, and comes back as a scarecrow for revenge. \\All\\\" of that is packed into 86 minutes of worthless film. If you haven't seen this movie don't waste your time watching it. Also, the second one isn't much better, so don't bother watching that either...I rated this movie a three because I liked the scarecrow's outfit, not because there was anything good about the movie. I think you get the picture.\"\n",
      "* * * * * * * * * \n",
      "14207\n",
      "Lil Bush is a 30 minute cartoon show comprised of 2 15 minutes episodes shown on Comedy Central. It takes place in a fictional, cartoonish Washington D.C., and centers around the satirical, childish representations of George W. Bush, Condoleeza Rice, Donald Rumsfeld and Dick Cheyney. Other politicians are also satirized in the same manner, and act as minor characters.<br /><br />The pilot of little Bush, much to this commentator's expectations, proved to be a rather shallow and esoteric production, which barely delivers on its featured promise: a satirical look at the current presidential administration. While one must admit that premise of the show does have SOME merit, even though it would be hard to imagine a show based almost completely of the denigration of a single political persona would survive to continue to produce episodes after his term of office expired, execution that can only be described as sloppy at best, and downright awful at worst, has marred what little potential the show had.<br /><br />Lil Bush, which may be technically classified as \\satire\\\", tends to disregard its actual use of the particular tool of comedy in order to lambaste its targets in exceptionally vulgar (but not particularly original, entertaining, or funny) ways. The show's consistently weak writing often consists of little more than recording Bush/Cheney jokes heard elsewhere ad nauseam and placing them all in a single 30 minute block of television. As such, most of the jokes that presented by the writers were shameless clichés, some of which that been in public circulation for more than 6 years already. Comparing the Vice President to Darth Vader, for example, may have been funny in the first 300 times one has heard it on the Daily Show/Colbert Report/Letterman/Conan O'Brien/Leno monologue/any late-night-talk-show-ever, but it is not funny here. As if that were not enough, the show's plots seem to exist simply as a means to advance the same old, tiresome Bush jokes that the writers have made the center of the program.<br /><br />In the show's defense, when the writers dare to write in a truly original joke (which seems to be a rarity) it is often somewhat humorous. If the show were to expand its depth somewhat, and place its characters into new situations, exotic situations, rather than the same old mistakes and \\\"quagmires\\\" perpetuated by the Bush administration, therefore not having to rely on the same old Bush jokes over and over again, the show might be considered somewhat tolerable, and possibly even innovative.<br /><br />Ultimately, it is difficult to ascertain which shortcoming causes the Lil Bush series the most damage; its clear lack of originality and weak writing quality, or its painfully narrow minded ambitions. It is reasonable to expect that Lil Bush will be able to maintain a small base of left wing fans, that is, if they are able to endure the exceptionally poor writing; so long as the program continues to lampoon the Bush administration thoroughly. Even so, the majority of viewers will soon recognize the program for what it really is, a weak and pointlessly vulgar attempt at satire, and tune out in search of something more intellectually stimulation; The Price is Right, perhaps.\"\n",
      "* * * * * * * * * \n",
      "14327\n",
      "This movie is pretty awful but I have some interesting information about it:<br /><br />It was filmed in 1976 at Northern Arizona University in Flagstaff, AZ, as well as at Oak Creek Canyon near Sedona, AZ. A good bulk of the extras in the film are then-drama students from NAU. I was a freshman there that year, minoring in theatre, but for some reason I didn't get involved with the production. I did however know several people who did and can supply this rather odd fact:<br /><br />There is a scene in this movie where two of the principals, as part of their hazing ritual, have to run naked into the woods. They are seen from behind in the movie, doing just that. The thing is, those aren't the actors at all but two guys I knew from the theatre department. The identity of these \\stunt posteriors\\\" will remain anonymous, at least to this website, unless they decide to, um, \\\"reveal\\\" themselves!\"\n",
      "* * * * * * * * * \n",
      "14457\n",
      "Pointless, humourless drivel.....meant to be a comedy; but not one laugh in the whole film. Gratuitous violence often with guns. What kind of warped mentality can either make or say this is a good film?! 1 out of 10.\n",
      "* * * * * * * * * \n",
      "14645\n",
      "When you have a disembodied skull, an empty mansion, a schizophrenic wife, a scheming cad and a nutzo gardener, throw in a minister and his wife - what have you got?<br /><br />AIP's answer to insomnia.<br /><br />\\The Screaming Skull\\\" gets points for audacity, offering free caskets for anyone who dies of fright from watching the film. Pretty safe bet, when you're lulled into a stupor by people who think they're in a production of \\\"Suspense for Dummies\\\".<br /><br />But Peggy Webber was a cutie, anyway. She had a few good moments of acting here and there (especially when trying to communicate with the gardener) and no one else fills a nightgown like she. But that scared face she makes - scary in itself. Whoa.<br /><br />As a whole, though, there is little suspense here and everything is telegraphed like a punch thrown by a mime. You can't be scared by this film, it's impossible. It has its moments, but not enough of them.<br /><br />HOWEVER, thanks to a certain Mike Nelson and his two robot pals, there are several moments of pure joy, especially in the copy THEY got hold of (\\\"The film jumped, and it was really scary!\\\").<br /><br />One star for \\\"The Screaming Skull\\\", eight and a half for the MST3K version.<br /><br />Talk about a \\\"Screaming\\\" bore....\"\n",
      "* * * * * * * * * \n",
      "14794\n",
      "We have all been asking ourselves \\why don't they remake the slasher films that were only OK instead of remaking the ones that were great already, that way they can only make it better?\\\" well with Prom Night they have remade the average but trashy fun 80s Jamie Lee Curtis film and made it even WORSE. Its a paint by numbers slasher film which is clearly trying to attract the young teens (hence no violence etc), the knife in this slasher flick is blunt.The director spends so much time focusing on trying to make the rather attractive killer look somewhat creepy that anything else goes out of the window.The cast who include Britney Snow (who was superb in Hairspray) try their hardest but the material gives them nothing to do but pout and look scared.More annoying is how the death scenes are handled (we will hear the attack but wont see it). It also looks like the only place the knife in this film worked was in the editing suite since the film looks like it has been butchered (im guessing anything remotely scary ended up on the cutting room floor so as not to scare the kids) Yet in pours the money from Americans sending this film to number 1 at the box office!!! Slasher movies are a lot of fun but in Prom Nights case it made me want to download the original.I've seen scarier OC and Dawsons Creek episodes\"\n",
      "* * * * * * * * * \n",
      "14814\n",
      "I thought that Zombie Flesh Eaters 2 was quite a good horror film When a terrorist's body, infected with a stolen chemical, is recovered by the US military, the corpse is then cremated, releasing the virus into the atmosphere over a small island. Soon the infected locals turn into flesh-hungry zombies, and a group of soldiers on leave must team up with a group of tourists and board themselves up in a abandoned hotel as they try to fight off the aggressive living dead. I did not find this film to be as good as the original film, Zombie Flesh Eaters. But it was still an OK horror film with some good action. I did not think that it was one of the best in the series. 4/10\n",
      "* * * * * * * * * \n",
      "14824\n",
      "Chan Wook Park is nothing if not inventive. I'M A CYBORG BUT THAT'S OK is chock full of amusing little technical flourishes with some ingenious ideas sprinkled in between. Attempting to walk in the footsteps of the likes of Marc Caro and Jeunet (CITY OF LOST CHILDREN, DELICATESSEN), Park embarks on a fanciful, lighthearted tale which is a radical departure from his usual morbid fare. Hardly one to be faulted for his ambition or his vision, it is genuinely unexpected, then, to see all Park's effort add up to so very little.<br /><br />I'M A CYBORG BUT THAT'S OK seems astonishingly to subtract from itself as it goes along, with the the end result being a fraction of the sum of its parts. The premise is promising, gags are copious and offbeat humour abounds but it all fails miserably to create any meaningful connection with the audience. The characters are cute and quirky and played with gusto by the cast, but, try as i might, i could not bring myself to care for any.<br /><br />SYMPATHY FOR LADY VENGEANCE was a misstep, indicating perhaps that Park was overindulging himself a little bit, but it still managed to showcase some of the director's unique flare and in the wake of an impressive filmography, was readily forgiven. None of the assured confidence that commanded JOINT SECURITY AREA or SYMPATHY FOR MR. VENGEANCE is evident here. I'M A CYBORG BUT THAT'S OK left me so utterly unengaged i caught myself instinctively fast forwarding from time to time (more regularly as the film progressed). I gave LADY a 5/10, and by that measure, this probably deserves no more than a 3. For old time's sake, i'll be generous: 4/10\n",
      "* * * * * * * * * \n",
      "14830\n",
      "I guess this goes to prove that Joe Don Baker will do anything for a buck. The concept of the film wasn't very good to start with. This movie has so many bad things about it I don't know where to start. The acting is horrible. The cinematography is marginal at best. The soundtrack was pretty bad. The score is terrible. There's a reason why this movie ended up on Mystery Science Theater 3000. I voted before I wrote this and I cannot believe that 9 people actually thought this \\film\\\" is excellent. They must have liked the two go-go dancers. Final justice would be if they locked this stinker in the film vault outside Wichita and never let anyone see it again! A 1 out of 10 rating is far better than this deserves.\"\n",
      "* * * * * * * * * \n",
      "14955\n",
      "The Cowboys could leave you a little sore in the saddle. Definitely not one of Johns best movies. Don't get me wrong, with any John Wayne move there is always some good spots. And this one has it's fair share. But over all the picture moves slow and just doesn't live up to the aspirations it could have been. Bruce Dern again does an outstanding job as the villain. Roscoe Lee Brown is another bright spot in the movie. The kids in the movie were average but could have been cast better. This would be a good movie for the eight to fifteen year old movie goers.<br /><br />This would be a good family move to watch with your children. Just be aware, there is a couple of scenes that you may want to take a look at before you let the young ones see it. But most kids that I know who have seen the movie like it. Maybe it's because they get to see kids their age do all the grown up work.\n",
      "* * * * * * * * * \n",
      "14985\n",
      "Ok so I was bored and I watched it all the way through.<br /><br />This film is mild, inoffensive and lacklustre. The story is so sugary it rots your teeth on the opening titles. A tail of two 'traumatised' children learning about 'God' the fairy story way which frankly left me rather traumatised. It uses the Irish 'blarney' in such a stereotypical way one hopes no true Irish ever see it. Aimed at children who frankly would switch off after the first attempt at an 'OIRISH' accent. All in all why do they pump these out.\n",
      "* * * * * * * * * \n",
      "14990\n",
      "I had high expectations following \\My Beautiful Laundrette\\\", \\\"Bend it like Beckham\\\" and (less so) \\\"East is East\\\". The histories of British Asians fitting into their adopted home has had many good runs on the big screen, as well as a number of excellent TV and radio series (Goodness gracious me, etc). This one falls flat. Inspite of a good start it rapidly went down hill.<br /><br />Ultimately this was a horribly typical BBC effort, complete with strong regional accents, whacky over-acting characters, a \\\"those were the days\\\" soundtrack, and lots of \\\"issues\\\" in an attempt to be worthy.<br /><br />I found myself cringing at many points during this film. The writing is predictable. Every possible cliche was dragged out and aired. In fact, I have trouble thinking of any cross-cultural/cross-generational devices that could have been used that weren't. The characters were thin and cliched: the eccentric non-conformist minister; the well meaning but ultimately racist old woman; the over weight, overbearing aunt; the pushy Indian parents; the working class neighbour; the 'wise' profound grandmother; the motorbike riding thug. The script was weak, with every chance to shock the audience with overt racist dialogue from the two dimentional racist white characters taken. And why it had to be set in the 70's (apart from needing an excuse for a 70's soundtrack) is a mystery. Possibly it make unbelievable characters slightly more believable to people born after 1979. I don't know.<br /><br />Even these things aside, good acting could have carried this into respectable obscurity. Instead, the usual \\\"BBC comedy\\\" suspects were wheeled out to ham it up. \\\"Bend it like Beckham\\\" had far better comic acting (and serious acting, in fact) than this, with a virtually unknown cast.<br /><br />In summary, a lazy cliched script, over acted, in a dull predictable story. Give it a miss.<br /><br />\"\n",
      "* * * * * * * * * \n",
      "14998\n",
      "An Inconvenient Truth is as entirely simplistic and demagogic as the turgid slop created by the rabid and idiotic Republicans, it meanders along intangible lines until it attempts to gorge something into your face, namely that we'll all be dead in a few hundred years, which is already indisputable, but who cares, humans are selfish, destructive creatures, I frankly do not waste my time caring about human extinction. I'll just call it a \\natural progression\\\". Let the apocalypse begin, but meanwhile, we have to listen to the same brazen, slanted politicians who propose another \\\"new society\\\", well, don't be fooled, we'll all still be controlled by the wealthy, by those in power and by those idiots who created the catastrophes in the first place. Nothing will ever change.<br /><br />Al Gore, whose hypocrisy is quite evident in the film, as he is being driven in a gas guzzling car all alone using a consumerist computer, he also lives on huge acres of land in a rather large mansion, the land itself was used for destructive erosive purposes including cattle, tobacco, pig farming (which accounts for methane gas traces) and who knows what else, his wealth is predicated on exploitation, greed and his investments include numerous large companies in the world with disputable records. I hardly think this man is qualified to lecture the less fortunate, but his prestige is based on his opposition to another ludicrous political party, that is all, meanwhile he emits those very same rancid characteristics that make politics and politicians so appalling. This bozo happens to be living the comfortable life and yet he's lecturing poor people in Africa about crop farming and cut and burn techniques? He travels across the world in first class seats in fuel wasting jets, uses product placed computers in the documentary, and yet he thinks everything is a \\\"moral issue\\\". He's entirely absorbed in his own deluded nightmares, he says he came to these conclusions because of the death of his sister (from tobacco induced cancer and the near death of his son by an automobile of all things). Did he fight against the tobacco companies or propose that automobiles be banned because they are dangerous hulking machines? NO. Everything must serve the \\\"economy\\\", so why is he any different, the answer is he is not.<br /><br />His forlorn and exhausted attempts at humanistic philosophy are disastrous, all this while he's being filmed in the forest or along a little river eschewing stale life affirming quotes. Well Mr Gore, why don't you try living like the common people then? He is a politician, plain and simple, he has a career invested in the power structure. My question is, why doesn't he concentrate on the powerful industrial nations of the earth who are to blame for most of the complications? He doesn't do that because it would be unwise for \\\"investments, stocks and corporations\\\".<br /><br />Al Gore gives monotonous lectures about the subject in the documentary, namely to wealthy white people in the audience, who clap on cue, while showing them graph charts, numbers and percentages, and speaking in a dreary tone, no one without a Harvard (which the elites control) education can make sense out of it, but he tells us everything is going to hell. No kidding, but I think he fails to account for this problem precisely in the approach that capitalism has taken for the planet, namely that it is expendable and a waste dump. He never once mentions how industrialization has created these problems, he just wants to put mild bandages on them but not eradicate the whole oppressive system. Its obvious he was spoiled, sent to the schools for elites and has the same basic temperament for politics as any other back stabbing, inconsistent dullard in Washington. Whoever made this propaganda, as it is in no way different than what the Republicans have conceived, had only goals in mind that were directed by capitalistic impulse. That is to say, someone is going to benefit, and it seems the \\\"new green\\\" politicians who support venture capitalist companies who are buying up hordes of land in an attempt to develop the \\\"new Utopian future\\\" with \\\"new technologies\\\". It's the same old story, Al Gore is a believer in the elitist structure, he actually believes there is a \\\"democracy\\\" in the US which I find very naive. If we aren't paying wages to the oil companies, then we'll be paying them to the wind and solar companies.<br /><br />I find the speech at the end quite rancid, along the lines of something GW Bush would have oozed over to the dumb downed masses, Gore speaks about \\\"people uniting together to defeat communism\\\" in the 1990's, what it had to do with global warming, absolutely nothing but he attempts to get base emotions ruminating in people. With that said, he didn't understand that communism never existed in the world, the systems in Europe and USSR were merely a tyrannical form of authoritarianism and capitalism, no less different than what controls the US interests. Social ecology was not even mentioned here, which is really a travesty. If you want to change the world, then one must dispose of those antiquated systems that are based on greed, exploitation and violence.\"\n",
      "* * * * * * * * * \n",
      "15156\n",
      "In my opinion, this movie's title should be changed from \\Only the Brave\\\" to \\\"All About Lane\\\". I went to a screening of this film a few months ago and was quite disappointed with the outcome. Although, I appreciate that the director made a movie about the men of 442nd - a subject matter that long deserved addressing in the film industry - the acting in some parts of film was quite stale. The performances of Marc Dacascos, Tamlyn Tomita, and Jason Scott Lee were all great. However, the director should have NEVER put himself as the main character in the movie. Sorry Lane, you are just not a film actor. Stick to what you're good at - theater acting. Gina Hiraizumi's performance in this film was also horrible. She should never have been given a speaking role and her looks were unfit to play the part of a Miss Nisei queen. There were other young actresses in the film who were naturally beautiful and whose performances were wonderful... Why weren't they cast for that role? Another major problem with this film were its action sequences. The Japanese-American soldiers don't look like they were fighting German soldiers... let alone anyone. Granted this was a low budget feature, but since this was a war-based film, isn't it important to show some actually fighting? This film was a worthy attempt, but definitely not worth a major distribution.\"\n",
      "* * * * * * * * * \n",
      "15203\n",
      "With these people faking so many shots, using old footage, and gassing animals to get them out, not to mention that some of the scenes were filmed on a created set with actors, what's to believe? Old film of countries is nice, but the animal abuse and degradation of natives is painful to watch in these films. I know, racism is OK in these old films, but there is more to that to make this couple lose credibility. Portrayed as fliers, they never flew their planes, Martin Johnson was an ex-vaudevillian, used friends like Jack London for financial gain while stiffing them of royalties, denying his wife's apparent depression, using her as a cute prop, all this makes these films unbearable. They were by no means the first to travel to these lands, or the first to write about them. He was OK as a filmmaker and photographer, but that's about it.\n",
      "* * * * * * * * * \n",
      "15214\n",
      "This has got to be one of the worst fillums I've ever seen and I've seen a few. It is slow, boring, amateurish - not even consistent within its own simplistic reading of the plot. The actors do not act. I can't blame them - they have been given a script of such utter banality all they can do is trudge through it with a pain behind their eyes which has nothing to do with the evil goings on in SummersIsle.<br /><br />There is not one moment in this film that rings true - not an honest line nor a single instant where one is moved. The Nicholas Cage character is so badly drawn that one feels not a smidgeon of compassion for him through all his tribulations. I have no doubt that I was seeing a suffering man up there but it was Nicholas Cage fully aware of the fact that he was in the worst movie of his entire career.\n",
      "* * * * * * * * * \n",
      "15300\n",
      "this film was a major letdown. the level of relentless cruelty and violence in this film was very disturbing. some scenes were truly unnecessarily ugly and mean-spirited. the main characters were impossible to identify with or even sympathize with. the lead protagonist's character was as slimy as they come. the sickroom/hothouse atmosphere lent itself to over-the-top theatrics. little or nothing could be learned about the Spanish civil war from this film. fortunately, i've been to spain and realize this is not realistic! in addition, the use of same-sex attraction as a lurid \\horror\\\" was also very offensive and poorly handled, while the DVD is being packaged and advertised to attract gay viewers. the actors seemed uncomfortable in their roles,as if they were trying to distance themselves from this mess.i guess if you like watching children and pets being brutally killed,this film might especially appeal to you.\"\n",
      "* * * * * * * * * \n",
      "15448\n",
      "I fell asleep on my couch at 7:35pm last night watching Larry Sanders (I usually DirecTivo it, but not last night). Woke up at 3am (invesment banker on the west coast), and was fascinated to see this on HBO2. I was shocked on how poor this 'movie' was. Seriously. shocked. So shocked that I had to write a commentary on iMDB. This is really really bad. the writing is boring, but the directing and editing are simply below those of a freshman at a film school.<br /><br />Yes it is shot video. Mind you, that is shot on VIDEO, not DIGITAL VIDEO. It does look like a soap opera. The clips from skateboard videos have a more 'film' feel to them then this horror.<br /><br />I wanted to describe the poor directing but i honestly cant remember anything. The shots and blocking are stupid. yes, i chose the word 'stupid'. not unconventional, not daring, not bold, not boring, just stupid. I know people reviewing this review will say \\well give me an example\\\". I cant. It was 3am. but trust me, I know you will watch it anyway, you will be drawn by the horrible reviews.<br /><br />\"\n",
      "* * * * * * * * * \n",
      "15514\n",
      "I like silent films, but this was a little too moronic. As much as I wish I could say that it was worth the hour I stood up I can't. I don't think any version of the movie even comes close to the book. And don't try it out on kids, they might freak. And the lady who played Pollyanna, how old was she? 38? I know the labor laws were different back then... BUT COME ON PEOPLE.\n",
      "* * * * * * * * * \n",
      "15617\n",
      "This was one of the worst movies EVER!!!!!!!! It was so bad, I was laughing through the WHOLE movie! The plot was SO cheesy; especially the end. This movie turns from an end-of-the-world-disaster to save-the-eels! I mean, c'mon! And I swear...I think they use SOCK PUPPETS for the eels! And there was this horrible kiss scene in the middle with the two main characters who happened to be divorced. How predictable! It was SO terrible that my mom, my sister, and I couldn't finish it, and when we DID finish it, it was about a year later! The second time we watched it and we finished it this time, we did MST3K-like comments throughout the movie.<br /><br />Summary: Only watch this if you're a movie basher! Make hilarious comments, watch this at a sleepover for laughs, and I mean HUGE laughs. Also watch for mockery. The metaphor that explains this movie: This movie is a very shallow field full of cheese and sock puppets!\n",
      "* * * * * * * * * \n",
      "15623\n",
      "I think that can sum up this show about as well as anything. Batman TAS may be the worst thing to ever happen to cartoons based on comic books because everything that comes after will be compared to it and nothing has measured up yet. It's just too damn good. Was Batman Beyond good? \\Yeah, but it was no TAS.\\\" Is Justice League good? \\\"It's not too bad, but it's no TAS.\\\"<br /><br />The Batman is certainly no TAS, either, but I won't hold that against it. It would be unfair and besides, it has plenty of other problems with it.<br /><br />The concept of a younger, less experienced Batman fighting crime is a fine one, and at times the art is very nice. But all of the rest of the time, the art is worthless Americanime, and this betrays a lot of the flaws of the show itself. It is paced, written, and designed like an Americanime. If I wanted to watch Jackie Chan Adventures, I'd watch Jackie Chan Adventures. Or I could just bang my head into a wall any time and get the same effect. The Joker is a homicidal, mentally unstable clown in a suit who uses his wits, unpredictability, and clever gadgets to fight Batman. When he is forced to fight hand to hand, he will either resort to something cheap or be totally outmatched. He is not meant to be a monkey with dreadlocks who knows kung-fu and can leap into twenty feet into the air, accompanied by speed lines. If they had wanted to do that with a villain, there were other less important characters they could have used or *gasp* they could have created a new one entirely. And it's not that re-imaginings are a bad thing, don't get me wrong. TAS (there I go again) took Mr. Freeze from your standard icegun-wielding B villain and made him into a memorable and morally complex character. Of course Freeze wasn't exactly a classic villain at the time and they performed an upgrade, but the point stands. What The Batman does is it takes everything you liked about Batman comics and lore and takes a large, smelly dump on them. Guess what? They were eating corn.<br /><br />It's obvious this show can't stand against TAS but stand it on its own legs and it still doesn't work for me. The plots aren't good and they don't develop any better. They've been written for the demographic of children under twelve. Should children be able to enjoy a show? Of course they should. This shouldn't be an adult show with swearing, nudity, and gratuitous violence. But the mark of a truly good show is that it can be enjoyed on different levels by all ages. This show misses that mark.<br /><br />Is this show a TAS? No, of course not. The problem is it's not even a JLU.\"\n",
      "* * * * * * * * * \n",
      "15671\n",
      "Many people here say that this show is for kids only. Hm, when I was a kid (approximately 7-9 years old) I watched this show first. It was disgusting for me. I talked with other kids about this and, sure, other shows and know what? This was the measure of disguise, whenever we wanted to emphasize something's silliness (either on TV or anything else) we said \\Uh, just like Power Rangers\\\" and laughed. <br /><br />And before visiting this site I could not imagine that there actually are fans of MMPR. It was so strange for me that I decided to watch it again and try to understand why people like it. I did not enjoy that viewing. But it dawned upon me: maybe I have not enough imagination? It may be. However this argument is not sufficient for me to rate it more than 1 star.\"\n",
      "* * * * * * * * * \n",
      "15694\n",
      "Dreadful acting. A thinly veiled attempt to slam those on the left side of the aisle.<br /><br />Women are subjugated and revolve around men. Tom Selleck shows his acting range from A to B.\n",
      "* * * * * * * * * \n",
      "15785\n",
      "I bet you Gene Simmons and Vincent Pastore negotiated in advance how many episodes they would be willing to appear in. Isn't just too contrived for Gene to switch to the ladies team and then throw himself on his sword? And Big Pussy? What the hell was that \\look at me, I'm a rat!\\\" double episode crap? All that cliché mafia banter- COME ON! The big names voted off just happened to already have received money for their charity and got a custom tailored exit. Hmm... This is not reality but staged drama! Mark Burnett's other show, \\\"Survivor\\\" also raised questions for me when Johnny Fairplay stages his departure when he clearly had just a short time before his child is to be born.<br /><br />Yuk!\"\n",
      "* * * * * * * * * \n",
      "15792\n",
      "This is by far the worst movie I have ever seen!!!! <br /><br />I can honestly say I have never seen a movie worse than this one!!!<br /><br />AND I MEAN NEVER!!!!<br /><br />I'm a BIG fan of \\B\\\" horror movies. As you may imagine.... I've been exposed to some of worst that the movie industry has to offer.<br /><br />I was lured to this movie by it's title. I mean c'mon... what true fan of horror wouldn't be intrigued by a title like \\\"Vampires vs. Zombies\\\"??? Images of the \\\"undead\\\" battling each other to the \\\"undeath\\\" danced in my head. I thought to myself... \\\"this I've got to see\\\"!!!!<br /><br />Well.... sorry to say.... \\\"this I wish I hadn't seen\\\"!!!!!<br /><br />This movies title is very misleading to say the least. There was no vampires fighting zombies. In fact, there is no plot!!!! If you were to ask me what this movie is all about I could honestly tell you I have no idea!!!<br /><br />There was no plot!!!! <br /><br />There was no story!!!! <br /><br />This movie absolutely makes no sense at all!!!!<br /><br />At the end of this debacle... I found myself feeling sorry for the poor souls who had invested their money into this project for they surely have no business sense!!!\"\n",
      "* * * * * * * * * \n",
      "15798\n",
      "To start with, I have to point out the fact that you're gonna feel completely lost for more than half an hour. Yeah, some things happen, but you don't know why or what for. When you finally figure things out you just realize that it's nothing but a twisted soad opera, dealing with mature prostitutes, dead mothers, illegitimate sons... The characters are rather poor and the actors (specially the young ones) don't help that much to make'em look credible. Only Marisa Paredes stands out, but she's a superb actress, no matter if the movie is pure rubbish.<br /><br />The only positive things to say about \\Frío Sol De Invierno\\\" is that débutant Pablo Malo seems to have good intentions, and he's filmed a couple of scenes that are quite intense... Well, maybe the next time...<br /><br />*My rate: 4/10\"\n",
      "* * * * * * * * * \n",
      "15858\n",
      "The cover art (which features a man holding a scary pellet gun) would make it seem as if it's a martial arts film. (Hardly.)<br /><br />I find it interesting that the film's real title is Trojan Warrior. (Trojan is a brand of condoms in the US) This movie is loaded with homoeroticism. If you like that stuff, then this film isn't that bad really. However, consider these points:<br /><br />There are numerous close-ups of actors' groins & butts, (One scene even features every actor with an erection bulging in his pants.) the film is also bathed in gaudy colors like lime, peach, and red. From a cinematographer's standpoint, this movie's a drag queen! Several scenes feature characters standing EXTREMELY close to one another, occasionally touching as they converse. Also, the cousin of the hero likes women, and every other guy in the movie is trying to kill him. Is there a message here the filmmakers want to convey? <br /><br />Shall I go into the fight scenes? (Yes, someone's private parts get grabbed in one fight.) The martial arts scenes are brief and unimaginative. No fancy stuff here, just your standard moves you'd see in an old Chuck Norris flick. There's also a car chase scene which may be the first ever LOW-speed chase put on film.\n",
      "* * * * * * * * * \n",
      "15936\n",
      "The reasons to watch this knock off... err... tribute to a great movie called Se7en: - It's on while your channel surfing and there's nothing else on. - Someone pays you to watch it.<br /><br />Do yourself a favor and pop in the DVD for Se7en, rent it, download it on iTunes, or put it in your Netflix cue and skip The Flock entirely. The Flock the same story with with a few changes. Furthermore the editing just wreaks of Se7en and actually ends up taking you out of the story several times. The worst one is probably the fly over desert helicopter shots, with sounds of people people chattering over the radio, except there are no police helicopters flying overhead in this one.<br /><br />Bottom line: I call it a blatant knock off. If you wanna be nice you can call it a tribute film, go ahead, but either way go watch Se7en.\n",
      "* * * * * * * * * \n",
      "16038\n",
      "If you haven't seen this, it's terrible. It is pure trash. I saw this about 17 years ago, and I'm still screwed up from it.\n",
      "* * * * * * * * * \n",
      "16279\n",
      "Exactly what you would expect from a B-Movie. Deritive, gratuitous nudity, boring in parts, ridiculous gore and cheesy special-effects. Of course it could have been better, better acted (defintly) better written, directed, etc. But then I guess it wouldn't have been a B movie. The actors pretty much sucked, in fact this pretty much seemed like an episode of buffy the vampire slayer or something except with a lot of blood, profanity and nudity.<br /><br />Tiffany Shepis must be singled out. She absolutely is the scream queen of the new millennium. Not that acting really matters in these movies, but she was better than any of the other actors. She's also smokin hot, in that plastic jump suit thing she wore for the whole movie - wow! Her posterior is absolutely stunning in that outfit, I mean it every single time she turns around you can help but check her out. And near then end of the film the viewer is rewarded with seeing her completely nekked.<br /><br />So if your a looser b-movie horror buff (like myself), check this out. If not, you should probably avoid at all costs.\n",
      "* * * * * * * * * \n",
      "16343\n",
      "This film is awful. The CGI is the very cheap gray blob CGI. The crocodile looks like a large gray smudge. The worst is that no effort at all is given to making it walk or look like it is alive. It is mostly a photo-shopped CGI that is placed into scenes and you almost expect to see the hand that is moving the CGI smudge across the screen. This is one of the worst examples of CGI effects that I have ever witnessed, and I have seen lots of the very bad Sci-Fi Channel movies.<br /><br />Aside from the terrible lack of special effects, the cast is composed of the typical low-cost actors who probably work as Waiters/Waitresses at local diners while they wait for their Big Breaks. Perhaps the most ridiculous scene in this movie is when one of the bad guys is attempting to sexually assault Kate and the giant crocodile jumps straight up out of the water to the second floor of the Villains Headquarters and through the balcony and pulls the bad guy off Kate and instead of crashing straight down through the building (and crushing Kate) the Croc just flies backwards at the same angle into the water. No laws of Physics can apply to this movie or the special effects. At least there is honor among crocodiles.\n",
      "* * * * * * * * * \n",
      "16563\n",
      "I don't understand why people would praise this garbage. Its wrong , stupid , unrealistic , awful , and just about everything else. The film is a view on life , racial issues , prejudice , and everything else that strangely goes on in College. This is where it fails. It has no grasps on reality. From many questionable non-sense scenes in the movie such as for example<br /><br />A black man chasing down a white man with a gun, the black man and stopped by the security guards handcuffed and carried out while the gunman runs right past them.<br /><br />The same white man snipering down people from a roof topic which is stopped and beaten down by the same black man is then stopped and given a Rodney King style beating while the gun man runs free while a moment later being chased back down by only one of the four guards.<br /><br />As one previous reviewer pointed out Several white 230lbs men being beaten down by several black men weighing around 160lbs including the 105lbs Bust A Rhymes<br /><br />Another critical flaw in the film are the shallow uninteresting main characters. From the scared and confused white people and the mean , angry , and yet rightful (?) black people. Its almost as its an insult to both black and white people. I am a white male and I know many black and hispanic people who agree that this movie is wrong to portray characters and giving them those characteristics exclusively due to their race.<br /><br />The storyline which I will explain now revolves around three characters. One a black athlete , the other a confused scared white girl who questions her sexuality , and the third is a white man who is also confused and scared , then blames his problems on black people in which he becomes a nazi later in the film. They all have their share of problems and adventures including sex , rape , fights , love , hate , prejudice , racial war , and oh yeah don't forget education. Which all comes down at the end for the fatal shoot out. In which after they go back to their boring lives and think \\being white is bad\\\". Does this sound alot like your college years? Didn't think so. I don't think the director attended college especially if he were to make this awful mess.<br /><br />Overall this is a really bad , bad , ugly movie. If you want to see a more accurate view or racial issues go see American History X. If you want to see a more accurate view of college rent Porkys. Just avoid this mess.\"\n",
      "* * * * * * * * * \n",
      "16604\n",
      "Despite much style, flash, and glitter, this French musical fails to speak. The tunes are repetitive, predictable, and tedious. The story is uninteresting, as are the many characters. <br /><br />People break into song and dance, without motivation or reason. Most of the cast wears phony looking wigs and hairpieces, and the sets look hopelessly studio bound.<br /><br />To be honest, this video of the restored version was stopped before the end, so negative an effect it had on me. Certainly a shame, to have such a multi-talented cast in so feeble a final effort. <br /><br />Goes to show, I guess, where followups (in this case, to the great classic, \\Umbrellas\\\") often do go awry. One cannot recapture, only recreate.\"\n",
      "* * * * * * * * * \n",
      "16801\n",
      "I haven't seen this, & don't plan to see this movie or any other that includes Lindsay......unless & until \\poor little rich girl\\\" straightens out her life for a 2 year period beginning with her most recent arrest in July 2007.<br /><br />In fact, I don't know anyone that has gone to see ANY of Lindsay's recent movies. I rather imagine 2007 will be the high water mark in her movie making career, until she cleans up her act. All of the recent publicity has only hindered her movie making career, if she has any further aspirations to make any more movies <br /><br />Up to this time, movie producers have actively sought Lindsay for roles in their upcoming production. Now, Lindsay will probably have to go to auditions & actually compete for ANY role. Her reputation is currently \\\"poison\\\" & quite possible could have a negative effect on box office ticket sales on any movie she is in.<br /><br />Sooooo....now Lindsay is going to have to deal with \\\"not being wanted\\\".....is she going to be able to handle this?<br /><br />I wonder if even Jay Leno will want to have Lindsay back on his TV Show?<br /><br />All of the foregoing is merely my OPINION. I have no inside information.\"\n",
      "* * * * * * * * * \n",
      "16900\n",
      "This movie is likely the worst movie I've ever seen in my life -- surpassing the previous most god-awful movie, \\Spawn of Slithis,\\\" which I saw when I was about 10.<br /><br />Bad acting, stilted and ridiculous dialog, incomprehensible plot, mishmashed cut scenes, even the music was annoying. Did I leave anything out? Well, the special effects weren't bad -- but CGI does not a decent movie make.<br /><br />I can't believe I actually spent money to see this movie. If anyone has the contact info for Hyung-rae Shim (the director), please forward it to my user name \\\"at gmail,\\\" and I'll contact him to personally demand a refund.\"\n",
      "* * * * * * * * * \n",
      "17214\n",
      "Motocrossed was fun, but it wasn't that great. I guess I just didn't understand a lot of the Motocross racing \\lingo\\\" (and there was A LOT of that in the film)! The plot wasn't what I expected from the Disney Channel previews, so that could account for some of my disappointment.\"\n",
      "* * * * * * * * * \n",
      "17407\n",
      "Yes, you guessed it. Another movie where identical twins switch places. I think now that the Olsen twins are getting older they should try and make the plot less predictable and less like re-runs of 'Full House'. If you plan on seeing this film, don't. Watch 'The Parent Trap' instead. It's more entertaining.\n",
      "* * * * * * * * * \n",
      "17512\n",
      "This has to be some of the worst direction I've seen. The close-up can be a very powerful shot, but when every scene consists of nothing but close-ups, it loses all its impact. <br /><br />Tony Scott has some very beautiful scenery to work with, the backdrops of Mexico, the cantinas, the beautiful estate where Anthony Quinn lives, and the dusty towns Costner rolls through on his journey for revenge. Unfortunately we only catch quick glimpses of these places before the camera cuts to a picture of a big, giant head. Even the transition scenes where Costner is driving alone across Mexico quickly cut to a close-up. <br /><br />The score is over-dramatic and intrusive, dictating every emotion we should feel. The story itself should have been handled much better. Among other things, too many people pop up out of nowhere to help Costner along - it's just bad writing. <br /><br />It's a typical thriller storyline, but many others have taken the same premise and done outstanding things with it. Costner's No Way Out had a somewhat similar storyline, but it was a much better movie. <br /><br />The ending was completely anticlimactic and suffered from the most melodramatic scoring of the film. This movie was never going to be great, but if we saw more of Mexico and less of giant heads this film might have been watchable.\n",
      "* * * * * * * * * \n",
      "17531\n",
      "Why is this film so bad? Well, if being so stupidly annoying and unfunny is a reason, then this film is it. The character of Corky Romano is unlikable at best and downright infuriating at worst. The gags are predictable but that isn't what makes it bad. They are the lame sort of predictable jokes that your unfunny friend would say.<br /><br />Corky Romano is about a mild mannered vet that tries to do right but is so clumsy. His quiet life is thrown for a loop when the family that once spurned him now needs him to infiltrate the FBI to destroy any trace of the family's crime history. However, it isn't that easy for Corky because the FBI believes him to be a super agent and pegs him with the duty of spying on his very own family. Mishaps and mayhem ensue but it really doesn't feel like any comic hijixn are there. Corky ends up in love with his beautiful FBI partner and has to set the record straight with both the FBI and his family if he is to settle down to the quiet life again.<br /><br />I think what makes this film irritating is both the lead actor and the supposed jokes. Chris Kattan reveals his alarming limitations as and actor here as his one note slapstick routine falls flat about 10 minutes into the film. It is okay to have a full movie based solely off of dumb, slap stick humor. Will Ferrel, Kattan's SNL partner, seems to have made a full career out of it. The only difference between Kattan and Ferrel is that Ferrel knows when to tone it down and rely on other ways of telling a joke. There is absolutely no diversity in Kattan's routine. It's hard to hear the same joke twice, but for a whole movie that is just pure torture.<br /><br />The other problem with the movie was the lack of truly original and FUNNY jokes. The gay mafia brother, the awkward guy sch-tick, and plenty of other forgettable jokes appear none as funny as the first time you barely laughed at it. It seems as if the screenwriters had more of a fun time writing this than any one had watching it. Even with a cast that has some comedic talent (Chris Penn, Peter Falk) the jokes that commence are tired. There is no chemistry too. This film was obviously one for the pocketbooks for the actors. No body seemed to care about it, or even try. Sad thing is, no body told Chris Kattan that.\n",
      "* * * * * * * * * \n",
      "17909\n",
      "I didn't think it would be possible for Joe Don Baker to make a movie as bad as his stinkbomb 'Mitchell', but this one succeeds.<br /><br />I wouldn't recommend this if you're a fan of Joe Don Baker's MUCH better work. But,if you like to watch fat guys sweat and really, really drawn out gun fights, you'll love this movie.\n",
      "* * * * * * * * * \n",
      "17994\n",
      "Screenwriter Lisa Lutz began writing the screenplay at the age of 21 in 1991 <br /><br />Is she even in business? If someone gave her another chance after this piece of crap, she's up for the most Fortunate Person Of Ever award.This movie sucks to no END...It never ceases to amaze me what the turn into movies...and the fact that they made this writer put it off for a bit? Seriously? I can write better crap than this in my sleep.<br /><br />OK, so how many lines to I have to type? I don't get this at all. I guess I\\m a newbie. I guess I don't understand why there should ever be a limit to what anyone has to say...or a quota? Seriously, I don't care if you have a one word sentence...or even a one word response. I mean, c'mon? <br /><br />Thanks...is this enough, finally?<br /><br />This movie is worthless.\"\n",
      "* * * * * * * * * \n",
      "18224\n",
      "A broke would be screenwriter and his would be agent (Tom Wood and Arye Gross) are forced to live in a self storage facility run by an eccentric and intimidating manager (Ron Perlman) whom they come to believe is the serial murderer that is terrorizing the city, the \\Costume Killer\\\" (so named because, after injecting his victims with Windex, he dresses them in silly costumes). They convince him his life story would make a great film and gather together a group of misfit wannabe film makers (John Considine, Joe Pantoliano, Kristy Swanson) and discover that the art of movie making can be murder.<br /><br />There is more to this movie but it was unfortunately left on the editing room floor and it shows (rumor is the studio wanted a \\\"lighter\\\" dark comedy). Our loss (and the actors, who all do fine jobs and deserve better) as this has the makings of an exceptional black comedy but only rises to mediocre cute.<br /><br />If you're a Ron Perlman fan this is absolutely worth getting just for his performance. His comedic timing is excellent and he has the chance to do some really great impressions (he wasn't kidding when he said on the Hellboy movie commentary that he needed an intervention when he gets into Jerry Lewis mode). He's just simply fun to watch in this one. <br /><br />David Dukes also shines in a two-scener (but pivotal) role.\"\n",
      "* * * * * * * * * \n",
      "18269\n",
      "I was so disappointed by this show. After hearing and reading all the hoopla about it, how it was a \\ground breaking show\\\" and all sorts of wild promises if quality, I tried to watch it.<br /><br />What a letdown!! The acting was way forced and exaggerated. The story made very little sense. As for any hint of the vaunted \\\"look into teenagers' lives\\\", I could only see a paltry attempt that had as much reality to it as a reality show.<br /><br />Some are wondering why there are so many negative comments about this show. The reason is that it's really not all that good and beating the drums over quality on this show only serves to attract attention to how poorly made it is.\"\n",
      "* * * * * * * * * \n",
      "18278\n",
      "There is so much that is wrong with this film, but to sum it up: Terrible acting- so bad it must have been on purpose. poor script - they may have had some good ideas but this was not the best way to present the story. ridiculously bad ending- in some cases the ending manages to save the film-not in this case. if you manage to sit through the entire film you will want to kick yourself at the end because the ending is not even worth waiting for. This is the worst film i have seen in a long time. It was complete torture sitting through this film, i would have appreciated someone warning me in advance. So do yourself a favor. Watch this film only if you have absolutely nothing better to do. Even then you will regret having put yourself through the unspeakable torture.\n",
      "* * * * * * * * * \n",
      "18479\n",
      "This film was so amateurish I could hardly believe what I was seeing. It is shot on VIDEO! NOT film! I have not seen the likes of this since the early 70's, when late night networks showed movie of the week 'horror flicks' shot in......video. It looks like a bad soap opera, and that is paying it a compliment. Some of the actors give it their best shot. Michael Des Barres does okay with what he is given to do, which is to act like a sex addict out of control. I can't say that it is pleasant to watch.<br /><br />Nastassja Kinski as the therapist sits in a chair for practically the entire film, with very little variation in camera angles. I can't fault her for someone else's poor blocking, but she is totally unbelievable in her role. Her little girl voice works against her here. And I consider myself a Nastassja Kinski fan. She is certainly ageless and exotic, but she's outside her range with this.<br /><br />Alexandra Paul is pathetically overwrought. Every line she delivers is with three exclamation points. Someone must have directed her to scream at all costs. Why would Michael Des Barres want to have sex with such a raging shrew?<br /><br />Finally, Rosanna Arquette as the sweet, maligned wife comes off okay, and probably the most believable of the bunch. But that is not saying much.<br /><br />This has to be the worst film I have seen in years.\n",
      "* * * * * * * * * \n",
      "18560\n",
      "After eight Moto films the series had run its course, as this last entry demonstrates. Peter Lorre was clearly weary of trying to pump some sort of human interest and entertainment value into the wispy character of Moto, and the dreadful idea of pairing him with a \\funny\\\" British sidekick utterly defeats all his efforts here.\"\n",
      "* * * * * * * * * \n",
      "18649\n",
      "OK..this movie could have been soooo good! All generations have been exposed to Thunderbirds and have come to love it and this film had some of the features one would look for in a good thunderbirds movie. The craft themselves and Tracey Island were realistically transferred to the big screen, whilst still keeping to the designs we fell in love with. Sophia Miles was, simply, fantastic, as Lady P and Bill Paxton, whilst not exactly who I envisaged Jeff Tracey being, was solid enough...but then the adults were taken out of the equation and we were asked to believe 8 year olds could fly 200 tonne machines.<br /><br />It's not so much the fact that the movie was centred around the children that made me feel like Jonathon Frakes was slapping me with a wet fish and laughing at my hard earned money spent on the film, it was the fact that Alan Tracey was so obnoxious in the film and that he seemed to be as able to fly the machines as well as his brothers...who were at least 19/20. Seriously, these are some pretty damn simple machines to use if this is the case.<br /><br />The film didn't seem to know whether it wanted to be serious or farcical. It tried to pay homage whilst satirising and it just generally fell flat on its face. 3/10 (2 for the machines, 1 for Lady P)\n",
      "* * * * * * * * * \n",
      "18934\n",
      "I should have figured that any movie with the Poltergeist lady in it isn't going to be good. It actually starts out okay, but during the first murder scene you find out that the movie you're watching is a movie inside of a movie. There's people sitting in a movie theatre watching that movie. One girl in the audience is so annoying that I would have turned around and strangled her. A bit strange, but far from good.\n",
      "* * * * * * * * * \n",
      "19085\n",
      "Billy Crystal normally brings the crowd to laughter, but in this movie he and all the rest of them cannot bring any smile on my face.... or perhaps just one. They call it comedy, I say it's a waste of my time.\n",
      "* * * * * * * * * \n",
      "19137\n",
      "Revolutions always present opportunities for dramatic films since, in fact, most revolutions are in themselves dramatic events. Unfortunately, what this film lacks in drama is compensated for by an overabundance of boredom. One cares not who wins, loses, dies or lives--just end it as soon as possible. This is due in large measure to what seems to me to be a superficial use of background technology. Scenes of Paris and the French countryside have a cardboard quality about them. They might better be done on a bare stage and left that way. One cannot expect the amazing effects of \\The House of the Flying Daggers\\\" or \\\"The Golden Compass,\\\" but , after all, this is a 2002 digitally mastered production. Characters seem to enter a scene for the sake of entering a scene, so much so that one loses count of the number of times character enter and leave rooms. In my view, this film turns the French Revolution of the 1790s into the \\\"papier-mache\\\" revolution of a \\\"papier colle\\\" world.\"\n",
      "* * * * * * * * * \n",
      "19209\n",
      "Rodney Dangerfield isn't the main character of this movie. He's barely in it. Most of the screen time is dominated by unfunny jokes. One running gag is that a character is named Jerk Off. There are also lots of erection jokes, where the punch line is someone has an erection. This movie is as funny as Kirstie Ally's British accent is convincing.<br /><br />This movie started off like a weak action movie: five minutes of back story and then bam! Unfunny jokes. But, aside from the terrible writing, the movie is also poorly directed and the acting is terrible. Also, this movie does the old bad comedy cliché of having lots of well-known B-movie actors. Harland Williams, Gilbert Godfried, Randy Quaid, and Phil La Mar. These are just some of the people that spend more time on the screen than Rodney, even though he's billed as the main character. Don't be surprised to find this movie at a drug store selling for five bucks. Even that is too much.\n",
      "* * * * * * * * * \n",
      "19216\n",
      "Unless you are petrified of Russian people or boars, this movie is a snorefest. Actually, I fell asleep about 40 minutes in & had to fight the urge to just leave the theater. I wish I had. A waste of a perfectly lovely Saturday evening.<br /><br />Even \\Silent Hill\\\" was scarier. Heck, even \\\"Pan's Labyrinth\\\" was scarier. I'm still unclear on what was supposed to be scary in this flick.<br /><br />To begin with, I'm very leery of movies that use \\\"pidgin Russian\\\" like this one did in the opening credits. It's embarrassing to me since I brought a group of my Russian friends & we all cringed. Oh my god.<br /><br />Hmm. Well, luckily for me (& probably you, too) this movie has already escaped my brain & I just stepped out of it an hour ago. So I have no specifics, just murky visuals that go nowhere & some languishing-now-dead hope that anything would happen.<br /><br />Perhaps I saw a completely mutilated version of this film because I can't believe it got such great reviews here (which is why I saw it) & ended up being so completely devoid of not only Horror or Suspense but Overall Entertainment Value as well.<br /><br />I give it a 2 because, yes, I fell asleep & wanted to leave after 40 minutes but I woke up & didn't leave.\"\n",
      "* * * * * * * * * \n",
      "19253\n",
      "Weaker entry in the Bulldog Drummond series, with John Howard in the role. Usual funny banter and antics, but not much plot. Barrymore gets something to do as the inspector, swapping disguises to follow Drummond, Algy, and Tenny on a wild goose chase (mostly in circles; perhaps the budget was tighter than usual) to rescue poor Phyllis, who is being held captive by people who want to lure Drummond to his doom. For those keeping score, in this one, Drummond is planning to ask Phyllis to marry him and Algy is worried about missing the baby's christening. It's fun to see Algy and Tenny dressed up as fisherman to blend in at The Angler's Rest, but little of it rises above silly.\n",
      "* * * * * * * * * \n",
      "19340\n",
      "How could 4 out of 16 prior voters give this movie a 10? How could more than half the prior voters give it a 7 or higher? Who is voting here? I can only assume it is primarily kids -- very young kids. The fact is that this is a bad movie in every way. The story is stupid; the acting is hard to even think of as acting; the characters are characterless; and the dialogue is terrible. I saw this one rainy afternoon on the Sci-Fi channel. In the sad event that it is ever rebroadcast, I suggest you read a book instead.\n",
      "* * * * * * * * * \n",
      "19374\n",
      "This is a simple tale but it feels very manipulative. It lacks pathos for it does not leave a room for imagination or a personal thought or time for reflection.<br /><br />The animation is well done but I feel like it is too presentational. I would have preferred more images from behind, more space in the background and maybe then this would not feel so kitsch to me.<br /><br />But for a Hollywood style film it works OK but it is very derivative of Aardman films and this is bothering to me. Perhaps a longer film will test if this maker can do without the voice-over.<br /><br />I think the voice over is too glib.\n",
      "* * * * * * * * * \n",
      "19481\n",
      "I saw this movie a long time ago... luckily it was for free. I have to be one of the maybe twenty people who saw this movie in the theater. I don't remember a whole bunch of it, but I do remember I was incredibly bored, the plot made no sense and when I came out of the theater the only thing I could say was at least now I know what the worst movie I ever saw was. I just was incredibly bothered by one thing: if they can make the temperature as they approach the sun low enough for humans to survive, why can't they turn it down to a comfortable temperature instead of being all hot and sweaty? How stupid do they think we are?\n",
      "* * * * * * * * * \n",
      "19721\n",
      "I simply could not finish this movie. I tuned out after what I would say is my nomination for the most wretched attempt at sexual suggestion award: a scene in which Pia Zadora, at a picnic, stands between two boys who want her. One (the good boy) pleads for her to see the error of her ways. The other (the bad boy) simply asks if she'd like a hot dog, which he then holds out for her. At crotch level. I hope I'm not spoiling anything to say she turns, and takes the hot dog, with a smile. Just pathetic.\n",
      "* * * * * * * * * \n",
      "19741\n",
      "The sun was not shining, it was too wet to play, so I went to the movies, that cold, cold, wet date day.<br /><br />\\The Cat in the Hat\\\" was the name of the flick, and when it was over, my stomach was sick.<br /><br />Mike Myers played the Cat, his humor was lame, and kids needn't see this, the humor was not tame.<br /><br />the film was like drinking milk, from a rabid cow, so it IS fun to have fun, yet the filmmakers didn't know how.<br /><br />This film, in short is atrocious. The acting was bad, the plot was tweaked too much, and the humor was surprisingly very crude.<br /><br />It starts with Conrad and Sally, A rule breaker and a future sheriff. When their Mother has to go to work, she gets Mrs. Kwan to babysit. Possibly the lone funny part in the movie is when Mrs. Kwan is watching a Taiwanese court room, a `la C-SPAN. She soon falls asleep, and here comes the Cat.<br /><br />The film starts to spiral out of control. The Cat came to try to let the kids have some fun. He's got Thing 1 and Thing 2, Who suddenly start trashing the house. He improvises a TV Infomercial, and accidentally slices his tail off. And when the Cat goes full Carmen Miranda, it's not funny. Possibly his only funny disguise is as a hippie activist. And there's a fish who tries warning the kids about the Cat.<br /><br />Too bad he didn't warn us this film was as much fun as sour milk, or chopping your tail off.<br /><br />Soon the kids are outside looking for the family dog, who has the key to a crate on his collar. If the crate is not locked soon, their house will be home to the Cat's universe. Here it gets a little more interesting, but not enough to save the film.<br /><br />The acting, overall, is horrible. Mike Meyers brings his brand of irreverent Austin Powers humor to the Cat, Saying things like \\\"You dirty ho\\\" and imagining himself as a woman for the rest of his life after a whack in the testicles while posing as a pinata. Spencer Breslin is great as the trouble-making Conrad, and Dakota Fanning is cute as Sally, though they alone are not enough to save this horrendous Aortic Dissection waiting to kill John Ritter(accident waiting to happen). Alec Baldwin's slick and slimey Lawrence Quinn is disgusting, ever trying to woo the kids mom, who is played by Kelly Preston. And Sean Hayes is Mr. Humberfloob, Mom's boss, and is also the voice of the fish. The latter three are also bland.<br /><br />Overall, if I were a parent I would not take my kids who are into potty humor, cause there's plenty of it and more. Save your $7.00 and see something else. As the late great Dr. Seuss once said,<br /><br />It is fun to have fun, But you have to know how. Really, Universal, stop! Theodore's already turning over in his grave.<br /><br />Like my Mom always says, \\\"Curiousity killed the Cat\\\".- The Cat In The Hat * out of *****\"\n",
      "* * * * * * * * * \n",
      "19794\n",
      "1st watched 12/7/2002 - 3 out of 10(Dir-Steve Purcell): Typical Mary Kate & Ashley fare with a few more kisses. It looks to me like the girls are getting pretty tired of this stuff and it will be interesting what happens to them if they ever decide to split up and go there own ways. In this episode of their adventures they are interns in Rome for a `fashion' designer who puts them right into the mailroom to learn what working hard is all about(I guess..). Besides the typical flirtations with boys there is nothing much else except the Rome scenario until about ¾ way into the movie when it's finally revealed why they are getting fired, then re-hired, then fired again, then re-hired again. This is definetly made by people who don't understand the corporate world and it shows in their interpretation of it. Maybe the real world will be their next adventure(if there is one.). Even my kids didn't seem to care for this boring `adventure' in the make-believe. Let's see they probably only have a couple of years till their legal adults. We'll see what happens then.\n",
      "* * * * * * * * * \n",
      "19881\n",
      "The Good Earth is not a great film by any means, it is way to ordinary. Maybe it was different in the 1930's but who would want to see the life of a farmer. It is not very interesting to me. Yes, Luis Rainer and Paul Muni do an excellent job acting but the film dragged on way too long. I could have told you the ending of this movie by the first act. In short Wang Lung (Muni) a small time farmer who does not want to be like his own father turns out exactly like him. Both falling in love with their wives just as they are on their death beds. The film does a complete 360 going from one generation to the next. Also this film did not have any good character actors or funny moments, it just was depressing stuff about lasting as a farmer during a time of crisis.\n",
      "* * * * * * * * * \n",
      "19900\n",
      "This is one of those films that makes you want the time you spent watching it back, and then some, like the time you spent accidentally picking it out, the time you spent getting to the video store, etc.<br /><br />First off, the look: It's grainy, it's low budget. Now that in itself doesn't make for a bad film. But the way it was filmed makes the action look unnatural, so that's kind of distracting.<br /><br />Then, the story. 3 gals go on a gal's weekend away from guys. Of course, as EVERYONE does when going on a camping trip, they stop on the way to get earrings. When they arrive at the area in which they're going to stay, they get pulled over by Mr. Ranger Sir, who scolds them for throwing a lit cigarette out of the car at fire season, and then drives them where they're going (a remote cabin). Of course, 2 \\cute guys\\\" wander into their vicinity, and Bambi (yes, Bambi) and Aubry are immediately smitten, but apparently Bambi is smitten by anything with two legs. Mady is rather disappointed by this development because she was looking forward to a weekend of forgetting about her ex by getting sh**-faced and stoned with her gal-pals.<br /><br />Oh, and I almost forgot, there's a mean old hermit that lives up that way, that's perhaps someone to not tangle with, and the area & cabin in which they're staying have a sort of \\\"reputation\\\".<br /><br />So of course, sooner or later (unfortunately, MUCH later) some of our weekend wood-visitors begin to die, and find various booby traps (although a couple of them actually hit a little lower than that) and of course, the remaining campers are understandably upset. No cell phone reception of course (who would miss out on a chance to check their cell phone for reception in a movie anymore?). Mr. Ranger Sir keeps popping up at odd times & his behavior seems a bit odd but he has said he will get help.<br /><br />There's a fantastic twist to this that you just won't want to miss too, if you're still awake. Pray that you wake up to a blank screen.<br /><br />The acting in this is terrible, the production values are terrible, and the whole undertaking is just lame & I find it amazing this was even released. Avoid at all costs, 1 out of 10.\"\n",
      "* * * * * * * * * \n"
     ]
    }
   ],
   "source": [
    "# false positives\n",
    "\n",
    "print(\"Examples of false positives:\")\n",
    "\n",
    "import random, time\n",
    "\n",
    "for i in range(0, len(ols_predictions)):\n",
    "    if (ols_predictions[i] == 1):\n",
    "        if (X_raw_train.iloc[i]['sentiment'] == 0):\n",
    "            if (random.uniform(0, 1) < 0.05): # to print only 5% of the false positives\n",
    "                print(i)\n",
    "                print(X_raw_train.iloc[i]['review'])\n",
    "                print('* * * * * * * * * ')\n"
   ]
  },
  {
   "cell_type": "markdown",
   "metadata": {},
   "source": [
    "---\n",
    "\n",
    "# <span style=\"color:red\">WARNING: Don't look at test set performance too much!</span>\n",
    "\n",
    "---\n",
    "\n",
    "The following cells show performance on your test set. Do not look at this too often! "
   ]
  },
  {
   "cell_type": "markdown",
   "metadata": {},
   "source": [
    "# Look at performance on the test set"
   ]
  },
  {
   "cell_type": "markdown",
   "metadata": {},
   "source": [
    "### MODEL: ordinary least squares"
   ]
  },
  {
   "cell_type": "code",
   "execution_count": 24,
   "metadata": {},
   "outputs": [
    {
     "name": "stdout",
     "output_type": "stream",
     "text": [
      "{'Pos': 2490, 'Neg': 2510, 'TP': 1066, 'TN': 1417, 'FP': 1093, 'FN': 1424, 'Accuracy': 0.4966, 'Precision': 0.4937471051412691, 'Recall': 0.42811244979919677, 'desc': 'ols_test'}\n"
     ]
    }
   ],
   "source": [
    "ols_performance_test = BinaryClassificationPerformance(ols.predict(X_test), y_test, 'ols_test')\n",
    "ols_performance_test.compute_measures()\n",
    "print(ols_performance_test.performance_measures)"
   ]
  },
  {
   "cell_type": "markdown",
   "metadata": {},
   "source": [
    "### MODEL: SVM, linear"
   ]
  },
  {
   "cell_type": "code",
   "execution_count": 25,
   "metadata": {},
   "outputs": [
    {
     "name": "stdout",
     "output_type": "stream",
     "text": [
      "{'Pos': 2490, 'Neg': 2510, 'TP': 2094, 'TN': 2072, 'FP': 438, 'FN': 396, 'Accuracy': 0.8332, 'Precision': 0.8270142180094787, 'Recall': 0.8409638554216867, 'desc': 'svm_test'}\n"
     ]
    }
   ],
   "source": [
    "svm_performance_test = BinaryClassificationPerformance(svm.predict(X_test), y_test, 'svm_test')\n",
    "svm_performance_test.compute_measures()\n",
    "print(svm_performance_test.performance_measures)"
   ]
  },
  {
   "cell_type": "markdown",
   "metadata": {},
   "source": [
    "### MODEL: logistic regression"
   ]
  },
  {
   "cell_type": "code",
   "execution_count": 26,
   "metadata": {},
   "outputs": [
    {
     "name": "stdout",
     "output_type": "stream",
     "text": [
      "{'Pos': 2490, 'Neg': 2510, 'TP': 2063, 'TN': 2071, 'FP': 439, 'FN': 427, 'Accuracy': 0.8268, 'Precision': 0.8245403677058354, 'Recall': 0.8285140562248996, 'desc': 'lgs_test'}\n"
     ]
    }
   ],
   "source": [
    "lgs_performance_test = BinaryClassificationPerformance(lgs.predict(X_test), y_test, 'lgs_test')\n",
    "lgs_performance_test.compute_measures()\n",
    "print(lgs_performance_test.performance_measures)"
   ]
  },
  {
   "cell_type": "markdown",
   "metadata": {},
   "source": [
    "### MODEL: Naive Bayes"
   ]
  },
  {
   "cell_type": "code",
   "execution_count": 18,
   "metadata": {},
   "outputs": [
    {
     "name": "stdout",
     "output_type": "stream",
     "text": [
      "{'Pos': 2467, 'Neg': 2533, 'TP': 1768, 'TN': 1907, 'FP': 626, 'FN': 699, 'Accuracy': 0.735, 'Precision': 0.7385129490392648, 'Recall': 0.7166599108228617, 'desc': 'nbs_test'}\n"
     ]
    }
   ],
   "source": [
    "nbs_performance_test = BinaryClassificationPerformance(nbs.predict(X_test), y_test, 'nbs_test')\n",
    "nbs_performance_test.compute_measures()\n",
    "print(nbs_performance_test.performance_measures)"
   ]
  },
  {
   "cell_type": "markdown",
   "metadata": {},
   "source": [
    "### MODEL: Perceptron"
   ]
  },
  {
   "cell_type": "code",
   "execution_count": 106,
   "metadata": {},
   "outputs": [
    {
     "name": "stdout",
     "output_type": "stream",
     "text": [
      "{'Pos': 2490, 'Neg': 2510, 'TP': 2085, 'TN': 2099, 'FP': 411, 'FN': 405, 'Accuracy': 0.8368, 'Precision': 0.8353365384615384, 'Recall': 0.8373493975903614, 'desc': 'prc_test'}\n"
     ]
    }
   ],
   "source": [
    "prc_performance_test = BinaryClassificationPerformance(prc.predict(X_test), y_test, 'prc_test')\n",
    "prc_performance_test.compute_measures()\n",
    "print(prc_performance_test.performance_measures)"
   ]
  },
  {
   "cell_type": "markdown",
   "metadata": {},
   "source": [
    "### MODEL: Ridge Regression Classifier"
   ]
  },
  {
   "cell_type": "code",
   "execution_count": 107,
   "metadata": {},
   "outputs": [
    {
     "name": "stdout",
     "output_type": "stream",
     "text": [
      "{'Pos': 2490, 'Neg': 2510, 'TP': 2237, 'TN': 2190, 'FP': 320, 'FN': 253, 'Accuracy': 0.8854, 'Precision': 0.8748533437622213, 'Recall': 0.8983935742971888, 'desc': 'rdg_test'}\n"
     ]
    }
   ],
   "source": [
    "rdg_performance_test = BinaryClassificationPerformance(rdg.predict(X_test), y_test, 'rdg_test')\n",
    "rdg_performance_test.compute_measures()\n",
    "print(rdg_performance_test.performance_measures)"
   ]
  },
  {
   "cell_type": "markdown",
   "metadata": {},
   "source": [
    "### MODEL: Random Forest Classifier"
   ]
  },
  {
   "cell_type": "code",
   "execution_count": 21,
   "metadata": {},
   "outputs": [
    {
     "name": "stdout",
     "output_type": "stream",
     "text": [
      "{'Pos': 2467, 'Neg': 2533, 'TP': 1253, 'TN': 1725, 'FP': 808, 'FN': 1214, 'Accuracy': 0.5956, 'Precision': 0.6079573022804464, 'Recall': 0.5079043372517228, 'desc': 'rdf_test'}\n"
     ]
    }
   ],
   "source": [
    "rdf_performance_test = BinaryClassificationPerformance(rdf.predict(X_test), y_test, 'rdf_test')\n",
    "rdf_performance_test.compute_measures()\n",
    "print(rdf_performance_test.performance_measures)"
   ]
  },
  {
   "cell_type": "markdown",
   "metadata": {},
   "source": [
    "### ROC plot to compare performance of various models and fits"
   ]
  },
  {
   "cell_type": "code",
   "execution_count": 108,
   "metadata": {},
   "outputs": [
    {
     "data": {
      "image/png": "[encoded data removed]",
      "text/plain": [
       "<Figure size 432x288 with 1 Axes>"
      ]
     },
     "metadata": {
      "needs_background": "light"
     },
     "output_type": "display_data"
    }
   ],
   "source": [
    "fits = [rdg_performance_test]\n",
    "\n",
    "for fit in fits:\n",
    "    plt.plot(fit.performance_measures['FP'] / fit.performance_measures['Neg'], \n",
    "             fit.performance_measures['TP'] / fit.performance_measures['Pos'], 'bo')\n",
    "    plt.text(fit.performance_measures['FP'] / fit.performance_measures['Neg'], \n",
    "             fit.performance_measures['TP'] / fit.performance_measures['Pos'], fit.desc)\n",
    "plt.axis([0, 1, 0, 1])\n",
    "plt.title('ROC plot: rdg_performance_test_set_default_alpha=70000')\n",
    "plt.xlabel('False positive rate')\n",
    "plt.ylabel('True positive rate')\n",
    "plt.show()"
   ]
  },
  {
   "cell_type": "markdown",
   "metadata": {},
   "source": [
    "---\n",
    "\n",
    "# <span style=\"color:red\">SUBMISSION</span>\n",
    "\n",
    "---"
   ]
  },
  {
   "cell_type": "code",
   "execution_count": 23,
   "metadata": {},
   "outputs": [
    {
     "name": "stdout",
     "output_type": "stream",
     "text": [
      "movie_data is: <class 'pandas.core.frame.DataFrame'>\n",
      "movie_data has 25000 rows and 2 columns \n",
      "\n",
      "the data types for each of the columns in movie_data:\n",
      "id        object\n",
      "review    object\n",
      "dtype: object \n",
      "\n",
      "the first 10 rows in movie_data:\n",
      "         id                                             review\n",
      "0  12311_10  Naturally in a film who's main themes are of m...\n",
      "1    8348_2  This movie is a disaster within a disaster fil...\n",
      "2    5828_4  All in all, this is a movie for kids. We saw i...\n",
      "3    7186_2  Afraid of the Dark left me with the impression...\n",
      "4   12128_7  A very accurate depiction of small time mob li...\n",
      "Shape of HashingVectorizer X:\n",
      "(25000, 131072)\n",
      "Look at a few rows of the new quantitative features: \n",
      "   word_count  punc_count\n",
      "0         131           5\n",
      "1         169          15\n",
      "2         176          18\n",
      "3         112           5\n",
      "4         133           8\n",
      "5         331          20\n",
      "6         121          18\n",
      "7         230          22\n",
      "8          59           3\n",
      "9         224          14\n",
      "Size of combined bag of words and new quantitative variables matrix:\n",
      "(25000, 131074)\n",
      "(25000, 131074)\n",
      "Shape of X_test for submission:\n",
      "(25000, 131074)\n",
      "SUCCESS!\n",
      "Number of rows in the submission test set (should be 25,000): \n"
     ]
    }
   ],
   "source": [
    "# read in test data for submission\n",
    "# CHANGE FILE PATH and my_random_seed number (any integer other than 74 will do): \n",
    "raw_data, X_test_submission = process_raw_data(fn='/home/ec2-user/data/moviereviews_test.tsv', my_random_seed=74, test=True)\n",
    "print(\"Number of rows in the submission test set (should be 25,000): \")"
   ]
  },
  {
   "cell_type": "markdown",
   "metadata": {},
   "source": [
    "---\n",
    "\n",
    "Choose a <span style=\"color:red\">*single*</span> model for your submission. In this code, I am choosing the Ordinary Least Squares model fit, which is in the `ols` object. But you should choose the model that is performing the best for you! "
   ]
  },
  {
   "cell_type": "code",
   "execution_count": 24,
   "metadata": {},
   "outputs": [
    {
     "name": "stdout",
     "output_type": "stream",
     "text": [
      "0.5596\n"
     ]
    }
   ],
   "source": [
    "# store the id from the raw data\n",
    "my_submission = pd.DataFrame(raw_data[\"id\"])\n",
    "# concatenate predictions to the id\n",
    "my_submission[\"prediction\"] = ols.predict(X_test_submission)\n",
    "# look at the proportion of positive predictions\n",
    "print(my_submission['prediction'].mean())"
   ]
  },
  {
   "cell_type": "code",
   "execution_count": 25,
   "metadata": {},
   "outputs": [
    {
     "data": {
      "text/html": [
       "<div>\n",
       "<style scoped>\n",
       "    .dataframe tbody tr th:only-of-type {\n",
       "        vertical-align: middle;\n",
       "    }\n",
       "\n",
       "    .dataframe tbody tr th {\n",
       "        vertical-align: top;\n",
       "    }\n",
       "\n",
       "    .dataframe thead th {\n",
       "        text-align: right;\n",
       "    }\n",
       "</style>\n",
       "<table border=\"1\" class=\"dataframe\">\n",
       "  <thead>\n",
       "    <tr style=\"text-align: right;\">\n",
       "      <th></th>\n",
       "      <th>id</th>\n",
       "      <th>review</th>\n",
       "      <th>word_count</th>\n",
       "      <th>punc_count</th>\n",
       "    </tr>\n",
       "  </thead>\n",
       "  <tbody>\n",
       "    <tr>\n",
       "      <td>0</td>\n",
       "      <td>12311_10</td>\n",
       "      <td>Naturally in a film who's main themes are of m...</td>\n",
       "      <td>131</td>\n",
       "      <td>5</td>\n",
       "    </tr>\n",
       "    <tr>\n",
       "      <td>1</td>\n",
       "      <td>8348_2</td>\n",
       "      <td>This movie is a disaster within a disaster fil...</td>\n",
       "      <td>169</td>\n",
       "      <td>15</td>\n",
       "    </tr>\n",
       "    <tr>\n",
       "      <td>2</td>\n",
       "      <td>5828_4</td>\n",
       "      <td>All in all, this is a movie for kids. We saw i...</td>\n",
       "      <td>176</td>\n",
       "      <td>18</td>\n",
       "    </tr>\n",
       "    <tr>\n",
       "      <td>3</td>\n",
       "      <td>7186_2</td>\n",
       "      <td>Afraid of the Dark left me with the impression...</td>\n",
       "      <td>112</td>\n",
       "      <td>5</td>\n",
       "    </tr>\n",
       "    <tr>\n",
       "      <td>4</td>\n",
       "      <td>12128_7</td>\n",
       "      <td>A very accurate depiction of small time mob li...</td>\n",
       "      <td>133</td>\n",
       "      <td>8</td>\n",
       "    </tr>\n",
       "  </tbody>\n",
       "</table>\n",
       "</div>"
      ],
      "text/plain": [
       "         id                                             review  word_count  \\\n",
       "0  12311_10  Naturally in a film who's main themes are of m...         131   \n",
       "1    8348_2  This movie is a disaster within a disaster fil...         169   \n",
       "2    5828_4  All in all, this is a movie for kids. We saw i...         176   \n",
       "3    7186_2  Afraid of the Dark left me with the impression...         112   \n",
       "4   12128_7  A very accurate depiction of small time mob li...         133   \n",
       "\n",
       "   punc_count  \n",
       "0           5  \n",
       "1          15  \n",
       "2          18  \n",
       "3           5  \n",
       "4           8  "
      ]
     },
     "execution_count": 25,
     "metadata": {},
     "output_type": "execute_result"
    }
   ],
   "source": [
    "raw_data.head()"
   ]
  },
  {
   "cell_type": "code",
   "execution_count": 26,
   "metadata": {},
   "outputs": [
    {
     "data": {
      "text/html": [
       "<div>\n",
       "<style scoped>\n",
       "    .dataframe tbody tr th:only-of-type {\n",
       "        vertical-align: middle;\n",
       "    }\n",
       "\n",
       "    .dataframe tbody tr th {\n",
       "        vertical-align: top;\n",
       "    }\n",
       "\n",
       "    .dataframe thead th {\n",
       "        text-align: right;\n",
       "    }\n",
       "</style>\n",
       "<table border=\"1\" class=\"dataframe\">\n",
       "  <thead>\n",
       "    <tr style=\"text-align: right;\">\n",
       "      <th></th>\n",
       "      <th>id</th>\n",
       "      <th>prediction</th>\n",
       "    </tr>\n",
       "  </thead>\n",
       "  <tbody>\n",
       "    <tr>\n",
       "      <td>0</td>\n",
       "      <td>12311_10</td>\n",
       "      <td>1</td>\n",
       "    </tr>\n",
       "    <tr>\n",
       "      <td>1</td>\n",
       "      <td>8348_2</td>\n",
       "      <td>1</td>\n",
       "    </tr>\n",
       "    <tr>\n",
       "      <td>2</td>\n",
       "      <td>5828_4</td>\n",
       "      <td>1</td>\n",
       "    </tr>\n",
       "    <tr>\n",
       "      <td>3</td>\n",
       "      <td>7186_2</td>\n",
       "      <td>1</td>\n",
       "    </tr>\n",
       "    <tr>\n",
       "      <td>4</td>\n",
       "      <td>12128_7</td>\n",
       "      <td>0</td>\n",
       "    </tr>\n",
       "  </tbody>\n",
       "</table>\n",
       "</div>"
      ],
      "text/plain": [
       "         id  prediction\n",
       "0  12311_10           1\n",
       "1    8348_2           1\n",
       "2    5828_4           1\n",
       "3    7186_2           1\n",
       "4   12128_7           0"
      ]
     },
     "execution_count": 26,
     "metadata": {},
     "output_type": "execute_result"
    }
   ],
   "source": [
    "my_submission.head()"
   ]
  },
  {
   "cell_type": "code",
   "execution_count": 27,
   "metadata": {},
   "outputs": [
    {
     "data": {
      "text/plain": [
       "(25000, 2)"
      ]
     },
     "execution_count": 27,
     "metadata": {},
     "output_type": "execute_result"
    }
   ],
   "source": [
    "my_submission.shape"
   ]
  },
  {
   "cell_type": "code",
   "execution_count": 28,
   "metadata": {},
   "outputs": [],
   "source": [
    "# export submission file as pdf\n",
    "# CHANGE FILE PATH: \n",
    "my_submission.to_csv('/home/ec2-user/data/moviereviews_submission.csv', index=False)"
   ]
  },
  {
   "cell_type": "markdown",
   "metadata": {},
   "source": [
    "# Submit to Canvas: 1) the CSV file that was written in the previous cell and 2) the url to the repository (GitHub or other) that contains your code and documentation"
   ]
  }
 ],
 "metadata": {
  "kernelspec": {
   "display_name": "Python 3 (ipykernel)",
   "language": "python",
   "name": "python3"
  },
  "language_info": {
   "codemirror_mode": {
    "name": "ipython",
    "version": 3
   },
   "file_extension": ".py",
   "mimetype": "text/x-python",
   "name": "python",
   "nbconvert_exporter": "python",
   "pygments_lexer": "ipython3",
   "version": "3.9.7"
  }
 },
 "nbformat": 4,
 "nbformat_minor": 2
}
